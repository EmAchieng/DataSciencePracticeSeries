{
  "nbformat": 4,
  "nbformat_minor": 0,
  "metadata": {
    "celltoolbar": "Slideshow",
    "colab": {
      "name": "Copy of SIT_W4D1_LC2_Intro_Keras.ipynb",
      "provenance": [],
      "collapsed_sections": [],
      "include_colab_link": true
    },
    "kernelspec": {
      "display_name": "DLG",
      "language": "python",
      "name": "dlg"
    },
    "language_info": {
      "codemirror_mode": {
        "name": "ipython",
        "version": 3
      },
      "file_extension": ".py",
      "mimetype": "text/x-python",
      "name": "python",
      "nbconvert_exporter": "python",
      "pygments_lexer": "ipython3",
      "version": "3.7.9"
    },
    "accelerator": "GPU"
  },
  "cells": [
    {
      "cell_type": "markdown",
      "metadata": {
        "id": "view-in-github",
        "colab_type": "text"
      },
      "source": [
        "<a href=\"https://colab.research.google.com/github/EmAchieng/DataSciencePracticeSeries/blob/master/NeuralNetworks_Intro_Keras.ipynb\" target=\"_parent\"><img src=\"https://colab.research.google.com/assets/colab-badge.svg\" alt=\"Open In Colab\"/></a>"
      ]
    },
    {
      "cell_type": "markdown",
      "metadata": {
        "id": "iS3p7BaBs8F4"
      },
      "source": [
        "<center><a target=\"_blank\" href=\"http://www.propulsion.academy\"><img src=\"https://drive.google.com/uc?id=1McNxpNrSwfqu1w-QtlOmPSmfULvkkMQV\" width=\"200\" style=\"background:none; border:none; box-shadow:none;\" /></a> </center>\n",
        "\n",
        "_____\n",
        "\n",
        "<center> <h1> Live Coding - Implementing ANNs with Keras </h1> </center>\n",
        "\n",
        "<p style=\"margin-bottom:1cm;\"></p>\n",
        "\n",
        "_____\n",
        "\n",
        "<center>Propulsion Academy, 2020</center>\n",
        "\n"
      ]
    },
    {
      "cell_type": "markdown",
      "metadata": {
        "id": "5Rq_ZcYswTFC"
      },
      "source": [
        "# Live Coding - Implementing ANNs with Keras\n"
      ]
    },
    {
      "cell_type": "markdown",
      "metadata": {
        "id": "yuV1PY9us8F9"
      },
      "source": [
        "## Basic Regression Example"
      ]
    },
    {
      "cell_type": "markdown",
      "metadata": {
        "id": "U2hFyPhUs8F-"
      },
      "source": [
        "The following example is based on: [Hands on Machine Learning with Scikit-Learn, Keras & Tensorflow](https://github.com/ageron/handson-ml2/blob/master/11_training_deep_neural_networks.ipynb)\n",
        "\n",
        "Let's load TensorFlow and check which version we are using. It should be TensorFlow 2.x.x."
      ]
    },
    {
      "cell_type": "code",
      "metadata": {
        "id": "fdNafgWkMLyM"
      },
      "source": [
        "try:\n",
        "    # %tensorflow_version only exists in Colab.\n",
        "    %tensorflow_version 2.x\n",
        "except Exception:\n",
        "    pass"
      ],
      "execution_count": 1,
      "outputs": []
    },
    {
      "cell_type": "code",
      "metadata": {
        "id": "kAZrdApMLvhq"
      },
      "source": [
        "import tensorflow as tf"
      ],
      "execution_count": 2,
      "outputs": []
    },
    {
      "cell_type": "code",
      "metadata": {
        "id": "LEywU7OxMJQ9",
        "colab": {
          "base_uri": "https://localhost:8080/"
        },
        "outputId": "dda1fcc0-7361-4fa8-a3ec-6ce850cfe98a"
      },
      "source": [
        "# TensorFlow ≥2.0 is required\n",
        "# assert tf.__version__ >= \"2.0\"\n",
        "print(tf.__version__)"
      ],
      "execution_count": 3,
      "outputs": [
        {
          "output_type": "stream",
          "text": [
            "2.4.1\n"
          ],
          "name": "stdout"
        }
      ]
    },
    {
      "cell_type": "code",
      "metadata": {
        "id": "TXRbUtGZs8GC"
      },
      "source": [
        "import numpy as np\n",
        "import pandas as pd\n",
        "import matplotlib.pyplot as plt\n",
        "import pydot\n",
        "import pydotplus\n",
        "import graphviz\n",
        "import keras\n",
        "\n",
        "np.random.seed(42)  # for reproducibility\n",
        "tf.random.set_seed(42)  # for reproducibility"
      ],
      "execution_count": 4,
      "outputs": []
    },
    {
      "cell_type": "markdown",
      "metadata": {
        "id": "hTL6sQyds8GF"
      },
      "source": [
        "### Load Data\n",
        "Let's load a simple data set for a regression problem. We use the California housing dataset as a example since it can be obtained directly via scikit-learn."
      ]
    },
    {
      "cell_type": "code",
      "metadata": {
        "id": "67Bqg6q7s8GF",
        "colab": {
          "base_uri": "https://localhost:8080/"
        },
        "outputId": "156ce83f-370f-46df-b2ae-bdd7236b756b"
      },
      "source": [
        "from sklearn.datasets import fetch_california_housing\n",
        "from sklearn.model_selection import train_test_split\n",
        "\n",
        "# Load Data\n",
        "dataset = fetch_california_housing()\n",
        "print(dataset.data.shape)\n",
        "\n",
        "X_train_full, X_test, y_train_full, y_test = train_test_split(\n",
        "    dataset.data, dataset.target, random_state=42\n",
        ")\n",
        "X_train, X_valid, y_train, y_valid = train_test_split(\n",
        "    X_train_full, y_train_full, random_state=42\n",
        ")"
      ],
      "execution_count": 5,
      "outputs": [
        {
          "output_type": "stream",
          "text": [
            "Downloading Cal. housing from https://ndownloader.figshare.com/files/5976036 to /root/scikit_learn_data\n"
          ],
          "name": "stderr"
        },
        {
          "output_type": "stream",
          "text": [
            "(20640, 8)\n"
          ],
          "name": "stdout"
        }
      ]
    },
    {
      "cell_type": "markdown",
      "metadata": {
        "id": "5Nac7gKDwTFQ"
      },
      "source": [
        "### Scale Data"
      ]
    },
    {
      "cell_type": "code",
      "metadata": {
        "id": "PbK7X-U8s8GI"
      },
      "source": [
        "#First we have to scale the features. This is nothing new. Let's just use scikit-learn for it.\n",
        "from sklearn.preprocessing import StandardScaler\n",
        "\n",
        "scaler = StandardScaler()\n",
        "X_train = scaler.fit_transform(X_train)\n",
        "X_valid = scaler.transform(X_valid)\n",
        "X_test = scaler.transform(X_test)"
      ],
      "execution_count": 6,
      "outputs": []
    },
    {
      "cell_type": "markdown",
      "metadata": {
        "id": "J6WmTMd6s8GL"
      },
      "source": [
        "### Define Model (Sequential API)\n",
        "Define a simple feed forward neural network architecture model via the sequential keras api\n",
        "\n",
        "#### When to use a Sequential model:\n",
        "A Sequential model is appropriate for a plain stack of layers where each layer has exactly one input tensor and one output tensor.\n",
        "\n",
        "#### A Sequential model is not appropriate when:\n",
        "Your model has multiple inputs or multiple outputs\n",
        "Any of your layers has multiple inputs or multiple outputs\n",
        "You need to do layer sharing\n",
        "You want non-linear topology (e.g. a residual connection, a multi-branch model)\n"
      ]
    },
    {
      "cell_type": "code",
      "metadata": {
        "id": "Q3NyhZF3s8GL"
      },
      "source": [
        "# TODO: Add number of output neurons\n",
        "model = tf.keras.models.Sequential(\n",
        "    [\n",
        "        tf.keras.layers.Dense(10, activation=\"relu\", input_shape=X_train.shape[1:]),\n",
        "        tf.keras.layers.Dense(10, activation=\"relu\"),\n",
        "        tf.keras.layers.Dense(1),  # ?? How many output neurons do you need for regression # because we are doing a regression\n",
        "    ]\n",
        ")"
      ],
      "execution_count": 7,
      "outputs": []
    },
    {
      "cell_type": "code",
      "metadata": {
        "id": "PLjfOM09wTFW",
        "colab": {
          "base_uri": "https://localhost:8080/"
        },
        "outputId": "986344a8-ff58-42dc-b6e6-f6159bf0133a"
      },
      "source": [
        "#Its layers are accessible via the layers attribute:\n",
        "model.layers"
      ],
      "execution_count": 8,
      "outputs": [
        {
          "output_type": "execute_result",
          "data": {
            "text/plain": [
              "[<tensorflow.python.keras.layers.core.Dense at 0x7fa1c8161750>,\n",
              " <tensorflow.python.keras.layers.core.Dense at 0x7fa1c6f0aa50>,\n",
              " <tensorflow.python.keras.layers.core.Dense at 0x7fa1c6f0af10>]"
            ]
          },
          "metadata": {
            "tags": []
          },
          "execution_count": 8
        }
      ]
    },
    {
      "cell_type": "code",
      "metadata": {
        "id": "dj6E_LdNwTFY",
        "colab": {
          "base_uri": "https://localhost:8080/"
        },
        "outputId": "9d9fd73d-3272-4816-a5ed-89508b4ddd3b"
      },
      "source": [
        "model.summary()"
      ],
      "execution_count": 9,
      "outputs": [
        {
          "output_type": "stream",
          "text": [
            "Model: \"sequential\"\n",
            "_________________________________________________________________\n",
            "Layer (type)                 Output Shape              Param #   \n",
            "=================================================================\n",
            "dense (Dense)                (None, 10)                90        \n",
            "_________________________________________________________________\n",
            "dense_1 (Dense)              (None, 10)                110       \n",
            "_________________________________________________________________\n",
            "dense_2 (Dense)              (None, 1)                 11        \n",
            "=================================================================\n",
            "Total params: 211\n",
            "Trainable params: 211\n",
            "Non-trainable params: 0\n",
            "_________________________________________________________________\n"
          ],
          "name": "stdout"
        }
      ]
    },
    {
      "cell_type": "code",
      "metadata": {
        "id": "AOXWrjz9wTFf",
        "colab": {
          "base_uri": "https://localhost:8080/",
          "height": 369
        },
        "outputId": "b48693e7-cba5-4823-fe92-88f2cd302244"
      },
      "source": [
        "# draw a graph of the model (pydot, pydotplus and graphviz have to be installed)\n",
        "tf.keras.utils.plot_model(model)"
      ],
      "execution_count": 10,
      "outputs": [
        {
          "output_type": "execute_result",
          "data": {
            "image/png": "[encoded data removed]",
            "text/plain": [
              "<IPython.core.display.Image object>"
            ]
          },
          "metadata": {
            "tags": []
          },
          "execution_count": 10
        }
      ]
    },
    {
      "cell_type": "markdown",
      "metadata": {
        "id": "cSi6aRjZwTFh"
      },
      "source": [
        "### Compile Model\n",
        "After defining the model, we are now ready to compile the model. \n",
        "\n",
        "This will create a Python object which will build the network.\n",
        "\n",
        "The compilation steps ask you to define the loss function and kind of optimizer you want to use. These options depend on the problem you are trying to solve"
      ]
    },
    {
      "cell_type": "code",
      "metadata": {
        "id": "_Ms1N2RIwTFi"
      },
      "source": [
        "# compile the model using a simple SGD optimizer\n",
        "sgd_optimizer = tf.keras.optimizers.SGD(lr=1e-3)\n",
        "\n",
        "# TODO: Add loss function\n",
        "model.compile(\n",
        "    loss=\"mean_squared_error\", \n",
        "    optimizer=sgd_optimizer, \n",
        "    metrics=[\"mae\", \"mse\"]\n",
        ")"
      ],
      "execution_count": 11,
      "outputs": []
    },
    {
      "cell_type": "markdown",
      "metadata": {
        "id": "Ho44PoHEs8GO"
      },
      "source": [
        "### Train Model\n",
        "Now we need to train our model so that the parameters get tuned to provide the correct outputs for a given input. We do this by feeding inputs at the input layer and then getting an output, we then calculate the loss function using the output and use backpropagation to tune the model parameters. This will fit the model parameters to the data.\n",
        "\n",
        "\n",
        "We calculate the mean square error on the test set."
      ]
    },
    {
      "cell_type": "code",
      "metadata": {
        "id": "gmy8xxgGs8GP",
        "colab": {
          "base_uri": "https://localhost:8080/"
        },
        "outputId": "6c07f749-e3b5-4470-98c5-7a6022d74569"
      },
      "source": [
        "# Train your model for 10 epochs\n",
        "# You can increase the number of epochs to improve performance\n",
        "\n",
        "# TODO: Add validation data set\n",
        "history = model.fit(X_train, y_train, epochs=10, validation_data=(X_valid, y_valid))\n",
        "history"
      ],
      "execution_count": 12,
      "outputs": [
        {
          "output_type": "stream",
          "text": [
            "Epoch 1/10\n",
            "363/363 [==============================] - 4s 3ms/step - loss: 5.4430 - mae: 1.8438 - mse: 5.4430 - val_loss: 1.6920 - val_mae: 0.8694 - val_mse: 1.6920\n",
            "Epoch 2/10\n",
            "363/363 [==============================] - 1s 2ms/step - loss: 1.2171 - mae: 0.8147 - mse: 1.2171 - val_loss: 0.9683 - val_mae: 0.6941 - val_mse: 0.9683\n",
            "Epoch 3/10\n",
            "363/363 [==============================] - 1s 2ms/step - loss: 0.8172 - mae: 0.6872 - mse: 0.8172 - val_loss: 0.8211 - val_mae: 0.6267 - val_mse: 0.8211\n",
            "Epoch 4/10\n",
            "363/363 [==============================] - 1s 2ms/step - loss: 0.6958 - mae: 0.6258 - mse: 0.6958 - val_loss: 0.6152 - val_mae: 0.5953 - val_mse: 0.6152\n",
            "Epoch 5/10\n",
            "363/363 [==============================] - 1s 2ms/step - loss: 0.6379 - mae: 0.5978 - mse: 0.6379 - val_loss: 0.5678 - val_mae: 0.5623 - val_mse: 0.5678\n",
            "Epoch 6/10\n",
            "363/363 [==============================] - 1s 3ms/step - loss: 0.5904 - mae: 0.5696 - mse: 0.5904 - val_loss: 0.5354 - val_mae: 0.5467 - val_mse: 0.5354\n",
            "Epoch 7/10\n",
            "363/363 [==============================] - 1s 2ms/step - loss: 0.5898 - mae: 0.5632 - mse: 0.5898 - val_loss: 0.5318 - val_mae: 0.5263 - val_mse: 0.5318\n",
            "Epoch 8/10\n",
            "363/363 [==============================] - 1s 2ms/step - loss: 0.5374 - mae: 0.5381 - mse: 0.5374 - val_loss: 0.4827 - val_mae: 0.5085 - val_mse: 0.4827\n",
            "Epoch 9/10\n",
            "363/363 [==============================] - 1s 3ms/step - loss: 0.5201 - mae: 0.5284 - mse: 0.5201 - val_loss: 0.4649 - val_mae: 0.5003 - val_mse: 0.4649\n",
            "Epoch 10/10\n",
            "363/363 [==============================] - 1s 2ms/step - loss: 0.5034 - mae: 0.5181 - mse: 0.5034 - val_loss: 0.4659 - val_mae: 0.4869 - val_mse: 0.4659\n"
          ],
          "name": "stdout"
        },
        {
          "output_type": "execute_result",
          "data": {
            "text/plain": [
              "<tensorflow.python.keras.callbacks.History at 0x7fa1c7022f10>"
            ]
          },
          "metadata": {
            "tags": []
          },
          "execution_count": 12
        }
      ]
    },
    {
      "cell_type": "markdown",
      "metadata": {
        "id": "FR4MSOVwwTFn"
      },
      "source": [
        "### Predict with Model"
      ]
    },
    {
      "cell_type": "code",
      "metadata": {
        "id": "-EEobXNPwTFo",
        "colab": {
          "base_uri": "https://localhost:8080/"
        },
        "outputId": "b187a270-61bf-48f0-f655-86894c8ed8b3"
      },
      "source": [
        "#predict on unseen X_test\n",
        "model.predict(X_test)"
      ],
      "execution_count": 13,
      "outputs": [
        {
          "output_type": "execute_result",
          "data": {
            "text/plain": [
              "array([[1.015488 ],\n",
              "       [1.4783516],\n",
              "       [3.0840306],\n",
              "       ...,\n",
              "       [1.2859194],\n",
              "       [2.4041786],\n",
              "       [3.6055217]], dtype=float32)"
            ]
          },
          "metadata": {
            "tags": []
          },
          "execution_count": 13
        }
      ]
    },
    {
      "cell_type": "code",
      "metadata": {
        "id": "tWDN2XNbwTFr",
        "colab": {
          "base_uri": "https://localhost:8080/"
        },
        "outputId": "1f66319d-dbd5-44bc-9010-7604d31dddc3"
      },
      "source": [
        "# Validation on the test data set\n",
        "mse_test = model.evaluate(X_test, y_test, verbose=0)\n",
        "print(\"MSE of test set: {}\".format(mse_test))"
      ],
      "execution_count": 14,
      "outputs": [
        {
          "output_type": "stream",
          "text": [
            "MSE of test set: [0.47324246168136597, 0.4965329170227051, 0.47324246168136597]\n"
          ],
          "name": "stdout"
        }
      ]
    },
    {
      "cell_type": "markdown",
      "metadata": {
        "id": "JMKxc--rs8GR"
      },
      "source": [
        "### Investigate Loss during training\n",
        "Let's have a look at the evolution of the loss during the training. You might want too test what happens if you train for much more epochs."
      ]
    },
    {
      "cell_type": "code",
      "metadata": {
        "id": "S5Oo_D8hs8GS",
        "colab": {
          "base_uri": "https://localhost:8080/",
          "height": 265
        },
        "outputId": "7450a131-7f57-4c79-8445-72242604b32e"
      },
      "source": [
        "\n",
        "cols_to_plot = [\"loss\", \"val_loss\"]\n",
        "plt.plot(pd.DataFrame(history.history)[cols_to_plot])\n",
        "plt.legend(cols_to_plot, loc=\"upper right\")\n",
        "plt.grid(True)"
      ],
      "execution_count": 15,
      "outputs": [
        {
          "output_type": "display_data",
          "data": {
            "image/png": "[encoded data removed]",
            "text/plain": [
              "<Figure size 432x288 with 1 Axes>"
            ]
          },
          "metadata": {
            "tags": [],
            "needs_background": "light"
          }
        }
      ]
    },
    {
      "cell_type": "code",
      "metadata": {
        "id": "z9eqr3vlwTFv",
        "colab": {
          "base_uri": "https://localhost:8080/",
          "height": 359
        },
        "outputId": "c62162c2-2376-4a3e-81f3-79bbc89bb8b6"
      },
      "source": [
        "#dataframe of two different loss functions\n",
        "pd.DataFrame(history.history)[cols_to_plot]"
      ],
      "execution_count": 16,
      "outputs": [
        {
          "output_type": "execute_result",
          "data": {
            "text/html": [
              "<div>\n",
              "<style scoped>\n",
              "    .dataframe tbody tr th:only-of-type {\n",
              "        vertical-align: middle;\n",
              "    }\n",
              "\n",
              "    .dataframe tbody tr th {\n",
              "        vertical-align: top;\n",
              "    }\n",
              "\n",
              "    .dataframe thead th {\n",
              "        text-align: right;\n",
              "    }\n",
              "</style>\n",
              "<table border=\"1\" class=\"dataframe\">\n",
              "  <thead>\n",
              "    <tr style=\"text-align: right;\">\n",
              "      <th></th>\n",
              "      <th>loss</th>\n",
              "      <th>val_loss</th>\n",
              "    </tr>\n",
              "  </thead>\n",
              "  <tbody>\n",
              "    <tr>\n",
              "      <th>0</th>\n",
              "      <td>3.115577</td>\n",
              "      <td>1.692045</td>\n",
              "    </tr>\n",
              "    <tr>\n",
              "      <th>1</th>\n",
              "      <td>1.051065</td>\n",
              "      <td>0.968274</td>\n",
              "    </tr>\n",
              "    <tr>\n",
              "      <th>2</th>\n",
              "      <td>0.761859</td>\n",
              "      <td>0.821110</td>\n",
              "    </tr>\n",
              "    <tr>\n",
              "      <th>3</th>\n",
              "      <td>0.675758</td>\n",
              "      <td>0.615217</td>\n",
              "    </tr>\n",
              "    <tr>\n",
              "      <th>4</th>\n",
              "      <td>0.625831</td>\n",
              "      <td>0.567766</td>\n",
              "    </tr>\n",
              "    <tr>\n",
              "      <th>5</th>\n",
              "      <td>0.586245</td>\n",
              "      <td>0.535384</td>\n",
              "    </tr>\n",
              "    <tr>\n",
              "      <th>6</th>\n",
              "      <td>0.555788</td>\n",
              "      <td>0.531850</td>\n",
              "    </tr>\n",
              "    <tr>\n",
              "      <th>7</th>\n",
              "      <td>0.530768</td>\n",
              "      <td>0.482655</td>\n",
              "    </tr>\n",
              "    <tr>\n",
              "      <th>8</th>\n",
              "      <td>0.509024</td>\n",
              "      <td>0.464919</td>\n",
              "    </tr>\n",
              "    <tr>\n",
              "      <th>9</th>\n",
              "      <td>0.492024</td>\n",
              "      <td>0.465928</td>\n",
              "    </tr>\n",
              "  </tbody>\n",
              "</table>\n",
              "</div>"
            ],
            "text/plain": [
              "       loss  val_loss\n",
              "0  3.115577  1.692045\n",
              "1  1.051065  0.968274\n",
              "2  0.761859  0.821110\n",
              "3  0.675758  0.615217\n",
              "4  0.625831  0.567766\n",
              "5  0.586245  0.535384\n",
              "6  0.555788  0.531850\n",
              "7  0.530768  0.482655\n",
              "8  0.509024  0.464919\n",
              "9  0.492024  0.465928"
            ]
          },
          "metadata": {
            "tags": []
          },
          "execution_count": 16
        }
      ]
    },
    {
      "cell_type": "markdown",
      "metadata": {
        "id": "QnVz0PYFs8GU"
      },
      "source": [
        "Predict a few data points of the test set to see whether the model works."
      ]
    },
    {
      "cell_type": "code",
      "metadata": {
        "id": "AWL5NxxBs8GU",
        "colab": {
          "base_uri": "https://localhost:8080/"
        },
        "outputId": "01eabd9f-620c-40e6-932f-ab70150042cd"
      },
      "source": [
        "y_pred = model.predict(X_test[:3])\n",
        "y_pred"
      ],
      "execution_count": 17,
      "outputs": [
        {
          "output_type": "execute_result",
          "data": {
            "text/plain": [
              "array([[1.015488 ],\n",
              "       [1.4783516],\n",
              "       [3.0840306]], dtype=float32)"
            ]
          },
          "metadata": {
            "tags": []
          },
          "execution_count": 17
        }
      ]
    },
    {
      "cell_type": "markdown",
      "metadata": {
        "id": "Py5YIUb_s8Gf"
      },
      "source": [
        "## Advanced Functionalities\n",
        "\n",
        "\n",
        "### Functional API\n",
        "#### When to use the Keras functional API \n",
        "\n",
        "The Keras functional API is a way to create models that are more flexible than the tf.keras.Sequential API. \n",
        "The functional API can handle models with non-linear topology, shared layers, and even multiple inputs or outputs.\n",
        "\n",
        "For these cases the functional API can be used.\n",
        "The following example of a Wide & Deep neural network (see [paper](https://ai.google/research/pubs/pub45413)), which connects part of the inputs directly with the output layer, is based on: [Hands on Machine Learning with Scikit-Learn, Keras & Tensorflow](https://github.com/ageron/handson-ml2/blob/master/11_training_deep_neural_networks.ipynb)\n",
        "\n",
        "For a more advanced examples of using the functional API see this [TensorFlow Guide](https://www.tensorflow.org/guide/keras/functional).\n",
        "\n",
        "\n"
      ]
    },
    {
      "cell_type": "code",
      "metadata": {
        "id": "w85-st-bs8Gg"
      },
      "source": [
        "input_A = keras.layers.Input(shape=[5], name=\"wide_input\")\n",
        "input_B = keras.layers.Input(shape=[6], name=\"deep_input\")\n",
        "hidden1 = keras.layers.Dense(30, activation=\"relu\")(input_B)\n",
        "hidden2 = keras.layers.Dense(30, activation=\"relu\")(hidden1)\n",
        "concat = keras.layers.concatenate([input_A, hidden2])\n",
        "output = keras.layers.Dense(1, name=\"output\")(concat)\n",
        "model = keras.models.Model(inputs=[input_A, input_B], outputs=[output])"
      ],
      "execution_count": 18,
      "outputs": []
    },
    {
      "cell_type": "code",
      "metadata": {
        "id": "BO2uQVkys8Gj",
        "colab": {
          "base_uri": "https://localhost:8080/",
          "height": 466
        },
        "outputId": "121fbaf9-e4fd-4038-d846-65abec0946db"
      },
      "source": [
        "tf.keras.utils.plot_model(model)"
      ],
      "execution_count": 19,
      "outputs": [
        {
          "output_type": "execute_result",
          "data": {
            "image/png": "[encoded data removed]",
            "text/plain": [
              "<IPython.core.display.Image object>"
            ]
          },
          "metadata": {
            "tags": []
          },
          "execution_count": 19
        }
      ]
    },
    {
      "cell_type": "code",
      "metadata": {
        "id": "I6KQGaCgs8Gl",
        "colab": {
          "base_uri": "https://localhost:8080/"
        },
        "outputId": "168ed5a2-b72b-4797-d048-7aba4f2afe62"
      },
      "source": [
        "model.compile(loss=\"mse\", optimizer=keras.optimizers.SGD(lr=1e-3))\n",
        "\n",
        "X_train_A, X_train_B = X_train[:, :5], X_train[:, 2:]\n",
        "X_valid_A, X_valid_B = X_valid[:, :5], X_valid[:, 2:]\n",
        "X_test_A, X_test_B = X_test[:, :5], X_test[:, 2:]\n",
        "X_new_A, X_new_B = X_test_A[:3], X_test_B[:3]\n",
        "\n",
        "history = model.fit(\n",
        "    (X_train_A, X_train_B),\n",
        "    y_train,\n",
        "    epochs=10,\n",
        "    validation_data=((X_valid_A, X_valid_B), y_valid),\n",
        ")\n",
        "mse_test = model.evaluate((X_test_A, X_test_B), y_test, verbose=0)\n",
        "print(\"MSE of test data set: {}\".format(mse_test))"
      ],
      "execution_count": 20,
      "outputs": [
        {
          "output_type": "stream",
          "text": [
            "Epoch 1/10\n",
            "363/363 [==============================] - 1s 2ms/step - loss: 2.9131 - val_loss: 0.8560\n",
            "Epoch 2/10\n",
            "363/363 [==============================] - 1s 2ms/step - loss: 0.8125 - val_loss: 0.6710\n",
            "Epoch 3/10\n",
            "363/363 [==============================] - 1s 2ms/step - loss: 0.6876 - val_loss: 0.6169\n",
            "Epoch 4/10\n",
            "363/363 [==============================] - 1s 2ms/step - loss: 0.6241 - val_loss: 0.5710\n",
            "Epoch 5/10\n",
            "363/363 [==============================] - 1s 2ms/step - loss: 0.5770 - val_loss: 0.5420\n",
            "Epoch 6/10\n",
            "363/363 [==============================] - 1s 2ms/step - loss: 0.5416 - val_loss: 0.5176\n",
            "Epoch 7/10\n",
            "363/363 [==============================] - 1s 2ms/step - loss: 0.5449 - val_loss: 0.5065\n",
            "Epoch 8/10\n",
            "363/363 [==============================] - 1s 2ms/step - loss: 0.5136 - val_loss: 0.4790\n",
            "Epoch 9/10\n",
            "363/363 [==============================] - 1s 2ms/step - loss: 0.4917 - val_loss: 0.4564\n",
            "Epoch 10/10\n",
            "363/363 [==============================] - 1s 2ms/step - loss: 0.4781 - val_loss: 0.4451\n",
            "MSE of test data set: 0.4739809036254883\n"
          ],
          "name": "stdout"
        }
      ]
    },
    {
      "cell_type": "markdown",
      "metadata": {
        "id": "4CUILP4TwTF8"
      },
      "source": [
        "### Custom Loss Functions"
      ]
    },
    {
      "cell_type": "code",
      "metadata": {
        "id": "kTxaAAdwwTF8"
      },
      "source": [
        "def huber_fn(y_true, y_pred):\n",
        "    error = y_true - y_pred\n",
        "    is_small_error = tf.abs(error) < 1\n",
        "    squared_loss = tf.square(error) / 2\n",
        "    linear_loss  = tf.abs(error) - 0.5\n",
        "    return tf.where(is_small_error, squared_loss, linear_loss)"
      ],
      "execution_count": 21,
      "outputs": []
    },
    {
      "cell_type": "code",
      "metadata": {
        "id": "MHoqCaL8wTF-",
        "colab": {
          "base_uri": "https://localhost:8080/",
          "height": 269
        },
        "outputId": "96aa52d5-d845-41ca-8a7c-6c22b8dde524"
      },
      "source": [
        "\n",
        "plt.figure(figsize=(8, 3.5))\n",
        "z = np.linspace(-4, 4, 200)\n",
        "plt.plot(z, huber_fn(0, z), \"b-\", linewidth=2, label=\"huber($z$)\")\n",
        "plt.plot(z, z**2 / 2, \"b:\", linewidth=1, label=r\"$\\frac{1}{2}z^2$\")\n",
        "plt.plot([-1, -1], [0, huber_fn(0., -1.)], \"r--\")\n",
        "plt.plot([1, 1], [0, huber_fn(0., 1.)], \"r--\")\n",
        "plt.gca().axhline(y=0, color='k')\n",
        "plt.gca().axvline(x=0, color='k')\n",
        "plt.axis([-4, 4, 0, 4])\n",
        "plt.grid(True)\n",
        "plt.xlabel(\"$z$\")\n",
        "plt.legend(fontsize=14)\n",
        "plt.title(\"Huber loss\", fontsize=14)\n",
        "plt.show()"
      ],
      "execution_count": 22,
      "outputs": [
        {
          "output_type": "display_data",
          "data": {
            "image/png": "[encoded data removed]",
            "text/plain": [
              "<Figure size 576x252 with 1 Axes>"
            ]
          },
          "metadata": {
            "tags": [],
            "needs_background": "light"
          }
        }
      ]
    },
    {
      "cell_type": "code",
      "metadata": {
        "id": "RzdrYJKUwTGA"
      },
      "source": [
        "input_shape = X_train.shape[1:]\n",
        "\n",
        "model = keras.models.Sequential([\n",
        "    keras.layers.Dense(30, activation=\"selu\", kernel_initializer=\"lecun_normal\",\n",
        "                       input_shape=input_shape),\n",
        "    keras.layers.Dense(1),\n",
        "])"
      ],
      "execution_count": 23,
      "outputs": []
    },
    {
      "cell_type": "code",
      "metadata": {
        "id": "70os5WldwTGC"
      },
      "source": [
        "model.compile(loss=huber_fn, optimizer=\"nadam\", metrics=[\"mae\"])\n"
      ],
      "execution_count": 24,
      "outputs": []
    },
    {
      "cell_type": "code",
      "metadata": {
        "id": "mK915w6cwTGG",
        "colab": {
          "base_uri": "https://localhost:8080/"
        },
        "outputId": "26c5a8cb-c5b4-4547-f15d-7a8d70a79a15"
      },
      "source": [
        "model.fit(X_train, y_train, epochs=2,\n",
        "          validation_data=(X_valid, y_valid))"
      ],
      "execution_count": 25,
      "outputs": [
        {
          "output_type": "stream",
          "text": [
            "Epoch 1/2\n",
            "363/363 [==============================] - 2s 3ms/step - loss: 0.9098 - mae: 1.3111 - val_loss: 0.2461 - val_mae: 0.5322\n",
            "Epoch 2/2\n",
            "363/363 [==============================] - 1s 3ms/step - loss: 0.2226 - mae: 0.5171 - val_loss: 0.2119 - val_mae: 0.4973\n"
          ],
          "name": "stdout"
        },
        {
          "output_type": "execute_result",
          "data": {
            "text/plain": [
              "<tensorflow.python.keras.callbacks.History at 0x7fa168172990>"
            ]
          },
          "metadata": {
            "tags": []
          },
          "execution_count": 25
        }
      ]
    },
    {
      "cell_type": "markdown",
      "metadata": {
        "id": "Z2Bl6Kjvs8Gw"
      },
      "source": [
        "### Callbacks\n"
      ]
    },
    {
      "cell_type": "code",
      "metadata": {
        "id": "-VtDsCows8Gw"
      },
      "source": [
        "model = keras.models.Sequential(\n",
        "    [keras.layers.Dense(30, activation=\"relu\", input_shape=[8]), keras.layers.Dense(1)]\n",
        ")\n",
        "model.compile(loss=\"mse\", optimizer=keras.optimizers.SGD(lr=1e-3))"
      ],
      "execution_count": 26,
      "outputs": []
    },
    {
      "cell_type": "markdown",
      "metadata": {
        "id": "0GdJfmeCwTGM"
      },
      "source": [
        "#### Define Callback Functions\n",
        "First let's define some callback functions so that we can checkpoint our model and save it model parameters to file each time we get better results.\n",
        "\n",
        "More info on available Keras Callbacks:\n",
        "https://keras.io/api/callbacks/\n",
        "\n",
        "More info on ModelCheckpoint class: \n",
        "https://keras.io/api/callbacks/model_checkpoint/\n"
      ]
    },
    {
      "cell_type": "code",
      "metadata": {
        "id": "AQC82yKxs8Gy"
      },
      "source": [
        "#\n",
        "checkpoint_cb = keras.callbacks.ModelCheckpoint(\n",
        "    \"my_latest_nn_model.h5\", save_best_only=True # save onky the weight and not the whole structure of the model\n",
        ")"
      ],
      "execution_count": 27,
      "outputs": []
    },
    {
      "cell_type": "markdown",
      "metadata": {
        "id": "ZBu0i7uVSQTr"
      },
      "source": [
        ""
      ]
    },
    {
      "cell_type": "code",
      "metadata": {
        "id": "gQyqXpxks8Gz",
        "colab": {
          "base_uri": "https://localhost:8080/"
        },
        "outputId": "cdecb720-9472-4912-e240-ad0f6cdbb2fb"
      },
      "source": [
        "history = model.fit(\n",
        "    X_train,\n",
        "    y_train,\n",
        "    epochs=10,\n",
        "    validation_data=(X_valid, y_valid),\n",
        "    callbacks=[checkpoint_cb],\n",
        ")\n",
        "model = keras.models.load_model(\"my_latest_nn_model.h5\")  # rollback to best model"
      ],
      "execution_count": 28,
      "outputs": [
        {
          "output_type": "stream",
          "text": [
            "Epoch 1/10\n",
            "363/363 [==============================] - 1s 2ms/step - loss: 3.6779 - val_loss: 0.9873\n",
            "Epoch 2/10\n",
            "363/363 [==============================] - 1s 2ms/step - loss: 0.7445 - val_loss: 0.6552\n",
            "Epoch 3/10\n",
            "363/363 [==============================] - 1s 2ms/step - loss: 0.6593 - val_loss: 0.6199\n",
            "Epoch 4/10\n",
            "363/363 [==============================] - 1s 2ms/step - loss: 0.6153 - val_loss: 0.5724\n",
            "Epoch 5/10\n",
            "363/363 [==============================] - 1s 2ms/step - loss: 0.5689 - val_loss: 0.5425\n",
            "Epoch 6/10\n",
            "363/363 [==============================] - 1s 2ms/step - loss: 0.5412 - val_loss: 0.5197\n",
            "Epoch 7/10\n",
            "363/363 [==============================] - 1s 2ms/step - loss: 0.5399 - val_loss: 0.5139\n",
            "Epoch 8/10\n",
            "363/363 [==============================] - 1s 2ms/step - loss: 0.5117 - val_loss: 0.4828\n",
            "Epoch 9/10\n",
            "363/363 [==============================] - 1s 2ms/step - loss: 0.4964 - val_loss: 0.4691\n",
            "Epoch 10/10\n",
            "363/363 [==============================] - 1s 2ms/step - loss: 0.4829 - val_loss: 0.4584\n"
          ],
          "name": "stdout"
        }
      ]
    },
    {
      "cell_type": "markdown",
      "metadata": {
        "id": "bw-HyWtGs8Go"
      },
      "source": [
        "### Store your Model"
      ]
    },
    {
      "cell_type": "code",
      "metadata": {
        "id": "swyghQV4s8Go"
      },
      "source": [
        "model = keras.models.Sequential(\n",
        "    [\n",
        "        keras.layers.Dense(10, activation=\"relu\", input_shape=[8]),\n",
        "        keras.layers.Dense(10, activation=\"relu\"),\n",
        "        keras.layers.Dense(1),\n",
        "    ]\n",
        ")"
      ],
      "execution_count": 29,
      "outputs": []
    },
    {
      "cell_type": "code",
      "metadata": {
        "id": "7fZjtKIts8Gq",
        "colab": {
          "base_uri": "https://localhost:8080/"
        },
        "outputId": "866ee214-55bd-4e26-8b2c-43d82d580aa1"
      },
      "source": [
        "model.compile(loss=\"mse\", optimizer=keras.optimizers.SGD(lr=1e-3))\n",
        "history = model.fit(X_train, y_train, epochs=2, validation_data=(X_valid, y_valid))"
      ],
      "execution_count": 30,
      "outputs": [
        {
          "output_type": "stream",
          "text": [
            "Epoch 1/2\n",
            "363/363 [==============================] - 1s 2ms/step - loss: 3.8497 - val_loss: 3.9930\n",
            "Epoch 2/2\n",
            "363/363 [==============================] - 1s 2ms/step - loss: 1.2303 - val_loss: 1.9253\n"
          ],
          "name": "stdout"
        }
      ]
    },
    {
      "cell_type": "markdown",
      "metadata": {
        "id": "4sQQ19uDs8Gr"
      },
      "source": [
        "Models created with the sequential or functional API can simple be saved and loaded:"
      ]
    },
    {
      "cell_type": "code",
      "metadata": {
        "id": "E1gpfiWFs8Gs"
      },
      "source": [
        "model.save(\"my_nn_model.h5\")\n",
        "model = keras.models.load_model(\"my_nn_model.h5\")"
      ],
      "execution_count": 31,
      "outputs": []
    },
    {
      "cell_type": "markdown",
      "metadata": {
        "id": "wzzbjV9qs8Gt"
      },
      "source": [
        "For some custom built models the save method does not work. In this case the weights can be saved. The model structure has to be saved separately."
      ]
    },
    {
      "cell_type": "code",
      "metadata": {
        "id": "qz8IoSWEs8Gu",
        "colab": {
          "base_uri": "https://localhost:8080/"
        },
        "outputId": "2db3c561-92d6-401e-81a0-e38e08ac1700"
      },
      "source": [
        "model.save_weights(\"my_keras_weights.ckpt\")\n",
        "model.load_weights(\"my_keras_weights.ckpt\")"
      ],
      "execution_count": 32,
      "outputs": [
        {
          "output_type": "execute_result",
          "data": {
            "text/plain": [
              "<tensorflow.python.training.tracking.util.CheckpointLoadStatus at 0x7fa151f9e9d0>"
            ]
          },
          "metadata": {
            "tags": []
          },
          "execution_count": 32
        }
      ]
    },
    {
      "cell_type": "markdown",
      "metadata": {
        "id": "6llc9hKCHEUn"
      },
      "source": [
        "## Advanced Example:\n",
        "### Connect to Google Drive"
      ]
    },
    {
      "cell_type": "code",
      "metadata": {
        "id": "5d5aKMHNwTGe",
        "colab": {
          "base_uri": "https://localhost:8080/"
        },
        "outputId": "63f61b3d-112a-43f4-d03f-18d59872a169"
      },
      "source": [
        "from google.colab import drive\n",
        "drive.mount('/gdrive')"
      ],
      "execution_count": 33,
      "outputs": [
        {
          "output_type": "stream",
          "text": [
            "Mounted at /gdrive\n"
          ],
          "name": "stdout"
        }
      ]
    },
    {
      "cell_type": "markdown",
      "metadata": {
        "id": "SJHbI2z3wTGg"
      },
      "source": [
        "### Advanced metrics\n",
        "\n",
        "A metric is a function that is used to judge the performance of your model.\n",
        "\n",
        "Metric functions are similar to loss functions, except that the results from evaluating a metric are not used when training the model. Note that you may use any loss function as a metric.\n",
        "\n",
        "More info on keras metrics: https://keras.io/api/metrics/\n",
        "\n",
        "\n"
      ]
    },
    {
      "cell_type": "code",
      "metadata": {
        "id": "Uj1t2ud9wTGg"
      },
      "source": [
        "from keras import metrics"
      ],
      "execution_count": 34,
      "outputs": []
    },
    {
      "cell_type": "code",
      "metadata": {
        "id": "B9bPDn9wwTGi"
      },
      "source": [
        "METRICS = [\n",
        "      keras.metrics.TruePositives(name='tp'),\n",
        "      keras.metrics.FalsePositives(name='fp'),\n",
        "      keras.metrics.TrueNegatives(name='tn'),\n",
        "      keras.metrics.FalseNegatives(name='fn'),\n",
        "      keras.metrics.BinaryAccuracy(name='accuracy'),\n",
        "      keras.metrics.Precision(name='precision'),\n",
        "      keras.metrics.Recall(name='recall'),\n",
        "      keras.metrics.AUC(name='auc'),\n",
        "]\n",
        "\n",
        "\n",
        "model.compile(\n",
        "  optimizer=keras.optimizers.Adam(lr=1e-3),\n",
        "  loss=keras.losses.BinaryCrossentropy(),\n",
        "  metrics=METRICS)\n"
      ],
      "execution_count": 35,
      "outputs": []
    },
    {
      "cell_type": "markdown",
      "metadata": {
        "id": "FV5BQxzgwTGn"
      },
      "source": [
        "### Regularization and Dropout\n"
      ]
    },
    {
      "cell_type": "code",
      "metadata": {
        "id": "fxkRdYfuwTGn"
      },
      "source": [
        "model = keras.Sequential([\n",
        "  tf.keras.layers.Dense(16, activation='relu',\n",
        "  input_shape=(X_train.shape[-1],)),\n",
        "  tf.keras.layers.Dropout(0.5), #this is where we add dropout\n",
        "  tf.keras.layers.Dense(1, activation='sigmoid', bias_initializer='zeros'),\n",
        "])\n"
      ],
      "execution_count": 36,
      "outputs": []
    },
    {
      "cell_type": "markdown",
      "metadata": {
        "id": "CkV_SJifs8G2"
      },
      "source": [
        "### Early Stopping"
      ]
    },
    {
      "cell_type": "code",
      "metadata": {
        "id": "4G9Nc-mbwTGt"
      },
      "source": [
        "model = keras.models.Sequential(\n",
        "    [keras.layers.Dense(30, activation=\"relu\", input_shape=[8]), keras.layers.Dense(1)]\n",
        ")\n"
      ],
      "execution_count": 37,
      "outputs": []
    },
    {
      "cell_type": "code",
      "metadata": {
        "id": "LaIkbLG0wTGv"
      },
      "source": [
        "model.compile(loss=\"mse\", optimizer=keras.optimizers.SGD(lr=2e-3))\n",
        "\n"
      ],
      "execution_count": 38,
      "outputs": []
    },
    {
      "cell_type": "code",
      "metadata": {
        "id": "t8x3KiDOwTGy",
        "colab": {
          "base_uri": "https://localhost:8080/"
        },
        "outputId": "7308ad62-f32d-467d-aecd-2e3fdbe0a03d"
      },
      "source": [
        "early_stopping_cb = keras.callbacks.EarlyStopping(patience=5, restore_best_weights=True)\n",
        "early_stopping_cb"
      ],
      "execution_count": 39,
      "outputs": [
        {
          "output_type": "execute_result",
          "data": {
            "text/plain": [
              "<tensorflow.python.keras.callbacks.EarlyStopping at 0x7fa1516c8e90>"
            ]
          },
          "metadata": {
            "tags": []
          },
          "execution_count": 39
        }
      ]
    },
    {
      "cell_type": "code",
      "metadata": {
        "id": "gD0nC6wes8G2",
        "colab": {
          "base_uri": "https://localhost:8080/"
        },
        "outputId": "e631714f-c6f3-4061-ca5a-e24b11d503b7"
      },
      "source": [
        "\n",
        "history = model.fit(\n",
        "    X_train,\n",
        "    y_train,\n",
        "    epochs=50,\n",
        "    validation_data=(X_valid, y_valid),\n",
        "    callbacks=[checkpoint_cb, early_stopping_cb],\n",
        ")\n",
        "\n",
        "history.history"
      ],
      "execution_count": 40,
      "outputs": [
        {
          "output_type": "stream",
          "text": [
            "Epoch 1/50\n",
            "363/363 [==============================] - 1s 2ms/step - loss: 2.5983 - val_loss: 3.8393\n",
            "Epoch 2/50\n",
            "363/363 [==============================] - 1s 2ms/step - loss: 0.9007 - val_loss: 0.7685\n",
            "Epoch 3/50\n",
            "363/363 [==============================] - 1s 2ms/step - loss: 0.6501 - val_loss: 0.5470\n",
            "Epoch 4/50\n",
            "363/363 [==============================] - 1s 2ms/step - loss: 0.5891 - val_loss: 0.5643\n",
            "Epoch 5/50\n",
            "363/363 [==============================] - 1s 2ms/step - loss: 0.5288 - val_loss: 0.5024\n",
            "Epoch 6/50\n",
            "363/363 [==============================] - 1s 2ms/step - loss: 0.4930 - val_loss: 0.4793\n",
            "Epoch 7/50\n",
            "363/363 [==============================] - 1s 2ms/step - loss: 0.4880 - val_loss: 0.4426\n",
            "Epoch 8/50\n",
            "363/363 [==============================] - 1s 2ms/step - loss: 0.4614 - val_loss: 0.4501\n",
            "Epoch 9/50\n",
            "363/363 [==============================] - 1s 2ms/step - loss: 0.4447 - val_loss: 0.4554\n",
            "Epoch 10/50\n",
            "363/363 [==============================] - 1s 2ms/step - loss: 0.4365 - val_loss: 0.4609\n",
            "Epoch 11/50\n",
            "363/363 [==============================] - 1s 2ms/step - loss: 0.4245 - val_loss: 0.4452\n",
            "Epoch 12/50\n",
            "363/363 [==============================] - 1s 2ms/step - loss: 0.4211 - val_loss: 0.4747\n"
          ],
          "name": "stdout"
        },
        {
          "output_type": "execute_result",
          "data": {
            "text/plain": [
              "{'loss': [1.5733718872070312,\n",
              "  0.7480759024620056,\n",
              "  0.6221604347229004,\n",
              "  0.557496964931488,\n",
              "  0.5168893337249756,\n",
              "  0.4833097755908966,\n",
              "  0.46488702297210693,\n",
              "  0.44971922039985657,\n",
              "  0.43905651569366455,\n",
              "  0.4319053590297699,\n",
              "  0.4265204071998596,\n",
              "  0.42190924286842346],\n",
              " 'val_loss': [3.8393142223358154,\n",
              "  0.7685132622718811,\n",
              "  0.5470230579376221,\n",
              "  0.5642936825752258,\n",
              "  0.5024240016937256,\n",
              "  0.4792707860469818,\n",
              "  0.4425591826438904,\n",
              "  0.45009645819664,\n",
              "  0.4553939998149872,\n",
              "  0.460936963558197,\n",
              "  0.44522231817245483,\n",
              "  0.4747394919395447]}"
            ]
          },
          "metadata": {
            "tags": []
          },
          "execution_count": 40
        }
      ]
    },
    {
      "cell_type": "code",
      "metadata": {
        "id": "JfpbJ60UwTG3",
        "colab": {
          "base_uri": "https://localhost:8080/"
        },
        "outputId": "d86865f0-281a-4817-be3b-563e8972641c"
      },
      "source": [
        "mse_test = model.evaluate(X_test, y_test, verbose=0)\n",
        "mse_test"
      ],
      "execution_count": 41,
      "outputs": [
        {
          "output_type": "execute_result",
          "data": {
            "text/plain": [
              "0.4501399099826813"
            ]
          },
          "metadata": {
            "tags": []
          },
          "execution_count": 41
        }
      ]
    },
    {
      "cell_type": "code",
      "metadata": {
        "id": "NnQbCcn3s8G4",
        "colab": {
          "base_uri": "https://localhost:8080/",
          "height": 283
        },
        "outputId": "3d82ccbb-d296-43f3-e0d5-6dd381294f3d"
      },
      "source": [
        "cols_to_plot = [\"loss\", \"val_loss\"]\n",
        "plt.plot(pd.DataFrame(history.history)[cols_to_plot])\n",
        "plt.ylabel('Loss')\n",
        "plt.xlabel('No. epoch')\n",
        "plt.legend(cols_to_plot, loc=\"upper right\")\n",
        "plt.ylim([0.2, 1])\n",
        "plt.grid(True)"
      ],
      "execution_count": 42,
      "outputs": [
        {
          "output_type": "display_data",
          "data": {
            "image/png": "[encoded data removed]",
            "text/plain": [
              "<Figure size 432x288 with 1 Axes>"
            ]
          },
          "metadata": {
            "tags": [],
            "needs_background": "light"
          }
        }
      ]
    },
    {
      "cell_type": "markdown",
      "metadata": {
        "id": "s5Yrk7CTwTHD"
      },
      "source": [
        "### Weight Initialization\n",
        "\n",
        "Initializers define the way to set the initial random weights of Keras layers.\n",
        "\n",
        "The keyword arguments used for passing initializers to layers depends on the layer. Usually, it is simply kernel_initializer and bias_initializer\n",
        "\n",
        "More Initializers:\n",
        "https://keras.io/api/layers/initializers/\n",
        "\n",
        "\n",
        "\n"
      ]
    },
    {
      "cell_type": "code",
      "metadata": {
        "id": "zL12Qz6UPVlv"
      },
      "source": [
        "from tensorflow.keras import layers\n",
        "from tensorflow.keras import initializers\n",
        "\n",
        "layer = layers.Dense(\n",
        "    units=64,\n",
        "    kernel_initializer=initializers.RandomNormal(stddev=0.01),\n",
        "    bias_initializer=initializers.Zeros()\n",
        ")\n"
      ],
      "execution_count": 43,
      "outputs": []
    },
    {
      "cell_type": "code",
      "metadata": {
        "id": "D3wjvGyvwTHE"
      },
      "source": [
        "#All built-in initializers can also be passed via their string identifier:\n",
        "\n",
        "layer = layers.Dense(\n",
        "    units=64,\n",
        "    kernel_initializer='random_normal',\n",
        "    bias_initializer='zeros'\n",
        ")"
      ],
      "execution_count": 44,
      "outputs": []
    },
    {
      "cell_type": "code",
      "metadata": {
        "id": "s2HQ7qmcwTHG",
        "colab": {
          "base_uri": "https://localhost:8080/"
        },
        "outputId": "d2ce7a3b-5693-4d92-94ec-d785b1ca0de3"
      },
      "source": [
        "# This initializer generates tensors with a normal distribution.\n",
        "\n",
        "tf.keras.initializers.RandomNormal(mean=0.0, stddev=0.05, seed=None)\n"
      ],
      "execution_count": 45,
      "outputs": [
        {
          "output_type": "execute_result",
          "data": {
            "text/plain": [
              "<tensorflow.python.keras.initializers.initializers_v2.RandomNormal at 0x7fa151733c10>"
            ]
          },
          "metadata": {
            "tags": []
          },
          "execution_count": 45
        }
      ]
    },
    {
      "cell_type": "markdown",
      "metadata": {
        "id": "aqiZ8xqDwTHI"
      },
      "source": [
        "\n",
        "### Training History\n",
        "\n"
      ]
    },
    {
      "cell_type": "code",
      "metadata": {
        "id": "PAmRwRbPwTHI",
        "colab": {
          "base_uri": "https://localhost:8080/"
        },
        "outputId": "a43ad858-aacc-40d0-f7e0-f20e848405f0"
      },
      "source": [
        "# history object\n",
        "\n",
        "# When running this model, Keras maintains a so-called History object in the background. \n",
        "# The history object is the output of the fit operation so it can be accessed in your Python script by slightly adapting that row in the above code to:\n",
        "\n",
        "# The History.history attribute is a dictionary recording training loss values and metrics values at successive epochs, as well as validation loss values and validation metrics values (if applicable).\n",
        "\n",
        "history = model.fit(\n",
        "    X_train,\n",
        "    y_train,\n",
        "    epochs=100,\n",
        "    validation_data=(X_valid, y_valid),\n",
        "    callbacks=[checkpoint_cb, early_stopping_cb],\n",
        ")\n",
        "\n",
        "history.history"
      ],
      "execution_count": 46,
      "outputs": [
        {
          "output_type": "stream",
          "text": [
            "Epoch 1/100\n",
            "363/363 [==============================] - 1s 2ms/step - loss: 0.4497 - val_loss: 0.4473\n",
            "Epoch 2/100\n",
            "363/363 [==============================] - 1s 2ms/step - loss: 0.4400 - val_loss: 0.4879\n",
            "Epoch 3/100\n",
            "363/363 [==============================] - 1s 2ms/step - loss: 0.4327 - val_loss: 0.4755\n",
            "Epoch 4/100\n",
            "363/363 [==============================] - 1s 2ms/step - loss: 0.4260 - val_loss: 0.4808\n",
            "Epoch 5/100\n",
            "363/363 [==============================] - 1s 2ms/step - loss: 0.4226 - val_loss: 0.4408\n",
            "Epoch 6/100\n",
            "363/363 [==============================] - 1s 2ms/step - loss: 0.4177 - val_loss: 0.4878\n",
            "Epoch 7/100\n",
            "363/363 [==============================] - 1s 2ms/step - loss: 0.4155 - val_loss: 0.4633\n",
            "Epoch 8/100\n",
            "363/363 [==============================] - 1s 2ms/step - loss: 0.4126 - val_loss: 0.4287\n",
            "Epoch 9/100\n",
            "363/363 [==============================] - 1s 2ms/step - loss: 0.4099 - val_loss: 0.4446\n",
            "Epoch 10/100\n",
            "363/363 [==============================] - 1s 2ms/step - loss: 0.4078 - val_loss: 0.4757\n",
            "Epoch 11/100\n",
            "363/363 [==============================] - 1s 2ms/step - loss: 0.4064 - val_loss: 0.4154\n",
            "Epoch 12/100\n",
            "363/363 [==============================] - 1s 2ms/step - loss: 0.4041 - val_loss: 0.4789\n",
            "Epoch 13/100\n",
            "363/363 [==============================] - 1s 2ms/step - loss: 0.4027 - val_loss: 0.4580\n",
            "Epoch 14/100\n",
            "363/363 [==============================] - 1s 2ms/step - loss: 0.4013 - val_loss: 0.4179\n",
            "Epoch 15/100\n",
            "363/363 [==============================] - 1s 2ms/step - loss: 0.3994 - val_loss: 0.4306\n",
            "Epoch 16/100\n",
            "363/363 [==============================] - 1s 2ms/step - loss: 0.3980 - val_loss: 0.4112\n",
            "Epoch 17/100\n",
            "363/363 [==============================] - 1s 2ms/step - loss: 0.3967 - val_loss: 0.4567\n",
            "Epoch 18/100\n",
            "363/363 [==============================] - 1s 2ms/step - loss: 0.3959 - val_loss: 0.4456\n",
            "Epoch 19/100\n",
            "363/363 [==============================] - 1s 2ms/step - loss: 0.3941 - val_loss: 0.4199\n",
            "Epoch 20/100\n",
            "363/363 [==============================] - 1s 2ms/step - loss: 0.3933 - val_loss: 0.4788\n",
            "Epoch 21/100\n",
            "363/363 [==============================] - 1s 2ms/step - loss: 0.3923 - val_loss: 0.4409\n"
          ],
          "name": "stdout"
        },
        {
          "output_type": "execute_result",
          "data": {
            "text/plain": [
              "{'loss': [0.44974395632743835,\n",
              "  0.439953088760376,\n",
              "  0.4326845705509186,\n",
              "  0.42598757147789,\n",
              "  0.4225969612598419,\n",
              "  0.4176982045173645,\n",
              "  0.41545745730400085,\n",
              "  0.4126279652118683,\n",
              "  0.4099140167236328,\n",
              "  0.40775975584983826,\n",
              "  0.40635842084884644,\n",
              "  0.4041284918785095,\n",
              "  0.40269964933395386,\n",
              "  0.40126410126686096,\n",
              "  0.39938193559646606,\n",
              "  0.3980250954627991,\n",
              "  0.396749883890152,\n",
              "  0.395911306142807,\n",
              "  0.394142210483551,\n",
              "  0.3933323621749878,\n",
              "  0.3922629952430725],\n",
              " 'val_loss': [0.4472765028476715,\n",
              "  0.48786407709121704,\n",
              "  0.47551429271698,\n",
              "  0.4808345139026642,\n",
              "  0.4407772421836853,\n",
              "  0.48784786462783813,\n",
              "  0.46325674653053284,\n",
              "  0.428737610578537,\n",
              "  0.44463175535202026,\n",
              "  0.4757206439971924,\n",
              "  0.4154207110404968,\n",
              "  0.4788682162761688,\n",
              "  0.45801544189453125,\n",
              "  0.41790294647216797,\n",
              "  0.43063926696777344,\n",
              "  0.41121402382850647,\n",
              "  0.4566758871078491,\n",
              "  0.44557011127471924,\n",
              "  0.41987866163253784,\n",
              "  0.47881758213043213,\n",
              "  0.44092342257499695]}"
            ]
          },
          "metadata": {
            "tags": []
          },
          "execution_count": 46
        }
      ]
    },
    {
      "cell_type": "markdown",
      "metadata": {
        "id": "_vRyjo8SwTHL"
      },
      "source": [
        "### Class Weights"
      ]
    },
    {
      "cell_type": "code",
      "metadata": {
        "id": "62wPkNYIO4fH"
      },
      "source": [
        "from sklearn.utils import class_weight\n",
        "class_weight = class_weight.compute_class_weight('balanced'\n",
        "                                               ,np.unique(y_train)\n",
        "                                               ,y_train)"
      ],
      "execution_count": 47,
      "outputs": []
    },
    {
      "cell_type": "code",
      "metadata": {
        "id": "PpKgAWy2oCBh"
      },
      "source": [
        "class_weight = dict(enumerate(class_weight))\n"
      ],
      "execution_count": 48,
      "outputs": []
    },
    {
      "cell_type": "code",
      "metadata": {
        "id": "T5auLWT0wTHL",
        "colab": {
          "base_uri": "https://localhost:8080/"
        },
        "outputId": "00cfc0ec-15d1-44be-cf86-ec73bfd38361"
      },
      "source": [
        "#\n",
        "model.fit(X_train, \n",
        "          y_train, \n",
        "          epochs=5, \n",
        "          batch_size=32, \n",
        "          class_weight=class_weight)\n"
      ],
      "execution_count": 49,
      "outputs": [
        {
          "output_type": "stream",
          "text": [
            "Epoch 1/5\n",
            "363/363 [==============================] - 1s 2ms/step - loss: 1.3132\n",
            "Epoch 2/5\n",
            "363/363 [==============================] - 1s 2ms/step - loss: 1.3021\n",
            "Epoch 3/5\n",
            "363/363 [==============================] - 1s 2ms/step - loss: 1.3572\n",
            "Epoch 4/5\n",
            "363/363 [==============================] - 1s 2ms/step - loss: 1.2900\n",
            "Epoch 5/5\n",
            "363/363 [==============================] - 1s 2ms/step - loss: 1.2938\n"
          ],
          "name": "stdout"
        },
        {
          "output_type": "execute_result",
          "data": {
            "text/plain": [
              "<tensorflow.python.keras.callbacks.History at 0x7fa14f4e4150>"
            ]
          },
          "metadata": {
            "tags": []
          },
          "execution_count": 49
        }
      ]
    }
  ]
}