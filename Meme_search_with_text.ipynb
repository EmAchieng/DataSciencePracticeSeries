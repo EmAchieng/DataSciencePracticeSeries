{
  "cells": [
    {
      "cell_type": "markdown",
      "metadata": {
        "id": "view-in-github",
        "colab_type": "text"
      },
      "source": [
        "<a href=\"https://colab.research.google.com/github/EmAchieng/DataSciencePracticeSeries/blob/master/Meme_search_with_text.ipynb\" target=\"_parent\"><img src=\"https://colab.research.google.com/assets/colab-badge.svg\" alt=\"Open In Colab\"/></a>"
      ]
    },
    {
      "cell_type": "markdown",
      "metadata": {
        "id": "d-6qZXne-aDr"
      },
      "source": [
        "# Jina Meme Search Workshop\n",
        "\n",
        "![](http://examples.jina.ai/images/meme_search.gif)\n",
        "\n",
        "In this workshop we're going to build a meme search engine using [Jina](https://github.com/jina-ai/jina/). It will search a dataset of memes and return URLs to the images as well as metadata.\n",
        "\n",
        "For this workshop we'll just focus on searching **text**. For a more complete repo (including text/image search and frontend) you can check [this link](https://github.com/alexcg1/jina-meme-search).\n",
        "\n",
        "You can play with a live example [here](https://examples.jina.ai)."
      ]
    },
    {
      "cell_type": "markdown",
      "metadata": {
        "id": "H0ruZdXzmyyq"
      },
      "source": [
        "# Prerequisites\n",
        "\n",
        "- Check out [Jina's repo](https://github.com/jina-ai/jina/) to understand what Jina does\n",
        "- Watch [Neural search using cute fuzzy animals](https://www.youtube.com/watch?v=3FyddFAFNPQ) to understand how neural search works\n",
        "- Watch [Jina basics in under two minutes](https://www.youtube.com/watch?v=mnnC37ewQI8) to learn the fundamental components of Jina"
      ]
    },
    {
      "cell_type": "markdown",
      "metadata": {
        "id": "fsREdE19myyr"
      },
      "source": [
        "# Terminology\n",
        "\n",
        "Let's go through the words we'll be using in this workshop.\n",
        "\n",
        "In our example, we'll search through all the <code>text</code> (which comes from a JSON file) and then display the image <code>uri</code> of each match.\n",
        "\n",
        "<table>\n",
        "    <tr>\n",
        "        <td>\n",
        "            <img src=\"https://raw.githubusercontent.com/jina-ai/workshops/main/memes/koala.png\" width=300 align=\"left\">\n",
        "        </td>\n",
        "        <td>\n",
        "            <table>\n",
        "                <tr>\n",
        "                    <td>Template</td>\n",
        "                    <td>Surprised Koala</td>\n",
        "                </tr>\n",
        "                <tr>\n",
        "                    <td>Caption</td>\n",
        "                    <td>This is poisonous. What</td>\n",
        "                </tr>\n",
        "                <tr>\n",
        "                    <td><code>uri</code></td>\n",
        "                    <td>https//i.imgflip.com/foo_bar.jpg</td>\n",
        "                </tr>\n",
        "                <tr>\n",
        "                    <td><code>text</code></td>\n",
        "                    <td>Surprised Koala | This is poisonous. What</td>\n",
        "                </tr>\n",
        "            </table>\n",
        "        </td>\n",
        "    </tr>\n",
        "</table>"
      ]
    },
    {
      "cell_type": "markdown",
      "metadata": {
        "id": "V0aaaBxpmyys"
      },
      "source": [
        "# Set up basics"
      ]
    },
    {
      "cell_type": "markdown",
      "metadata": {
        "id": "6LXG8bR6myyt"
      },
      "source": [
        "## Housekeeping"
      ]
    },
    {
      "cell_type": "markdown",
      "metadata": {
        "id": "z0PyTL5_myyt"
      },
      "source": [
        "### Clean up from last time"
      ]
    },
    {
      "cell_type": "code",
      "execution_count": 1,
      "metadata": {
        "id": "TZvo8Ht1myyu"
      },
      "outputs": [],
      "source": [
        "!cd /\n",
        "!rm -rf workspace images sample_data"
      ]
    },
    {
      "cell_type": "markdown",
      "metadata": {
        "id": "0sWK6UzTmyyy"
      },
      "source": [
        "### Set basic options"
      ]
    },
    {
      "cell_type": "code",
      "execution_count": 2,
      "metadata": {
        "id": "K5MXYUBimyyz",
        "colab": {
          "base_uri": "https://localhost:8080/"
        },
        "outputId": "f0079878-3533-4ae0-ddc9-c908986b5797"
      },
      "outputs": [
        {
          "output_type": "stream",
          "name": "stdout",
          "text": [
            "Enabling notebook extension jupyter-js-widgets/extension...\n",
            "      - Validating: \u001b[32mOK\u001b[0m\n"
          ]
        }
      ],
      "source": [
        "# Enable Jupyter widgets so we can see images\n",
        "!jupyter nbextension enable --py widgetsnbextension\n",
        "\n",
        "# Disable warnings\n",
        "import warnings\n",
        "warnings.filterwarnings('ignore')"
      ]
    },
    {
      "cell_type": "markdown",
      "metadata": {
        "id": "ca_gx8fCmyy0"
      },
      "source": [
        "## Set maximum images to index\n",
        "\n",
        "Since this is just a workshop and not a real-world application we'll just search through 50 memes. This will save us time in processing."
      ]
    },
    {
      "cell_type": "code",
      "execution_count": 3,
      "metadata": {
        "id": "KqibTRkcmyy1"
      },
      "outputs": [],
      "source": [
        "max_docs = 50"
      ]
    },
    {
      "cell_type": "markdown",
      "metadata": {
        "id": "hjDI5WMT-uEb"
      },
      "source": [
        "## Install Prerequisites"
      ]
    },
    {
      "cell_type": "code",
      "execution_count": 4,
      "metadata": {
        "id": "JyvR2vJC37nR",
        "colab": {
          "base_uri": "https://localhost:8080/"
        },
        "outputId": "a1c7d3df-96c6-4810-df07-124d073ccb46"
      },
      "outputs": [
        {
          "output_type": "stream",
          "name": "stdout",
          "text": [
            "Requirement already satisfied: jina==2.6.4 in /usr/local/lib/python3.7/dist-packages (2.6.4)\n",
            "Requirement already satisfied: cryptography in /usr/local/lib/python3.7/dist-packages (from jina==2.6.4) (36.0.1)\n",
            "Requirement already satisfied: rich in /usr/local/lib/python3.7/dist-packages (from jina==2.6.4) (11.1.0)\n",
            "Requirement already satisfied: aiohttp in /usr/local/lib/python3.7/dist-packages (from jina==2.6.4) (3.8.1)\n",
            "Requirement already satisfied: python-multipart in /usr/local/lib/python3.7/dist-packages (from jina==2.6.4) (0.0.5)\n",
            "Requirement already satisfied: numpy in /usr/local/lib/python3.7/dist-packages (from jina==2.6.4) (1.19.5)\n",
            "Requirement already satisfied: uvicorn[standard]>=0.14.0 in /usr/local/lib/python3.7/dist-packages (from jina==2.6.4) (0.17.1)\n",
            "Requirement already satisfied: pyyaml>=5.3.1 in /usr/local/lib/python3.7/dist-packages (from jina==2.6.4) (6.0)\n",
            "Requirement already satisfied: docker in /usr/local/lib/python3.7/dist-packages (from jina==2.6.4) (5.0.3)\n",
            "Requirement already satisfied: fastapi in /usr/local/lib/python3.7/dist-packages (from jina==2.6.4) (0.73.0)\n",
            "Requirement already satisfied: pathspec in /usr/local/lib/python3.7/dist-packages (from jina==2.6.4) (0.9.0)\n",
            "Requirement already satisfied: websockets in /usr/local/lib/python3.7/dist-packages (from jina==2.6.4) (10.1)\n",
            "Requirement already satisfied: lz4<3.1.2 in /usr/local/lib/python3.7/dist-packages (from jina==2.6.4) (3.1.1)\n",
            "Requirement already satisfied: filelock in /usr/local/lib/python3.7/dist-packages (from jina==2.6.4) (3.4.2)\n",
            "Requirement already satisfied: kubernetes>=18.20.0 in /usr/local/lib/python3.7/dist-packages (from jina==2.6.4) (21.7.0)\n",
            "Requirement already satisfied: grpcio>=1.33.1 in /usr/local/lib/python3.7/dist-packages (from jina==2.6.4) (1.43.0)\n",
            "Requirement already satisfied: pydantic in /usr/local/lib/python3.7/dist-packages (from jina==2.6.4) (1.9.0)\n",
            "Requirement already satisfied: protobuf>=3.13.0 in /usr/local/lib/python3.7/dist-packages (from jina==2.6.4) (3.17.3)\n",
            "Requirement already satisfied: aiostream in /usr/local/lib/python3.7/dist-packages (from jina==2.6.4) (0.4.4)\n",
            "Requirement already satisfied: uvloop in /usr/local/lib/python3.7/dist-packages (from jina==2.6.4) (0.16.0)\n",
            "Requirement already satisfied: requests in /usr/local/lib/python3.7/dist-packages (from jina==2.6.4) (2.23.0)\n",
            "Requirement already satisfied: tornado>=5.1.0 in /usr/local/lib/python3.7/dist-packages (from jina==2.6.4) (5.1.1)\n",
            "Requirement already satisfied: aiofiles in /usr/local/lib/python3.7/dist-packages (from jina==2.6.4) (0.8.0)\n",
            "Requirement already satisfied: pyzmq>=17.1.0 in /usr/local/lib/python3.7/dist-packages (from jina==2.6.4) (22.3.0)\n",
            "Requirement already satisfied: six>=1.5.2 in /usr/local/lib/python3.7/dist-packages (from grpcio>=1.33.1->jina==2.6.4) (1.15.0)\n",
            "Requirement already satisfied: requests-oauthlib in /usr/local/lib/python3.7/dist-packages (from kubernetes>=18.20.0->jina==2.6.4) (1.3.0)\n",
            "Requirement already satisfied: setuptools>=21.0.0 in /usr/local/lib/python3.7/dist-packages (from kubernetes>=18.20.0->jina==2.6.4) (57.4.0)\n",
            "Requirement already satisfied: google-auth>=1.0.1 in /usr/local/lib/python3.7/dist-packages (from kubernetes>=18.20.0->jina==2.6.4) (1.35.0)\n",
            "Requirement already satisfied: websocket-client!=0.40.0,!=0.41.*,!=0.42.*,>=0.32.0 in /usr/local/lib/python3.7/dist-packages (from kubernetes>=18.20.0->jina==2.6.4) (1.2.3)\n",
            "Requirement already satisfied: python-dateutil>=2.5.3 in /usr/local/lib/python3.7/dist-packages (from kubernetes>=18.20.0->jina==2.6.4) (2.8.2)\n",
            "Requirement already satisfied: certifi>=14.05.14 in /usr/local/lib/python3.7/dist-packages (from kubernetes>=18.20.0->jina==2.6.4) (2021.10.8)\n",
            "Requirement already satisfied: urllib3>=1.24.2 in /usr/local/lib/python3.7/dist-packages (from kubernetes>=18.20.0->jina==2.6.4) (1.24.3)\n",
            "Requirement already satisfied: cachetools<5.0,>=2.0.0 in /usr/local/lib/python3.7/dist-packages (from google-auth>=1.0.1->kubernetes>=18.20.0->jina==2.6.4) (4.2.4)\n",
            "Requirement already satisfied: pyasn1-modules>=0.2.1 in /usr/local/lib/python3.7/dist-packages (from google-auth>=1.0.1->kubernetes>=18.20.0->jina==2.6.4) (0.2.8)\n",
            "Requirement already satisfied: rsa<5,>=3.1.4 in /usr/local/lib/python3.7/dist-packages (from google-auth>=1.0.1->kubernetes>=18.20.0->jina==2.6.4) (4.8)\n",
            "Requirement already satisfied: pyasn1<0.5.0,>=0.4.6 in /usr/local/lib/python3.7/dist-packages (from pyasn1-modules>=0.2.1->google-auth>=1.0.1->kubernetes>=18.20.0->jina==2.6.4) (0.4.8)\n",
            "Requirement already satisfied: asgiref>=3.4.0 in /usr/local/lib/python3.7/dist-packages (from uvicorn[standard]>=0.14.0->jina==2.6.4) (3.5.0)\n",
            "Requirement already satisfied: typing-extensions in /usr/local/lib/python3.7/dist-packages (from uvicorn[standard]>=0.14.0->jina==2.6.4) (3.10.0.2)\n",
            "Requirement already satisfied: click>=7.0 in /usr/local/lib/python3.7/dist-packages (from uvicorn[standard]>=0.14.0->jina==2.6.4) (7.1.2)\n",
            "Requirement already satisfied: h11>=0.8 in /usr/local/lib/python3.7/dist-packages (from uvicorn[standard]>=0.14.0->jina==2.6.4) (0.13.0)\n",
            "Requirement already satisfied: watchgod>=0.6 in /usr/local/lib/python3.7/dist-packages (from uvicorn[standard]>=0.14.0->jina==2.6.4) (0.7)\n",
            "Requirement already satisfied: python-dotenv>=0.13 in /usr/local/lib/python3.7/dist-packages (from uvicorn[standard]>=0.14.0->jina==2.6.4) (0.19.2)\n",
            "Requirement already satisfied: httptools<0.4.0,>=0.2.0 in /usr/local/lib/python3.7/dist-packages (from uvicorn[standard]>=0.14.0->jina==2.6.4) (0.3.0)\n",
            "Requirement already satisfied: asynctest==0.13.0 in /usr/local/lib/python3.7/dist-packages (from aiohttp->jina==2.6.4) (0.13.0)\n",
            "Requirement already satisfied: multidict<7.0,>=4.5 in /usr/local/lib/python3.7/dist-packages (from aiohttp->jina==2.6.4) (6.0.2)\n",
            "Requirement already satisfied: attrs>=17.3.0 in /usr/local/lib/python3.7/dist-packages (from aiohttp->jina==2.6.4) (21.4.0)\n",
            "Requirement already satisfied: async-timeout<5.0,>=4.0.0a3 in /usr/local/lib/python3.7/dist-packages (from aiohttp->jina==2.6.4) (4.0.2)\n",
            "Requirement already satisfied: aiosignal>=1.1.2 in /usr/local/lib/python3.7/dist-packages (from aiohttp->jina==2.6.4) (1.2.0)\n",
            "Requirement already satisfied: frozenlist>=1.1.1 in /usr/local/lib/python3.7/dist-packages (from aiohttp->jina==2.6.4) (1.3.0)\n",
            "Requirement already satisfied: charset-normalizer<3.0,>=2.0 in /usr/local/lib/python3.7/dist-packages (from aiohttp->jina==2.6.4) (2.0.10)\n",
            "Requirement already satisfied: yarl<2.0,>=1.0 in /usr/local/lib/python3.7/dist-packages (from aiohttp->jina==2.6.4) (1.7.2)\n",
            "Requirement already satisfied: idna>=2.0 in /usr/local/lib/python3.7/dist-packages (from yarl<2.0,>=1.0->aiohttp->jina==2.6.4) (2.10)\n",
            "Requirement already satisfied: cffi>=1.12 in /usr/local/lib/python3.7/dist-packages (from cryptography->jina==2.6.4) (1.15.0)\n",
            "Requirement already satisfied: pycparser in /usr/local/lib/python3.7/dist-packages (from cffi>=1.12->cryptography->jina==2.6.4) (2.21)\n",
            "Requirement already satisfied: chardet<4,>=3.0.2 in /usr/local/lib/python3.7/dist-packages (from requests->jina==2.6.4) (3.0.4)\n",
            "Requirement already satisfied: starlette==0.17.1 in /usr/local/lib/python3.7/dist-packages (from fastapi->jina==2.6.4) (0.17.1)\n",
            "Requirement already satisfied: anyio<4,>=3.0.0 in /usr/local/lib/python3.7/dist-packages (from starlette==0.17.1->fastapi->jina==2.6.4) (3.5.0)\n",
            "Requirement already satisfied: sniffio>=1.1 in /usr/local/lib/python3.7/dist-packages (from anyio<4,>=3.0.0->starlette==0.17.1->fastapi->jina==2.6.4) (1.2.0)\n",
            "Requirement already satisfied: oauthlib>=3.0.0 in /usr/local/lib/python3.7/dist-packages (from requests-oauthlib->kubernetes>=18.20.0->jina==2.6.4) (3.1.1)\n",
            "Requirement already satisfied: commonmark<0.10.0,>=0.9.0 in /usr/local/lib/python3.7/dist-packages (from rich->jina==2.6.4) (0.9.1)\n",
            "Requirement already satisfied: pygments<3.0.0,>=2.6.0 in /usr/local/lib/python3.7/dist-packages (from rich->jina==2.6.4) (2.6.1)\n",
            "Requirement already satisfied: colorama<0.5.0,>=0.4.0 in /usr/local/lib/python3.7/dist-packages (from rich->jina==2.6.4) (0.4.4)\n",
            "Requirement already satisfied: ipywidgets==7.6.5 in /usr/local/lib/python3.7/dist-packages (7.6.5)\n",
            "Requirement already satisfied: ipython-genutils~=0.2.0 in /usr/local/lib/python3.7/dist-packages (from ipywidgets==7.6.5) (0.2.0)\n",
            "Requirement already satisfied: jupyterlab-widgets>=1.0.0 in /usr/local/lib/python3.7/dist-packages (from ipywidgets==7.6.5) (1.0.2)\n",
            "Requirement already satisfied: nbformat>=4.2.0 in /usr/local/lib/python3.7/dist-packages (from ipywidgets==7.6.5) (5.1.3)\n",
            "Requirement already satisfied: ipykernel>=4.5.1 in /usr/local/lib/python3.7/dist-packages (from ipywidgets==7.6.5) (4.10.1)\n",
            "Requirement already satisfied: widgetsnbextension~=3.5.0 in /usr/local/lib/python3.7/dist-packages (from ipywidgets==7.6.5) (3.5.2)\n",
            "Requirement already satisfied: traitlets>=4.3.1 in /usr/local/lib/python3.7/dist-packages (from ipywidgets==7.6.5) (5.1.1)\n",
            "Requirement already satisfied: ipython>=4.0.0 in /usr/local/lib/python3.7/dist-packages (from ipywidgets==7.6.5) (5.5.0)\n",
            "Requirement already satisfied: tornado>=4.0 in /usr/local/lib/python3.7/dist-packages (from ipykernel>=4.5.1->ipywidgets==7.6.5) (5.1.1)\n",
            "Requirement already satisfied: jupyter-client in /usr/local/lib/python3.7/dist-packages (from ipykernel>=4.5.1->ipywidgets==7.6.5) (5.3.5)\n",
            "Requirement already satisfied: pexpect in /usr/local/lib/python3.7/dist-packages (from ipython>=4.0.0->ipywidgets==7.6.5) (4.8.0)\n",
            "Requirement already satisfied: decorator in /usr/local/lib/python3.7/dist-packages (from ipython>=4.0.0->ipywidgets==7.6.5) (4.4.2)\n",
            "Requirement already satisfied: prompt-toolkit<2.0.0,>=1.0.4 in /usr/local/lib/python3.7/dist-packages (from ipython>=4.0.0->ipywidgets==7.6.5) (1.0.18)\n",
            "Requirement already satisfied: pickleshare in /usr/local/lib/python3.7/dist-packages (from ipython>=4.0.0->ipywidgets==7.6.5) (0.7.5)\n",
            "Requirement already satisfied: simplegeneric>0.8 in /usr/local/lib/python3.7/dist-packages (from ipython>=4.0.0->ipywidgets==7.6.5) (0.8.1)\n",
            "Requirement already satisfied: setuptools>=18.5 in /usr/local/lib/python3.7/dist-packages (from ipython>=4.0.0->ipywidgets==7.6.5) (57.4.0)\n",
            "Requirement already satisfied: pygments in /usr/local/lib/python3.7/dist-packages (from ipython>=4.0.0->ipywidgets==7.6.5) (2.6.1)\n",
            "Requirement already satisfied: jsonschema!=2.5.0,>=2.4 in /usr/local/lib/python3.7/dist-packages (from nbformat>=4.2.0->ipywidgets==7.6.5) (4.3.3)\n",
            "Requirement already satisfied: jupyter-core in /usr/local/lib/python3.7/dist-packages (from nbformat>=4.2.0->ipywidgets==7.6.5) (4.9.1)\n",
            "Requirement already satisfied: importlib-metadata in /usr/local/lib/python3.7/dist-packages (from jsonschema!=2.5.0,>=2.4->nbformat>=4.2.0->ipywidgets==7.6.5) (4.10.1)\n",
            "Requirement already satisfied: pyrsistent!=0.17.0,!=0.17.1,!=0.17.2,>=0.14.0 in /usr/local/lib/python3.7/dist-packages (from jsonschema!=2.5.0,>=2.4->nbformat>=4.2.0->ipywidgets==7.6.5) (0.18.1)\n",
            "Requirement already satisfied: importlib-resources>=1.4.0 in /usr/local/lib/python3.7/dist-packages (from jsonschema!=2.5.0,>=2.4->nbformat>=4.2.0->ipywidgets==7.6.5) (5.4.0)\n",
            "Requirement already satisfied: attrs>=17.4.0 in /usr/local/lib/python3.7/dist-packages (from jsonschema!=2.5.0,>=2.4->nbformat>=4.2.0->ipywidgets==7.6.5) (21.4.0)\n",
            "Requirement already satisfied: typing-extensions in /usr/local/lib/python3.7/dist-packages (from jsonschema!=2.5.0,>=2.4->nbformat>=4.2.0->ipywidgets==7.6.5) (3.10.0.2)\n",
            "Requirement already satisfied: zipp>=3.1.0 in /usr/local/lib/python3.7/dist-packages (from importlib-resources>=1.4.0->jsonschema!=2.5.0,>=2.4->nbformat>=4.2.0->ipywidgets==7.6.5) (3.7.0)\n",
            "Requirement already satisfied: six>=1.9.0 in /usr/local/lib/python3.7/dist-packages (from prompt-toolkit<2.0.0,>=1.0.4->ipython>=4.0.0->ipywidgets==7.6.5) (1.15.0)\n",
            "Requirement already satisfied: wcwidth in /usr/local/lib/python3.7/dist-packages (from prompt-toolkit<2.0.0,>=1.0.4->ipython>=4.0.0->ipywidgets==7.6.5) (0.2.5)\n",
            "Requirement already satisfied: notebook>=4.4.1 in /usr/local/lib/python3.7/dist-packages (from widgetsnbextension~=3.5.0->ipywidgets==7.6.5) (5.3.1)\n",
            "Requirement already satisfied: Send2Trash in /usr/local/lib/python3.7/dist-packages (from notebook>=4.4.1->widgetsnbextension~=3.5.0->ipywidgets==7.6.5) (1.8.0)\n",
            "Requirement already satisfied: terminado>=0.8.1 in /usr/local/lib/python3.7/dist-packages (from notebook>=4.4.1->widgetsnbextension~=3.5.0->ipywidgets==7.6.5) (0.12.1)\n",
            "Requirement already satisfied: nbconvert in /usr/local/lib/python3.7/dist-packages (from notebook>=4.4.1->widgetsnbextension~=3.5.0->ipywidgets==7.6.5) (5.6.1)\n",
            "Requirement already satisfied: jinja2 in /usr/local/lib/python3.7/dist-packages (from notebook>=4.4.1->widgetsnbextension~=3.5.0->ipywidgets==7.6.5) (2.11.3)\n",
            "Requirement already satisfied: pyzmq>=13 in /usr/local/lib/python3.7/dist-packages (from jupyter-client->ipykernel>=4.5.1->ipywidgets==7.6.5) (22.3.0)\n",
            "Requirement already satisfied: python-dateutil>=2.1 in /usr/local/lib/python3.7/dist-packages (from jupyter-client->ipykernel>=4.5.1->ipywidgets==7.6.5) (2.8.2)\n",
            "Requirement already satisfied: ptyprocess in /usr/local/lib/python3.7/dist-packages (from terminado>=0.8.1->notebook>=4.4.1->widgetsnbextension~=3.5.0->ipywidgets==7.6.5) (0.7.0)\n",
            "Requirement already satisfied: MarkupSafe>=0.23 in /usr/local/lib/python3.7/dist-packages (from jinja2->notebook>=4.4.1->widgetsnbextension~=3.5.0->ipywidgets==7.6.5) (2.0.1)\n",
            "Requirement already satisfied: defusedxml in /usr/local/lib/python3.7/dist-packages (from nbconvert->notebook>=4.4.1->widgetsnbextension~=3.5.0->ipywidgets==7.6.5) (0.7.1)\n",
            "Requirement already satisfied: pandocfilters>=1.4.1 in /usr/local/lib/python3.7/dist-packages (from nbconvert->notebook>=4.4.1->widgetsnbextension~=3.5.0->ipywidgets==7.6.5) (1.5.0)\n",
            "Requirement already satisfied: mistune<2,>=0.8.1 in /usr/local/lib/python3.7/dist-packages (from nbconvert->notebook>=4.4.1->widgetsnbextension~=3.5.0->ipywidgets==7.6.5) (0.8.4)\n",
            "Requirement already satisfied: bleach in /usr/local/lib/python3.7/dist-packages (from nbconvert->notebook>=4.4.1->widgetsnbextension~=3.5.0->ipywidgets==7.6.5) (4.1.0)\n",
            "Requirement already satisfied: entrypoints>=0.2.2 in /usr/local/lib/python3.7/dist-packages (from nbconvert->notebook>=4.4.1->widgetsnbextension~=3.5.0->ipywidgets==7.6.5) (0.3)\n",
            "Requirement already satisfied: testpath in /usr/local/lib/python3.7/dist-packages (from nbconvert->notebook>=4.4.1->widgetsnbextension~=3.5.0->ipywidgets==7.6.5) (0.5.0)\n",
            "Requirement already satisfied: packaging in /usr/local/lib/python3.7/dist-packages (from bleach->nbconvert->notebook>=4.4.1->widgetsnbextension~=3.5.0->ipywidgets==7.6.5) (21.3)\n",
            "Requirement already satisfied: webencodings in /usr/local/lib/python3.7/dist-packages (from bleach->nbconvert->notebook>=4.4.1->widgetsnbextension~=3.5.0->ipywidgets==7.6.5) (0.5.1)\n",
            "Requirement already satisfied: pyparsing!=3.0.5,>=2.0.2 in /usr/local/lib/python3.7/dist-packages (from packaging->bleach->nbconvert->notebook>=4.4.1->widgetsnbextension~=3.5.0->ipywidgets==7.6.5) (3.0.7)\n"
          ]
        }
      ],
      "source": [
        "!pip install jina==2.6.4\n",
        "!pip install ipywidgets==7.6.5 # Get nice widgets in the notebook"
      ]
    },
    {
      "cell_type": "markdown",
      "metadata": {
        "id": "f827Mkip-wxl"
      },
      "source": [
        "# Process data\n",
        "\n",
        "We use an open-source dataset from imgflip, originally downloaded from [Kaggle](https://www.kaggle.com/abhishtagatya/imgflipscraped-memes-caption-dataset).\n",
        "\n",
        "## Why this dataset?\n",
        "\n",
        "We chose this dataset because\n",
        "\n",
        "- It has rich metadata (caption, template name)\n",
        "- It has recognizable memes (many datasets were just random pics with overlaid Impact font)\n",
        "- It doesn't *seem* to have too many racist/sexist/\\*phobic memes 🤞\n",
        "\n",
        "## Why does this dataset kinda suck?\n",
        "\n",
        "It only contains so many memes, and new memes come out all the time. So it won't have the latest, dankest stuff."
      ]
    },
    {
      "cell_type": "markdown",
      "metadata": {
        "id": "gxLrEjoImyy6"
      },
      "source": [
        "## Download data"
      ]
    },
    {
      "cell_type": "code",
      "execution_count": 5,
      "metadata": {
        "id": "Gz6sKxwm3jw-"
      },
      "outputs": [],
      "source": [
        "!mkdir -p data\n",
        "!wget -O data/memes.json -nc https://jina-examples-datasets.s3.amazonaws.com/memes/memes.json -q"
      ]
    },
    {
      "cell_type": "markdown",
      "metadata": {
        "id": "14lerh7__Mlb"
      },
      "source": [
        "## Load data\n",
        "\n",
        "I've written a function to help load the data from the JSON file we downloaded earlier.\n",
        "\n",
        "In this function we:\n",
        "\n",
        "- Create a `DocumentArray` to hold `Documents` (using [docarray package](https://docarray.jina.ai))\n",
        "- Optionally shuffle the memes\n",
        "- Create a `Document` for each meme\n",
        "- Set `Document.text` to the template name (e.g. `\"Surprised Koala\"`) + meme caption (e.g. `\"This is poisonous. What\"`)\n",
        "- Populate some `tags` for the `Document` (e.g. absolute URL for image)"
      ]
    },
    {
      "cell_type": "code",
      "execution_count": 6,
      "metadata": {
        "id": "BiyIopC7CfqD"
      },
      "outputs": [],
      "source": [
        "from docarray import Document, DocumentArray"
      ]
    },
    {
      "cell_type": "code",
      "execution_count": 7,
      "metadata": {
        "id": "Lhx-gD5b30JJ"
      },
      "outputs": [],
      "source": [
        "import json\n",
        "def prep_docs(input_file, num_docs=None, shuffle=True):\n",
        "    docs = DocumentArray()\n",
        "    memes = []\n",
        "    print(f\"Processing {input_file}\")\n",
        "    with open(input_file, \"r\") as file:\n",
        "        raw_json = json.loads(file.read())\n",
        "\n",
        "    for template in raw_json:\n",
        "        for meme in template[\"generated_memes\"]:\n",
        "            meme[\"template\"] = template[\"name\"]\n",
        "        memes.extend(template[\"generated_memes\"])\n",
        "\n",
        "    if shuffle:\n",
        "        import random\n",
        "        random_seed = 1337\n",
        "\n",
        "        random.seed(random_seed)\n",
        "        random.shuffle(memes)\n",
        "\n",
        "    for meme in memes[:num_docs]:\n",
        "        doctext = f\"{meme['template']} - {meme['caption_text']}\"\n",
        "        doc = Document(text=doctext)\n",
        "        doc.tags = meme\n",
        "        doc.tags[\"uri_absolute\"] = \"http:\" + doc.tags[\"image_url\"]\n",
        "        docs.extend([doc])\n",
        "\n",
        "    return docs"
      ]
    },
    {
      "cell_type": "code",
      "execution_count": 8,
      "metadata": {
        "id": "rcg_sQKZ5EyA",
        "colab": {
          "base_uri": "https://localhost:8080/"
        },
        "outputId": "3a70dded-d438-4d05-ad89-1ca3feb8fa41"
      },
      "outputs": [
        {
          "output_type": "stream",
          "name": "stdout",
          "text": [
            "Processing data/memes.json\n"
          ]
        }
      ],
      "source": [
        "docs = prep_docs(\n",
        "    input_file=\"data/memes.json\", \n",
        "    num_docs=max_docs, \n",
        "    shuffle=False\n",
        ")"
      ]
    },
    {
      "cell_type": "code",
      "execution_count": 9,
      "metadata": {
        "id": "dZPPWpMEmyy-",
        "colab": {
          "base_uri": "https://localhost:8080/"
        },
        "outputId": "b40e2a06-7a97-420a-fc53-b0db596f7bac"
      },
      "outputs": [
        {
          "output_type": "stream",
          "name": "stdout",
          "text": [
            "File ‘helper.py’ already there; not retrieving.\n",
            "\n"
          ]
        }
      ],
      "source": [
        "!wget -nc https://raw.githubusercontent.com/jina-ai/workshops/main/memes/helper.py\n",
        "from helper import show_images"
      ]
    },
    {
      "cell_type": "code",
      "execution_count": 10,
      "metadata": {
        "id": "mYbWK_4Qmyy_",
        "colab": {
          "base_uri": "https://localhost:8080/",
          "height": 321,
          "referenced_widgets": [
            "db077353ae8a4533932b0d07dfbe6c75",
            "bc60c32c686245019c0649bf1dc5addc",
            "5d32443abc004b71890f58b837f91e32",
            "ee8c2e9b8c9a46dbb634136c85bc83aa",
            "b139b20e9e3c4412bb04334836b5a5a3",
            "e76091fb291c42c786e81f34d0f7b4b3",
            "1418e511d9fb4b979f57c8b09e6803b7",
            "2bd881608cb343bdbacc3f6a65c57b67",
            "e9138cb595e64cdc986d85b64e221206",
            "abe77eec368645ca9e1982393b74baa4",
            "bc2b1ef9520640f397832d57e28f404a",
            "5e488412b0ec431d8cab38ee80d67b56"
          ]
        },
        "outputId": "89393bd4-d834-49d9-d80c-e06ce044a5d8"
      },
      "outputs": [
        {
          "output_type": "display_data",
          "data": {
            "application/vnd.jupyter.widget-view+json": {
              "model_id": "db077353ae8a4533932b0d07dfbe6c75",
              "version_minor": 0,
              "version_major": 2
            },
            "text/plain": [
              "HBox(children=(Image(value=b'\\xff\\xd8\\xff\\xe0\\x00\\x10JFIF\\x00\\x01\\x01\\x00\\x00\\x01\\x00\\x01\\x00\\x00\\xff\\xdb\\x00\\…"
            ]
          },
          "metadata": {}
        }
      ],
      "source": [
        "show_images(docs)"
      ]
    },
    {
      "cell_type": "markdown",
      "metadata": {
        "id": "OnbB3ChJmyzF"
      },
      "source": [
        "### What does a Document look like?\n",
        "\n",
        "Let's take a look at a Document to get an idea of what's going on"
      ]
    },
    {
      "cell_type": "code",
      "execution_count": 11,
      "metadata": {
        "id": "6FZl4K5qmyzG",
        "colab": {
          "base_uri": "https://localhost:8080/"
        },
        "outputId": "cea404a8-7d2d-4973-f47e-23643933d107"
      },
      "outputs": [
        {
          "output_type": "stream",
          "name": "stdout",
          "text": [
            "<docarray.document.Document ('id', 'mime_type', 'tags', 'text') at 140525024536016>\n"
          ]
        }
      ],
      "source": [
        "print(docs[0])"
      ]
    },
    {
      "cell_type": "markdown",
      "metadata": {
        "id": "4l_HfcF0myzH"
      },
      "source": [
        "We can see several fields. Let's look at each of them:"
      ]
    },
    {
      "cell_type": "code",
      "execution_count": 12,
      "metadata": {
        "id": "LfQznBWEmyzH",
        "colab": {
          "base_uri": "https://localhost:8080/"
        },
        "outputId": "ed9281ec-1dfe-4080-9d77-ef483951af5d"
      },
      "outputs": [
        {
          "output_type": "stream",
          "name": "stdout",
          "text": [
            "98f9b2d2812311ecbe930242ac1c0002\n",
            "Drake Hotline Bling -  my mom when i play with my phone for 30 minutes my mom when she looks at instagram phone for two hours \n",
            "text/plain\n",
            "('image_url', '//i.imgflip.com/3xd5o0.jpg')\n",
            "('uri_absolute', 'http://i.imgflip.com/3xd5o0.jpg')\n",
            "('alt_text', 'Drake Hotline Bling | my mom when i play with my phone for 30 minutes my mom when she looks at instagram phone for two hours | image tagged in memes,drake hotline bling | made w/ Imgflip meme maker')\n",
            "('template', 'Drake Hotline Bling')\n",
            "('id', 1.0)\n",
            "('hash_id', '73c18611930ad390a4a6a7d1cd9214daba85b9f3408997e59c1e0ab63362e7db')\n",
            "('caption_text', ' my mom when i play with my phone for 30 minutes my mom when she looks at instagram phone for two hours ')\n"
          ]
        }
      ],
      "source": [
        "print(docs[0].id)                  # Unique ID for index\n",
        "print(docs[0].text)                # Content we're searching through\n",
        "print(docs[0].mime_type)           # MIME type of that content\n",
        "\n",
        "for tag in docs[0].tags.items():   # Metadata\n",
        "    print(tag)"
      ]
    },
    {
      "cell_type": "markdown",
      "metadata": {
        "id": "zaTD9ssjA6a8"
      },
      "source": [
        "### Why shuffle?\n",
        "\n",
        "The memes are arranged alphabetically by template. So if we don't shuffle we're going to get very similar memes. This makes it more difficult to search for something interesting."
      ]
    },
    {
      "cell_type": "markdown",
      "metadata": {
        "id": "4CFc1OvuBGyQ"
      },
      "source": [
        "If we shuffle we get a more interesting mix:"
      ]
    },
    {
      "cell_type": "code",
      "execution_count": 13,
      "metadata": {
        "id": "Pwal0Nwh4aOq",
        "tags": [],
        "colab": {
          "base_uri": "https://localhost:8080/"
        },
        "outputId": "f605a204-5105-442b-c492-98bd9623f651"
      },
      "outputs": [
        {
          "output_type": "stream",
          "name": "stdout",
          "text": [
            "Processing data/memes.json\n"
          ]
        }
      ],
      "source": [
        "docs = prep_docs(\n",
        "    input_file=\"data/memes.json\", \n",
        "    num_docs=max_docs, \n",
        "    shuffle=True\n",
        ")"
      ]
    },
    {
      "cell_type": "code",
      "execution_count": 14,
      "metadata": {
        "id": "S7E3d6DCmyzJ",
        "colab": {
          "base_uri": "https://localhost:8080/",
          "height": 397,
          "referenced_widgets": [
            "37fee0135fab4186ba47a6870fdb2e66",
            "95c25c0a15994f26a4f7c877e1b694d6",
            "8e60da6008c74f9f995c97f0a527f577",
            "51fd71722dea458196d1f7968cee0bab",
            "d6728eb171dd478ab6d558392431d99f",
            "6a71924f70db4b01b0507fb044184980",
            "352f686cf9eb46bd9022833ee3be038b",
            "eca8af474d154909b1ab48fe2daae963",
            "14c4a578842f473596730950b0ed5d55",
            "90304b2489074ba295a62168ed5e3a45",
            "d724611cd01c462593fa5726f514f9ec",
            "dc8aac2eec524b15b8d850477c41394e"
          ]
        },
        "outputId": "45357c20-16be-46df-a291-9d77eefaa79f"
      },
      "outputs": [
        {
          "output_type": "display_data",
          "data": {
            "application/vnd.jupyter.widget-view+json": {
              "model_id": "37fee0135fab4186ba47a6870fdb2e66",
              "version_minor": 0,
              "version_major": 2
            },
            "text/plain": [
              "HBox(children=(Image(value=b'\\xff\\xd8\\xff\\xe0\\x00\\x10JFIF\\x00\\x01\\x01\\x00\\x00\\x01\\x00\\x01\\x00\\x00\\xff\\xdb\\x00\\…"
            ]
          },
          "metadata": {}
        }
      ],
      "source": [
        "show_images(docs)"
      ]
    },
    {
      "cell_type": "markdown",
      "metadata": {
        "id": "2ms35piNmyzJ"
      },
      "source": [
        "# Index and search data with Flow"
      ]
    },
    {
      "cell_type": "markdown",
      "metadata": {
        "id": "wKuRVFJzBayO"
      },
      "source": [
        "## Set up Flow\n",
        "\n",
        "Before we index or search, we need to create our Flow. Only then can we open it as a context manager and do stuff with it."
      ]
    },
    {
      "cell_type": "code",
      "execution_count": 15,
      "metadata": {
        "id": "ae9vrzNICVbs"
      },
      "outputs": [],
      "source": [
        "from jina import Flow"
      ]
    },
    {
      "cell_type": "code",
      "execution_count": 16,
      "metadata": {
        "id": "2mxPSbjp6KwW"
      },
      "outputs": [],
      "source": [
        "flow = (\n",
        "    Flow()\n",
        "    .add(\n",
        "        name=\"meme_text_encoder\",\n",
        "        uses=\"jinahub://SpacyTextEncoder/v0.3\",                 # Using Executors from Jina Hub means we don't need to write our own!\n",
        "        uses_with={\"model_name\": \"en_core_web_md\"},\n",
        "        install_requirements=True\n",
        "    )\n",
        "    .add(\n",
        "        name=\"meme_text_indexer\",\n",
        "        uses=\"jinahub://SimpleIndexer/v0.11\",\n",
        "        install_requirements=True\n",
        "    )\n",
        ")"
      ]
    },
    {
      "cell_type": "markdown",
      "metadata": {
        "id": "t-7aUULtBdSA"
      },
      "source": [
        "## Index data with Flow\n",
        "\n",
        "We use our Flow to build an index of where all the meme text embeddings lie on an n-dimensional graph"
      ]
    },
    {
      "cell_type": "markdown",
      "metadata": {
        "id": "SPVwpOlLmyzK"
      },
      "source": [
        "**Note:** If the notebook crashes here, restart (don't factory-reset) it and run all cells again. This seems to be a bug in Google Colab."
      ]
    },
    {
      "cell_type": "code",
      "execution_count": 17,
      "metadata": {
        "id": "rpCo9it_6kLm",
        "tags": [],
        "colab": {
          "base_uri": "https://localhost:8080/",
          "height": 1000
        },
        "outputId": "2e50312c-6074-49e7-ff3e-eea078112a8d"
      },
      "outputs": [
        {
          "output_type": "display_data",
          "data": {
            "text/html": [
              "<pre style=\"white-space:pre;overflow-x:auto;line-height:normal;font-family:Menlo,'DejaVu Sans Mono',consolas,'Courier New',monospace\"></pre>\n"
            ],
            "text/plain": [
              ""
            ]
          },
          "metadata": {}
        },
        {
          "output_type": "display_data",
          "data": {
            "text/html": [
              "<pre style=\"white-space:pre;overflow-x:auto;line-height:normal;font-family:Menlo,'DejaVu Sans Mono',consolas,'Courier New',monospace\"></pre>\n"
            ],
            "text/plain": [
              ""
            ]
          },
          "metadata": {}
        },
        {
          "output_type": "stream",
          "name": "stdout",
          "text": [
            "\u001b[32m⠏\u001b[0m 2/3 waiting \u001b[33mmeme_text_encoder\u001b[0m to be ready..."
          ]
        },
        {
          "output_type": "stream",
          "name": "stderr",
          "text": [
            "\u001b[1;33mDeprecationWarning: SelectableGroups dict interface is deprecated. Use select.\u001b[0m \u001b[1;30m(raised from /usr/local/lib/python3.7/dist-packages/catalogue.py:138)\u001b[0m\n"
          ]
        },
        {
          "output_type": "stream",
          "name": "stdout",
          "text": [
            "\r                                                                                                    \r\u001b[32m⠋\u001b[0m 2/3 waiting \u001b[33mmeme_text_encoder\u001b[0m to be ready..."
          ]
        },
        {
          "output_type": "stream",
          "name": "stderr",
          "text": [
            "\u001b[1;33mDeprecationWarning: SelectableGroups dict interface is deprecated. Use select.\u001b[0m \u001b[1;30m(raised from /usr/local/lib/python3.7/dist-packages/catalogue.py:138)\u001b[0m\n",
            "\u001b[1;33mDeprecationWarning: SelectableGroups dict interface is deprecated. Use select.\u001b[0m \u001b[1;30m(raised from /usr/local/lib/python3.7/dist-packages/catalogue.py:126)\u001b[0m\n",
            "\u001b[1;33mDeprecationWarning: SelectableGroups dict interface is deprecated. Use select.\u001b[0m \u001b[1;30m(raised from /usr/local/lib/python3.7/dist-packages/catalogue.py:138)\u001b[0m\n"
          ]
        },
        {
          "output_type": "stream",
          "name": "stdout",
          "text": [
            "           Flow@655[I]:\u001b[32m🎉 Flow is ready to use!\u001b[0m\n",
            "\t🔗 Protocol: \t\t\u001b[1mGRPC\u001b[0m\n",
            "\t🏠 Local access:\t\u001b[4m\u001b[36m0.0.0.0:51151\u001b[0m\n",
            "\t🔒 Private network:\t\u001b[4m\u001b[36m172.28.0.2:51151\u001b[0m\n",
            "\t🌐 Public address:\t\u001b[4m\u001b[36m35.232.107.145:51151\u001b[0m\u001b[0m\n",
            "\u001b[32m⠋\u001b[0m Working... \u001b[32m━━━━━━━━━━━━━━━━━━━━━━━━━━━━━━━━━━━━━━━━\u001b[0m\u001b[32m╸\u001b[0m\u001b[2m\u001b[32m\u001b[0m \u001b[36m0:00:00\u001b[0m estimating... "
          ]
        },
        {
          "output_type": "stream",
          "name": "stderr",
          "text": [
            "\u001b[1;33mDeprecationWarning: \n",
            "            The syntax of traversal_path is changed to comma-separated string, '\n",
            "            that means your need to change ('r',) into `r`. '\n",
            "            The old list of string syntax will be deprecated soon\n",
            "            \u001b[0m \u001b[1;30m(raised from /usr/local/lib/python3.7/dist-packages/docarray/array/mixins/traverse.py:28)\u001b[0m\n",
            "\u001b[1;33mDeprecationWarning: SelectableGroups dict interface is deprecated. Use select.\u001b[0m \u001b[1;30m(raised from /usr/local/lib/python3.7/dist-packages/catalogue.py:138)\u001b[0m\n",
            "\u001b[1;33mDeprecationWarning: SelectableGroups dict interface is deprecated. Use select.\u001b[0m \u001b[1;30m(raised from /usr/local/lib/python3.7/dist-packages/catalogue.py:138)\u001b[0m\n",
            "\u001b[1;33mDeprecationWarning: SelectableGroups dict interface is deprecated. Use select.\u001b[0m \u001b[1;30m(raised from /usr/local/lib/python3.7/dist-packages/catalogue.py:138)\u001b[0m\n",
            "\u001b[1;33mDeprecationWarning: SelectableGroups dict interface is deprecated. Use select.\u001b[0m \u001b[1;30m(raised from /usr/local/lib/python3.7/dist-packages/catalogue.py:138)\u001b[0m\n",
            "\u001b[1;33mDeprecationWarning: SelectableGroups dict interface is deprecated. Use select.\u001b[0m \u001b[1;30m(raised from /usr/local/lib/python3.7/dist-packages/catalogue.py:138)\u001b[0m\n",
            "\u001b[1;33mDeprecationWarning: SelectableGroups dict interface is deprecated. Use select.\u001b[0m \u001b[1;30m(raised from /usr/local/lib/python3.7/dist-packages/catalogue.py:138)\u001b[0m\n",
            "\u001b[1;33mDeprecationWarning: SelectableGroups dict interface is deprecated. Use select.\u001b[0m \u001b[1;30m(raised from /usr/local/lib/python3.7/dist-packages/catalogue.py:138)\u001b[0m\n",
            "\u001b[1;33mDeprecationWarning: SelectableGroups dict interface is deprecated. Use select.\u001b[0m \u001b[1;30m(raised from /usr/local/lib/python3.7/dist-packages/catalogue.py:138)\u001b[0m\n",
            "\u001b[1;33mDeprecationWarning: SelectableGroups dict interface is deprecated. Use select.\u001b[0m \u001b[1;30m(raised from /usr/local/lib/python3.7/dist-packages/catalogue.py:138)\u001b[0m\n",
            "\u001b[1;33mDeprecationWarning: SelectableGroups dict interface is deprecated. Use select.\u001b[0m \u001b[1;30m(raised from /usr/local/lib/python3.7/dist-packages/catalogue.py:138)\u001b[0m\n",
            "\u001b[1;33mDeprecationWarning: SelectableGroups dict interface is deprecated. Use select.\u001b[0m \u001b[1;30m(raised from /usr/local/lib/python3.7/dist-packages/catalogue.py:138)\u001b[0m\n",
            "\u001b[1;33mDeprecationWarning: SelectableGroups dict interface is deprecated. Use select.\u001b[0m \u001b[1;30m(raised from /usr/local/lib/python3.7/dist-packages/catalogue.py:138)\u001b[0m\n",
            "\u001b[1;33mDeprecationWarning: SelectableGroups dict interface is deprecated. Use select.\u001b[0m \u001b[1;30m(raised from /usr/local/lib/python3.7/dist-packages/catalogue.py:138)\u001b[0m\n",
            "\u001b[1;33mDeprecationWarning: SelectableGroups dict interface is deprecated. Use select.\u001b[0m \u001b[1;30m(raised from /usr/local/lib/python3.7/dist-packages/catalogue.py:138)\u001b[0m\n",
            "\u001b[1;33mDeprecationWarning: SelectableGroups dict interface is deprecated. Use select.\u001b[0m \u001b[1;30m(raised from /usr/local/lib/python3.7/dist-packages/catalogue.py:138)\u001b[0m\n",
            "\u001b[1;33mDeprecationWarning: SelectableGroups dict interface is deprecated. Use select.\u001b[0m \u001b[1;30m(raised from /usr/local/lib/python3.7/dist-packages/catalogue.py:138)\u001b[0m\n",
            "\u001b[1;33mDeprecationWarning: SelectableGroups dict interface is deprecated. Use select.\u001b[0m \u001b[1;30m(raised from /usr/local/lib/python3.7/dist-packages/catalogue.py:138)\u001b[0m\n",
            "\u001b[1;33mDeprecationWarning: SelectableGroups dict interface is deprecated. Use select.\u001b[0m \u001b[1;30m(raised from /usr/local/lib/python3.7/dist-packages/catalogue.py:138)\u001b[0m\n",
            "\u001b[1;33mDeprecationWarning: SelectableGroups dict interface is deprecated. Use select.\u001b[0m \u001b[1;30m(raised from /usr/local/lib/python3.7/dist-packages/catalogue.py:138)\u001b[0m\n",
            "\u001b[1;33mDeprecationWarning: SelectableGroups dict interface is deprecated. Use select.\u001b[0m \u001b[1;30m(raised from /usr/local/lib/python3.7/dist-packages/catalogue.py:138)\u001b[0m\n",
            "\u001b[1;33mDeprecationWarning: SelectableGroups dict interface is deprecated. Use select.\u001b[0m \u001b[1;30m(raised from /usr/local/lib/python3.7/dist-packages/catalogue.py:138)\u001b[0m\n",
            "\u001b[1;33mDeprecationWarning: SelectableGroups dict interface is deprecated. Use select.\u001b[0m \u001b[1;30m(raised from /usr/local/lib/python3.7/dist-packages/catalogue.py:138)\u001b[0m\n",
            "\u001b[1;33mDeprecationWarning: SelectableGroups dict interface is deprecated. Use select.\u001b[0m \u001b[1;30m(raised from /usr/local/lib/python3.7/dist-packages/catalogue.py:138)\u001b[0m\n",
            "\u001b[1;33mDeprecationWarning: SelectableGroups dict interface is deprecated. Use select.\u001b[0m \u001b[1;30m(raised from /usr/local/lib/python3.7/dist-packages/catalogue.py:138)\u001b[0m\n",
            "\u001b[1;33mDeprecationWarning: SelectableGroups dict interface is deprecated. Use select.\u001b[0m \u001b[1;30m(raised from /usr/local/lib/python3.7/dist-packages/catalogue.py:138)\u001b[0m\n"
          ]
        },
        {
          "output_type": "stream",
          "name": "stdout",
          "text": [
            "\r                                                                                                    \r\u001b[32m⠙\u001b[0m Working... \u001b[32m━━━━━━━━━━━━━━━━━━━━━━━━━━━━━━━━━━━━━━━━\u001b[0m\u001b[32m╸\u001b[0m\u001b[2m\u001b[32m\u001b[0m \u001b[36m0:00:00\u001b[0m estimating... "
          ]
        },
        {
          "output_type": "stream",
          "name": "stderr",
          "text": [
            "\u001b[1;33mDeprecationWarning: SelectableGroups dict interface is deprecated. Use select.\u001b[0m \u001b[1;30m(raised from /usr/local/lib/python3.7/dist-packages/catalogue.py:138)\u001b[0m\n",
            "\u001b[1;33mDeprecationWarning: SelectableGroups dict interface is deprecated. Use select.\u001b[0m \u001b[1;30m(raised from /usr/local/lib/python3.7/dist-packages/catalogue.py:138)\u001b[0m\n",
            "\u001b[1;33mDeprecationWarning: SelectableGroups dict interface is deprecated. Use select.\u001b[0m \u001b[1;30m(raised from /usr/local/lib/python3.7/dist-packages/catalogue.py:138)\u001b[0m\n",
            "\u001b[1;33mDeprecationWarning: SelectableGroups dict interface is deprecated. Use select.\u001b[0m \u001b[1;30m(raised from /usr/local/lib/python3.7/dist-packages/catalogue.py:138)\u001b[0m\n",
            "\u001b[1;33mDeprecationWarning: SelectableGroups dict interface is deprecated. Use select.\u001b[0m \u001b[1;30m(raised from /usr/local/lib/python3.7/dist-packages/catalogue.py:138)\u001b[0m\n",
            "\u001b[1;33mDeprecationWarning: SelectableGroups dict interface is deprecated. Use select.\u001b[0m \u001b[1;30m(raised from /usr/local/lib/python3.7/dist-packages/catalogue.py:138)\u001b[0m\n",
            "\u001b[1;33mDeprecationWarning: SelectableGroups dict interface is deprecated. Use select.\u001b[0m \u001b[1;30m(raised from /usr/local/lib/python3.7/dist-packages/catalogue.py:138)\u001b[0m\n",
            "\u001b[1;33mDeprecationWarning: SelectableGroups dict interface is deprecated. Use select.\u001b[0m \u001b[1;30m(raised from /usr/local/lib/python3.7/dist-packages/catalogue.py:138)\u001b[0m\n",
            "\u001b[1;33mDeprecationWarning: SelectableGroups dict interface is deprecated. Use select.\u001b[0m \u001b[1;30m(raised from /usr/local/lib/python3.7/dist-packages/catalogue.py:138)\u001b[0m\n",
            "\u001b[1;33mDeprecationWarning: SelectableGroups dict interface is deprecated. Use select.\u001b[0m \u001b[1;30m(raised from /usr/local/lib/python3.7/dist-packages/catalogue.py:138)\u001b[0m\n",
            "\u001b[1;33mDeprecationWarning: SelectableGroups dict interface is deprecated. Use select.\u001b[0m \u001b[1;30m(raised from /usr/local/lib/python3.7/dist-packages/catalogue.py:138)\u001b[0m\n",
            "\u001b[1;33mDeprecationWarning: SelectableGroups dict interface is deprecated. Use select.\u001b[0m \u001b[1;30m(raised from /usr/local/lib/python3.7/dist-packages/catalogue.py:138)\u001b[0m\n",
            "\u001b[1;33mDeprecationWarning: SelectableGroups dict interface is deprecated. Use select.\u001b[0m \u001b[1;30m(raised from /usr/local/lib/python3.7/dist-packages/catalogue.py:138)\u001b[0m\n",
            "\u001b[1;33mDeprecationWarning: SelectableGroups dict interface is deprecated. Use select.\u001b[0m \u001b[1;30m(raised from /usr/local/lib/python3.7/dist-packages/catalogue.py:138)\u001b[0m\n",
            "\u001b[1;33mDeprecationWarning: SelectableGroups dict interface is deprecated. Use select.\u001b[0m \u001b[1;30m(raised from /usr/local/lib/python3.7/dist-packages/catalogue.py:138)\u001b[0m\n",
            "\u001b[1;33mDeprecationWarning: SelectableGroups dict interface is deprecated. Use select.\u001b[0m \u001b[1;30m(raised from /usr/local/lib/python3.7/dist-packages/catalogue.py:138)\u001b[0m\n",
            "\u001b[1;33mDeprecationWarning: SelectableGroups dict interface is deprecated. Use select.\u001b[0m \u001b[1;30m(raised from /usr/local/lib/python3.7/dist-packages/catalogue.py:138)\u001b[0m\n",
            "\u001b[1;33mDeprecationWarning: SelectableGroups dict interface is deprecated. Use select.\u001b[0m \u001b[1;30m(raised from /usr/local/lib/python3.7/dist-packages/catalogue.py:138)\u001b[0m\n",
            "\u001b[1;33mDeprecationWarning: SelectableGroups dict interface is deprecated. Use select.\u001b[0m \u001b[1;30m(raised from /usr/local/lib/python3.7/dist-packages/catalogue.py:138)\u001b[0m\n",
            "\u001b[1;33mDeprecationWarning: SelectableGroups dict interface is deprecated. Use select.\u001b[0m \u001b[1;30m(raised from /usr/local/lib/python3.7/dist-packages/catalogue.py:138)\u001b[0m\n",
            "\u001b[1;33mDeprecationWarning: SelectableGroups dict interface is deprecated. Use select.\u001b[0m \u001b[1;30m(raised from /usr/local/lib/python3.7/dist-packages/catalogue.py:138)\u001b[0m\n",
            "\u001b[1;33mDeprecationWarning: SelectableGroups dict interface is deprecated. Use select.\u001b[0m \u001b[1;30m(raised from /usr/local/lib/python3.7/dist-packages/catalogue.py:138)\u001b[0m\n",
            "\u001b[1;33mDeprecationWarning: SelectableGroups dict interface is deprecated. Use select.\u001b[0m \u001b[1;30m(raised from /usr/local/lib/python3.7/dist-packages/catalogue.py:138)\u001b[0m\n",
            "\u001b[1;33mDeprecationWarning: SelectableGroups dict interface is deprecated. Use select.\u001b[0m \u001b[1;30m(raised from /usr/local/lib/python3.7/dist-packages/catalogue.py:138)\u001b[0m\n",
            "\u001b[1;33mDeprecationWarning: SelectableGroups dict interface is deprecated. Use select.\u001b[0m \u001b[1;30m(raised from /usr/local/lib/python3.7/dist-packages/catalogue.py:138)\u001b[0m\n",
            "\u001b[1;33mDeprecationWarning: SelectableGroups dict interface is deprecated. Use select.\u001b[0m \u001b[1;30m(raised from /usr/local/lib/python3.7/dist-packages/catalogue.py:138)\u001b[0m\n",
            "\u001b[1;33mDeprecationWarning: SelectableGroups dict interface is deprecated. Use select.\u001b[0m \u001b[1;30m(raised from /usr/local/lib/python3.7/dist-packages/catalogue.py:138)\u001b[0m\n",
            "\u001b[1;33mDeprecationWarning: SelectableGroups dict interface is deprecated. Use select.\u001b[0m \u001b[1;30m(raised from /usr/local/lib/python3.7/dist-packages/catalogue.py:138)\u001b[0m\n"
          ]
        },
        {
          "output_type": "stream",
          "name": "stdout",
          "text": [
            "\r                                                                                                    \r\u001b[32m⠹\u001b[0m Working... \u001b[32m━━━━━━━━━━━━━━━━━━━━━━━━━━━━━━━━━━━━━━━━\u001b[0m\u001b[32m╸\u001b[0m\u001b[2m\u001b[32m\u001b[0m \u001b[36m0:00:00\u001b[0m estimating... "
          ]
        },
        {
          "output_type": "stream",
          "name": "stderr",
          "text": [
            "\u001b[1;33mDeprecationWarning: SelectableGroups dict interface is deprecated. Use select.\u001b[0m \u001b[1;30m(raised from /usr/local/lib/python3.7/dist-packages/catalogue.py:138)\u001b[0m\n",
            "\u001b[1;33mDeprecationWarning: SelectableGroups dict interface is deprecated. Use select.\u001b[0m \u001b[1;30m(raised from /usr/local/lib/python3.7/dist-packages/catalogue.py:138)\u001b[0m\n",
            "\u001b[1;33mDeprecationWarning: SelectableGroups dict interface is deprecated. Use select.\u001b[0m \u001b[1;30m(raised from /usr/local/lib/python3.7/dist-packages/catalogue.py:138)\u001b[0m\n",
            "\u001b[1;33mDeprecationWarning: SelectableGroups dict interface is deprecated. Use select.\u001b[0m \u001b[1;30m(raised from /usr/local/lib/python3.7/dist-packages/catalogue.py:138)\u001b[0m\n",
            "\u001b[1;33mDeprecationWarning: SelectableGroups dict interface is deprecated. Use select.\u001b[0m \u001b[1;30m(raised from /usr/local/lib/python3.7/dist-packages/catalogue.py:138)\u001b[0m\n",
            "\u001b[1;33mDeprecationWarning: SelectableGroups dict interface is deprecated. Use select.\u001b[0m \u001b[1;30m(raised from /usr/local/lib/python3.7/dist-packages/catalogue.py:138)\u001b[0m\n",
            "\u001b[1;33mDeprecationWarning: SelectableGroups dict interface is deprecated. Use select.\u001b[0m \u001b[1;30m(raised from /usr/local/lib/python3.7/dist-packages/catalogue.py:138)\u001b[0m\n",
            "\u001b[1;33mDeprecationWarning: SelectableGroups dict interface is deprecated. Use select.\u001b[0m \u001b[1;30m(raised from /usr/local/lib/python3.7/dist-packages/catalogue.py:138)\u001b[0m\n",
            "\u001b[1;33mDeprecationWarning: SelectableGroups dict interface is deprecated. Use select.\u001b[0m \u001b[1;30m(raised from /usr/local/lib/python3.7/dist-packages/catalogue.py:138)\u001b[0m\n",
            "\u001b[1;33mDeprecationWarning: SelectableGroups dict interface is deprecated. Use select.\u001b[0m \u001b[1;30m(raised from /usr/local/lib/python3.7/dist-packages/catalogue.py:138)\u001b[0m\n",
            "\u001b[1;33mDeprecationWarning: SelectableGroups dict interface is deprecated. Use select.\u001b[0m \u001b[1;30m(raised from /usr/local/lib/python3.7/dist-packages/catalogue.py:138)\u001b[0m\n"
          ]
        },
        {
          "output_type": "stream",
          "name": "stdout",
          "text": [
            "\r                                                                                                    \r\u001b[32m⠸\u001b[0m Working... \u001b[32m━━━━━━━━━━━━━━━━━━━━━━━━━━━━━━━━━━━━━━━━\u001b[0m\u001b[32m╸\u001b[0m\u001b[2m\u001b[32m\u001b[0m \u001b[36m0:00:00\u001b[0m estimating... "
          ]
        },
        {
          "output_type": "stream",
          "name": "stderr",
          "text": [
            "\u001b[1;33mDeprecationWarning: SelectableGroups dict interface is deprecated. Use select.\u001b[0m \u001b[1;30m(raised from /usr/local/lib/python3.7/dist-packages/catalogue.py:138)\u001b[0m\n",
            "\u001b[1;33mDeprecationWarning: SelectableGroups dict interface is deprecated. Use select.\u001b[0m \u001b[1;30m(raised from /usr/local/lib/python3.7/dist-packages/catalogue.py:138)\u001b[0m\n",
            "\u001b[1;33mDeprecationWarning: SelectableGroups dict interface is deprecated. Use select.\u001b[0m \u001b[1;30m(raised from /usr/local/lib/python3.7/dist-packages/catalogue.py:138)\u001b[0m\n",
            "\u001b[1;33mDeprecationWarning: SelectableGroups dict interface is deprecated. Use select.\u001b[0m \u001b[1;30m(raised from /usr/local/lib/python3.7/dist-packages/catalogue.py:138)\u001b[0m\n"
          ]
        },
        {
          "output_type": "stream",
          "name": "stdout",
          "text": [
            "\r                                                                                                    \r\u001b[32m⠼\u001b[0m Working... \u001b[32m━━━━━━━━━━━━━━━━━━━━━━━━━━━━━━━━━━━━━━━━\u001b[0m\u001b[32m╸\u001b[0m\u001b[2m\u001b[32m\u001b[0m \u001b[36m0:00:00\u001b[0m estimating... "
          ]
        },
        {
          "output_type": "stream",
          "name": "stderr",
          "text": [
            "\u001b[1;33mDeprecationWarning: SelectableGroups dict interface is deprecated. Use select.\u001b[0m \u001b[1;30m(raised from /usr/local/lib/python3.7/dist-packages/catalogue.py:138)\u001b[0m\n",
            "\u001b[1;33mDeprecationWarning: SelectableGroups dict interface is deprecated. Use select.\u001b[0m \u001b[1;30m(raised from /usr/local/lib/python3.7/dist-packages/catalogue.py:138)\u001b[0m\n",
            "\u001b[1;33mDeprecationWarning: SelectableGroups dict interface is deprecated. Use select.\u001b[0m \u001b[1;30m(raised from /usr/local/lib/python3.7/dist-packages/catalogue.py:138)\u001b[0m\n",
            "\u001b[1;33mDeprecationWarning: SelectableGroups dict interface is deprecated. Use select.\u001b[0m \u001b[1;30m(raised from /usr/local/lib/python3.7/dist-packages/catalogue.py:138)\u001b[0m\n",
            "\u001b[1;33mDeprecationWarning: SelectableGroups dict interface is deprecated. Use select.\u001b[0m \u001b[1;30m(raised from /usr/local/lib/python3.7/dist-packages/catalogue.py:138)\u001b[0m\n",
            "\u001b[1;33mDeprecationWarning: SelectableGroups dict interface is deprecated. Use select.\u001b[0m \u001b[1;30m(raised from /usr/local/lib/python3.7/dist-packages/catalogue.py:138)\u001b[0m\n",
            "\u001b[1;33mDeprecationWarning: SelectableGroups dict interface is deprecated. Use select.\u001b[0m \u001b[1;30m(raised from /usr/local/lib/python3.7/dist-packages/catalogue.py:138)\u001b[0m\n",
            "\u001b[1;33mDeprecationWarning: SelectableGroups dict interface is deprecated. Use select.\u001b[0m \u001b[1;30m(raised from /usr/local/lib/python3.7/dist-packages/catalogue.py:138)\u001b[0m\n",
            "\u001b[1;33mDeprecationWarning: SelectableGroups dict interface is deprecated. Use select.\u001b[0m \u001b[1;30m(raised from /usr/local/lib/python3.7/dist-packages/catalogue.py:138)\u001b[0m\n",
            "\u001b[1;33mDeprecationWarning: SelectableGroups dict interface is deprecated. Use select.\u001b[0m \u001b[1;30m(raised from /usr/local/lib/python3.7/dist-packages/catalogue.py:138)\u001b[0m\n",
            "\u001b[1;33mDeprecationWarning: SelectableGroups dict interface is deprecated. Use select.\u001b[0m \u001b[1;30m(raised from /usr/local/lib/python3.7/dist-packages/catalogue.py:138)\u001b[0m\n",
            "\u001b[1;33mDeprecationWarning: SelectableGroups dict interface is deprecated. Use select.\u001b[0m \u001b[1;30m(raised from /usr/local/lib/python3.7/dist-packages/catalogue.py:138)\u001b[0m\n",
            "\u001b[1;33mDeprecationWarning: SelectableGroups dict interface is deprecated. Use select.\u001b[0m \u001b[1;30m(raised from /usr/local/lib/python3.7/dist-packages/catalogue.py:138)\u001b[0m\n",
            "\u001b[1;33mDeprecationWarning: SelectableGroups dict interface is deprecated. Use select.\u001b[0m \u001b[1;30m(raised from /usr/local/lib/python3.7/dist-packages/catalogue.py:138)\u001b[0m\n",
            "\u001b[1;33mDeprecationWarning: SelectableGroups dict interface is deprecated. Use select.\u001b[0m \u001b[1;30m(raised from /usr/local/lib/python3.7/dist-packages/catalogue.py:138)\u001b[0m\n",
            "\u001b[1;33mDeprecationWarning: SelectableGroups dict interface is deprecated. Use select.\u001b[0m \u001b[1;30m(raised from /usr/local/lib/python3.7/dist-packages/catalogue.py:138)\u001b[0m\n",
            "\u001b[1;33mDeprecationWarning: SelectableGroups dict interface is deprecated. Use select.\u001b[0m \u001b[1;30m(raised from /usr/local/lib/python3.7/dist-packages/catalogue.py:138)\u001b[0m\n",
            "\u001b[1;33mDeprecationWarning: SelectableGroups dict interface is deprecated. Use select.\u001b[0m \u001b[1;30m(raised from /usr/local/lib/python3.7/dist-packages/catalogue.py:138)\u001b[0m\n",
            "\u001b[1;33mDeprecationWarning: SelectableGroups dict interface is deprecated. Use select.\u001b[0m \u001b[1;30m(raised from /usr/local/lib/python3.7/dist-packages/catalogue.py:138)\u001b[0m\n",
            "\u001b[1;33mDeprecationWarning: SelectableGroups dict interface is deprecated. Use select.\u001b[0m \u001b[1;30m(raised from /usr/local/lib/python3.7/dist-packages/catalogue.py:138)\u001b[0m\n",
            "\u001b[1;33mDeprecationWarning: SelectableGroups dict interface is deprecated. Use select.\u001b[0m \u001b[1;30m(raised from /usr/local/lib/python3.7/dist-packages/catalogue.py:138)\u001b[0m\n",
            "\u001b[1;33mDeprecationWarning: SelectableGroups dict interface is deprecated. Use select.\u001b[0m \u001b[1;30m(raised from /usr/local/lib/python3.7/dist-packages/catalogue.py:138)\u001b[0m\n"
          ]
        },
        {
          "output_type": "stream",
          "name": "stdout",
          "text": [
            "\r                                                                                                    \r\u001b[32m⠴\u001b[0m Working... \u001b[32m━━━━━━━━━━━━━━━━━━━━━━━━━━━━━━━━━━━━━━━━\u001b[0m\u001b[32m╸\u001b[0m\u001b[2m\u001b[32m\u001b[0m \u001b[36m0:00:00\u001b[0m estimating... "
          ]
        },
        {
          "output_type": "stream",
          "name": "stderr",
          "text": [
            "\u001b[1;33mDeprecationWarning: SelectableGroups dict interface is deprecated. Use select.\u001b[0m \u001b[1;30m(raised from /usr/local/lib/python3.7/dist-packages/catalogue.py:138)\u001b[0m\n",
            "\u001b[1;33mDeprecationWarning: SelectableGroups dict interface is deprecated. Use select.\u001b[0m \u001b[1;30m(raised from /usr/local/lib/python3.7/dist-packages/catalogue.py:138)\u001b[0m\n",
            "\u001b[1;33mDeprecationWarning: SelectableGroups dict interface is deprecated. Use select.\u001b[0m \u001b[1;30m(raised from /usr/local/lib/python3.7/dist-packages/catalogue.py:138)\u001b[0m\n",
            "\u001b[1;33mDeprecationWarning: SelectableGroups dict interface is deprecated. Use select.\u001b[0m \u001b[1;30m(raised from /usr/local/lib/python3.7/dist-packages/catalogue.py:138)\u001b[0m\n",
            "\u001b[1;33mDeprecationWarning: SelectableGroups dict interface is deprecated. Use select.\u001b[0m \u001b[1;30m(raised from /usr/local/lib/python3.7/dist-packages/catalogue.py:138)\u001b[0m\n",
            "\u001b[1;33mDeprecationWarning: SelectableGroups dict interface is deprecated. Use select.\u001b[0m \u001b[1;30m(raised from /usr/local/lib/python3.7/dist-packages/catalogue.py:138)\u001b[0m\n",
            "\u001b[1;33mDeprecationWarning: SelectableGroups dict interface is deprecated. Use select.\u001b[0m \u001b[1;30m(raised from /usr/local/lib/python3.7/dist-packages/catalogue.py:138)\u001b[0m\n",
            "\u001b[1;33mDeprecationWarning: SelectableGroups dict interface is deprecated. Use select.\u001b[0m \u001b[1;30m(raised from /usr/local/lib/python3.7/dist-packages/catalogue.py:138)\u001b[0m\n",
            "\u001b[1;33mDeprecationWarning: SelectableGroups dict interface is deprecated. Use select.\u001b[0m \u001b[1;30m(raised from /usr/local/lib/python3.7/dist-packages/catalogue.py:138)\u001b[0m\n",
            "\u001b[1;33mDeprecationWarning: SelectableGroups dict interface is deprecated. Use select.\u001b[0m \u001b[1;30m(raised from /usr/local/lib/python3.7/dist-packages/catalogue.py:138)\u001b[0m\n"
          ]
        },
        {
          "output_type": "stream",
          "name": "stdout",
          "text": [
            "\u001b[32m⠇\u001b[0m       DONE \u001b[33m━━━━━━━━━━━━━━━━━━━━━━━━━━━━━━━━━━━━━━━━\u001b[0m\u001b[33m╸\u001b[0m\u001b[2m\u001b[33m\u001b[0m \u001b[36m0:00:00\u001b[0m 100% ETA: 0 seconds \u001b[K80 steps done in 0 seconds\n",
            "DONE!\n"
          ]
        }
      ],
      "source": [
        "with flow:\n",
        "  indexed_docs = flow.index(\n",
        "      inputs=docs,\n",
        "      request_size=64,\n",
        "      show_progress=True,\n",
        "      return_results=True\n",
        "  )\n",
        "print(\"DONE!\")"
      ]
    },
    {
      "cell_type": "markdown",
      "metadata": {
        "id": "1KluvYoImyzK"
      },
      "source": [
        "## What did we just do?\n",
        "\n",
        "Indexing our Documents:\n",
        "\n",
        "- Generated *vector embeddings* for each Document, generated by a neural network. These provide a representation of the meaning of each piece of text, instead of it just being a string of characters\n",
        "- Stored the embeddings and metadata of each Document in an on-disk index (`./workspace`) for fast lookup later\n",
        "\n",
        "Let's look a Document after it's been through the indexing Flow. We can see its vector embedding stored as a Numpy ndarray in its `.embedding` attribute:"
      ]
    },
    {
      "cell_type": "code",
      "execution_count": 18,
      "metadata": {
        "id": "RRRTFw3vmyzL",
        "colab": {
          "base_uri": "https://localhost:8080/"
        },
        "outputId": "f6bddfb0-c144-48e9-d41f-a4b415b7b5dd"
      },
      "outputs": [
        {
          "output_type": "stream",
          "name": "stdout",
          "text": [
            "dense {\n",
            "  buffer: \"5\\301!=Q0\\347=U\\337\\275\\2750H\\363\\274\\306\\366\\033>\\014\\353\\301<\\233\\276\\316\\274p+\\275=&\\221\\265<\\375\\376\\t@\\250rV\\276\\0069\\013\\275\\225\\003\\207=\\234l\\013\\276\\216Xk\\274\\355\\314\\354\\274\\323\\201\\335\\275[\\320t?\\212B1\\275\\321\\265\\355\\275P\\263\\331\\273\\2069)\\275\\350\\350?;\\035\\\"\\224\\275\\216=\\265=\\216\\325\\346\\274\\205\\t7=(\\201\\352:Z\\373\\017=\\005\\253C=*\\270\\252\\275\\301\\247\\004>`\\007\\334\\275\\332_z=vU4>\\017\\356_\\275&\\'\\222=\\325\\325(=\\272\\'r\\275m\\315\\002=\\232\\320\\214\\274\\220\\366\\341=9\\266\\241\\275\\330\\251b\\275\\273*\\200=\\313\\200\\253=f\\021I\\275\\310\\377H\\274Eb\\222\\274F\\2377\\275\\223W\\211\\275\\200\\177\\032=\\007A\\313\\2752\\277\\260<\\305\\220t=\\307\\320\\r\\274\\371(\\350<4\\t\\036\\276\\031\\300\\327=\\035\\251R\\275/,L=\\251n2\\275\\335m\\364\\275\\273R_>\\331\\343:=\\264\\002\\347\\275\\013\\226\\270\\2752Dn<\\026h\\227\\274\\351\\005\\000>\\370h\\361<\\315\\247\\204\\274\\014\\030+>#\\341\\201<\\303\\344~=:c\\306=\\315\\211\\201<\\241O\\250\\275\\350k\\316\\275:\\306A>\\320=\\263={\\341<>\\2548\\024\\276l\\025m\\274j\\205\\000\\275N)8\\276\\374\\262\\232\\276OL\\236\\2744H\\307=X<]=\\333\\362)\\276BK\\007=T\\262\\306\\2756\\362\\200=\\357\\032\\002>@]O;\\224\\207\\025<\\271_\\372\\275L\\357m=|\\267e\\275\\200(\\003;\\370\\255\\016=v\\333\\235\\275\\274\\225%\\274\\224\\305Z>\\330L\\024\\277E\\266\\371=[\\354z=\\350n\\353=\\351\\024\\030\\275\\36314>\\226?W\\276,GX<\\354h,\\275)\\345\\325\\274\\036\\2357=\\206c\\262\\275\\260\\320o=\\031\\322\\327\\275\\314?Z<\\212\\021\\352<\\223\\034\\036\\276\\212\\354\\307\\275\\256\\264\\217\\275\\246\\355\\370;\\210\\266\\234:\\364\\245s\\275\\261\\025\\217\\275\\274\\335\\275=3\\207\\000\\275N\\0205=d\\347\\201\\275Z\\226\\033\\275IB\\021\\276\\232\\000\\374<\\326\\245?<\\321\\224\\320\\274O=\\032=\\240%\\0019~\\355\\020<a\\367\\232\\277\\355 \\030<\\026\\212\\346=\\'\\254\\315<\\013\\332F=\\220\\345\\321\\275|j\\375\\274H\\\\\\241<\\334\\\\=>\\364\\356\\324<\\030\\013\\363\\274\\300;?:\\352Oa=\\234\\344\\223\\275\\364\\003\\316\\275\\234\\342q\\273\\2764\\\\\\274=H+=>\\325\\217\\275[\\322\\001\\276\\200\\323s\\275\\212U\\315=,\\333\\033\\275.\\004?\\274\\270\\\\-\\275w6\\336\\275`s\\200=\\3263\\016\\275\\251\\3554>\\0179\\316<\\302\\333\\266;\\335\\256\\217\\274\\212>\\367<\\267\\266\\332\\275\\017\\253;\\276h\\013\\220=\\3620\\257\\275\\024\\361\\222\\275\\236\\036\\033=\\027O\\221<g\\201J=\\332=\\245\\275\\214\\254\\273\\275P\\343f\\275L\\377\\006\\276h\\227\\250;\\220t\\220\\275Z\\023\\325\\275X\\010O=\\350\\263\\232\\275\\257z\\312\\275\\214\\276\\005\\275FT\\360\\275\\177m\\363<\\tC\\261\\274t\\177\\371=S\\313q<\\037\\r\\277<^\\376\\276\\275\\323\\202K=\\237\\322\\272\\273B\\326\\243\\274o@\\363\\274\\002d\\350<\\004\\232/>\\207_\\332\\274\\363J\\311=2\\335B\\275~\\024\\331\\275R\\300\\246\\274s\\025\\335\\275\\364U\\266\\275\\344\\267\\207\\2759\\324\\212\\276T\\0053=\\330A\\375=,\\216\\324\\274.\\214\\230\\275\\366\\203\\226\\275;\\016e\\275\\371\\274\\204=\\1776s\\274B\\315\\344\\275\\006s\\373;\\246n^\\274\\335a;\\275\\211M\\361\\274\\002\\373i>\\244B\\231;\\247\\2148<JA\\017\\275\\245\\261\\010>\\344\\352\\025=\\343\\343\\307=y\\374S\\275\\247\\377\\277\\275\\373\\215\\344\\275\\005\\307u\\275\\212\\255\\006\\276\\226\\017e=\\262\\260\\013=\\026\\244\\327=\\264\\367\\325\\273^HS=U\\270\\313=\\310Y\\374\\275\\347\\024\\031\\276fV\\213\\275\\305\\275\\333\\275\\311\\327\\020=\\301\\336P\\275\\364\\305\\202\\275\\377\\007\\360\\274\\250j\\\"\\275P6\\005<\\351-\\213>cV\\010>\\206Z\\357=\\336\\203?\\274\\343mq=2m\\007>rg4>\\262\\024@<:\\005\\251=\\004t\\001=Ouh\\276\\276TL\\275\\037i@\\274.\\342\\206>\\275\\347J=e\\277\\377<lK\\217\\2751\\010\\007\\276\\003\\333]\\276\\216\\022\\241\\275\\360e\\340<Cv\\256=Rk\\340=\\324\\375Y=sxo>\\276\\330G>&9\\014=m\\246\\302\\275\\037\\244\\035\\275\\2277\\267<%\\201I\\276\\312\\216\\t>\\200\\321\\326\\275\\255\\314\\364=&s \\274~\\267\\237\\276\\354\\274y\\275;O+\\274\\334\\201e\\276\\320\\366\\316\\275\\260tz=2\\036\\031=(\\222\\237\\274\\207\\026\\265\\274\\353\\t\\212=\"\n",
            "  shape: 300\n",
            "  dtype: \"<f4\"\n",
            "}\n",
            "cls_name: \"numpy\"\n",
            "\n"
          ]
        }
      ],
      "source": [
        "print(indexed_docs[0].data.docs[0].embedding) # We dig deep because there's a lot of additional metadata we don't care about right now"
      ]
    },
    {
      "cell_type": "markdown",
      "metadata": {
        "id": "06Ptw8_kBgxc"
      },
      "source": [
        "## Search data with Flow"
      ]
    },
    {
      "cell_type": "markdown",
      "metadata": {
        "id": "9mzdknMamyzL"
      },
      "source": [
        "### Create query Document\n",
        "\n",
        "A Document is the fundamental thing that Jina works with. So anything we pass or out needs to be a Document"
      ]
    },
    {
      "cell_type": "code",
      "execution_count": 19,
      "metadata": {
        "id": "jtcvp5bi9Nbt"
      },
      "outputs": [],
      "source": [
        "search_term = \"school\"\n",
        "query_doc = Document(text=search_term)"
      ]
    },
    {
      "cell_type": "markdown",
      "metadata": {
        "id": "aXu7GeMymyzM"
      },
      "source": [
        "### Send query Document to Flow\n",
        "\n",
        "This Flow will:\n",
        "\n",
        "- Generate a vector embedding for our query Document based on its text\n",
        "- Compare that embedding with the 50 embeddings (one for each meme) we stored in our index earlier\n",
        "- Return the closest matches based on Document (i.e. text) similarity"
      ]
    },
    {
      "cell_type": "code",
      "execution_count": 20,
      "metadata": {
        "id": "MB9RxYsR8saM",
        "colab": {
          "base_uri": "https://localhost:8080/"
        },
        "outputId": "2b25ed26-b224-4944-ba87-2d8f2b4fa637"
      },
      "outputs": [
        {
          "output_type": "stream",
          "name": "stdout",
          "text": [
            "\u001b[32m⠴\u001b[0m 2/3 waiting \u001b[33mmeme_text_encoder\u001b[0m to be ready..."
          ]
        },
        {
          "output_type": "stream",
          "name": "stderr",
          "text": [
            "\u001b[1;33mDeprecationWarning: SelectableGroups dict interface is deprecated. Use select.\u001b[0m \u001b[1;30m(raised from /usr/local/lib/python3.7/dist-packages/catalogue.py:138)\u001b[0m\n"
          ]
        },
        {
          "output_type": "stream",
          "name": "stdout",
          "text": [
            "\r                                                                                                    \r\u001b[32m⠦\u001b[0m 2/3 waiting \u001b[33mmeme_text_encoder\u001b[0m to be ready..."
          ]
        },
        {
          "output_type": "stream",
          "name": "stderr",
          "text": [
            "\u001b[1;33mDeprecationWarning: SelectableGroups dict interface is deprecated. Use select.\u001b[0m \u001b[1;30m(raised from /usr/local/lib/python3.7/dist-packages/catalogue.py:138)\u001b[0m\n",
            "\u001b[1;33mDeprecationWarning: SelectableGroups dict interface is deprecated. Use select.\u001b[0m \u001b[1;30m(raised from /usr/local/lib/python3.7/dist-packages/catalogue.py:126)\u001b[0m\n",
            "\u001b[1;33mDeprecationWarning: SelectableGroups dict interface is deprecated. Use select.\u001b[0m \u001b[1;30m(raised from /usr/local/lib/python3.7/dist-packages/catalogue.py:138)\u001b[0m\n"
          ]
        },
        {
          "output_type": "stream",
          "name": "stdout",
          "text": [
            "           Flow@655[I]:\u001b[32m🎉 Flow is ready to use!\u001b[0m\n",
            "\t🔗 Protocol: \t\t\u001b[1mGRPC\u001b[0m\n",
            "\t🏠 Local access:\t\u001b[4m\u001b[36m0.0.0.0:54393\u001b[0m\n",
            "\t🔒 Private network:\t\u001b[4m\u001b[36m172.28.0.2:54393\u001b[0m\n",
            "\t🌐 Public address:\t\u001b[4m\u001b[36m35.232.107.145:54393\u001b[0m\u001b[0m\n"
          ]
        },
        {
          "output_type": "stream",
          "name": "stderr",
          "text": [
            "\u001b[1;33mDeprecationWarning: \n",
            "            The syntax of traversal_path is changed to comma-separated string, '\n",
            "            that means your need to change ('r',) into `r`. '\n",
            "            The old list of string syntax will be deprecated soon\n",
            "            \u001b[0m \u001b[1;30m(raised from /usr/local/lib/python3.7/dist-packages/docarray/array/mixins/traverse.py:28)\u001b[0m\n",
            "\u001b[1;33mDeprecationWarning: SelectableGroups dict interface is deprecated. Use select.\u001b[0m \u001b[1;30m(raised from /usr/local/lib/python3.7/dist-packages/catalogue.py:138)\u001b[0m\n",
            "\u001b[1;33mDeprecationWarning: SelectableGroups dict interface is deprecated. Use select.\u001b[0m \u001b[1;30m(raised from /usr/local/lib/python3.7/dist-packages/catalogue.py:138)\u001b[0m\n"
          ]
        },
        {
          "output_type": "stream",
          "name": "stdout",
          "text": [
            "DONE!\n"
          ]
        }
      ],
      "source": [
        "with flow:\n",
        "  response = flow.search(inputs=query_doc, return_results=True)\n",
        "print(\"DONE!\")"
      ]
    },
    {
      "cell_type": "markdown",
      "metadata": {
        "id": "eQqo6KhZmyzM"
      },
      "source": [
        "### Extract matches\n",
        "\n",
        "A Jina response contains a lot of extra data. We just want the DocumentArray with matching Documents"
      ]
    },
    {
      "cell_type": "code",
      "execution_count": 21,
      "metadata": {
        "id": "lE-fipho9eTj"
      },
      "outputs": [],
      "source": [
        "matches = response[0].docs[0].matches"
      ]
    },
    {
      "cell_type": "code",
      "execution_count": 22,
      "metadata": {
        "id": "rXplIL8JmyzM",
        "colab": {
          "base_uri": "https://localhost:8080/",
          "height": 321,
          "referenced_widgets": [
            "e20d8323beec44adbf153d8d76a108cf",
            "2417987b317c486da98a019f37cf44c1",
            "30172a49d74448d290faf898096d67cf",
            "686b9ae8ef1840678132b574cff77796",
            "e1513559b0314dac8b3508835677a924",
            "d357cb146c6d4feeb5ace8a1563a8601",
            "ab7fb16da82d436d83f0a02b6e982f1b",
            "4987fe6ac0d94f6f9a2bb2962b412eb7",
            "b41f4d8934324e159a2f247aa3e8418c",
            "cf6e4c14468747bca2fe3ea1435757de",
            "a6c514b1b2ff4211a24e5bb513770eb5",
            "8d0b6f4376994556a82a094d7a2f1eee"
          ]
        },
        "outputId": "25a08e39-fb81-4d97-e808-9b8324177c16"
      },
      "outputs": [
        {
          "output_type": "display_data",
          "data": {
            "application/vnd.jupyter.widget-view+json": {
              "model_id": "e20d8323beec44adbf153d8d76a108cf",
              "version_minor": 0,
              "version_major": 2
            },
            "text/plain": [
              "HBox(children=(Image(value=b'\\xff\\xd8\\xff\\xe0\\x00\\x10JFIF\\x00\\x01\\x01\\x00\\x00H\\x00H\\x00\\x00\\xff\\xdb\\x00C\\x00\\x…"
            ]
          },
          "metadata": {}
        }
      ],
      "source": [
        "show_images(matches)"
      ]
    },
    {
      "cell_type": "markdown",
      "metadata": {
        "id": "twHoDflQBwju"
      },
      "source": [
        "## Using this IRL\n",
        "\n",
        "How can we take this out of a notebook and build a real-world application with it?"
      ]
    },
    {
      "cell_type": "markdown",
      "metadata": {
        "id": "8BMGGJCZYBQr"
      },
      "source": [
        "### Not use a notebook\n",
        "\n",
        "Notebooks are great for demo's or scientific research. Not so great for real-world applications.\n",
        "\n",
        "### Use a better indexer\n",
        "\n",
        "Jina's **[PQLiteIndexer](https://hub.jina.ai/executor/pn1qofsj)** offers powerful features like pre-filtering based on metadata. In our notebook we just use [SimpleIndexer](https://hub.jina.ai/executor/zb38xlt4) which is nice for demonstrations but lacks PQLite's power.\n",
        "\n",
        "### Use a RESTful API\n",
        "\n",
        "#### In notebook: gRPC\n",
        "\n",
        "```python\n",
        "with flow:\n",
        "    flow.search(Document(text=\"foo\"))\n",
        "```\n",
        "\n",
        "#### In Python: RESTful or gRPC\n",
        "\n",
        "```python\n",
        "with flow:\n",
        "    flow.protocol = \"http\"\n",
        "    flow.port_expose = 12345\n",
        "    flow.block()\n",
        "```\n",
        "\n",
        "### Use Dockerized Executors...\n",
        "\n",
        "This means having to install fewer requirements locally.\n",
        "\n",
        "\n",
        "#### In notebook: `jinahub://foo`\n",
        "\n",
        "```python\n",
        "flow = (\n",
        "    Flow()\n",
        "    .add(...)\n",
        "    .add(\n",
        "        uses=\"jinahub://SimpleIndexer\",\n",
        "    )\n",
        ")\n",
        "```\n",
        "\n",
        "#### In Python: `jinahub+docker://foo`\n",
        "\n",
        "```python\n",
        "flow = (\n",
        "    Flow()\n",
        "    .add(...)\n",
        "    .add(\n",
        "        uses=\"jinahub+docker://SimpleIndexer\",\n",
        "    )\n",
        ")\n",
        "```\n",
        "\n",
        "### ...or wrap everything in Docker\n",
        "\n",
        "See an example [docker-compose.yml](https://github.com/alexcg1/jina-meme-search/blob/main/docker-compose.yml)"
      ]
    }
  ],
  "metadata": {
    "accelerator": "GPU",
    "colab": {
      "collapsed_sections": [],
      "name": "Copy of Meme search with text",
      "provenance": [],
      "include_colab_link": true
    },
    "kernelspec": {
      "display_name": "Python 3",
      "language": "python",
      "name": "python3"
    },
    "language_info": {
      "codemirror_mode": {
        "name": "ipython",
        "version": 3
      },
      "file_extension": ".py",
      "mimetype": "text/x-python",
      "name": "python",
      "nbconvert_exporter": "python",
      "pygments_lexer": "ipython3",
      "version": "3.7.12"
    },
    "toc-showmarkdowntxt": false,
    "widgets": {
      "application/vnd.jupyter.widget-state+json": {
        "db077353ae8a4533932b0d07dfbe6c75": {
          "model_module": "@jupyter-widgets/controls",
          "model_name": "HBoxModel",
          "model_module_version": "1.5.0",
          "state": {
            "_view_name": "HBoxView",
            "_dom_classes": [],
            "_model_name": "HBoxModel",
            "_view_module": "@jupyter-widgets/controls",
            "_model_module_version": "1.5.0",
            "_view_count": null,
            "_view_module_version": "1.5.0",
            "box_style": "",
            "layout": "IPY_MODEL_bc60c32c686245019c0649bf1dc5addc",
            "_model_module": "@jupyter-widgets/controls",
            "children": [
              "IPY_MODEL_5d32443abc004b71890f58b837f91e32",
              "IPY_MODEL_ee8c2e9b8c9a46dbb634136c85bc83aa",
              "IPY_MODEL_b139b20e9e3c4412bb04334836b5a5a3",
              "IPY_MODEL_e76091fb291c42c786e81f34d0f7b4b3",
              "IPY_MODEL_1418e511d9fb4b979f57c8b09e6803b7"
            ]
          }
        },
        "bc60c32c686245019c0649bf1dc5addc": {
          "model_module": "@jupyter-widgets/base",
          "model_name": "LayoutModel",
          "model_module_version": "1.2.0",
          "state": {
            "_view_name": "LayoutView",
            "grid_template_rows": null,
            "right": null,
            "justify_content": null,
            "_view_module": "@jupyter-widgets/base",
            "overflow": null,
            "_model_module_version": "1.2.0",
            "_view_count": null,
            "flex_flow": null,
            "width": null,
            "min_width": null,
            "border": null,
            "align_items": null,
            "bottom": null,
            "_model_module": "@jupyter-widgets/base",
            "top": null,
            "grid_column": null,
            "overflow_y": null,
            "overflow_x": null,
            "grid_auto_flow": null,
            "grid_area": null,
            "grid_template_columns": null,
            "flex": null,
            "_model_name": "LayoutModel",
            "justify_items": null,
            "grid_row": null,
            "max_height": null,
            "align_content": null,
            "visibility": null,
            "align_self": null,
            "height": null,
            "min_height": null,
            "padding": null,
            "grid_auto_rows": null,
            "grid_gap": null,
            "max_width": null,
            "order": null,
            "_view_module_version": "1.2.0",
            "grid_template_areas": null,
            "object_position": null,
            "object_fit": null,
            "grid_auto_columns": null,
            "margin": null,
            "display": null,
            "left": null
          }
        },
        "5d32443abc004b71890f58b837f91e32": {
          "model_module": "@jupyter-widgets/controls",
          "model_name": "ImageModel",
          "model_module_version": "1.5.0",
          "state": {
            "_view_name": "ImageView",
            "_dom_classes": [],
            "_model_name": "ImageModel",
            "format": "jpg",
            "_view_module": "@jupyter-widgets/controls",
            "_model_module_version": "1.5.0",
            "_view_count": null,
            "width": "300",
            "_view_module_version": "1.5.0",
            "layout": "IPY_MODEL_2bd881608cb343bdbacc3f6a65c57b67",
            "height": "400",
            "_model_module": "@jupyter-widgets/controls"
          }
        },
        "ee8c2e9b8c9a46dbb634136c85bc83aa": {
          "model_module": "@jupyter-widgets/controls",
          "model_name": "ImageModel",
          "model_module_version": "1.5.0",
          "state": {
            "_view_name": "ImageView",
            "_dom_classes": [],
            "_model_name": "ImageModel",
            "format": "jpg",
            "_view_module": "@jupyter-widgets/controls",
            "_model_module_version": "1.5.0",
            "_view_count": null,
            "width": "300",
            "_view_module_version": "1.5.0",
            "layout": "IPY_MODEL_e9138cb595e64cdc986d85b64e221206",
            "height": "400",
            "_model_module": "@jupyter-widgets/controls"
          }
        },
        "b139b20e9e3c4412bb04334836b5a5a3": {
          "model_module": "@jupyter-widgets/controls",
          "model_name": "ImageModel",
          "model_module_version": "1.5.0",
          "state": {
            "_view_name": "ImageView",
            "_dom_classes": [],
            "_model_name": "ImageModel",
            "format": "jpg",
            "_view_module": "@jupyter-widgets/controls",
            "_model_module_version": "1.5.0",
            "_view_count": null,
            "width": "300",
            "_view_module_version": "1.5.0",
            "layout": "IPY_MODEL_abe77eec368645ca9e1982393b74baa4",
            "height": "400",
            "_model_module": "@jupyter-widgets/controls"
          }
        },
        "e76091fb291c42c786e81f34d0f7b4b3": {
          "model_module": "@jupyter-widgets/controls",
          "model_name": "ImageModel",
          "model_module_version": "1.5.0",
          "state": {
            "_view_name": "ImageView",
            "_dom_classes": [],
            "_model_name": "ImageModel",
            "format": "jpg",
            "_view_module": "@jupyter-widgets/controls",
            "_model_module_version": "1.5.0",
            "_view_count": null,
            "width": "300",
            "_view_module_version": "1.5.0",
            "layout": "IPY_MODEL_bc2b1ef9520640f397832d57e28f404a",
            "height": "400",
            "_model_module": "@jupyter-widgets/controls"
          }
        },
        "1418e511d9fb4b979f57c8b09e6803b7": {
          "model_module": "@jupyter-widgets/controls",
          "model_name": "ImageModel",
          "model_module_version": "1.5.0",
          "state": {
            "_view_name": "ImageView",
            "_dom_classes": [],
            "_model_name": "ImageModel",
            "format": "jpg",
            "_view_module": "@jupyter-widgets/controls",
            "_model_module_version": "1.5.0",
            "_view_count": null,
            "width": "300",
            "_view_module_version": "1.5.0",
            "layout": "IPY_MODEL_5e488412b0ec431d8cab38ee80d67b56",
            "height": "400",
            "_model_module": "@jupyter-widgets/controls"
          }
        },
        "2bd881608cb343bdbacc3f6a65c57b67": {
          "model_module": "@jupyter-widgets/base",
          "model_name": "LayoutModel",
          "model_module_version": "1.2.0",
          "state": {
            "_view_name": "LayoutView",
            "grid_template_rows": null,
            "right": null,
            "justify_content": null,
            "_view_module": "@jupyter-widgets/base",
            "overflow": null,
            "_model_module_version": "1.2.0",
            "_view_count": null,
            "flex_flow": null,
            "width": null,
            "min_width": null,
            "border": null,
            "align_items": null,
            "bottom": null,
            "_model_module": "@jupyter-widgets/base",
            "top": null,
            "grid_column": null,
            "overflow_y": null,
            "overflow_x": null,
            "grid_auto_flow": null,
            "grid_area": null,
            "grid_template_columns": null,
            "flex": null,
            "_model_name": "LayoutModel",
            "justify_items": null,
            "grid_row": null,
            "max_height": null,
            "align_content": null,
            "visibility": null,
            "align_self": null,
            "height": null,
            "min_height": null,
            "padding": null,
            "grid_auto_rows": null,
            "grid_gap": null,
            "max_width": null,
            "order": null,
            "_view_module_version": "1.2.0",
            "grid_template_areas": null,
            "object_position": null,
            "object_fit": null,
            "grid_auto_columns": null,
            "margin": null,
            "display": null,
            "left": null
          }
        },
        "e9138cb595e64cdc986d85b64e221206": {
          "model_module": "@jupyter-widgets/base",
          "model_name": "LayoutModel",
          "model_module_version": "1.2.0",
          "state": {
            "_view_name": "LayoutView",
            "grid_template_rows": null,
            "right": null,
            "justify_content": null,
            "_view_module": "@jupyter-widgets/base",
            "overflow": null,
            "_model_module_version": "1.2.0",
            "_view_count": null,
            "flex_flow": null,
            "width": null,
            "min_width": null,
            "border": null,
            "align_items": null,
            "bottom": null,
            "_model_module": "@jupyter-widgets/base",
            "top": null,
            "grid_column": null,
            "overflow_y": null,
            "overflow_x": null,
            "grid_auto_flow": null,
            "grid_area": null,
            "grid_template_columns": null,
            "flex": null,
            "_model_name": "LayoutModel",
            "justify_items": null,
            "grid_row": null,
            "max_height": null,
            "align_content": null,
            "visibility": null,
            "align_self": null,
            "height": null,
            "min_height": null,
            "padding": null,
            "grid_auto_rows": null,
            "grid_gap": null,
            "max_width": null,
            "order": null,
            "_view_module_version": "1.2.0",
            "grid_template_areas": null,
            "object_position": null,
            "object_fit": null,
            "grid_auto_columns": null,
            "margin": null,
            "display": null,
            "left": null
          }
        },
        "abe77eec368645ca9e1982393b74baa4": {
          "model_module": "@jupyter-widgets/base",
          "model_name": "LayoutModel",
          "model_module_version": "1.2.0",
          "state": {
            "_view_name": "LayoutView",
            "grid_template_rows": null,
            "right": null,
            "justify_content": null,
            "_view_module": "@jupyter-widgets/base",
            "overflow": null,
            "_model_module_version": "1.2.0",
            "_view_count": null,
            "flex_flow": null,
            "width": null,
            "min_width": null,
            "border": null,
            "align_items": null,
            "bottom": null,
            "_model_module": "@jupyter-widgets/base",
            "top": null,
            "grid_column": null,
            "overflow_y": null,
            "overflow_x": null,
            "grid_auto_flow": null,
            "grid_area": null,
            "grid_template_columns": null,
            "flex": null,
            "_model_name": "LayoutModel",
            "justify_items": null,
            "grid_row": null,
            "max_height": null,
            "align_content": null,
            "visibility": null,
            "align_self": null,
            "height": null,
            "min_height": null,
            "padding": null,
            "grid_auto_rows": null,
            "grid_gap": null,
            "max_width": null,
            "order": null,
            "_view_module_version": "1.2.0",
            "grid_template_areas": null,
            "object_position": null,
            "object_fit": null,
            "grid_auto_columns": null,
            "margin": null,
            "display": null,
            "left": null
          }
        },
        "bc2b1ef9520640f397832d57e28f404a": {
          "model_module": "@jupyter-widgets/base",
          "model_name": "LayoutModel",
          "model_module_version": "1.2.0",
          "state": {
            "_view_name": "LayoutView",
            "grid_template_rows": null,
            "right": null,
            "justify_content": null,
            "_view_module": "@jupyter-widgets/base",
            "overflow": null,
            "_model_module_version": "1.2.0",
            "_view_count": null,
            "flex_flow": null,
            "width": null,
            "min_width": null,
            "border": null,
            "align_items": null,
            "bottom": null,
            "_model_module": "@jupyter-widgets/base",
            "top": null,
            "grid_column": null,
            "overflow_y": null,
            "overflow_x": null,
            "grid_auto_flow": null,
            "grid_area": null,
            "grid_template_columns": null,
            "flex": null,
            "_model_name": "LayoutModel",
            "justify_items": null,
            "grid_row": null,
            "max_height": null,
            "align_content": null,
            "visibility": null,
            "align_self": null,
            "height": null,
            "min_height": null,
            "padding": null,
            "grid_auto_rows": null,
            "grid_gap": null,
            "max_width": null,
            "order": null,
            "_view_module_version": "1.2.0",
            "grid_template_areas": null,
            "object_position": null,
            "object_fit": null,
            "grid_auto_columns": null,
            "margin": null,
            "display": null,
            "left": null
          }
        },
        "5e488412b0ec431d8cab38ee80d67b56": {
          "model_module": "@jupyter-widgets/base",
          "model_name": "LayoutModel",
          "model_module_version": "1.2.0",
          "state": {
            "_view_name": "LayoutView",
            "grid_template_rows": null,
            "right": null,
            "justify_content": null,
            "_view_module": "@jupyter-widgets/base",
            "overflow": null,
            "_model_module_version": "1.2.0",
            "_view_count": null,
            "flex_flow": null,
            "width": null,
            "min_width": null,
            "border": null,
            "align_items": null,
            "bottom": null,
            "_model_module": "@jupyter-widgets/base",
            "top": null,
            "grid_column": null,
            "overflow_y": null,
            "overflow_x": null,
            "grid_auto_flow": null,
            "grid_area": null,
            "grid_template_columns": null,
            "flex": null,
            "_model_name": "LayoutModel",
            "justify_items": null,
            "grid_row": null,
            "max_height": null,
            "align_content": null,
            "visibility": null,
            "align_self": null,
            "height": null,
            "min_height": null,
            "padding": null,
            "grid_auto_rows": null,
            "grid_gap": null,
            "max_width": null,
            "order": null,
            "_view_module_version": "1.2.0",
            "grid_template_areas": null,
            "object_position": null,
            "object_fit": null,
            "grid_auto_columns": null,
            "margin": null,
            "display": null,
            "left": null
          }
        },
        "37fee0135fab4186ba47a6870fdb2e66": {
          "model_module": "@jupyter-widgets/controls",
          "model_name": "HBoxModel",
          "model_module_version": "1.5.0",
          "state": {
            "_view_name": "HBoxView",
            "_dom_classes": [],
            "_model_name": "HBoxModel",
            "_view_module": "@jupyter-widgets/controls",
            "_model_module_version": "1.5.0",
            "_view_count": null,
            "_view_module_version": "1.5.0",
            "box_style": "",
            "layout": "IPY_MODEL_95c25c0a15994f26a4f7c877e1b694d6",
            "_model_module": "@jupyter-widgets/controls",
            "children": [
              "IPY_MODEL_8e60da6008c74f9f995c97f0a527f577",
              "IPY_MODEL_51fd71722dea458196d1f7968cee0bab",
              "IPY_MODEL_d6728eb171dd478ab6d558392431d99f",
              "IPY_MODEL_6a71924f70db4b01b0507fb044184980",
              "IPY_MODEL_352f686cf9eb46bd9022833ee3be038b"
            ]
          }
        },
        "95c25c0a15994f26a4f7c877e1b694d6": {
          "model_module": "@jupyter-widgets/base",
          "model_name": "LayoutModel",
          "model_module_version": "1.2.0",
          "state": {
            "_view_name": "LayoutView",
            "grid_template_rows": null,
            "right": null,
            "justify_content": null,
            "_view_module": "@jupyter-widgets/base",
            "overflow": null,
            "_model_module_version": "1.2.0",
            "_view_count": null,
            "flex_flow": null,
            "width": null,
            "min_width": null,
            "border": null,
            "align_items": null,
            "bottom": null,
            "_model_module": "@jupyter-widgets/base",
            "top": null,
            "grid_column": null,
            "overflow_y": null,
            "overflow_x": null,
            "grid_auto_flow": null,
            "grid_area": null,
            "grid_template_columns": null,
            "flex": null,
            "_model_name": "LayoutModel",
            "justify_items": null,
            "grid_row": null,
            "max_height": null,
            "align_content": null,
            "visibility": null,
            "align_self": null,
            "height": null,
            "min_height": null,
            "padding": null,
            "grid_auto_rows": null,
            "grid_gap": null,
            "max_width": null,
            "order": null,
            "_view_module_version": "1.2.0",
            "grid_template_areas": null,
            "object_position": null,
            "object_fit": null,
            "grid_auto_columns": null,
            "margin": null,
            "display": null,
            "left": null
          }
        },
        "8e60da6008c74f9f995c97f0a527f577": {
          "model_module": "@jupyter-widgets/controls",
          "model_name": "ImageModel",
          "model_module_version": "1.5.0",
          "state": {
            "_view_name": "ImageView",
            "_dom_classes": [],
            "_model_name": "ImageModel",
            "format": "jpg",
            "_view_module": "@jupyter-widgets/controls",
            "_model_module_version": "1.5.0",
            "_view_count": null,
            "width": "300",
            "_view_module_version": "1.5.0",
            "layout": "IPY_MODEL_eca8af474d154909b1ab48fe2daae963",
            "height": "400",
            "_model_module": "@jupyter-widgets/controls"
          }
        },
        "51fd71722dea458196d1f7968cee0bab": {
          "model_module": "@jupyter-widgets/controls",
          "model_name": "ImageModel",
          "model_module_version": "1.5.0",
          "state": {
            "_view_name": "ImageView",
            "_dom_classes": [],
            "_model_name": "ImageModel",
            "format": "jpg",
            "_view_module": "@jupyter-widgets/controls",
            "_model_module_version": "1.5.0",
            "_view_count": null,
            "width": "300",
            "_view_module_version": "1.5.0",
            "layout": "IPY_MODEL_14c4a578842f473596730950b0ed5d55",
            "height": "400",
            "_model_module": "@jupyter-widgets/controls"
          }
        },
        "d6728eb171dd478ab6d558392431d99f": {
          "model_module": "@jupyter-widgets/controls",
          "model_name": "ImageModel",
          "model_module_version": "1.5.0",
          "state": {
            "_view_name": "ImageView",
            "_dom_classes": [],
            "_model_name": "ImageModel",
            "format": "jpg",
            "_view_module": "@jupyter-widgets/controls",
            "_model_module_version": "1.5.0",
            "_view_count": null,
            "width": "300",
            "_view_module_version": "1.5.0",
            "layout": "IPY_MODEL_90304b2489074ba295a62168ed5e3a45",
            "height": "400",
            "_model_module": "@jupyter-widgets/controls"
          }
        },
        "6a71924f70db4b01b0507fb044184980": {
          "model_module": "@jupyter-widgets/controls",
          "model_name": "ImageModel",
          "model_module_version": "1.5.0",
          "state": {
            "_view_name": "ImageView",
            "_dom_classes": [],
            "_model_name": "ImageModel",
            "format": "jpg",
            "_view_module": "@jupyter-widgets/controls",
            "_model_module_version": "1.5.0",
            "_view_count": null,
            "width": "300",
            "_view_module_version": "1.5.0",
            "layout": "IPY_MODEL_d724611cd01c462593fa5726f514f9ec",
            "height": "400",
            "_model_module": "@jupyter-widgets/controls"
          }
        },
        "352f686cf9eb46bd9022833ee3be038b": {
          "model_module": "@jupyter-widgets/controls",
          "model_name": "ImageModel",
          "model_module_version": "1.5.0",
          "state": {
            "_view_name": "ImageView",
            "_dom_classes": [],
            "_model_name": "ImageModel",
            "format": "jpg",
            "_view_module": "@jupyter-widgets/controls",
            "_model_module_version": "1.5.0",
            "_view_count": null,
            "width": "300",
            "_view_module_version": "1.5.0",
            "layout": "IPY_MODEL_dc8aac2eec524b15b8d850477c41394e",
            "height": "400",
            "_model_module": "@jupyter-widgets/controls"
          }
        },
        "eca8af474d154909b1ab48fe2daae963": {
          "model_module": "@jupyter-widgets/base",
          "model_name": "LayoutModel",
          "model_module_version": "1.2.0",
          "state": {
            "_view_name": "LayoutView",
            "grid_template_rows": null,
            "right": null,
            "justify_content": null,
            "_view_module": "@jupyter-widgets/base",
            "overflow": null,
            "_model_module_version": "1.2.0",
            "_view_count": null,
            "flex_flow": null,
            "width": null,
            "min_width": null,
            "border": null,
            "align_items": null,
            "bottom": null,
            "_model_module": "@jupyter-widgets/base",
            "top": null,
            "grid_column": null,
            "overflow_y": null,
            "overflow_x": null,
            "grid_auto_flow": null,
            "grid_area": null,
            "grid_template_columns": null,
            "flex": null,
            "_model_name": "LayoutModel",
            "justify_items": null,
            "grid_row": null,
            "max_height": null,
            "align_content": null,
            "visibility": null,
            "align_self": null,
            "height": null,
            "min_height": null,
            "padding": null,
            "grid_auto_rows": null,
            "grid_gap": null,
            "max_width": null,
            "order": null,
            "_view_module_version": "1.2.0",
            "grid_template_areas": null,
            "object_position": null,
            "object_fit": null,
            "grid_auto_columns": null,
            "margin": null,
            "display": null,
            "left": null
          }
        },
        "14c4a578842f473596730950b0ed5d55": {
          "model_module": "@jupyter-widgets/base",
          "model_name": "LayoutModel",
          "model_module_version": "1.2.0",
          "state": {
            "_view_name": "LayoutView",
            "grid_template_rows": null,
            "right": null,
            "justify_content": null,
            "_view_module": "@jupyter-widgets/base",
            "overflow": null,
            "_model_module_version": "1.2.0",
            "_view_count": null,
            "flex_flow": null,
            "width": null,
            "min_width": null,
            "border": null,
            "align_items": null,
            "bottom": null,
            "_model_module": "@jupyter-widgets/base",
            "top": null,
            "grid_column": null,
            "overflow_y": null,
            "overflow_x": null,
            "grid_auto_flow": null,
            "grid_area": null,
            "grid_template_columns": null,
            "flex": null,
            "_model_name": "LayoutModel",
            "justify_items": null,
            "grid_row": null,
            "max_height": null,
            "align_content": null,
            "visibility": null,
            "align_self": null,
            "height": null,
            "min_height": null,
            "padding": null,
            "grid_auto_rows": null,
            "grid_gap": null,
            "max_width": null,
            "order": null,
            "_view_module_version": "1.2.0",
            "grid_template_areas": null,
            "object_position": null,
            "object_fit": null,
            "grid_auto_columns": null,
            "margin": null,
            "display": null,
            "left": null
          }
        },
        "90304b2489074ba295a62168ed5e3a45": {
          "model_module": "@jupyter-widgets/base",
          "model_name": "LayoutModel",
          "model_module_version": "1.2.0",
          "state": {
            "_view_name": "LayoutView",
            "grid_template_rows": null,
            "right": null,
            "justify_content": null,
            "_view_module": "@jupyter-widgets/base",
            "overflow": null,
            "_model_module_version": "1.2.0",
            "_view_count": null,
            "flex_flow": null,
            "width": null,
            "min_width": null,
            "border": null,
            "align_items": null,
            "bottom": null,
            "_model_module": "@jupyter-widgets/base",
            "top": null,
            "grid_column": null,
            "overflow_y": null,
            "overflow_x": null,
            "grid_auto_flow": null,
            "grid_area": null,
            "grid_template_columns": null,
            "flex": null,
            "_model_name": "LayoutModel",
            "justify_items": null,
            "grid_row": null,
            "max_height": null,
            "align_content": null,
            "visibility": null,
            "align_self": null,
            "height": null,
            "min_height": null,
            "padding": null,
            "grid_auto_rows": null,
            "grid_gap": null,
            "max_width": null,
            "order": null,
            "_view_module_version": "1.2.0",
            "grid_template_areas": null,
            "object_position": null,
            "object_fit": null,
            "grid_auto_columns": null,
            "margin": null,
            "display": null,
            "left": null
          }
        },
        "d724611cd01c462593fa5726f514f9ec": {
          "model_module": "@jupyter-widgets/base",
          "model_name": "LayoutModel",
          "model_module_version": "1.2.0",
          "state": {
            "_view_name": "LayoutView",
            "grid_template_rows": null,
            "right": null,
            "justify_content": null,
            "_view_module": "@jupyter-widgets/base",
            "overflow": null,
            "_model_module_version": "1.2.0",
            "_view_count": null,
            "flex_flow": null,
            "width": null,
            "min_width": null,
            "border": null,
            "align_items": null,
            "bottom": null,
            "_model_module": "@jupyter-widgets/base",
            "top": null,
            "grid_column": null,
            "overflow_y": null,
            "overflow_x": null,
            "grid_auto_flow": null,
            "grid_area": null,
            "grid_template_columns": null,
            "flex": null,
            "_model_name": "LayoutModel",
            "justify_items": null,
            "grid_row": null,
            "max_height": null,
            "align_content": null,
            "visibility": null,
            "align_self": null,
            "height": null,
            "min_height": null,
            "padding": null,
            "grid_auto_rows": null,
            "grid_gap": null,
            "max_width": null,
            "order": null,
            "_view_module_version": "1.2.0",
            "grid_template_areas": null,
            "object_position": null,
            "object_fit": null,
            "grid_auto_columns": null,
            "margin": null,
            "display": null,
            "left": null
          }
        },
        "dc8aac2eec524b15b8d850477c41394e": {
          "model_module": "@jupyter-widgets/base",
          "model_name": "LayoutModel",
          "model_module_version": "1.2.0",
          "state": {
            "_view_name": "LayoutView",
            "grid_template_rows": null,
            "right": null,
            "justify_content": null,
            "_view_module": "@jupyter-widgets/base",
            "overflow": null,
            "_model_module_version": "1.2.0",
            "_view_count": null,
            "flex_flow": null,
            "width": null,
            "min_width": null,
            "border": null,
            "align_items": null,
            "bottom": null,
            "_model_module": "@jupyter-widgets/base",
            "top": null,
            "grid_column": null,
            "overflow_y": null,
            "overflow_x": null,
            "grid_auto_flow": null,
            "grid_area": null,
            "grid_template_columns": null,
            "flex": null,
            "_model_name": "LayoutModel",
            "justify_items": null,
            "grid_row": null,
            "max_height": null,
            "align_content": null,
            "visibility": null,
            "align_self": null,
            "height": null,
            "min_height": null,
            "padding": null,
            "grid_auto_rows": null,
            "grid_gap": null,
            "max_width": null,
            "order": null,
            "_view_module_version": "1.2.0",
            "grid_template_areas": null,
            "object_position": null,
            "object_fit": null,
            "grid_auto_columns": null,
            "margin": null,
            "display": null,
            "left": null
          }
        },
        "e20d8323beec44adbf153d8d76a108cf": {
          "model_module": "@jupyter-widgets/controls",
          "model_name": "HBoxModel",
          "model_module_version": "1.5.0",
          "state": {
            "_view_name": "HBoxView",
            "_dom_classes": [],
            "_model_name": "HBoxModel",
            "_view_module": "@jupyter-widgets/controls",
            "_model_module_version": "1.5.0",
            "_view_count": null,
            "_view_module_version": "1.5.0",
            "box_style": "",
            "layout": "IPY_MODEL_2417987b317c486da98a019f37cf44c1",
            "_model_module": "@jupyter-widgets/controls",
            "children": [
              "IPY_MODEL_30172a49d74448d290faf898096d67cf",
              "IPY_MODEL_686b9ae8ef1840678132b574cff77796",
              "IPY_MODEL_e1513559b0314dac8b3508835677a924",
              "IPY_MODEL_d357cb146c6d4feeb5ace8a1563a8601",
              "IPY_MODEL_ab7fb16da82d436d83f0a02b6e982f1b"
            ]
          }
        },
        "2417987b317c486da98a019f37cf44c1": {
          "model_module": "@jupyter-widgets/base",
          "model_name": "LayoutModel",
          "model_module_version": "1.2.0",
          "state": {
            "_view_name": "LayoutView",
            "grid_template_rows": null,
            "right": null,
            "justify_content": null,
            "_view_module": "@jupyter-widgets/base",
            "overflow": null,
            "_model_module_version": "1.2.0",
            "_view_count": null,
            "flex_flow": null,
            "width": null,
            "min_width": null,
            "border": null,
            "align_items": null,
            "bottom": null,
            "_model_module": "@jupyter-widgets/base",
            "top": null,
            "grid_column": null,
            "overflow_y": null,
            "overflow_x": null,
            "grid_auto_flow": null,
            "grid_area": null,
            "grid_template_columns": null,
            "flex": null,
            "_model_name": "LayoutModel",
            "justify_items": null,
            "grid_row": null,
            "max_height": null,
            "align_content": null,
            "visibility": null,
            "align_self": null,
            "height": null,
            "min_height": null,
            "padding": null,
            "grid_auto_rows": null,
            "grid_gap": null,
            "max_width": null,
            "order": null,
            "_view_module_version": "1.2.0",
            "grid_template_areas": null,
            "object_position": null,
            "object_fit": null,
            "grid_auto_columns": null,
            "margin": null,
            "display": null,
            "left": null
          }
        },
        "30172a49d74448d290faf898096d67cf": {
          "model_module": "@jupyter-widgets/controls",
          "model_name": "ImageModel",
          "model_module_version": "1.5.0",
          "state": {
            "_view_name": "ImageView",
            "_dom_classes": [],
            "_model_name": "ImageModel",
            "format": "jpg",
            "_view_module": "@jupyter-widgets/controls",
            "_model_module_version": "1.5.0",
            "_view_count": null,
            "width": "300",
            "_view_module_version": "1.5.0",
            "layout": "IPY_MODEL_4987fe6ac0d94f6f9a2bb2962b412eb7",
            "height": "400",
            "_model_module": "@jupyter-widgets/controls"
          }
        },
        "686b9ae8ef1840678132b574cff77796": {
          "model_module": "@jupyter-widgets/controls",
          "model_name": "ImageModel",
          "model_module_version": "1.5.0",
          "state": {
            "_view_name": "ImageView",
            "_dom_classes": [],
            "_model_name": "ImageModel",
            "format": "jpg",
            "_view_module": "@jupyter-widgets/controls",
            "_model_module_version": "1.5.0",
            "_view_count": null,
            "width": "300",
            "_view_module_version": "1.5.0",
            "layout": "IPY_MODEL_b41f4d8934324e159a2f247aa3e8418c",
            "height": "400",
            "_model_module": "@jupyter-widgets/controls"
          }
        },
        "e1513559b0314dac8b3508835677a924": {
          "model_module": "@jupyter-widgets/controls",
          "model_name": "ImageModel",
          "model_module_version": "1.5.0",
          "state": {
            "_view_name": "ImageView",
            "_dom_classes": [],
            "_model_name": "ImageModel",
            "format": "jpg",
            "_view_module": "@jupyter-widgets/controls",
            "_model_module_version": "1.5.0",
            "_view_count": null,
            "width": "300",
            "_view_module_version": "1.5.0",
            "layout": "IPY_MODEL_cf6e4c14468747bca2fe3ea1435757de",
            "height": "400",
            "_model_module": "@jupyter-widgets/controls"
          }
        },
        "d357cb146c6d4feeb5ace8a1563a8601": {
          "model_module": "@jupyter-widgets/controls",
          "model_name": "ImageModel",
          "model_module_version": "1.5.0",
          "state": {
            "_view_name": "ImageView",
            "_dom_classes": [],
            "_model_name": "ImageModel",
            "format": "jpg",
            "_view_module": "@jupyter-widgets/controls",
            "_model_module_version": "1.5.0",
            "_view_count": null,
            "width": "300",
            "_view_module_version": "1.5.0",
            "layout": "IPY_MODEL_a6c514b1b2ff4211a24e5bb513770eb5",
            "height": "400",
            "_model_module": "@jupyter-widgets/controls"
          }
        },
        "ab7fb16da82d436d83f0a02b6e982f1b": {
          "model_module": "@jupyter-widgets/controls",
          "model_name": "ImageModel",
          "model_module_version": "1.5.0",
          "state": {
            "_view_name": "ImageView",
            "_dom_classes": [],
            "_model_name": "ImageModel",
            "format": "jpg",
            "_view_module": "@jupyter-widgets/controls",
            "_model_module_version": "1.5.0",
            "_view_count": null,
            "width": "300",
            "_view_module_version": "1.5.0",
            "layout": "IPY_MODEL_8d0b6f4376994556a82a094d7a2f1eee",
            "height": "400",
            "_model_module": "@jupyter-widgets/controls"
          }
        },
        "4987fe6ac0d94f6f9a2bb2962b412eb7": {
          "model_module": "@jupyter-widgets/base",
          "model_name": "LayoutModel",
          "model_module_version": "1.2.0",
          "state": {
            "_view_name": "LayoutView",
            "grid_template_rows": null,
            "right": null,
            "justify_content": null,
            "_view_module": "@jupyter-widgets/base",
            "overflow": null,
            "_model_module_version": "1.2.0",
            "_view_count": null,
            "flex_flow": null,
            "width": null,
            "min_width": null,
            "border": null,
            "align_items": null,
            "bottom": null,
            "_model_module": "@jupyter-widgets/base",
            "top": null,
            "grid_column": null,
            "overflow_y": null,
            "overflow_x": null,
            "grid_auto_flow": null,
            "grid_area": null,
            "grid_template_columns": null,
            "flex": null,
            "_model_name": "LayoutModel",
            "justify_items": null,
            "grid_row": null,
            "max_height": null,
            "align_content": null,
            "visibility": null,
            "align_self": null,
            "height": null,
            "min_height": null,
            "padding": null,
            "grid_auto_rows": null,
            "grid_gap": null,
            "max_width": null,
            "order": null,
            "_view_module_version": "1.2.0",
            "grid_template_areas": null,
            "object_position": null,
            "object_fit": null,
            "grid_auto_columns": null,
            "margin": null,
            "display": null,
            "left": null
          }
        },
        "b41f4d8934324e159a2f247aa3e8418c": {
          "model_module": "@jupyter-widgets/base",
          "model_name": "LayoutModel",
          "model_module_version": "1.2.0",
          "state": {
            "_view_name": "LayoutView",
            "grid_template_rows": null,
            "right": null,
            "justify_content": null,
            "_view_module": "@jupyter-widgets/base",
            "overflow": null,
            "_model_module_version": "1.2.0",
            "_view_count": null,
            "flex_flow": null,
            "width": null,
            "min_width": null,
            "border": null,
            "align_items": null,
            "bottom": null,
            "_model_module": "@jupyter-widgets/base",
            "top": null,
            "grid_column": null,
            "overflow_y": null,
            "overflow_x": null,
            "grid_auto_flow": null,
            "grid_area": null,
            "grid_template_columns": null,
            "flex": null,
            "_model_name": "LayoutModel",
            "justify_items": null,
            "grid_row": null,
            "max_height": null,
            "align_content": null,
            "visibility": null,
            "align_self": null,
            "height": null,
            "min_height": null,
            "padding": null,
            "grid_auto_rows": null,
            "grid_gap": null,
            "max_width": null,
            "order": null,
            "_view_module_version": "1.2.0",
            "grid_template_areas": null,
            "object_position": null,
            "object_fit": null,
            "grid_auto_columns": null,
            "margin": null,
            "display": null,
            "left": null
          }
        },
        "cf6e4c14468747bca2fe3ea1435757de": {
          "model_module": "@jupyter-widgets/base",
          "model_name": "LayoutModel",
          "model_module_version": "1.2.0",
          "state": {
            "_view_name": "LayoutView",
            "grid_template_rows": null,
            "right": null,
            "justify_content": null,
            "_view_module": "@jupyter-widgets/base",
            "overflow": null,
            "_model_module_version": "1.2.0",
            "_view_count": null,
            "flex_flow": null,
            "width": null,
            "min_width": null,
            "border": null,
            "align_items": null,
            "bottom": null,
            "_model_module": "@jupyter-widgets/base",
            "top": null,
            "grid_column": null,
            "overflow_y": null,
            "overflow_x": null,
            "grid_auto_flow": null,
            "grid_area": null,
            "grid_template_columns": null,
            "flex": null,
            "_model_name": "LayoutModel",
            "justify_items": null,
            "grid_row": null,
            "max_height": null,
            "align_content": null,
            "visibility": null,
            "align_self": null,
            "height": null,
            "min_height": null,
            "padding": null,
            "grid_auto_rows": null,
            "grid_gap": null,
            "max_width": null,
            "order": null,
            "_view_module_version": "1.2.0",
            "grid_template_areas": null,
            "object_position": null,
            "object_fit": null,
            "grid_auto_columns": null,
            "margin": null,
            "display": null,
            "left": null
          }
        },
        "a6c514b1b2ff4211a24e5bb513770eb5": {
          "model_module": "@jupyter-widgets/base",
          "model_name": "LayoutModel",
          "model_module_version": "1.2.0",
          "state": {
            "_view_name": "LayoutView",
            "grid_template_rows": null,
            "right": null,
            "justify_content": null,
            "_view_module": "@jupyter-widgets/base",
            "overflow": null,
            "_model_module_version": "1.2.0",
            "_view_count": null,
            "flex_flow": null,
            "width": null,
            "min_width": null,
            "border": null,
            "align_items": null,
            "bottom": null,
            "_model_module": "@jupyter-widgets/base",
            "top": null,
            "grid_column": null,
            "overflow_y": null,
            "overflow_x": null,
            "grid_auto_flow": null,
            "grid_area": null,
            "grid_template_columns": null,
            "flex": null,
            "_model_name": "LayoutModel",
            "justify_items": null,
            "grid_row": null,
            "max_height": null,
            "align_content": null,
            "visibility": null,
            "align_self": null,
            "height": null,
            "min_height": null,
            "padding": null,
            "grid_auto_rows": null,
            "grid_gap": null,
            "max_width": null,
            "order": null,
            "_view_module_version": "1.2.0",
            "grid_template_areas": null,
            "object_position": null,
            "object_fit": null,
            "grid_auto_columns": null,
            "margin": null,
            "display": null,
            "left": null
          }
        },
        "8d0b6f4376994556a82a094d7a2f1eee": {
          "model_module": "@jupyter-widgets/base",
          "model_name": "LayoutModel",
          "model_module_version": "1.2.0",
          "state": {
            "_view_name": "LayoutView",
            "grid_template_rows": null,
            "right": null,
            "justify_content": null,
            "_view_module": "@jupyter-widgets/base",
            "overflow": null,
            "_model_module_version": "1.2.0",
            "_view_count": null,
            "flex_flow": null,
            "width": null,
            "min_width": null,
            "border": null,
            "align_items": null,
            "bottom": null,
            "_model_module": "@jupyter-widgets/base",
            "top": null,
            "grid_column": null,
            "overflow_y": null,
            "overflow_x": null,
            "grid_auto_flow": null,
            "grid_area": null,
            "grid_template_columns": null,
            "flex": null,
            "_model_name": "LayoutModel",
            "justify_items": null,
            "grid_row": null,
            "max_height": null,
            "align_content": null,
            "visibility": null,
            "align_self": null,
            "height": null,
            "min_height": null,
            "padding": null,
            "grid_auto_rows": null,
            "grid_gap": null,
            "max_width": null,
            "order": null,
            "_view_module_version": "1.2.0",
            "grid_template_areas": null,
            "object_position": null,
            "object_fit": null,
            "grid_auto_columns": null,
            "margin": null,
            "display": null,
            "left": null
          }
        }
      }
    }
  },
  "nbformat": 4,
  "nbformat_minor": 0
}