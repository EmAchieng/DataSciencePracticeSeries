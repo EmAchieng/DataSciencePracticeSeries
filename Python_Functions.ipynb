{
  "nbformat": 4,
  "nbformat_minor": 0,
  "metadata": {
    "kernelspec": {
      "display_name": "Python (data-science)",
      "language": "python",
      "name": "data-science"
    },
    "language_info": {
      "codemirror_mode": {
        "name": "ipython",
        "version": 3
      },
      "file_extension": ".py",
      "mimetype": "text/x-python",
      "name": "python",
      "nbconvert_exporter": "python",
      "pygments_lexer": "ipython3",
      "version": "3.7.6"
    },
    "colab": {
      "name": "Copy of SIT_W0D0_LC4_Python_Functions.ipynb",
      "provenance": [],
      "collapsed_sections": [],
      "include_colab_link": true
    }
  },
  "cells": [
    {
      "cell_type": "markdown",
      "metadata": {
        "id": "view-in-github",
        "colab_type": "text"
      },
      "source": [
        "<a href=\"https://colab.research.google.com/github/EmAchieng/DataSciencePracticeSeries/blob/master/Python_Functions.ipynb\" target=\"_parent\"><img src=\"https://colab.research.google.com/assets/colab-badge.svg\" alt=\"Open In Colab\"/></a>"
      ]
    },
    {
      "cell_type": "markdown",
      "metadata": {
        "tags": [
          "headers"
        ],
        "id": "SafMzrh4CsLv"
      },
      "source": [
        "<a id='Q0'></a>\n",
        "<center><a target=\"_blank\" href=\"http://www.propulsion.academy\"><img src=\"https://drive.google.com/uc?id=1McNxpNrSwfqu1w-QtlOmPSmfULvkkMQV\" width=\"200\" style=\"background:none; border:none; box-shadow:none;\" /></a> </center>\n",
        "<center> <h1> Tutorial 4, Preparation: Functions in Python </h1> </center>\n",
        "<p style=\"margin-bottom:1cm;\"></p>\n",
        "<center><h4>Propulsion Academy, 2021</h4></center>\n",
        "<p style=\"margin-bottom:1cm;\"></p>\n",
        "\n",
        "<div style=\"background:#EEEDF5;border-top:0.1cm solid #EF475B;border-bottom:0.1cm solid #EF475B;\">\n",
        "    <div style=\"margin-left: 0.5cm;margin-top: 0.5cm;margin-bottom: 0.5cm;color:#303030\">\n",
        "        <p><strong>Goal:</strong> Short description of the aim of the live coding session</p>\n",
        "        <strong> Outline:</strong>\n",
        "        <a id='P0' name=\"P0\"></a>\n",
        "        <ol>\n",
        "            <li> <a style=\"color:#303030\" href='#I'>Introduction </a> </li>\n",
        "            <li> <a style=\"color:#303030\" href='#P1'>Defining Functions</a></li>\n",
        "            <li> <a style=\"color:#303030\" href='#P2'>Passing Arguments to Functions</a></li>\n",
        "            <li> <a style=\"color:#303030\" href='#P3'>Return Values</a></li>\n",
        "            <li> <a style=\"color:#303030\" href='#P4'>Calling other Functions and Scope of Variables</a></li>\n",
        "            <li> <a style=\"color:#303030\" href='#P5'>Built-in Methods</a></li>\n",
        "            <li> <a style=\"color:#303030\" href='#P6'>Functional Programming</a></li>\n",
        "        </ol>\n",
        "        <strong>Topics Trained:</strong> Python Functions, arguments, parameters, Variable scope, methods\n",
        "    </div>\n",
        "</div>\n",
        "\n",
        "<nav style=\"text-align:right\"><strong>\n",
        "        <a style=\"color:#00BAE5\" href=\"https://monolith.propulsion-home.ch/backend/api/momentum/materials/intro-2-ds-materials/index.html\" title=\"momentum\"> Introduction to Data Science</a>|\n",
        "        <a style=\"color:#00BAE5\" href=\"https://monolith.propulsion-home.ch/backend/api/momentum/materials/intro-2-ds-materials/weeks/preparation/index.html\" title=\"momentum\">Course Preparation</a>|\n",
        "        <a style=\"color:#00BAE5\" href=\"https://monolith.propulsion-home.ch/backend/api/momentum/materials/intro-2-ds-materials/weeks/preparation/pages/SIT_W0D0_LC4_Python_Functions.html\" title=\"momentum\"> Tutorial 4, Preparation: Functions in Python</a>\n",
        "</strong></nav>"
      ]
    },
    {
      "cell_type": "markdown",
      "metadata": {
        "id": "sGjyK7XBCsL2"
      },
      "source": [
        "<a id='I' name=\"I\"></a>\n",
        "## [Introduction](#P0)"
      ]
    },
    {
      "cell_type": "markdown",
      "metadata": {
        "id": "aCnAuL6BCsL3"
      },
      "source": [
        "Functions are a great way to re-use your code in many different places, without having to type the same code over and over again. Specifically, a function is a unit of code that works on various inputs (which usually are variables), performs certain operations and produces a certain result.\n",
        "\n",
        "In other words - using functions, you put together a set of instructions and execute that set of instructions in any place you want in your code. The benefit of this is that, when you need to perform a task multiple times in your code, you do not need to write the same logic over and over again. Instead, you call the function to execute that set of instructions. Using functions makes your code easier to write, read, test and fix bugs."
      ]
    },
    {
      "cell_type": "markdown",
      "metadata": {
        "id": "5gF0NnAuCsL3"
      },
      "source": [
        "<a id='P1' name=\"P1\"></a>\n",
        "## [Defining Functions](#P0)"
      ]
    },
    {
      "cell_type": "markdown",
      "metadata": {
        "id": "H4lYiFtKCsL4"
      },
      "source": [
        "Enough of this dry theory - let's have a look at a very simple function in Python:"
      ]
    },
    {
      "cell_type": "code",
      "metadata": {
        "id": "iOZuzaw8CsL4"
      },
      "source": [
        "# Function definition\n",
        "def say_hello():\n",
        "    # Function body\n",
        "    print(\"Hello everybody\")"
      ],
      "execution_count": null,
      "outputs": []
    },
    {
      "cell_type": "markdown",
      "metadata": {
        "id": "9FGj1qMjCsL5"
      },
      "source": [
        "The example above shows the simplest function written in Python. To define a function, we use the keyword `def`, followed by the function name, followed by a set of parentheses `()`, and ended with a colon `:`. This informs the Python interpreter that we are defining a function.\n",
        "\n",
        "The following code block, meaning all indented lines that follow the function definition, belongs to that function. The code block is also called the function body.\n",
        "\n",
        "To use the function, you can just call it by it's name. This will execute the function body that belongs to this function. And you can call it as many times you want:"
      ]
    },
    {
      "cell_type": "code",
      "metadata": {
        "id": "wNHP1OfPCsL5",
        "outputId": "d9f3806b-64f0-480c-b89a-179cc33b4a26"
      },
      "source": [
        "say_hello()  # Function call => \"Hello everybody\"\n",
        "say_hello()  # Another function call => \"Hello everybody\"\n",
        "say_hello()  # And yet another function call => \"Hello everybody\""
      ],
      "execution_count": null,
      "outputs": [
        {
          "output_type": "stream",
          "text": [
            "Hello everybody\n",
            "Hello everybody\n",
            "Hello everybody\n"
          ],
          "name": "stdout"
        }
      ]
    },
    {
      "cell_type": "markdown",
      "metadata": {
        "id": "7uIz1oB7CsL6"
      },
      "source": [
        "<a id='P2' name=\"P2\"></a>\n",
        "## [Passing Arguments to Functions](#P0)"
      ]
    },
    {
      "cell_type": "markdown",
      "metadata": {
        "id": "-5f6QSoeCsL7"
      },
      "source": [
        "The parenthesis in a function definition are used to define parameters. Parameters can be super useful to create functions that can be re-used for different purposes.\n",
        "\n",
        "Let's modify our function `say_hello()` in a way, that greets each user individually by name. To do that, we can pass the name of the user as an information to the function as *parameter*."
      ]
    },
    {
      "cell_type": "code",
      "metadata": {
        "id": "f4L3QvOzCsL7",
        "outputId": "e0d83ca7-6a6b-4850-82b1-6f33f3dd2ddd"
      },
      "source": [
        "def say_hello(name):\n",
        "    print(f\"Hello {name}\")\n",
        "\n",
        "say_hello(\"Laurent\") # => Hello Laurent\n",
        "say_hello(\"Simon\")   # => Hello Simon\n",
        "say_hello(\"Class\")   # => Hello Class"
      ],
      "execution_count": null,
      "outputs": [
        {
          "output_type": "stream",
          "text": [
            "Hello Laurent\n",
            "Hello Simon\n",
            "Hello Class\n"
          ],
          "name": "stdout"
        }
      ]
    },
    {
      "cell_type": "markdown",
      "metadata": {
        "id": "qesOi-uHCsL8"
      },
      "source": [
        "The variable `name` in the function definition `say_hello(name)` is an example of a parameter.\n",
        "Parameters are the main way of passing all necessary information to a function, that it needs to do its job.\n",
        "The values `'Laurent', 'Simon', 'Class'` are called arguments.\n",
        "Arguments are that piece of information you pass to a parameter when you call the function.\n",
        "\n",
        "You can pass arguments to a function in a lot of ways. The most common way is to pass arguments is as *positional arguments*, in which you pass arguments in the same order in which the function parameters were listed.\n",
        "\n",
        "To make function calls more readable, it sometimes makes sense to list arguments together with the parameter name together. This is also known as *keyword arguments*."
      ]
    },
    {
      "cell_type": "markdown",
      "metadata": {
        "id": "dhPPCnvpCsL8"
      },
      "source": [
        "### Positional Arguments\n",
        "\n",
        "Positional arguments are always provided in the same order as the function parameters have been defined.\n",
        "\n",
        "For example:"
      ]
    },
    {
      "cell_type": "code",
      "metadata": {
        "id": "P8RNZUmxCsL9",
        "outputId": "d53011d2-f4d7-4bec-fa30-84da20db839a"
      },
      "source": [
        "def describe_movie(title, genre):\n",
        "    return \"{} is a {} movie\".format(title, genre)\n",
        "\n",
        "# correct\n",
        "print(describe_movie('Star Wars: Episode IV - A New Hope', 'Action, Adventure, Fantasy'))\n",
        "\n",
        "# arguments order switched around --> wrong result\n",
        "print(describe_movie('Action, Adventure, Fantasy', 'Star Wars: Episode IV - A New Hope'))"
      ],
      "execution_count": null,
      "outputs": [
        {
          "output_type": "stream",
          "text": [
            "Star Wars: Episode IV - A New Hope is a Action, Adventure, Fantasy movie\n",
            "Action, Adventure, Fantasy is a Star Wars: Episode IV - A New Hope movie\n"
          ],
          "name": "stdout"
        }
      ]
    },
    {
      "cell_type": "markdown",
      "metadata": {
        "id": "PgO62sLJCsL9"
      },
      "source": [
        "The definition of `describe_movie` needs a movie title and a genre.\n",
        "In the function call above, we provide title and genre in the same order as in the function definition.\n",
        "Obviously, you are going to have unexpected and wrong results if you switch the order of the arguments when the function is being called.\n",
        "\n",
        "### Keyword Arguments\n",
        "\n",
        "*Keyword arguments* are name-value pairs that you pass to the function when you call it.\n",
        "It is a great way of not confusing the order of arguments with the parameters.\n",
        "It also can make the code easier to understand.\n",
        "\n",
        "Using keyword_arguments the `describe_movie` function will look like this:"
      ]
    },
    {
      "cell_type": "code",
      "metadata": {
        "id": "aQqALmYPCsL-",
        "outputId": "3e29637a-d64e-4b82-c20d-474bbb9ee3ac"
      },
      "source": [
        "def describe_movie(title, genre):\n",
        "    return \"{} is a {} movie\".format(title, genre)\n",
        "\n",
        "# correct\n",
        "print(describe_movie(title='Star Wars: Episode IV - A New Hope',\n",
        "                     genre='Action, Adventure, Fantasy'))"
      ],
      "execution_count": null,
      "outputs": [
        {
          "output_type": "stream",
          "text": [
            "Star Wars: Episode IV - A New Hope is a Action, Adventure, Fantasy movie\n"
          ],
          "name": "stdout"
        }
      ]
    },
    {
      "cell_type": "code",
      "metadata": {
        "id": "ht2IaFM3CsL-",
        "outputId": "ebaf22bc-9cdc-4116-f991-52b2adc02047"
      },
      "source": [
        "# argument order switched around -> correct, because we are using keyword arguments\n",
        "print(describe_movie(genre='Action, Adventure, Fantasy', \n",
        "                     title='Star Wars: Episode IV - A New Hope'))"
      ],
      "execution_count": null,
      "outputs": [
        {
          "output_type": "stream",
          "text": [
            "Star Wars: Episode IV - A New Hope is a Action, Adventure, Fantasy movie\n"
          ],
          "name": "stdout"
        }
      ]
    },
    {
      "cell_type": "markdown",
      "metadata": {
        "id": "vNqwXjcjCsL-"
      },
      "source": [
        "### Default Values\n",
        "\n",
        "When you define a function, you can define a default value for one or more of its parameters.\n",
        "Default values are a great way to reduce the amount of typing, especially when one of the parameters doesn't change that often between different function calls.\n",
        "\n",
        "For example:"
      ]
    },
    {
      "cell_type": "code",
      "metadata": {
        "id": "hRrP37VeCsL_",
        "outputId": "c4443961-8c54-4d8c-b8b6-4f26773ca091"
      },
      "source": [
        "def describe_movie(title, genre=\"Fantasy\"):\n",
        "    return \"{} is a {} movie\".format(title, genre)\n",
        "\n",
        "\n",
        "# \"Star Wars: Episode IV - A New Hope is a Fantasy movie\n",
        "print(describe_movie(title='Star Wars: Episode IV - A New Hope'))\n",
        "\n",
        "# \"Star Wars: Episode IV - A New Hope is a Science Fiction movie\n",
        "print(describe_movie(title='Star Wars: Episode IV - A New Hope', genre='Science Fiction'))"
      ],
      "execution_count": null,
      "outputs": [
        {
          "output_type": "stream",
          "text": [
            "Star Wars: Episode IV - A New Hope is a Fantasy movie\n",
            "Star Wars: Episode IV - A New Hope is a Science Fiction movie\n"
          ],
          "name": "stdout"
        }
      ]
    },
    {
      "cell_type": "code",
      "metadata": {
        "id": "rX7SJssXCsL_"
      },
      "source": [
        "def add_one_list(mylist=None):\n",
        "    if mylist:\n",
        "        mylist.append(1)\n",
        "        return mylist\n",
        "    else:\n",
        "        return [1]"
      ],
      "execution_count": null,
      "outputs": []
    },
    {
      "cell_type": "code",
      "metadata": {
        "id": "Orv4bmJ_CsMA",
        "outputId": "de7ba307-96b1-4668-b5c2-14aa7ce0654d"
      },
      "source": [
        "add_one_list()"
      ],
      "execution_count": null,
      "outputs": [
        {
          "output_type": "execute_result",
          "data": {
            "text/plain": [
              "[1]"
            ]
          },
          "metadata": {
            "tags": []
          },
          "execution_count": 55
        }
      ]
    },
    {
      "cell_type": "code",
      "metadata": {
        "id": "VuZw1pq8CsMB",
        "outputId": "8e577932-d418-4e02-bc20-283873eb2240"
      },
      "source": [
        "add_one_list()"
      ],
      "execution_count": null,
      "outputs": [
        {
          "output_type": "execute_result",
          "data": {
            "text/plain": [
              "[1]"
            ]
          },
          "metadata": {
            "tags": []
          },
          "execution_count": 56
        }
      ]
    },
    {
      "cell_type": "markdown",
      "metadata": {
        "id": "b3AmHyoOCsMB"
      },
      "source": [
        "As you can see in the example above, if you pass an argument to a default parameter, the new value will be used instead of the default value.\n",
        "\n",
        "There are cases when you want to make an argument optional. Default values combined with an if statement are a great way to do that:"
      ]
    },
    {
      "cell_type": "code",
      "metadata": {
        "id": "SIKfgAqVCsMB",
        "outputId": "da46b67d-3f0b-4f65-ab86-c410f2a4e3cc"
      },
      "source": [
        "def full_name(first_name, last_name, prefix=None):\n",
        "    full_name = first_name + \" \" + last_name\n",
        "\n",
        "    if prefix:\n",
        "        full_name = prefix + \" \" + full_name\n",
        "\n",
        "    return full_name\n",
        "\n",
        "\n",
        "print(full_name(\"Tommy Lee\", \"Jones\"))\n",
        "print(full_name(\"Mark\", \"Hamill\", \"Mr.\"))"
      ],
      "execution_count": null,
      "outputs": [
        {
          "output_type": "stream",
          "text": [
            "Tommy Lee Jones\n",
            "Mr. Mark Hamill\n"
          ],
          "name": "stdout"
        }
      ]
    },
    {
      "cell_type": "markdown",
      "metadata": {
        "id": "qrOoBzFhCsMC"
      },
      "source": [
        "In the example above, `prefix` is optional. It is basically an additional parameter, that can be used if needed, but will be ignored by the function if not used.\n",
        "\n",
        "### Adding an Arbitrary Number of Arguments\n",
        "\n",
        "Most often, you already know exactly how many arguments you want to receive, and how those arguments are named.\n",
        "However, there are some cases, in which you don't know yet if you want to receive one, two, or 100 input values.\n",
        "\n",
        "Python supports so-called *variable arguments*.\n",
        "Variables in this context means, that the number of arguments and names of arguments is not know beforehand, and can be defined at run-time.\n",
        "\n",
        "But why would you need that? Take `sum()` as example function.\n",
        "Ideally, we want to write a function, that can compute the sum of an arbitrary number of arguments:"
      ]
    },
    {
      "cell_type": "code",
      "metadata": {
        "id": "UGARn5KVCsMD"
      },
      "source": [
        "def sum(*args):\n",
        "    result = 0\n",
        "    for num in args:\n",
        "        result = result + num\n",
        "    return result"
      ],
      "execution_count": null,
      "outputs": []
    },
    {
      "cell_type": "code",
      "metadata": {
        "id": "LvKztBs5CsME",
        "outputId": "03a50c58-5a49-443e-d619-d55b199dc891"
      },
      "source": [
        "sum() "
      ],
      "execution_count": null,
      "outputs": [
        {
          "output_type": "execute_result",
          "data": {
            "text/plain": [
              "0"
            ]
          },
          "metadata": {
            "tags": []
          },
          "execution_count": 68
        }
      ]
    },
    {
      "cell_type": "code",
      "metadata": {
        "id": "dWP9ztEACsME",
        "outputId": "e2a0cbbb-1030-4b9b-b7cb-be198d681e20"
      },
      "source": [
        "sum(10)"
      ],
      "execution_count": null,
      "outputs": [
        {
          "output_type": "execute_result",
          "data": {
            "text/plain": [
              "10"
            ]
          },
          "metadata": {
            "tags": []
          },
          "execution_count": 69
        }
      ]
    },
    {
      "cell_type": "code",
      "metadata": {
        "id": "cG5f1XjnCsME",
        "outputId": "13da45f7-fc2c-463c-f24c-2b8c4eec8782"
      },
      "source": [
        "sum(1,2)"
      ],
      "execution_count": null,
      "outputs": [
        {
          "output_type": "execute_result",
          "data": {
            "text/plain": [
              "3"
            ]
          },
          "metadata": {
            "tags": []
          },
          "execution_count": 65
        }
      ]
    },
    {
      "cell_type": "code",
      "metadata": {
        "id": "fmcVr8-FCsMF",
        "outputId": "d5bcdea9-2851-427a-92f7-cca61117d3e0"
      },
      "source": [
        "sum(1,2,3)"
      ],
      "execution_count": null,
      "outputs": [
        {
          "output_type": "execute_result",
          "data": {
            "text/plain": [
              "6"
            ]
          },
          "metadata": {
            "tags": []
          },
          "execution_count": 66
        }
      ]
    },
    {
      "cell_type": "markdown",
      "metadata": {
        "id": "dWIh_kAUCsMG"
      },
      "source": [
        "And of course, you can combine arguments and variable arguments - just make sure to have the variable arguments at the end of the argument list. Python matches positional and keyword\n",
        "arguments first, and then collects any remaining arguments in the final variable parameter.\n",
        "\n",
        "The following example mixes a positional argument with a variable element."
      ]
    },
    {
      "cell_type": "code",
      "metadata": {
        "id": "GorXXkQkCsMG",
        "outputId": "11875677-2dfb-493c-ea92-ba8d0f6e6315"
      },
      "source": [
        "def ingredients(name, *args):\n",
        "    print(f\"Ingredients for {name}:\")\n",
        "    for ingredient in args:\n",
        "        print(f'- {ingredient}')\n",
        "\n",
        "\n",
        "ingredients('Muffin', '2 cups white flour', '1 egg', '1 tablespoon baking powder', '1/2 teaspoons sugar')"
      ],
      "execution_count": null,
      "outputs": [
        {
          "output_type": "stream",
          "text": [
            "Ingredients for Muffin:\n",
            "- 2 cups white flour\n",
            "- 1 egg\n",
            "- 1 tablespoon baking powder\n",
            "- 1/2 teaspoons sugar\n"
          ],
          "name": "stdout"
        }
      ]
    },
    {
      "cell_type": "markdown",
      "metadata": {
        "id": "xvIkqL_HCsMG"
      },
      "source": [
        "Note that the asterisk `*` together with the parameter name `args` tells Python to make an\n",
        "empty tuple called args and pack whatever values it receives into this tuple.\n",
        "The parameter name could be anything - `*my_var_args_list` or `*ingredient_list` works just as well.\n",
        "However, `*args` has been accepted as the standard name in the Python community.\n",
        "\n",
        "There is another variant for variable arguments based on keyword arguments `(name=value, ...)`.\n",
        "In this case, you can use the double-asterisk `**kwargs` to tell Python to create an empty dictionary, and collect any keyword arguments in there.\n",
        "\n",
        "This case is particularly useful if you want to pass an arbitrary number of arguments but you don't know ahead of time what information you are going to pass on the function call.\n",
        "The `**kwargs` allows to accept key-value pairs.\n",
        "\n",
        "Let us look at the following example:"
      ]
    },
    {
      "cell_type": "code",
      "metadata": {
        "id": "bL17SJFuCsMH",
        "outputId": "639825d5-46a0-4b2f-9abd-17fe8ab879cf"
      },
      "source": [
        "def user_profile(name, lastname, *kwargs):\n",
        "    user = {}\n",
        "    user['name'] = name\n",
        "    user['lastname'] = lastname\n",
        "    print(kwargs)\n",
        "#     for key, value in kwargs.items():\n",
        "#         user[key] = value\n",
        "\n",
        "    return user\n",
        "\n",
        "user_profile('Donald', 'Duck')"
      ],
      "execution_count": null,
      "outputs": [
        {
          "output_type": "stream",
          "text": [
            "()\n"
          ],
          "name": "stdout"
        },
        {
          "output_type": "execute_result",
          "data": {
            "text/plain": [
              "{'name': 'Donald', 'lastname': 'Duck'}"
            ]
          },
          "metadata": {
            "tags": []
          },
          "execution_count": 75
        }
      ]
    },
    {
      "cell_type": "code",
      "metadata": {
        "id": "K2GF4k_1CsMH",
        "outputId": "69dc1b65-86e6-469c-83d4-7d5e132aa0b3"
      },
      "source": [
        "print(user_profile('Donald', 'Duck', location='Disney', occupation='actor'))"
      ],
      "execution_count": null,
      "outputs": [
        {
          "output_type": "stream",
          "text": [
            "{'name': 'Donald', 'lastname': 'Duck', 'location': 'Disney', 'occupation': 'actor'}\n"
          ],
          "name": "stdout"
        }
      ]
    },
    {
      "cell_type": "markdown",
      "metadata": {
        "id": "MCnrCCaiCsMH"
      },
      "source": [
        "The definition of `user_profile()` expects a first and last name, and\n",
        "then it allows the user to pass in as many name-value pairs as they want. The\n",
        "double asterisks before the parameter `**kwargs` cause Python to create\n",
        "an empty dictionary called `**kwargs` and pack whatever name-value pairs it\n",
        "receives into this dictionary.\n",
        "\n",
        "Same as with `*args`, you could give `**kwargs` any name, for example `**profile`.\n",
        "It's the double-asterisk `**` that tells Python that this is a variable argument.\n",
        "\n",
        "Putting it all together:"
      ]
    },
    {
      "cell_type": "markdown",
      "metadata": {
        "id": "KHnOTBKwCsMI"
      },
      "source": [
        "```Python\n",
        "def my_function(a, b, c=1, *d, **e)\n",
        "\n",
        "    # a & b => mandatory positional arguments\n",
        "    # c => optional keyword argument\n",
        "    # *d => arbitrary number of positional arguments, packed into a tuple\n",
        "    # **f => arbitrary number of keyword arguments, packed into a dict\n",
        "```"
      ]
    },
    {
      "cell_type": "markdown",
      "metadata": {
        "id": "lwehyHVHCsMI"
      },
      "source": [
        "<a id='P3' name=\"P3\"></a>\n",
        "## [Return Values](#P0)"
      ]
    },
    {
      "cell_type": "markdown",
      "metadata": {
        "id": "RoyJwAzuCsMI"
      },
      "source": [
        "Sometimes, you want functions to give values back, instead of displaying results using :code:`print`.\n",
        "To do that, you can use the :code:`return` statement. Make sure to save the returned value in a variable, in case you want to access it:"
      ]
    },
    {
      "cell_type": "code",
      "metadata": {
        "id": "rlVWq8zsCsMI"
      },
      "source": [
        "def even_or_odd(value):\n",
        "    if value % 2 == 0:\n",
        "        return \"even\"\n",
        "    else:\n",
        "        return \"odd\""
      ],
      "execution_count": null,
      "outputs": []
    },
    {
      "cell_type": "code",
      "metadata": {
        "id": "6atb3FhbCsMJ",
        "outputId": "b85e8f70-3100-4904-c366-4d67ed6b1f06"
      },
      "source": [
        "# store return value in variable\n",
        "a = even_or_odd(1)\n",
        "print(a)"
      ],
      "execution_count": null,
      "outputs": [
        {
          "output_type": "stream",
          "text": [
            "odd\n"
          ],
          "name": "stdout"
        }
      ]
    },
    {
      "cell_type": "code",
      "metadata": {
        "id": "FdSgxARsCsMJ",
        "outputId": "07ef747b-9b0f-465d-b49c-e7e9db1ed7a9"
      },
      "source": [
        "# using return value directly\n",
        "print(even_or_odd(1))"
      ],
      "execution_count": null,
      "outputs": [
        {
          "output_type": "stream",
          "text": [
            "odd\n"
          ],
          "name": "stdout"
        }
      ]
    },
    {
      "cell_type": "markdown",
      "metadata": {
        "id": "2TfOyq8ECsMJ"
      },
      "source": [
        "A function always returns the value specified by the `return` statement. In the example above, the function `even_or_odd()` returns a string.\n",
        "The return value can be anything - a single value or a tuple, list, dict and so on.\n",
        "When you want to return multiple values at the same time, it's very handy to use a tuple: `return (\"Hello\", 1)`\n",
        "\n",
        "A function always returns a value, even if you forget to the `return` statement in the function body.\n",
        "In such cases, the function implicitly will return `None`."
      ]
    },
    {
      "cell_type": "markdown",
      "metadata": {
        "id": "Mromd9zvCsMK"
      },
      "source": [
        "<a id='P4' name=\"P4\"></a>\n",
        "## [Calling other Functions and Scope of Variables](#P0)"
      ]
    },
    {
      "cell_type": "markdown",
      "metadata": {
        "id": "mTR2HK9BCsMK"
      },
      "source": [
        "As you can see from the previous example, the function body can contain any kind of code. And you even can call other functions from a function. Look at this example:"
      ]
    },
    {
      "cell_type": "code",
      "metadata": {
        "id": "zgs9UbSLCsMK"
      },
      "source": [
        "PI = 3.14159265358979   # global constant -- only place the value of PI is set\n",
        "\n",
        "def circle_area(radius):\n",
        "    # local variable\n",
        "    area = PI*radius*radius    # use value of global constant PI\n",
        "    return area"
      ],
      "execution_count": null,
      "outputs": []
    },
    {
      "cell_type": "code",
      "metadata": {
        "id": "T7zTuUkTCsMK",
        "outputId": "53de6e43-b0e6-495c-cd19-1c23cd5d6c0e"
      },
      "source": [
        "circle_area(2)"
      ],
      "execution_count": null,
      "outputs": [
        {
          "output_type": "execute_result",
          "data": {
            "text/plain": [
              "12.56637061435916"
            ]
          },
          "metadata": {
            "tags": []
          },
          "execution_count": 77
        }
      ]
    },
    {
      "cell_type": "code",
      "metadata": {
        "id": "PrykUkQ7CsML",
        "outputId": "0b98f52e-c453-45da-c6ea-92a976f8fbe0"
      },
      "source": [
        "area"
      ],
      "execution_count": null,
      "outputs": [
        {
          "output_type": "error",
          "ename": "NameError",
          "evalue": "name 'area' is not defined",
          "traceback": [
            "\u001b[0;31m---------------------------------------------------------------------------\u001b[0m",
            "\u001b[0;31mNameError\u001b[0m                                 Traceback (most recent call last)",
            "\u001b[0;32m<ipython-input-78-cb240d40b889>\u001b[0m in \u001b[0;36m<module>\u001b[0;34m\u001b[0m\n\u001b[0;32m----> 1\u001b[0;31m \u001b[0marea\u001b[0m\u001b[0;34m\u001b[0m\u001b[0;34m\u001b[0m\u001b[0m\n\u001b[0m",
            "\u001b[0;31mNameError\u001b[0m: name 'area' is not defined"
          ]
        }
      ]
    },
    {
      "cell_type": "code",
      "metadata": {
        "id": "mzBBA0yeCsML",
        "outputId": "2c7f6ce7-890f-4c7a-d64a-9d77a4e273f9"
      },
      "source": [
        "def circle_circumference(radius):\n",
        "    # local variable\n",
        "    circumference = 2*PI*radius         # use value of global constant PI\n",
        "    return circumference\n",
        "\n",
        "def print_circle_info(radius):\n",
        "    # calling print & circle_area function\n",
        "    print(f'circle area with radius {radius} = {circle_area(radius)}')\n",
        "    # calling print & circle_circumference function\n",
        "    print(f'circumference with radius {radius} = {circle_circumference(radius)}')\n",
        "\n",
        "print_circle_info(5)"
      ],
      "execution_count": null,
      "outputs": [
        {
          "output_type": "stream",
          "text": [
            "circle area with radius 5 = 78.53981633974475\n",
            "circumference with radius 5 = 31.4159265358979\n"
          ],
          "name": "stdout"
        }
      ]
    },
    {
      "cell_type": "code",
      "metadata": {
        "id": "nzx-iC0HCsML",
        "outputId": "c9ec4560-8f32-4ec8-9b04-626f97cbbae0"
      },
      "source": [
        "print(PI)"
      ],
      "execution_count": null,
      "outputs": [
        {
          "output_type": "stream",
          "text": [
            "3.14159265358979\n"
          ],
          "name": "stdout"
        }
      ]
    },
    {
      "cell_type": "code",
      "metadata": {
        "id": "NVrqIqu9CsMM",
        "outputId": "bc6c19e8-781a-4351-9f00-095de9bf1c5a"
      },
      "source": [
        "print(circumference)"
      ],
      "execution_count": null,
      "outputs": [
        {
          "output_type": "error",
          "ename": "NameError",
          "evalue": "name 'circumference' is not defined",
          "traceback": [
            "\u001b[0;31m---------------------------------------------------------------------------\u001b[0m",
            "\u001b[0;31mNameError\u001b[0m                                 Traceback (most recent call last)",
            "\u001b[0;32m<ipython-input-20-46742626c013>\u001b[0m in \u001b[0;36m<module>\u001b[0;34m\u001b[0m\n\u001b[0;32m----> 1\u001b[0;31m \u001b[0mprint\u001b[0m\u001b[0;34m(\u001b[0m\u001b[0mcircumference\u001b[0m\u001b[0;34m)\u001b[0m\u001b[0;34m\u001b[0m\u001b[0;34m\u001b[0m\u001b[0m\n\u001b[0m",
            "\u001b[0;31mNameError\u001b[0m: name 'circumference' is not defined"
          ]
        }
      ]
    },
    {
      "cell_type": "code",
      "metadata": {
        "id": "FR5x3c22CsMM",
        "outputId": "d0dcf647-ba12-4d70-bde0-002027c39347"
      },
      "source": [
        "print(area)"
      ],
      "execution_count": null,
      "outputs": [
        {
          "output_type": "error",
          "ename": "NameError",
          "evalue": "name 'area' is not defined",
          "traceback": [
            "\u001b[0;31m---------------------------------------------------------------------------\u001b[0m",
            "\u001b[0;31mNameError\u001b[0m                                 Traceback (most recent call last)",
            "\u001b[0;32m<ipython-input-21-4c1a90be3521>\u001b[0m in \u001b[0;36m<module>\u001b[0;34m\u001b[0m\n\u001b[0;32m----> 1\u001b[0;31m \u001b[0mprint\u001b[0m\u001b[0;34m(\u001b[0m\u001b[0marea\u001b[0m\u001b[0;34m)\u001b[0m\u001b[0;34m\u001b[0m\u001b[0;34m\u001b[0m\u001b[0m\n\u001b[0m",
            "\u001b[0;31mNameError\u001b[0m: name 'area' is not defined"
          ]
        }
      ]
    },
    {
      "cell_type": "markdown",
      "metadata": {
        "id": "L49VXIO0CsMM"
      },
      "source": [
        "You can see another important concept in the example above - called *scope*. The scope defines in which place of the program a variable can live. `PI` above is defined on the top most level, so it can be accessed by any other place or function within the same file - for example in function `circle_area`, but also in the print statement at the bottom of the code.\n",
        "\n",
        "`area` and `circumference` are defined inside the *function body*, and can only be accessed there. Therefore, the last two print statements in the example will fail."
      ]
    },
    {
      "cell_type": "markdown",
      "metadata": {
        "id": "r5b39kUfCsMM"
      },
      "source": [
        "<a id='P5' name=\"P5\"></a>\n",
        "## [Built-in Methods](#P0)"
      ]
    },
    {
      "cell_type": "markdown",
      "metadata": {
        "id": "2XIEXy_pCsMN"
      },
      "source": [
        "Methods are just functions that are attached to a class in Python.\n",
        "\n",
        "You have probably already used plenty of built-in methods. Some that you might already used are **print()**, **''.join()**, **append()**, **split()**, etc\n",
        "\n",
        "Here you will find the list of [built-in methods](https://www.programiz.com/python-programming/methods/built-in)"
      ]
    },
    {
      "cell_type": "markdown",
      "metadata": {
        "id": "cm31f8hVCsMN"
      },
      "source": [
        "<a id='P6' name=\"P6\"></a>\n",
        "## [Functional Programming](#P0)"
      ]
    },
    {
      "cell_type": "markdown",
      "metadata": {
        "id": "M78wCF63CsMN"
      },
      "source": [
        "Functional Programming is a coding style that focuses on defining what to do, instead of performing some action. As the name says, it is based on functions. It has its roots in mathematics - where you often also define functions that take some kind of input and give back a result.\n",
        "\n",
        "In functional programming, the output of the function ONLY depends on the arguments that are passed. Calling the function f for the same value of x should return the same result f(x) no matter how many times you call it.\n",
        "\n",
        "Characteristics of functional programming:\n",
        "\n",
        "- Functions are first class citizens, which means there are no restrictions on their use.\n",
        "- The functions are pure: they may not have any side effects such as reading/writing to a file, writing to console, networking, ...\n",
        "- Functional programming has ways and constructs to limit the use of for loops\n",
        "- It has good support for recursion\n",
        "- Functional programming takes an \"expression-oriented\" approach\n",
        "\n",
        "Python provides several functions to support functional programming, like **map**, **filter**, **reduce** and **lambdas**."
      ]
    },
    {
      "cell_type": "markdown",
      "metadata": {
        "id": "2S79jbfQCsMN"
      },
      "source": [
        "### Functions as first class citizen\n",
        "\n",
        "In Python functions can be passed as arguments of other functions:"
      ]
    },
    {
      "cell_type": "code",
      "metadata": {
        "id": "KHVRMWu6CsMN"
      },
      "source": [
        "def mul(n):\n",
        "    return n ** 2"
      ],
      "execution_count": null,
      "outputs": []
    },
    {
      "cell_type": "code",
      "metadata": {
        "id": "-fXjs53tCsMO"
      },
      "source": [
        "def mul2(n):\n",
        "    return (2 * n) ** 2"
      ],
      "execution_count": null,
      "outputs": []
    },
    {
      "cell_type": "code",
      "metadata": {
        "id": "oSfkxpi-CsMO"
      },
      "source": [
        "def process_data(data, func):\n",
        "    return func(data) * 3"
      ],
      "execution_count": null,
      "outputs": []
    },
    {
      "cell_type": "code",
      "metadata": {
        "id": "o0-ZC2NXCsMO",
        "outputId": "b5405d0a-ced0-4133-f39c-2ddf502c6a84"
      },
      "source": [
        "process_data(2, mul)"
      ],
      "execution_count": null,
      "outputs": [
        {
          "output_type": "execute_result",
          "data": {
            "text/plain": [
              "12"
            ]
          },
          "metadata": {
            "tags": []
          },
          "execution_count": 81
        }
      ]
    },
    {
      "cell_type": "code",
      "metadata": {
        "id": "NQCS2RP1CsMO",
        "outputId": "411d6ce5-be28-4c6b-a586-b17e434aa878"
      },
      "source": [
        "process_data(2, mul2)"
      ],
      "execution_count": null,
      "outputs": [
        {
          "output_type": "execute_result",
          "data": {
            "text/plain": [
              "48"
            ]
          },
          "metadata": {
            "tags": []
          },
          "execution_count": 84
        }
      ]
    },
    {
      "cell_type": "markdown",
      "metadata": {
        "id": "pPgOQha5CsMO"
      },
      "source": [
        "you can also assign a variable to a function:"
      ]
    },
    {
      "cell_type": "code",
      "metadata": {
        "id": "oT-7MJy1CsMP"
      },
      "source": [
        "a = mul"
      ],
      "execution_count": null,
      "outputs": []
    },
    {
      "cell_type": "code",
      "metadata": {
        "id": "QKBILavXCsMP",
        "outputId": "f4125aab-3e2a-47e6-bb03-36e87672e8f6"
      },
      "source": [
        "a(2)"
      ],
      "execution_count": null,
      "outputs": [
        {
          "output_type": "execute_result",
          "data": {
            "text/plain": [
              "4"
            ]
          },
          "metadata": {
            "tags": []
          },
          "execution_count": 86
        }
      ]
    },
    {
      "cell_type": "markdown",
      "metadata": {
        "id": "52NwSw4VCsMP"
      },
      "source": [
        "Finally, you can write a function that returns a function:"
      ]
    },
    {
      "cell_type": "code",
      "metadata": {
        "id": "JLWzpdhZCsMP"
      },
      "source": [
        "def my_pow(power):\n",
        "    def func(n):\n",
        "        return n ** power\n",
        "    return func"
      ],
      "execution_count": null,
      "outputs": []
    },
    {
      "cell_type": "code",
      "metadata": {
        "id": "Q9jVg-E8CsMQ"
      },
      "source": [
        ""
      ],
      "execution_count": null,
      "outputs": []
    },
    {
      "cell_type": "code",
      "metadata": {
        "id": "u3n3YwcNCsMQ"
      },
      "source": [
        "mul = my_pow(2)"
      ],
      "execution_count": null,
      "outputs": []
    },
    {
      "cell_type": "code",
      "metadata": {
        "id": "iTrMTuDYCsMQ",
        "outputId": "2374f641-2216-4e2e-9aa7-d8ea8b209264"
      },
      "source": [
        "type(mul)"
      ],
      "execution_count": null,
      "outputs": [
        {
          "output_type": "execute_result",
          "data": {
            "text/plain": [
              "function"
            ]
          },
          "metadata": {
            "tags": []
          },
          "execution_count": 90
        }
      ]
    },
    {
      "cell_type": "code",
      "metadata": {
        "id": "rUsf__qYCsMQ",
        "outputId": "fe4fad45-a5e9-4a3e-c30b-f9058c4975b7"
      },
      "source": [
        "mul(2)"
      ],
      "execution_count": null,
      "outputs": [
        {
          "output_type": "execute_result",
          "data": {
            "text/plain": [
              "4"
            ]
          },
          "metadata": {
            "tags": []
          },
          "execution_count": 91
        }
      ]
    },
    {
      "cell_type": "markdown",
      "metadata": {
        "id": "mB_JLdktCsMQ"
      },
      "source": [
        "### Lambda Functions\n",
        "\n",
        "Lambda function are on the-fly functions that don't have a name (anonymous)."
      ]
    },
    {
      "cell_type": "markdown",
      "metadata": {
        "id": "WTVQyrqJCsMR"
      },
      "source": [
        "``` Python\n",
        "lambda params: expr(params)\n",
        "```\n",
        "\n",
        "Defined functions vs. lambdas"
      ]
    },
    {
      "cell_type": "code",
      "metadata": {
        "id": "_MbdJ9VkCsMR"
      },
      "source": [
        "def mul(n):\n",
        "    return n ** 2"
      ],
      "execution_count": null,
      "outputs": []
    },
    {
      "cell_type": "code",
      "metadata": {
        "id": "fpwW0VWvCsMR",
        "outputId": "01a8b82e-0db5-4340-9e3a-646c958039fd"
      },
      "source": [
        "mul(2)"
      ],
      "execution_count": null,
      "outputs": [
        {
          "output_type": "execute_result",
          "data": {
            "text/plain": [
              "4"
            ]
          },
          "metadata": {
            "tags": []
          },
          "execution_count": 93
        }
      ]
    },
    {
      "cell_type": "code",
      "metadata": {
        "id": "yyEgxtUtCsMR"
      },
      "source": [
        "a = lambda n: n ** 2"
      ],
      "execution_count": null,
      "outputs": []
    },
    {
      "cell_type": "code",
      "metadata": {
        "id": "NZIquh9DCsMS",
        "outputId": "0dc97e72-19ac-4d45-8d14-08c5e18efc46"
      },
      "source": [
        "a(2)"
      ],
      "execution_count": null,
      "outputs": [
        {
          "output_type": "execute_result",
          "data": {
            "text/plain": [
              "4"
            ]
          },
          "metadata": {
            "tags": []
          },
          "execution_count": 95
        }
      ]
    },
    {
      "cell_type": "code",
      "metadata": {
        "id": "7Pjw2oJJCsMS"
      },
      "source": [
        "def process_data(data, func):\n",
        "    return func(data) * 3"
      ],
      "execution_count": null,
      "outputs": []
    },
    {
      "cell_type": "code",
      "metadata": {
        "id": "dx0rhqj2CsMS",
        "outputId": "630bff78-3afc-407f-c21f-a55575cb8930"
      },
      "source": [
        "process_data(2, lambda n: n**2)"
      ],
      "execution_count": null,
      "outputs": [
        {
          "output_type": "execute_result",
          "data": {
            "text/plain": [
              "12"
            ]
          },
          "metadata": {
            "tags": []
          },
          "execution_count": 97
        }
      ]
    },
    {
      "cell_type": "code",
      "metadata": {
        "id": "gU2NJSq2CsMS",
        "outputId": "22364941-8de6-429e-dba1-02e688aec8e2"
      },
      "source": [
        "process_data(2, lambda n: n**4)"
      ],
      "execution_count": null,
      "outputs": [
        {
          "output_type": "execute_result",
          "data": {
            "text/plain": [
              "48"
            ]
          },
          "metadata": {
            "tags": []
          },
          "execution_count": 98
        }
      ]
    },
    {
      "cell_type": "markdown",
      "metadata": {
        "id": "sj5cmTw0CsMT"
      },
      "source": [
        "### Map\n",
        "\n",
        "Most of the time we apply operations on lists and sequences. What this does is applies that operation on each element of the list or sequence.\n",
        "\n",
        "For example we easily can update the elements of a list using a **for** loop:"
      ]
    },
    {
      "cell_type": "code",
      "metadata": {
        "id": "xQJ4RXfqCsMT",
        "outputId": "d3bedfb3-a4a9-4226-a103-4e219e32a6d3"
      },
      "source": [
        "def multiplication(n):\n",
        "    mul_by_2 = []\n",
        "    for item in n:\n",
        "        mul_by_2.append(item * 2)\n",
        "    return mul_by_2\n",
        "\n",
        "multiplication([1,2,3])"
      ],
      "execution_count": null,
      "outputs": [
        {
          "output_type": "execute_result",
          "data": {
            "text/plain": [
              "[2, 4, 6]"
            ]
          },
          "metadata": {
            "tags": []
          },
          "execution_count": 34
        }
      ]
    },
    {
      "cell_type": "markdown",
      "metadata": {
        "id": "wngqMZSBCsMU"
      },
      "source": [
        "Functional programming allows to define this much simpler and more concise.\n",
        "\n",
        "Executing the same block of code as before with the *map* function looks like this:"
      ]
    },
    {
      "cell_type": "code",
      "metadata": {
        "id": "ju3VJ2PtCsMU",
        "outputId": "0e487dac-21af-41d8-e1c0-d0232507f47f"
      },
      "source": [
        "def multiplication(n):\n",
        "    return n * 2\n",
        "\n",
        "list(map(multiplication, [1,2,3]))"
      ],
      "execution_count": null,
      "outputs": [
        {
          "output_type": "execute_result",
          "data": {
            "text/plain": [
              "[2, 4, 6]"
            ]
          },
          "metadata": {
            "tags": []
          },
          "execution_count": 35
        }
      ]
    },
    {
      "cell_type": "markdown",
      "metadata": {
        "id": "-JKiUBLECsMU"
      },
      "source": [
        "When calling map, provide a function as the first argument and the data as the second argument: **map(fn, iter)**\n",
        "\n",
        "Often, you don't want to define a full-blown function. To avoid declaring a function, you can use lambdas. Lambda-Functions are anonymous, on-the-fly, unnamed functions. Take a look at this:"
      ]
    },
    {
      "cell_type": "code",
      "metadata": {
        "id": "lEe-KcjtCsMV",
        "outputId": "2eaa2209-7262-40b0-c27e-503f69a66d52"
      },
      "source": [
        "list(map((lambda x: x * 2), [1,2,3]))"
      ],
      "execution_count": null,
      "outputs": [
        {
          "output_type": "execute_result",
          "data": {
            "text/plain": [
              "[2, 4, 6]"
            ]
          },
          "metadata": {
            "tags": []
          },
          "execution_count": 36
        }
      ]
    },
    {
      "cell_type": "markdown",
      "metadata": {
        "id": "dYirgfZNCsMV"
      },
      "source": [
        "Obviously, you can go crazy with lambdas. You can even use arrays of functions in lambdas, look at this:"
      ]
    },
    {
      "cell_type": "code",
      "metadata": {
        "id": "ekw5H8xxCsMV",
        "outputId": "8cfdf82d-7f2d-461f-d389-609126b351ab"
      },
      "source": [
        "def times_two(a): return a * 2\n",
        "def times_three(a): return a * 3\n",
        "\n",
        "numbers = [1, 2, 3, 4]\n",
        "\n",
        "both_functions = [times_two, times_three]\n",
        "\n",
        "for number in numbers:\n",
        "    print(list(map((lambda a: a(number)), both_functions)))"
      ],
      "execution_count": null,
      "outputs": [
        {
          "output_type": "stream",
          "text": [
            "[2, 3]\n",
            "[4, 6]\n",
            "[6, 9]\n",
            "[8, 12]\n"
          ],
          "name": "stdout"
        }
      ]
    },
    {
      "cell_type": "code",
      "metadata": {
        "id": "jhJQTVPACsMV",
        "outputId": "783c0fe1-ab9c-468c-903d-a49cdd028940"
      },
      "source": [
        "print(list(map(lambda number: list(map((lambda a: a(number)), both_functions)), numbers)))"
      ],
      "execution_count": null,
      "outputs": [
        {
          "output_type": "stream",
          "text": [
            "[[2, 3], [4, 6], [6, 9], [8, 12]]\n"
          ],
          "name": "stdout"
        }
      ]
    },
    {
      "cell_type": "markdown",
      "metadata": {
        "id": "b6zrEqpoCsMW"
      },
      "source": [
        "Let's take another example where we want to find the length of each of the elements from a list:"
      ]
    },
    {
      "cell_type": "code",
      "metadata": {
        "id": "Xwig-K00CsMW",
        "outputId": "f1e4b1d6-70ce-48d0-e08e-dbb18c7a62ac"
      },
      "source": [
        "countries = ['Switzerland', 'Germany', 'France', 'Austria', 'Italy']\n",
        "lengths = []\n",
        "for country in countries:\n",
        "    lengths.append(len(country))\n",
        "print(lengths)"
      ],
      "execution_count": null,
      "outputs": [
        {
          "output_type": "stream",
          "text": [
            "[11, 7, 6, 7, 5]\n"
          ],
          "name": "stdout"
        }
      ]
    },
    {
      "cell_type": "markdown",
      "metadata": {
        "id": "_-ihLF0gCsMW"
      },
      "source": [
        "We can use map to achieve the same thing:"
      ]
    },
    {
      "cell_type": "code",
      "metadata": {
        "id": "f9lP3RvfCsMW",
        "outputId": "3f83c4c6-1ce3-4429-adc8-6444168a6aad"
      },
      "source": [
        "lengths = list(map(len, countries))\n",
        "print(lengths)"
      ],
      "execution_count": null,
      "outputs": [
        {
          "output_type": "stream",
          "text": [
            "[11, 7, 6, 7, 5]\n"
          ],
          "name": "stdout"
        }
      ]
    },
    {
      "cell_type": "markdown",
      "metadata": {
        "id": "aL2jkaEnCsMX"
      },
      "source": [
        "Map is a built-in function; it's always there and works the same way all the time. It also has some performance benefit because it is usually faster than a manually coded for loop.\n",
        "\n",
        "### Filter\n",
        "\n",
        "Filter, like map, calls a function on each of the elements of a list. Unlike map it applies a filter to each element. If the function (filter) returns True, then the element will be in the output list. Otherwise, the value will be discarded."
      ]
    },
    {
      "cell_type": "code",
      "metadata": {
        "id": "YF15A2bVCsMX",
        "outputId": "7bb99c47-85c0-4140-9e83-b428defb80dd"
      },
      "source": [
        "numbers = [1, 2, 3, 4, 5, 6, 7, 8, 9, 10]\n",
        "\n",
        "def is_multiple_of_three(n):\n",
        "    return n % 3 == 0\n",
        "\n",
        "\n",
        "print(list(filter(is_multiple_of_three, numbers)))"
      ],
      "execution_count": null,
      "outputs": [
        {
          "output_type": "stream",
          "text": [
            "[3, 6, 9]\n"
          ],
          "name": "stdout"
        }
      ]
    },
    {
      "cell_type": "markdown",
      "metadata": {
        "id": "3EabFZ9mCsMX"
      },
      "source": [
        "We can combine filters with lambdas too, creating the function on the fly for the first argument in the filter."
      ]
    },
    {
      "cell_type": "code",
      "metadata": {
        "id": "KzoFLMbdCsMX",
        "outputId": "947d7142-02dd-4d9a-83d4-c25601e3a387"
      },
      "source": [
        "numbers = [-1, 0, 1, 2, 3, 4, 5]\n",
        "print(list(filter((lambda a: a < 2), numbers)))"
      ],
      "execution_count": null,
      "outputs": [
        {
          "output_type": "stream",
          "text": [
            "[-1, 0, 1]\n"
          ],
          "name": "stdout"
        }
      ]
    },
    {
      "cell_type": "markdown",
      "metadata": {
        "id": "byTVPe9OCsMY"
      },
      "source": [
        "We can also use filter to find the intersections of two list."
      ]
    },
    {
      "cell_type": "code",
      "metadata": {
        "id": "kfBrRL3KCsMY",
        "outputId": "ded80bf2-9553-42d4-e274-076d0f0cab05"
      },
      "source": [
        "numbers = [-1, 0, 1, 2, 3, 4, 5]\n",
        "numbers2 = [0, 4, 5, 12, 6, 7, 8]\n",
        "print(list(filter(lambda a: a in numbers, numbers2)))"
      ],
      "execution_count": null,
      "outputs": [
        {
          "output_type": "stream",
          "text": [
            "[0, 4, 5]\n"
          ],
          "name": "stdout"
        }
      ]
    },
    {
      "cell_type": "markdown",
      "metadata": {
        "id": "1QLTIn7UCsMY"
      },
      "source": [
        "### Reduce\n",
        "\n",
        "Reduce reduces a list or an iterable to one single value. In Python 3 it lives in the module functools. So, if we want to use it we have to import it first."
      ]
    },
    {
      "cell_type": "code",
      "metadata": {
        "id": "oEMAoXK5CsMY",
        "outputId": "f4d81cc1-04ee-446d-fa61-d83d495654b3"
      },
      "source": [
        "from functools import reduce\n",
        "\n",
        "numbers = [1, 2, 3, 4, 5, 6]\n",
        "\n",
        "print(reduce((lambda a, b: a * b), numbers))"
      ],
      "execution_count": null,
      "outputs": [
        {
          "output_type": "stream",
          "text": [
            "720\n"
          ],
          "name": "stdout"
        }
      ]
    },
    {
      "cell_type": "markdown",
      "metadata": {
        "id": "iyEMK_DVCsMZ"
      },
      "source": [
        "Ok, let's take a moment to understand what is happening here. ``reduce`` calls the function multiple times. The first parameter will always hold the current result. In our case, this is a. It will always hold the current state of the multiplication. The second parameter, in our case b, will be the current item in the list.\n",
        "\n",
        "The call sequence will look like this:"
      ]
    },
    {
      "cell_type": "markdown",
      "metadata": {
        "id": "0btXRIwLCsMZ"
      },
      "source": [
        "- Call #0: a=1, b=2 -> return 2\n",
        "- Call #1: a=2, b=3 -> return 6\n",
        "- Call #2: a=6, b=4 -> return 24\n",
        "- Call #3: a=24, b=5 -> return 120\n",
        "- Call #4: a=120, b=6 -> return 720"
      ]
    }
  ]
}