{
  "nbformat": 4,
  "nbformat_minor": 0,
  "metadata": {
    "kernelspec": {
      "display_name": "Python (data-science)",
      "language": "python",
      "name": "data-science"
    },
    "language_info": {
      "codemirror_mode": {
        "name": "ipython",
        "version": 3
      },
      "file_extension": ".py",
      "mimetype": "text/x-python",
      "name": "python",
      "nbconvert_exporter": "python",
      "pygments_lexer": "ipython3",
      "version": "3.7.6"
    },
    "colab": {
      "name": "SIT_W0D0_LC3_Python_Flow_Control.ipynb",
      "provenance": [],
      "collapsed_sections": [
        "j3XuFcsUI0nQ"
      ],
      "include_colab_link": true
    }
  },
  "cells": [
    {
      "cell_type": "markdown",
      "metadata": {
        "id": "view-in-github",
        "colab_type": "text"
      },
      "source": [
        "<a href=\"https://colab.research.google.com/github/EmAchieng/DataSciencePracticeSeries/blob/master/Python_Flow_Control.ipynb\" target=\"_parent\"><img src=\"https://colab.research.google.com/assets/colab-badge.svg\" alt=\"Open In Colab\"/></a>"
      ]
    },
    {
      "cell_type": "markdown",
      "metadata": {
        "tags": [
          "headers"
        ],
        "id": "iVdbER_6I0m4"
      },
      "source": [
        "<a id='Q0'></a>\n",
        "<center><a target=\"_blank\" href=\"http://www.propulsion.academy\"><img src=\"https://drive.google.com/uc?id=1McNxpNrSwfqu1w-QtlOmPSmfULvkkMQV\" width=\"200\" style=\"background:none; border:none; box-shadow:none;\" /></a> </center>\n",
        "<center> <h1> Tutorial 3, Preparation: Python Flow Control </h1> </center>\n",
        "<p style=\"margin-bottom:1cm;\"></p>\n",
        "<center><h4>Propulsion Academy, 2021</h4></center>\n",
        "<p style=\"margin-bottom:1cm;\"></p>\n",
        "\n",
        "<div style=\"background:#EEEDF5;border-top:0.1cm solid #EF475B;border-bottom:0.1cm solid #EF475B;\">\n",
        "    <div style=\"margin-left: 0.5cm;margin-top: 0.5cm;margin-bottom: 0.5cm;color:#303030\">\n",
        "        <p><strong>Goal:</strong> Learn the ins and out of if, for and while loops!</p>\n",
        "        <strong> Outline:</strong>\n",
        "        <a id='P0' name=\"P0\"></a>\n",
        "        <ol>\n",
        "            <li> <a style=\"color:#303030\" href='#I'>Introduction </a> </li>\n",
        "            <li> <a style=\"color:#303030\" href='#P1'>Conditionals</a></li>\n",
        "            <li> <a style=\"color:#303030\" href='#P2'>Loops</a></li>\n",
        "        </ol>\n",
        "        <strong>Topics Trained:</strong> Python if, elif, else, for, while. range. break, continue, ...\n",
        "    </div>\n",
        "</div>\n",
        "\n",
        "<nav style=\"text-align:right\"><strong>\n",
        "        <a style=\"color:#00BAE5\" href=\"https://monolith.propulsion-home.ch/backend/api/momentum/materials/intro-2-ds-materials/index.html\" title=\"momentum\"> Introduction to Data Science</a>|\n",
        "        <a style=\"color:#00BAE5\" href=\"https://monolith.propulsion-home.ch/backend/api/momentum/materials/intro-2-ds-materials/weeks/preparation/index.html\" title=\"momentum\">Course Preparation</a>|\n",
        "        <a style=\"color:#00BAE5\" href=\"https://monolith.propulsion-home.ch/backend/api/momentum/materials/intro-2-ds-materials/weeks/preparation/pages/SIT_W0D0_LC3_Python_Flow_Control.html\" title=\"momentum\"> Tutorial 3, Preparation: Python Flow Control</a>\n",
        "</strong></nav>"
      ]
    },
    {
      "cell_type": "markdown",
      "metadata": {
        "id": "wcbfDFT8I0nB"
      },
      "source": [
        "<a id='I' name=\"I\"></a>\n",
        "## [Introduction](#P0)"
      ]
    },
    {
      "cell_type": "markdown",
      "metadata": {
        "id": "foSA45CdI0nC"
      },
      "source": [
        "Scripts are read by the computer from top to bottom. Line by line.\n",
        "However, sometimes we want to skip a line or sometimes we want to do the same action over and over. This is where conditionals and loops come into play."
      ]
    },
    {
      "cell_type": "markdown",
      "metadata": {
        "id": "oypxJ-bRI0nC"
      },
      "source": [
        "<a id='P1' name=\"P1\"></a>\n",
        "## [Conditionals](#P0)"
      ]
    },
    {
      "cell_type": "markdown",
      "metadata": {
        "id": "KC8-fEUHI0nD"
      },
      "source": [
        "### The if/elif/else\n",
        "\n",
        "Very often you need to execute a statement only if a certain condition holds.\n",
        "In Python you can achieve this with `if`, `elif`, and `else` clauses, which lets you conditionally execute blocks of statements."
      ]
    },
    {
      "cell_type": "code",
      "metadata": {
        "id": "S1-IeSOXI0nE",
        "outputId": "d4f70b22-7ee5-4297-a886-78c7b6c909da"
      },
      "source": [
        "user = 'admin'\n",
        "if user == 'admin':\n",
        "    print('Hello admin')\n",
        "elif user == 'editor':\n",
        "    print('Hello editor')\n",
        "else:\n",
        "    print('Hello user')"
      ],
      "execution_count": null,
      "outputs": [
        {
          "output_type": "stream",
          "text": [
            "Hello admin\n"
          ],
          "name": "stdout"
        }
      ]
    },
    {
      "cell_type": "markdown",
      "metadata": {
        "id": "esVyGGETI0nF"
      },
      "source": [
        "In the example above, if the variable user holds the string 'admin', then the first block of code is executed. If not, then the second block of code is executed.\n",
        "The conditional statement if `user == 'admin':` ends with the colon `:`, which means that the condition ends and that a block of code follows.\n",
        "The block is the part of the code that is executed if the conditional is true. Blocks can be indented by any number of spaces or tabs, but all lines belonging to the same block need to be at the same indentation level. Most programmers use 4 spaces or 1 tab to indent blocks of code - and you should too."
      ]
    },
    {
      "cell_type": "code",
      "metadata": {
        "id": "uZeoRBjgI0nG",
        "outputId": "15d82eb7-dd7d-40ac-8ea1-6761ed3d367f"
      },
      "source": [
        "# example of multiple commands belongs to the same block\n",
        "number_of_admins=0\n",
        "if user == 'admin':\n",
        "    print('Hello Admin')\n",
        "    number_of_admins = number_of_admins + 1;\n",
        "    print('Total number of admins is {}'.format(number_of_admins))"
      ],
      "execution_count": null,
      "outputs": [
        {
          "output_type": "stream",
          "text": [
            "Hello Admin\n",
            "Total number of admins is 1\n"
          ],
          "name": "stdout"
        }
      ]
    },
    {
      "cell_type": "markdown",
      "metadata": {
        "id": "Uq5YHfsZI0nH"
      },
      "source": [
        "Another example:"
      ]
    },
    {
      "cell_type": "code",
      "metadata": {
        "id": "lFaJBlNwI0nH",
        "outputId": "98811dc9-cfb8-47be-94c5-c352a36a130f"
      },
      "source": [
        "age = 24\n",
        "if age < 18:\n",
        "    print(\"You are to young to drive\")\n",
        "elif 18 < age < 75:\n",
        "    print(\"You can drive\")\n",
        "else:\n",
        "    print(\"You can drive but you must be very careful\")"
      ],
      "execution_count": null,
      "outputs": [
        {
          "output_type": "stream",
          "text": [
            "You can drive\n"
          ],
          "name": "stdout"
        }
      ]
    },
    {
      "cell_type": "markdown",
      "metadata": {
        "id": "BLeZtmApI0nI"
      },
      "source": [
        "Unlike most programming languages Python does not have a switch statement so you use `if`, `elif`, and `else` instead.\n",
        "\n",
        "### A Note on True and False\n",
        "\n",
        "The `if` statement expects a boolean value to decide which path to execute. You have already seen True and False, which are pure boolean values. However, Python is much more relaxed when it comes to boolean values:"
      ]
    },
    {
      "cell_type": "code",
      "metadata": {
        "id": "1vXkBhiEI0nJ",
        "outputId": "311be125-bd12-4f94-8579-653fa7acfa3e"
      },
      "source": [
        "bool(None)  # => False"
      ],
      "execution_count": null,
      "outputs": [
        {
          "output_type": "execute_result",
          "data": {
            "text/plain": [
              "False"
            ]
          },
          "metadata": {
            "tags": []
          },
          "execution_count": 5
        }
      ]
    },
    {
      "cell_type": "code",
      "metadata": {
        "id": "LKJEYYcAI0nK",
        "outputId": "eac28571-7c44-4285-f363-2d883470e479"
      },
      "source": [
        "bool(False) # => False"
      ],
      "execution_count": null,
      "outputs": [
        {
          "output_type": "execute_result",
          "data": {
            "text/plain": [
              "False"
            ]
          },
          "metadata": {
            "tags": []
          },
          "execution_count": 6
        }
      ]
    },
    {
      "cell_type": "code",
      "metadata": {
        "id": "CT-oWUEDI0nL",
        "outputId": "f6790c13-6086-4593-acaf-ac1285a31ead"
      },
      "source": [
        "bool(0)     # => False"
      ],
      "execution_count": null,
      "outputs": [
        {
          "output_type": "execute_result",
          "data": {
            "text/plain": [
              "False"
            ]
          },
          "metadata": {
            "tags": []
          },
          "execution_count": 7
        }
      ]
    },
    {
      "cell_type": "code",
      "metadata": {
        "id": "Ka9GCQmHI0nL",
        "outputId": "97998425-b82c-47f3-9f4b-d816eae809e0"
      },
      "source": [
        "bool(0.0)   # => False"
      ],
      "execution_count": null,
      "outputs": [
        {
          "output_type": "execute_result",
          "data": {
            "text/plain": [
              "False"
            ]
          },
          "metadata": {
            "tags": []
          },
          "execution_count": 8
        }
      ]
    },
    {
      "cell_type": "code",
      "metadata": {
        "id": "UxGznWlzI0nM",
        "outputId": "7d01a9b1-c39d-436d-8458-b5d242f05d06"
      },
      "source": [
        "bool('')    # => False"
      ],
      "execution_count": null,
      "outputs": [
        {
          "output_type": "execute_result",
          "data": {
            "text/plain": [
              "False"
            ]
          },
          "metadata": {
            "tags": []
          },
          "execution_count": 9
        }
      ]
    },
    {
      "cell_type": "code",
      "metadata": {
        "id": "riVNBGuCI0nM",
        "outputId": "8c8589ab-12d0-4493-949d-f68845fb5c7d"
      },
      "source": [
        "bool({}) # => False"
      ],
      "execution_count": null,
      "outputs": [
        {
          "output_type": "execute_result",
          "data": {
            "text/plain": [
              "False"
            ]
          },
          "metadata": {
            "tags": []
          },
          "execution_count": 10
        }
      ]
    },
    {
      "cell_type": "code",
      "metadata": {
        "id": "Qa7ZUDMMI0nN"
      },
      "source": [
        "# When using a value in an if-statement, Python automatically converts the value to a bool(...)\n",
        "if 0:\n",
        "    print(\"This will never be executed, because 0 is False\")"
      ],
      "execution_count": null,
      "outputs": []
    },
    {
      "cell_type": "code",
      "metadata": {
        "id": "qOILmE8WI0nN",
        "outputId": "e4274d38-ef18-4583-cb7b-156231ebaeb7"
      },
      "source": [
        "# How should we check for an empty list?\n",
        "data = []\n",
        "if data:\n",
        "    process(data)\n",
        "else:\n",
        "    print(\"There's no data!\")"
      ],
      "execution_count": null,
      "outputs": [
        {
          "output_type": "stream",
          "text": [
            "There's no data!\n"
          ],
          "name": "stdout"
        }
      ]
    },
    {
      "cell_type": "code",
      "metadata": {
        "id": "1GJ_19krI0nN",
        "outputId": "7bc5eee8-5a83-4b5d-a734-0c007cd49163"
      },
      "source": [
        "bool(100000000000)   # => True"
      ],
      "execution_count": null,
      "outputs": [
        {
          "output_type": "execute_result",
          "data": {
            "text/plain": [
              "True"
            ]
          },
          "metadata": {
            "tags": []
          },
          "execution_count": 13
        }
      ]
    },
    {
      "cell_type": "code",
      "metadata": {
        "id": "rw2YI4daI0nO",
        "outputId": "7e7ad8d2-beb7-40f8-8808-5f20b4177ec9"
      },
      "source": [
        "bool([0]) # => List is not empty -> True"
      ],
      "execution_count": null,
      "outputs": [
        {
          "output_type": "execute_result",
          "data": {
            "text/plain": [
              "True"
            ]
          },
          "metadata": {
            "tags": []
          },
          "execution_count": 14
        }
      ]
    },
    {
      "cell_type": "code",
      "metadata": {
        "id": "ZwmeyC4WI0nO",
        "outputId": "db011adb-16cc-4b55-f5c5-fa3bbacec19c"
      },
      "source": [
        "bool(\"0\") # => String is not empty -> True"
      ],
      "execution_count": null,
      "outputs": [
        {
          "output_type": "execute_result",
          "data": {
            "text/plain": [
              "True"
            ]
          },
          "metadata": {
            "tags": []
          },
          "execution_count": 15
        }
      ]
    },
    {
      "cell_type": "markdown",
      "metadata": {
        "id": "0bXzFV6XI0nP"
      },
      "source": [
        "### Combining Different conditions\n",
        "\n",
        "Very often, you want to check for multiple conditions in the if statement. You can use the boolean operators you saw earlier to do this:"
      ]
    },
    {
      "cell_type": "code",
      "metadata": {
        "id": "e9b0hr_dI0nP"
      },
      "source": [
        "(a, b) = (20, 14)"
      ],
      "execution_count": null,
      "outputs": []
    },
    {
      "cell_type": "code",
      "metadata": {
        "id": "MvupHgpDI0nQ",
        "outputId": "329eec8d-4936-40eb-8eda-7de9d373d199"
      },
      "source": [
        "if a > 10 and b > 10:\n",
        "    print(\"Both a and b are larger than 10!\")\n",
        "\n",
        "if (a > 0 and b > 0) or (a == b):\n",
        "    print(\"Both a & b are positive, or they are the same\")"
      ],
      "execution_count": null,
      "outputs": [
        {
          "output_type": "stream",
          "text": [
            "Both a and b are larger than 10!\n",
            "Both a & b are positive, or they are the same\n"
          ],
          "name": "stdout"
        }
      ]
    },
    {
      "cell_type": "markdown",
      "metadata": {
        "id": "j3XuFcsUI0nQ"
      },
      "source": [
        "### Conditional Evaluation\n",
        "\n",
        "1. When only evaluating that an array has length, instead of this:\n",
        "``if  len(array) > 0``\n",
        "evaluate truthiness, like this:\n",
        "``if  array``\n",
        "\n",
        "2. When only evaluating that an array is empty, instead of this:\n",
        "``if  len(array) == 0``\n",
        "evaluate truthiness, like this:\n",
        "``if  not array``\n",
        "\n",
        "3. When only evaluating that a string is not empty, instead of this:\n",
        "``if  string !== \"\"``\n",
        "evaluate truthiness, like this:\n",
        "``if  string``\n",
        "\n",
        "4. When only evaluating that a string is empty, instead of this:\n",
        "``if  string == \"\"``\n",
        "evaluate falsy-ness, like this:\n",
        "``if  not string``\n",
        "\n",
        "5. When only evaluating that a reference is true, instead of this:\n",
        "``if  foo is True``\n",
        "evaluate like you mean it, take advantage of built in capabilities:\n",
        "``if  foo :``\n",
        "\n",
        "6. When evaluating that a reference is false, instead of this:\n",
        "``if  foo is False:``\n",
        "use negation to coerce a true evaluation\n",
        "``if  not foo :``\n",
        "Be careful, this will also match: 0, \"\", null, undefined, NaN\n",
        "If you _MUST_ test for a boolean false, then use\n",
        "``if foo is False``\n",
        "\n",
        "7. When only evaluating a ref that might be null or undefined, but NOT false, \"\" or 0, instead of this:\n",
        "``if  foo is null or foo is undefined :``\n",
        "take advantage of == type coercion, like this:\n",
        "``if  foo == null :``\n",
        "Remember, using == will match a ``null`` to BOTH ``null`` and ``undefined``\n",
        "but not ``false``, \"\" or 0\n",
        "``null == undefined``"
      ]
    },
    {
      "cell_type": "markdown",
      "metadata": {
        "id": "-6lSO_duI0nR"
      },
      "source": [
        "<a id='P2' name=\"P2\"></a>\n",
        "## [Loops](#P0)"
      ]
    },
    {
      "cell_type": "markdown",
      "metadata": {
        "id": "AzWPs7e9I0nT"
      },
      "source": [
        "### The for Statement\n",
        "\n",
        "The for statement in Python supports repeated execution of a statement or block of statements that is controlled by an iterable expression.\n",
        "\n",
        "The general syntax is as follows:\n",
        "\n",
        "```Python\n",
        "for item in iterable:\n",
        "    process(item)\n",
        "```"
      ]
    },
    {
      "cell_type": "markdown",
      "metadata": {
        "id": "M84VJy80I0nT"
      },
      "source": [
        "Iterable objects are objects that can be iterated through, e.g. objects that can be divided into sub objects.\n",
        "\n",
        "Examples for iterables are **strings**, **lists**, **dicts** etc."
      ]
    },
    {
      "cell_type": "code",
      "metadata": {
        "id": "UeHB6EabI0nU",
        "outputId": "506496a0-c9ed-4a7d-93f4-0df2df609cac"
      },
      "source": [
        "# the following piece of code prints out single letters, line by line\n",
        "for char in 'Propulsion Academy':\n",
        "    print(char)"
      ],
      "execution_count": null,
      "outputs": [
        {
          "output_type": "stream",
          "text": [
            "P\n",
            "r\n",
            "o\n",
            "p\n",
            "u\n",
            "l\n",
            "s\n",
            "i\n",
            "o\n",
            "n\n",
            " \n",
            "A\n",
            "c\n",
            "a\n",
            "d\n",
            "e\n",
            "m\n",
            "y\n"
          ],
          "name": "stdout"
        }
      ]
    },
    {
      "cell_type": "code",
      "metadata": {
        "id": "FxNyQcR9I0nU",
        "outputId": "31df6d69-49fa-4e9f-fa54-a44189607956"
      },
      "source": [
        "# the following code iterates through a list, and prints out each item\n",
        "for item in ['Laurent', 'Simon', 'Paul']:\n",
        "    print(item)"
      ],
      "execution_count": null,
      "outputs": [
        {
          "output_type": "stream",
          "text": [
            "Laurent\n",
            "Simon\n",
            "Paul\n"
          ],
          "name": "stdout"
        }
      ]
    },
    {
      "cell_type": "markdown",
      "metadata": {
        "id": "wmt5OqswI0nV"
      },
      "source": [
        "More information about iterables and iterators can be found here: https://wiki.python.org/moin/Iterator\n",
        "\n",
        "### The while Statement\n",
        "\n",
        "The while statement is used when you need to repeat a block of code controlled by a conditional expression. For example, the code will be executed until the count value becomes 10 and then it will stop."
      ]
    },
    {
      "cell_type": "code",
      "metadata": {
        "id": "w7SeM8qYI0nV",
        "outputId": "3fb08aad-d408-4acb-d148-be5e781ebce3"
      },
      "source": [
        "count = 0\n",
        "while count < 10:\n",
        "    count += 1\n",
        "    print(count)"
      ],
      "execution_count": null,
      "outputs": [
        {
          "output_type": "stream",
          "text": [
            "1\n",
            "2\n",
            "3\n",
            "4\n",
            "5\n",
            "6\n",
            "7\n",
            "8\n",
            "9\n",
            "10\n"
          ],
          "name": "stdout"
        }
      ]
    },
    {
      "cell_type": "markdown",
      "metadata": {
        "id": "P1e6U6wAI0nW"
      },
      "source": [
        "### range()\n",
        "\n",
        "Sometimes you would like to iterate through a certain range of numbers. range() creates an iterable for you to do so. For example:"
      ]
    },
    {
      "cell_type": "code",
      "metadata": {
        "id": "0yMytE-RI0nW",
        "outputId": "718e50fa-6790-4476-e1ce-26f29d6d8b23"
      },
      "source": [
        "list(range(10, 3, -2))"
      ],
      "execution_count": null,
      "outputs": [
        {
          "output_type": "execute_result",
          "data": {
            "text/plain": [
              "[10, 8, 6, 4]"
            ]
          },
          "metadata": {
            "tags": []
          },
          "execution_count": 21
        }
      ]
    },
    {
      "cell_type": "code",
      "metadata": {
        "tags": [],
        "id": "WF3GzgpJI0nW",
        "outputId": "dfb079c1-f7ff-4d16-c44d-77ce199a2d03"
      },
      "source": [
        "# print numbers from 1-199\n",
        "for number in range(1, 200):\n",
        "    print(number)"
      ],
      "execution_count": null,
      "outputs": [
        {
          "output_type": "stream",
          "text": [
            "1\n",
            "2\n",
            "3\n",
            "4\n",
            "5\n",
            "6\n",
            "7\n",
            "8\n",
            "9\n",
            "10\n",
            "11\n",
            "12\n",
            "13\n",
            "14\n",
            "15\n",
            "16\n",
            "17\n",
            "18\n",
            "19\n",
            "20\n",
            "21\n",
            "22\n",
            "23\n",
            "24\n",
            "25\n",
            "26\n",
            "27\n",
            "28\n",
            "29\n",
            "30\n",
            "31\n",
            "32\n",
            "33\n",
            "34\n",
            "35\n",
            "36\n",
            "37\n",
            "38\n",
            "39\n",
            "40\n",
            "41\n",
            "42\n",
            "43\n",
            "44\n",
            "45\n",
            "46\n",
            "47\n",
            "48\n",
            "49\n",
            "50\n",
            "51\n",
            "52\n",
            "53\n",
            "54\n",
            "55\n",
            "56\n",
            "57\n",
            "58\n",
            "59\n",
            "60\n",
            "61\n",
            "62\n",
            "63\n",
            "64\n",
            "65\n",
            "66\n",
            "67\n",
            "68\n",
            "69\n",
            "70\n",
            "71\n",
            "72\n",
            "73\n",
            "74\n",
            "75\n",
            "76\n",
            "77\n",
            "78\n",
            "79\n",
            "80\n",
            "81\n",
            "82\n",
            "83\n",
            "84\n",
            "85\n",
            "86\n",
            "87\n",
            "88\n",
            "89\n",
            "90\n",
            "91\n",
            "92\n",
            "93\n",
            "94\n",
            "95\n",
            "96\n",
            "97\n",
            "98\n",
            "99\n",
            "100\n",
            "101\n",
            "102\n",
            "103\n",
            "104\n",
            "105\n",
            "106\n",
            "107\n",
            "108\n",
            "109\n",
            "110\n",
            "111\n",
            "112\n",
            "113\n",
            "114\n",
            "115\n",
            "116\n",
            "117\n",
            "118\n",
            "119\n",
            "120\n",
            "121\n",
            "122\n",
            "123\n",
            "124\n",
            "125\n",
            "126\n",
            "127\n",
            "128\n",
            "129\n",
            "130\n",
            "131\n",
            "132\n",
            "133\n",
            "134\n",
            "135\n",
            "136\n",
            "137\n",
            "138\n",
            "139\n",
            "140\n",
            "141\n",
            "142\n",
            "143\n",
            "144\n",
            "145\n",
            "146\n",
            "147\n",
            "148\n",
            "149\n",
            "150\n",
            "151\n",
            "152\n",
            "153\n",
            "154\n",
            "155\n",
            "156\n",
            "157\n",
            "158\n",
            "159\n",
            "160\n",
            "161\n",
            "162\n",
            "163\n",
            "164\n",
            "165\n",
            "166\n",
            "167\n",
            "168\n",
            "169\n",
            "170\n",
            "171\n",
            "172\n",
            "173\n",
            "174\n",
            "175\n",
            "176\n",
            "177\n",
            "178\n",
            "179\n",
            "180\n",
            "181\n",
            "182\n",
            "183\n",
            "184\n",
            "185\n",
            "186\n",
            "187\n",
            "188\n",
            "189\n",
            "190\n",
            "191\n",
            "192\n",
            "193\n",
            "194\n",
            "195\n",
            "196\n",
            "197\n",
            "198\n",
            "199\n"
          ],
          "name": "stdout"
        }
      ]
    },
    {
      "cell_type": "markdown",
      "metadata": {
        "id": "Bg25zFc7I0nX"
      },
      "source": [
        "The general syntax for range is one of the following:\n",
        "\n",
        "- range(stop)\n",
        "- range(start, stop)\n",
        "- range(start, stop, step)"
      ]
    },
    {
      "cell_type": "code",
      "metadata": {
        "id": "mECuHRxoI0nX",
        "outputId": "3c421871-0c9b-431a-d9eb-29f041f40096"
      },
      "source": [
        "# other examples for ranges\n",
        "print(range(3))        # generates 0, 1, 2"
      ],
      "execution_count": null,
      "outputs": [
        {
          "output_type": "stream",
          "text": [
            "range(0, 3)\n"
          ],
          "name": "stdout"
        }
      ]
    },
    {
      "cell_type": "code",
      "metadata": {
        "id": "B6nVoSjOI0nY",
        "outputId": "69efe591-3f60-484f-8d7c-a60ad1e22ea3"
      },
      "source": [
        "range(5, 10)    # generates 5, 6, 7, 8, 9"
      ],
      "execution_count": null,
      "outputs": [
        {
          "output_type": "execute_result",
          "data": {
            "text/plain": [
              "range(5, 10)"
            ]
          },
          "metadata": {
            "tags": []
          },
          "execution_count": 27
        }
      ]
    },
    {
      "cell_type": "code",
      "metadata": {
        "id": "95yHAYTqI0nY",
        "outputId": "b419f171-7f8e-477f-e6d1-02f55531149e"
      },
      "source": [
        "range(2, 10, 3)   # generates 2, 5, 8"
      ],
      "execution_count": null,
      "outputs": [
        {
          "output_type": "execute_result",
          "data": {
            "text/plain": [
              "range(2, 10, 3)"
            ]
          },
          "metadata": {
            "tags": []
          },
          "execution_count": 28
        }
      ]
    },
    {
      "cell_type": "code",
      "metadata": {
        "id": "XGvM4rpkI0nY",
        "outputId": "67745a7c-efe4-40f3-f560-cf00d86b0b40"
      },
      "source": [
        "range(0, -5, -1) # generates 0, -1, -2, -3, -4"
      ],
      "execution_count": null,
      "outputs": [
        {
          "output_type": "execute_result",
          "data": {
            "text/plain": [
              "range(0, -5, -1)"
            ]
          },
          "metadata": {
            "tags": []
          },
          "execution_count": 29
        }
      ]
    },
    {
      "cell_type": "markdown",
      "metadata": {
        "id": "IYOkxAraI0nZ"
      },
      "source": [
        "### break and continue\n",
        "\n",
        "**break** breaks out of the current enclosing **for** or **while** loop:"
      ]
    },
    {
      "cell_type": "code",
      "metadata": {
        "id": "eRYglU6WI0nZ",
        "outputId": "74136df6-2b61-4315-a382-74b7ec0b1ef3"
      },
      "source": [
        "for n in range(10):\n",
        "    if n == 5:\n",
        "        break\n",
        "    print(n)"
      ],
      "execution_count": null,
      "outputs": [
        {
          "output_type": "stream",
          "text": [
            "0\n",
            "1\n",
            "2\n",
            "3\n",
            "4\n"
          ],
          "name": "stdout"
        }
      ]
    },
    {
      "cell_type": "markdown",
      "metadata": {
        "id": "Jc2U4aL5I0nZ"
      },
      "source": [
        "**continue** continues with the next iteration of the current enclosing **for** or **while** loop:"
      ]
    },
    {
      "cell_type": "code",
      "metadata": {
        "id": "IXMRfoLPI0na",
        "outputId": "5bb8bad4-111b-4b87-8b68-9e8faae6248d"
      },
      "source": [
        "for n in range(10):\n",
        "    if n == 5:\n",
        "        # skip even number\n",
        "        continue\n",
        "    print(n)"
      ],
      "execution_count": null,
      "outputs": [
        {
          "output_type": "stream",
          "text": [
            "0\n",
            "1\n",
            "2\n",
            "3\n",
            "4\n",
            "6\n",
            "7\n",
            "8\n",
            "9\n"
          ],
          "name": "stdout"
        }
      ]
    },
    {
      "cell_type": "markdown",
      "metadata": {
        "id": "P6CLrTytI0na"
      },
      "source": [
        "### Looping over Dictionaries\n",
        "\n",
        "There are three ways to loop through all items in dictionary - using **.keys()**, **.values()**, and **.items()**"
      ]
    },
    {
      "cell_type": "code",
      "metadata": {
        "id": "1LC63If6I0na",
        "outputId": "1f1fe893-aea7-4c06-eef5-f340c3ade574"
      },
      "source": [
        "person = {'firstname': 'Laurent', 'lastname': 'Hoxhaj', 'age': 26}\n",
        "\n",
        "for key, value in person.items():\n",
        "    print(f\"Key: {key}, Value: {value}\")"
      ],
      "execution_count": null,
      "outputs": [
        {
          "output_type": "stream",
          "text": [
            "Key: firstname, Value: Laurent\n",
            "Key: lastname, Value: Hoxhaj\n",
            "Key: age, Value: 26\n"
          ],
          "name": "stdout"
        }
      ]
    },
    {
      "cell_type": "code",
      "metadata": {
        "id": "s9WEEECfI0nb",
        "outputId": "099c4983-dc7b-41d4-a355-3270084d99f6"
      },
      "source": [
        "for key in person.keys():\n",
        "    print(\"Key: \", key)"
      ],
      "execution_count": null,
      "outputs": [
        {
          "output_type": "stream",
          "text": [
            "Key:  firstname\n",
            "Key:  lastname\n",
            "Key:  age\n"
          ],
          "name": "stdout"
        }
      ]
    },
    {
      "cell_type": "code",
      "metadata": {
        "id": "ED6i-B1FI0nb",
        "outputId": "b31d6ae9-c98f-4c49-94bc-5e566b32df57"
      },
      "source": [
        "for value in person.values():\n",
        "    print(\"Value: \", value)\n"
      ],
      "execution_count": null,
      "outputs": [
        {
          "output_type": "stream",
          "text": [
            "Value:  Laurent\n",
            "Value:  Hoxhaj\n",
            "Value:  26\n"
          ],
          "name": "stdout"
        }
      ]
    },
    {
      "cell_type": "markdown",
      "metadata": {
        "id": "gFhgGwr7I0nc"
      },
      "source": [
        "You can use these three methods also for other purposes:"
      ]
    },
    {
      "cell_type": "code",
      "metadata": {
        "id": "RDk7wmzeI0nc",
        "outputId": "577c9f76-be17-4bbc-e142-32f92a868658"
      },
      "source": [
        "# check if a key exist\n",
        "'firstname' in person.keys()    # => True"
      ],
      "execution_count": null,
      "outputs": [
        {
          "output_type": "execute_result",
          "data": {
            "text/plain": [
              "True"
            ]
          },
          "metadata": {
            "tags": []
          },
          "execution_count": 36
        }
      ]
    },
    {
      "cell_type": "code",
      "metadata": {
        "id": "iYKLqUJfI0nd",
        "outputId": "c0961138-8c5e-4e58-d6ed-cb8d642ba9ff"
      },
      "source": [
        "'address' in person.keys() # => False"
      ],
      "execution_count": null,
      "outputs": [
        {
          "output_type": "execute_result",
          "data": {
            "text/plain": [
              "False"
            ]
          },
          "metadata": {
            "tags": []
          },
          "execution_count": 37
        }
      ]
    },
    {
      "cell_type": "code",
      "metadata": {
        "id": "Yj8_QyZEI0ne",
        "outputId": "9b0a1260-d6e6-482f-c6c4-3a25b4eaf134"
      },
      "source": [
        "# check if a value exists\n",
        "'Laurent' in person.values() # => True"
      ],
      "execution_count": null,
      "outputs": [
        {
          "output_type": "execute_result",
          "data": {
            "text/plain": [
              "True"
            ]
          },
          "metadata": {
            "tags": []
          },
          "execution_count": 38
        }
      ]
    },
    {
      "cell_type": "code",
      "metadata": {
        "id": "rgIT6yAPI0nf",
        "outputId": "c0609117-33f9-4444-bc65-8ee408b29690"
      },
      "source": [
        "'Meyer' in person.values()   # => False"
      ],
      "execution_count": null,
      "outputs": [
        {
          "output_type": "execute_result",
          "data": {
            "text/plain": [
              "False"
            ]
          },
          "metadata": {
            "tags": []
          },
          "execution_count": 39
        }
      ]
    },
    {
      "cell_type": "code",
      "metadata": {
        "id": "bvwsN9dpI0nf"
      },
      "source": [
        "# get a list of all keys\n",
        "keys_list = list(person.keys()) # ['name', 'last_name', 'age']"
      ],
      "execution_count": null,
      "outputs": []
    },
    {
      "cell_type": "markdown",
      "metadata": {
        "id": "bkf4qx0CI0nf"
      },
      "source": [
        "### Zip"
      ]
    },
    {
      "cell_type": "code",
      "metadata": {
        "id": "ii4NdI1eI0ng",
        "outputId": "8ef55ed8-17ba-4b20-a8c5-ab79dd032ee7"
      },
      "source": [
        "questions = ['name', 'quest', 'favorite color']\n",
        "answers = ['Lancelot', 'To seek the holy grail', 'Blue']\n",
        "\n",
        "# use zip() to generate pairs of entries\n",
        "for q, a in zip(questions, answers):\n",
        "    print('What is your {0}? {1}.'.format(q, a))"
      ],
      "execution_count": null,
      "outputs": [
        {
          "output_type": "stream",
          "text": [
            "What is your name? Lancelot.\n",
            "What is your quest? To seek the holy grail.\n",
            "What is your favorite color? Blue.\n"
          ],
          "name": "stdout"
        }
      ]
    },
    {
      "cell_type": "markdown",
      "metadata": {
        "id": "q4Hsclq-I0ng"
      },
      "source": [
        "### Reverse iteration"
      ]
    },
    {
      "cell_type": "code",
      "metadata": {
        "id": "8N82BMAKI0ng",
        "outputId": "f61d89d3-0b34-45ce-bc2f-8ec801f16ba9"
      },
      "source": [
        "# use reversed() to loop over sequence in reverse\n",
        "for i in reversed(range(1, 10, 2)):\n",
        "    print(i, end=', ')"
      ],
      "execution_count": null,
      "outputs": [
        {
          "output_type": "stream",
          "text": [
            "9, 7, 5, 3, 1, "
          ],
          "name": "stdout"
        }
      ]
    },
    {
      "cell_type": "markdown",
      "metadata": {
        "id": "tCPuweJlI0ng"
      },
      "source": [
        "### Sorted iteration"
      ]
    },
    {
      "cell_type": "code",
      "metadata": {
        "id": "bRwQBDNoI0nh",
        "outputId": "746633d7-58da-4e29-8faf-89985a75f0d5"
      },
      "source": [
        "basket = ['pear', 'banana', 'orange', 'pear', 'apple']\n",
        "\n",
        "# use sorted to return a new sorted list before iterating\n",
        "for fruit in sorted(basket):\n",
        "    print(fruit)"
      ],
      "execution_count": null,
      "outputs": [
        {
          "output_type": "stream",
          "text": [
            "apple\n",
            "banana\n",
            "orange\n",
            "pear\n",
            "pear\n"
          ],
          "name": "stdout"
        }
      ]
    }
  ]
}