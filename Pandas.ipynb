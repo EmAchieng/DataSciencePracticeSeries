{
  "nbformat": 4,
  "nbformat_minor": 0,
  "metadata": {
    "celltoolbar": "Slideshow",
    "kernelspec": {
      "display_name": "Python 3",
      "language": "python",
      "name": "python3"
    },
    "language_info": {
      "codemirror_mode": {
        "name": "ipython",
        "version": 3
      },
      "file_extension": ".py",
      "mimetype": "text/x-python",
      "name": "python",
      "nbconvert_exporter": "python",
      "pygments_lexer": "ipython3",
      "version": "3.7.7"
    },
    "rise": {
      "chalkboard": {
        "color": [
          "rgb(0, 128, 255)",
          "rgb(0, 128, 255)"
        ],
        "theme": "chalkboard"
      },
      "enable_chalkboard": true,
      "footer": "<img src='https://drive.google.com/uc?id=1imM8PAMMQPJKq3eVG9p9Ol6iB--J8JfD' width='30'/> Propulsion Academy, 2020 ",
      "scroll": true,
      "theme": "black",
      "transition": "convex"
    },
    "colab": {
      "name": "Pandas.ipynb",
      "provenance": [],
      "include_colab_link": true
    }
  },
  "cells": [
    {
      "cell_type": "markdown",
      "metadata": {
        "id": "view-in-github",
        "colab_type": "text"
      },
      "source": [
        "<a href=\"https://colab.research.google.com/github/EmAchieng/DataSciencePracticeSeries/blob/master/Pandas.ipynb\" target=\"_parent\"><img src=\"https://colab.research.google.com/assets/colab-badge.svg\" alt=\"Open In Colab\"/></a>"
      ]
    },
    {
      "cell_type": "markdown",
      "metadata": {
        "tags": [
          "headers"
        ],
        "id": "F1GQWb98_qm5"
      },
      "source": [
        "<a id='Q0'></a>\n",
        "<center><a target=\"_blank\" href=\"http://www.propulsion.academy\"><img src=\"https://drive.google.com/uc?id=1McNxpNrSwfqu1w-QtlOmPSmfULvkkMQV\" width=\"200\" style=\"background:none; border:none; box-shadow:none;\" /></a> </center>\n",
        "<center> <h1> Live coding 2: Pandas </h1> </center>\n",
        "<p style=\"margin-bottom:1cm;\"></p>\n",
        "<center><h4>Propulsion Academy, 2021</h4></center>\n",
        "<p style=\"margin-bottom:1cm;\"></p>\n",
        "\n",
        "<div style=\"background:#EEEDF5;border-top:0.1cm solid #EF475B;border-bottom:0.1cm solid #EF475B;\">\n",
        "    <div style=\"margin-left: 0.5cm;margin-top: 0.5cm;margin-bottom: 0.5cm;color:#303030\">\n",
        "        <p><strong>Goal:</strong> learn how to read, clean and explore data using Pandas</p>\n",
        "        <strong> Outline:</strong>\n",
        "        <a id='P0' name=\"P0\"></a>\n",
        "        <ol>\n",
        "            <li> <a style=\"color:#303030\" href='#SU'>Set up</a></li>\n",
        "            <li> <a style=\"color:#303030\" href='#P1'>Basic Functionalities</a></li>\n",
        "            <li> <a style=\"color:#303030\" href='#P2'>Reading and Viewing Data</a></li>\n",
        "            <li> <a style=\"color:#303030\" href='#P3'>Data Types</a></li>\n",
        "            <li> <a style=\"color:#303030\" href='#P4'>Data Selection</a></li>\n",
        "            <li> <a style=\"color:#303030\" href='#P5'>Group by</a></li>\n",
        "            <li> <a style=\"color:#303030\" href='#P6'>Melt and Pivot Table</a></li>\n",
        "            <li> <a style=\"color:#303030\" href='#P7'>Apply</a></li>\n",
        "            <li> <a style=\"color:#303030\" href='#P8'>Basic Plotting</a></li>\n",
        "            <li> <a style=\"color:#303030\" href='#P9'>Merge and Concat</a></li>\n",
        "            <li> <a style=\"color:#303030\" href='#CL'>To go Further</a></li>\n",
        "        </ol>\n",
        "        <strong>Topics Trained:</strong> Pandas, Series, DataFrames, i/o, data selection, \n",
        "    </div>\n",
        "</div>\n",
        "\n",
        "<nav style=\"text-align:right\"><strong>\n",
        "        <a style=\"color:#00BAE5\" href=\"https://monolith.propulsion-home.ch/backend/api/momentum/materials/intro-2-ds-materials/index.html\" title=\"momentum\"> Introduction to Data Science </a>|\n",
        "        <a style=\"color:#00BAE5\" href=\"https://monolith.propulsion-home.ch/backend/api/momentum/materials/intro-2-ds-materials/weeks/week1/day2/index.html\" title=\"momentum\">Day 2, Data Wrangling </a>|\n",
        "        <a style=\"color:#00BAE5\" href=\"https://monolith.propulsion-home.ch/backend/api/momentum/materials/intro-2-ds-materials/weeks/week1/day2/pages/materials.html\" title=\"momentum\"> Live Coding 2, introduction to Pandas</a>\n",
        "</strong></nav>"
      ]
    },
    {
      "cell_type": "markdown",
      "metadata": {
        "id": "vVsYlfQU_qm_"
      },
      "source": [
        "<a id='SU' name=\"SU\"></a>\n",
        "## [Set up](#P0)"
      ]
    },
    {
      "cell_type": "markdown",
      "metadata": {
        "id": "DHcecjUK_qnA"
      },
      "source": [
        "### Packages"
      ]
    },
    {
      "cell_type": "code",
      "metadata": {
        "id": "jiFoTSoq_qnA"
      },
      "source": [
        "import pandas as pd\n",
        "import numpy as np\n",
        "import matplotlib.pyplot as plt"
      ],
      "execution_count": null,
      "outputs": []
    },
    {
      "cell_type": "markdown",
      "metadata": {
        "id": "rltbzHn8_qnB"
      },
      "source": [
        "### Global Parameters Setting"
      ]
    },
    {
      "cell_type": "code",
      "metadata": {
        "id": "8a69ex6Z_qnB"
      },
      "source": [
        "plt.style.use(\"seaborn\")"
      ],
      "execution_count": null,
      "outputs": []
    },
    {
      "cell_type": "markdown",
      "metadata": {
        "id": "CklLoXI6_qnB"
      },
      "source": [
        "<a id='P1' name='P1'></a>\n",
        "## [Basic Functionality](#P0)"
      ]
    },
    {
      "cell_type": "markdown",
      "metadata": {
        "id": "LGaTemd8_qnB"
      },
      "source": [
        "Pandas has the following three data structures\n",
        "\n",
        "* Series - 1D labeled homogeneous array, size-immutable\n",
        "* DataFrame - General 2D labeled, size-mutable tabular structure with potentially heterogeneously typed columns (think of it like a table or excel sheet)\n",
        "* Panel - General 3D labeled, size-mutable array\n",
        "\n",
        "Most of the time, you will be working with Series and DataFrames. \n",
        "\n",
        "To create a Series from a python list, we type:"
      ]
    },
    {
      "cell_type": "code",
      "metadata": {
        "colab": {
          "base_uri": "https://localhost:8080/"
        },
        "id": "Vq6o0uvu_qnC",
        "outputId": "3e8ef16c-6c11-4c2b-8861-6588556904a5"
      },
      "source": [
        "s = pd.Series(\n",
        "    [1, 3, 5, np.nan, 6, 8]\n",
        ")  # => create a series with the values in list ([])\n",
        "s"
      ],
      "execution_count": null,
      "outputs": [
        {
          "output_type": "execute_result",
          "data": {
            "text/plain": [
              "0    1.0\n",
              "1    3.0\n",
              "2    5.0\n",
              "3    NaN\n",
              "4    6.0\n",
              "5    8.0\n",
              "dtype: float64"
            ]
          },
          "metadata": {
            "tags": []
          },
          "execution_count": 3
        }
      ]
    },
    {
      "cell_type": "markdown",
      "metadata": {
        "id": "AnozDgjH_qnD"
      },
      "source": [
        "we can create a dataframe from a numpy array this way:"
      ]
    },
    {
      "cell_type": "code",
      "metadata": {
        "colab": {
          "base_uri": "https://localhost:8080/",
          "height": 235
        },
        "id": "eLCTyKmb_qnD",
        "outputId": "74b6e557-8c13-4884-b56d-b9ecabad335e"
      },
      "source": [
        "df = pd.DataFrame(np.random.randn(6, 4))\n",
        "df"
      ],
      "execution_count": null,
      "outputs": [
        {
          "output_type": "execute_result",
          "data": {
            "text/html": [
              "<div>\n",
              "<style scoped>\n",
              "    .dataframe tbody tr th:only-of-type {\n",
              "        vertical-align: middle;\n",
              "    }\n",
              "\n",
              "    .dataframe tbody tr th {\n",
              "        vertical-align: top;\n",
              "    }\n",
              "\n",
              "    .dataframe thead th {\n",
              "        text-align: right;\n",
              "    }\n",
              "</style>\n",
              "<table border=\"1\" class=\"dataframe\">\n",
              "  <thead>\n",
              "    <tr style=\"text-align: right;\">\n",
              "      <th></th>\n",
              "      <th>0</th>\n",
              "      <th>1</th>\n",
              "      <th>2</th>\n",
              "      <th>3</th>\n",
              "    </tr>\n",
              "  </thead>\n",
              "  <tbody>\n",
              "    <tr>\n",
              "      <th>0</th>\n",
              "      <td>-0.006079</td>\n",
              "      <td>-1.263035</td>\n",
              "      <td>-0.088833</td>\n",
              "      <td>0.397424</td>\n",
              "    </tr>\n",
              "    <tr>\n",
              "      <th>1</th>\n",
              "      <td>-0.079968</td>\n",
              "      <td>1.147763</td>\n",
              "      <td>-1.500888</td>\n",
              "      <td>1.167591</td>\n",
              "    </tr>\n",
              "    <tr>\n",
              "      <th>2</th>\n",
              "      <td>-1.069425</td>\n",
              "      <td>-0.100262</td>\n",
              "      <td>1.673520</td>\n",
              "      <td>-0.816196</td>\n",
              "    </tr>\n",
              "    <tr>\n",
              "      <th>3</th>\n",
              "      <td>-0.569356</td>\n",
              "      <td>1.270771</td>\n",
              "      <td>1.233026</td>\n",
              "      <td>-1.243296</td>\n",
              "    </tr>\n",
              "    <tr>\n",
              "      <th>4</th>\n",
              "      <td>-0.583948</td>\n",
              "      <td>-2.493271</td>\n",
              "      <td>1.068275</td>\n",
              "      <td>0.991024</td>\n",
              "    </tr>\n",
              "    <tr>\n",
              "      <th>5</th>\n",
              "      <td>-0.204421</td>\n",
              "      <td>0.996563</td>\n",
              "      <td>-0.982626</td>\n",
              "      <td>0.508176</td>\n",
              "    </tr>\n",
              "  </tbody>\n",
              "</table>\n",
              "</div>"
            ],
            "text/plain": [
              "          0         1         2         3\n",
              "0 -0.006079 -1.263035 -0.088833  0.397424\n",
              "1 -0.079968  1.147763 -1.500888  1.167591\n",
              "2 -1.069425 -0.100262  1.673520 -0.816196\n",
              "3 -0.569356  1.270771  1.233026 -1.243296\n",
              "4 -0.583948 -2.493271  1.068275  0.991024\n",
              "5 -0.204421  0.996563 -0.982626  0.508176"
            ]
          },
          "metadata": {
            "tags": []
          },
          "execution_count": 4
        }
      ]
    },
    {
      "cell_type": "markdown",
      "metadata": {
        "id": "TYryNosB_qnD"
      },
      "source": [
        "as you can see from the output above, column names and row indices are automatically attributed. You can also specify them when creating the dataframe:"
      ]
    },
    {
      "cell_type": "code",
      "metadata": {
        "colab": {
          "base_uri": "https://localhost:8080/",
          "height": 235
        },
        "id": "hjgiqVJp_qnE",
        "outputId": "90c369e0-696d-4aa8-b323-c294c606a8de"
      },
      "source": [
        "df = pd.DataFrame(\n",
        "    np.random.randn(6, 4), index=[0, 10, 22, 20, 4, 5], columns=[\"A\", \"B\", \"C\", \"D\"]\n",
        ")\n",
        "df"
      ],
      "execution_count": null,
      "outputs": [
        {
          "output_type": "execute_result",
          "data": {
            "text/html": [
              "<div>\n",
              "<style scoped>\n",
              "    .dataframe tbody tr th:only-of-type {\n",
              "        vertical-align: middle;\n",
              "    }\n",
              "\n",
              "    .dataframe tbody tr th {\n",
              "        vertical-align: top;\n",
              "    }\n",
              "\n",
              "    .dataframe thead th {\n",
              "        text-align: right;\n",
              "    }\n",
              "</style>\n",
              "<table border=\"1\" class=\"dataframe\">\n",
              "  <thead>\n",
              "    <tr style=\"text-align: right;\">\n",
              "      <th></th>\n",
              "      <th>A</th>\n",
              "      <th>B</th>\n",
              "      <th>C</th>\n",
              "      <th>D</th>\n",
              "    </tr>\n",
              "  </thead>\n",
              "  <tbody>\n",
              "    <tr>\n",
              "      <th>0</th>\n",
              "      <td>1.739710</td>\n",
              "      <td>1.770176</td>\n",
              "      <td>1.844727</td>\n",
              "      <td>1.759487</td>\n",
              "    </tr>\n",
              "    <tr>\n",
              "      <th>10</th>\n",
              "      <td>0.339787</td>\n",
              "      <td>0.613727</td>\n",
              "      <td>-0.316368</td>\n",
              "      <td>-0.080978</td>\n",
              "    </tr>\n",
              "    <tr>\n",
              "      <th>22</th>\n",
              "      <td>-0.347948</td>\n",
              "      <td>-0.221770</td>\n",
              "      <td>1.026763</td>\n",
              "      <td>-0.178930</td>\n",
              "    </tr>\n",
              "    <tr>\n",
              "      <th>20</th>\n",
              "      <td>1.092037</td>\n",
              "      <td>-0.583543</td>\n",
              "      <td>1.488660</td>\n",
              "      <td>-1.367666</td>\n",
              "    </tr>\n",
              "    <tr>\n",
              "      <th>4</th>\n",
              "      <td>-0.056963</td>\n",
              "      <td>-0.649872</td>\n",
              "      <td>0.305970</td>\n",
              "      <td>1.887835</td>\n",
              "    </tr>\n",
              "    <tr>\n",
              "      <th>5</th>\n",
              "      <td>-0.789331</td>\n",
              "      <td>-0.766098</td>\n",
              "      <td>2.157835</td>\n",
              "      <td>0.008909</td>\n",
              "    </tr>\n",
              "  </tbody>\n",
              "</table>\n",
              "</div>"
            ],
            "text/plain": [
              "           A         B         C         D\n",
              "0   1.739710  1.770176  1.844727  1.759487\n",
              "10  0.339787  0.613727 -0.316368 -0.080978\n",
              "22 -0.347948 -0.221770  1.026763 -0.178930\n",
              "20  1.092037 -0.583543  1.488660 -1.367666\n",
              "4  -0.056963 -0.649872  0.305970  1.887835\n",
              "5  -0.789331 -0.766098  2.157835  0.008909"
            ]
          },
          "metadata": {
            "tags": []
          },
          "execution_count": 5
        }
      ]
    },
    {
      "cell_type": "markdown",
      "metadata": {
        "id": "Sb9DABTq_qnE"
      },
      "source": [
        "<a id='P2' name='P2'></a>\n",
        "## [Reading and Viewing Data](#P0)"
      ]
    },
    {
      "cell_type": "markdown",
      "metadata": {
        "id": "pf4IIga8_qnE"
      },
      "source": [
        "In this tutorial, we are going to work with curated data extracted from the census database, downloaded from the [UC Irvine Machine Learning Repository](https://archive.ics.uci.edu/ml/index.php). This repository is very popular among data science students and educators and contains numerous data sets that allow users to experiment with machine learning algorithms. The dataset description for our tutorial is located [there](https://archive.ics.uci.edu/ml/datasets/Census+Income).\n",
        "\n",
        "Let's first read the data:"
      ]
    },
    {
      "cell_type": "code",
      "metadata": {
        "colab": {
          "base_uri": "https://localhost:8080/",
          "height": 419
        },
        "id": "5AfSnyH4_qnF",
        "outputId": "4427aef6-a075-47f9-aa8a-672510b207fb"
      },
      "source": [
        "df = pd.read_csv(\n",
        "    \"https://archive.ics.uci.edu/ml/machine-learning-databases/adult/adult.data\"\n",
        ")\n",
        "df"
      ],
      "execution_count": null,
      "outputs": [
        {
          "output_type": "execute_result",
          "data": {
            "text/html": [
              "<div>\n",
              "<style scoped>\n",
              "    .dataframe tbody tr th:only-of-type {\n",
              "        vertical-align: middle;\n",
              "    }\n",
              "\n",
              "    .dataframe tbody tr th {\n",
              "        vertical-align: top;\n",
              "    }\n",
              "\n",
              "    .dataframe thead th {\n",
              "        text-align: right;\n",
              "    }\n",
              "</style>\n",
              "<table border=\"1\" class=\"dataframe\">\n",
              "  <thead>\n",
              "    <tr style=\"text-align: right;\">\n",
              "      <th></th>\n",
              "      <th>39</th>\n",
              "      <th>State-gov</th>\n",
              "      <th>77516</th>\n",
              "      <th>Bachelors</th>\n",
              "      <th>13</th>\n",
              "      <th>Never-married</th>\n",
              "      <th>Adm-clerical</th>\n",
              "      <th>Not-in-family</th>\n",
              "      <th>White</th>\n",
              "      <th>Male</th>\n",
              "      <th>2174</th>\n",
              "      <th>0</th>\n",
              "      <th>40</th>\n",
              "      <th>United-States</th>\n",
              "      <th>&lt;=50K</th>\n",
              "    </tr>\n",
              "  </thead>\n",
              "  <tbody>\n",
              "    <tr>\n",
              "      <th>0</th>\n",
              "      <td>50</td>\n",
              "      <td>Self-emp-not-inc</td>\n",
              "      <td>83311</td>\n",
              "      <td>Bachelors</td>\n",
              "      <td>13</td>\n",
              "      <td>Married-civ-spouse</td>\n",
              "      <td>Exec-managerial</td>\n",
              "      <td>Husband</td>\n",
              "      <td>White</td>\n",
              "      <td>Male</td>\n",
              "      <td>0</td>\n",
              "      <td>0</td>\n",
              "      <td>13</td>\n",
              "      <td>United-States</td>\n",
              "      <td>&lt;=50K</td>\n",
              "    </tr>\n",
              "    <tr>\n",
              "      <th>1</th>\n",
              "      <td>38</td>\n",
              "      <td>Private</td>\n",
              "      <td>215646</td>\n",
              "      <td>HS-grad</td>\n",
              "      <td>9</td>\n",
              "      <td>Divorced</td>\n",
              "      <td>Handlers-cleaners</td>\n",
              "      <td>Not-in-family</td>\n",
              "      <td>White</td>\n",
              "      <td>Male</td>\n",
              "      <td>0</td>\n",
              "      <td>0</td>\n",
              "      <td>40</td>\n",
              "      <td>United-States</td>\n",
              "      <td>&lt;=50K</td>\n",
              "    </tr>\n",
              "    <tr>\n",
              "      <th>2</th>\n",
              "      <td>53</td>\n",
              "      <td>Private</td>\n",
              "      <td>234721</td>\n",
              "      <td>11th</td>\n",
              "      <td>7</td>\n",
              "      <td>Married-civ-spouse</td>\n",
              "      <td>Handlers-cleaners</td>\n",
              "      <td>Husband</td>\n",
              "      <td>Black</td>\n",
              "      <td>Male</td>\n",
              "      <td>0</td>\n",
              "      <td>0</td>\n",
              "      <td>40</td>\n",
              "      <td>United-States</td>\n",
              "      <td>&lt;=50K</td>\n",
              "    </tr>\n",
              "    <tr>\n",
              "      <th>3</th>\n",
              "      <td>28</td>\n",
              "      <td>Private</td>\n",
              "      <td>338409</td>\n",
              "      <td>Bachelors</td>\n",
              "      <td>13</td>\n",
              "      <td>Married-civ-spouse</td>\n",
              "      <td>Prof-specialty</td>\n",
              "      <td>Wife</td>\n",
              "      <td>Black</td>\n",
              "      <td>Female</td>\n",
              "      <td>0</td>\n",
              "      <td>0</td>\n",
              "      <td>40</td>\n",
              "      <td>Cuba</td>\n",
              "      <td>&lt;=50K</td>\n",
              "    </tr>\n",
              "    <tr>\n",
              "      <th>4</th>\n",
              "      <td>37</td>\n",
              "      <td>Private</td>\n",
              "      <td>284582</td>\n",
              "      <td>Masters</td>\n",
              "      <td>14</td>\n",
              "      <td>Married-civ-spouse</td>\n",
              "      <td>Exec-managerial</td>\n",
              "      <td>Wife</td>\n",
              "      <td>White</td>\n",
              "      <td>Female</td>\n",
              "      <td>0</td>\n",
              "      <td>0</td>\n",
              "      <td>40</td>\n",
              "      <td>United-States</td>\n",
              "      <td>&lt;=50K</td>\n",
              "    </tr>\n",
              "    <tr>\n",
              "      <th>...</th>\n",
              "      <td>...</td>\n",
              "      <td>...</td>\n",
              "      <td>...</td>\n",
              "      <td>...</td>\n",
              "      <td>...</td>\n",
              "      <td>...</td>\n",
              "      <td>...</td>\n",
              "      <td>...</td>\n",
              "      <td>...</td>\n",
              "      <td>...</td>\n",
              "      <td>...</td>\n",
              "      <td>...</td>\n",
              "      <td>...</td>\n",
              "      <td>...</td>\n",
              "      <td>...</td>\n",
              "    </tr>\n",
              "    <tr>\n",
              "      <th>32555</th>\n",
              "      <td>27</td>\n",
              "      <td>Private</td>\n",
              "      <td>257302</td>\n",
              "      <td>Assoc-acdm</td>\n",
              "      <td>12</td>\n",
              "      <td>Married-civ-spouse</td>\n",
              "      <td>Tech-support</td>\n",
              "      <td>Wife</td>\n",
              "      <td>White</td>\n",
              "      <td>Female</td>\n",
              "      <td>0</td>\n",
              "      <td>0</td>\n",
              "      <td>38</td>\n",
              "      <td>United-States</td>\n",
              "      <td>&lt;=50K</td>\n",
              "    </tr>\n",
              "    <tr>\n",
              "      <th>32556</th>\n",
              "      <td>40</td>\n",
              "      <td>Private</td>\n",
              "      <td>154374</td>\n",
              "      <td>HS-grad</td>\n",
              "      <td>9</td>\n",
              "      <td>Married-civ-spouse</td>\n",
              "      <td>Machine-op-inspct</td>\n",
              "      <td>Husband</td>\n",
              "      <td>White</td>\n",
              "      <td>Male</td>\n",
              "      <td>0</td>\n",
              "      <td>0</td>\n",
              "      <td>40</td>\n",
              "      <td>United-States</td>\n",
              "      <td>&gt;50K</td>\n",
              "    </tr>\n",
              "    <tr>\n",
              "      <th>32557</th>\n",
              "      <td>58</td>\n",
              "      <td>Private</td>\n",
              "      <td>151910</td>\n",
              "      <td>HS-grad</td>\n",
              "      <td>9</td>\n",
              "      <td>Widowed</td>\n",
              "      <td>Adm-clerical</td>\n",
              "      <td>Unmarried</td>\n",
              "      <td>White</td>\n",
              "      <td>Female</td>\n",
              "      <td>0</td>\n",
              "      <td>0</td>\n",
              "      <td>40</td>\n",
              "      <td>United-States</td>\n",
              "      <td>&lt;=50K</td>\n",
              "    </tr>\n",
              "    <tr>\n",
              "      <th>32558</th>\n",
              "      <td>22</td>\n",
              "      <td>Private</td>\n",
              "      <td>201490</td>\n",
              "      <td>HS-grad</td>\n",
              "      <td>9</td>\n",
              "      <td>Never-married</td>\n",
              "      <td>Adm-clerical</td>\n",
              "      <td>Own-child</td>\n",
              "      <td>White</td>\n",
              "      <td>Male</td>\n",
              "      <td>0</td>\n",
              "      <td>0</td>\n",
              "      <td>20</td>\n",
              "      <td>United-States</td>\n",
              "      <td>&lt;=50K</td>\n",
              "    </tr>\n",
              "    <tr>\n",
              "      <th>32559</th>\n",
              "      <td>52</td>\n",
              "      <td>Self-emp-inc</td>\n",
              "      <td>287927</td>\n",
              "      <td>HS-grad</td>\n",
              "      <td>9</td>\n",
              "      <td>Married-civ-spouse</td>\n",
              "      <td>Exec-managerial</td>\n",
              "      <td>Wife</td>\n",
              "      <td>White</td>\n",
              "      <td>Female</td>\n",
              "      <td>15024</td>\n",
              "      <td>0</td>\n",
              "      <td>40</td>\n",
              "      <td>United-States</td>\n",
              "      <td>&gt;50K</td>\n",
              "    </tr>\n",
              "  </tbody>\n",
              "</table>\n",
              "<p>32560 rows × 15 columns</p>\n",
              "</div>"
            ],
            "text/plain": [
              "       39          State-gov   77516  ...  40   United-States   <=50K\n",
              "0      50   Self-emp-not-inc   83311  ...  13   United-States   <=50K\n",
              "1      38            Private  215646  ...  40   United-States   <=50K\n",
              "2      53            Private  234721  ...  40   United-States   <=50K\n",
              "3      28            Private  338409  ...  40            Cuba   <=50K\n",
              "4      37            Private  284582  ...  40   United-States   <=50K\n",
              "...    ..                ...     ...  ...  ..             ...     ...\n",
              "32555  27            Private  257302  ...  38   United-States   <=50K\n",
              "32556  40            Private  154374  ...  40   United-States    >50K\n",
              "32557  58            Private  151910  ...  40   United-States   <=50K\n",
              "32558  22            Private  201490  ...  20   United-States   <=50K\n",
              "32559  52       Self-emp-inc  287927  ...  40   United-States    >50K\n",
              "\n",
              "[32560 rows x 15 columns]"
            ]
          },
          "metadata": {
            "tags": []
          },
          "execution_count": 6
        }
      ]
    },
    {
      "cell_type": "markdown",
      "metadata": {
        "id": "6v9LG7U8_qnF"
      },
      "source": [
        "Here, we used the function `read_csv`, bute one of the strength of Pandas is its ability to read and write data into a wide range of format. Checkout the [input/output page](https://pandas.pydata.org/docs/reference/io.html) of the documentation to have a comprehensive list of accepted formats."
      ]
    },
    {
      "cell_type": "markdown",
      "metadata": {
        "id": "hOpO_m49_qnF"
      },
      "source": [
        "The output of `df` shows that the file has no header, so the first row is used as a header.\n",
        "\n",
        "While using any function in Python please **read the documentation for that function**. Every function can have a multitude of arguments which can help you adapt your code according to the data at hand. \n",
        "For example, here, we can solve the problem by adding the option `header=None`, as indicated in the [documentation](https://pandas.pydata.org/docs/reference/api/pandas.read_csv.html?highlight=read_csv):"
      ]
    },
    {
      "cell_type": "code",
      "metadata": {
        "colab": {
          "base_uri": "https://localhost:8080/",
          "height": 419
        },
        "id": "Ed2PP6Cm_qnF",
        "outputId": "d75244a5-521a-43df-8fc5-37200dcfb69c"
      },
      "source": [
        "df = pd.read_csv(\n",
        "    \"https://archive.ics.uci.edu/ml/machine-learning-databases/adult/adult.data\",\n",
        "    header=None,\n",
        ")\n",
        "df"
      ],
      "execution_count": null,
      "outputs": [
        {
          "output_type": "execute_result",
          "data": {
            "text/html": [
              "<div>\n",
              "<style scoped>\n",
              "    .dataframe tbody tr th:only-of-type {\n",
              "        vertical-align: middle;\n",
              "    }\n",
              "\n",
              "    .dataframe tbody tr th {\n",
              "        vertical-align: top;\n",
              "    }\n",
              "\n",
              "    .dataframe thead th {\n",
              "        text-align: right;\n",
              "    }\n",
              "</style>\n",
              "<table border=\"1\" class=\"dataframe\">\n",
              "  <thead>\n",
              "    <tr style=\"text-align: right;\">\n",
              "      <th></th>\n",
              "      <th>0</th>\n",
              "      <th>1</th>\n",
              "      <th>2</th>\n",
              "      <th>3</th>\n",
              "      <th>4</th>\n",
              "      <th>5</th>\n",
              "      <th>6</th>\n",
              "      <th>7</th>\n",
              "      <th>8</th>\n",
              "      <th>9</th>\n",
              "      <th>10</th>\n",
              "      <th>11</th>\n",
              "      <th>12</th>\n",
              "      <th>13</th>\n",
              "      <th>14</th>\n",
              "    </tr>\n",
              "  </thead>\n",
              "  <tbody>\n",
              "    <tr>\n",
              "      <th>0</th>\n",
              "      <td>39</td>\n",
              "      <td>State-gov</td>\n",
              "      <td>77516</td>\n",
              "      <td>Bachelors</td>\n",
              "      <td>13</td>\n",
              "      <td>Never-married</td>\n",
              "      <td>Adm-clerical</td>\n",
              "      <td>Not-in-family</td>\n",
              "      <td>White</td>\n",
              "      <td>Male</td>\n",
              "      <td>2174</td>\n",
              "      <td>0</td>\n",
              "      <td>40</td>\n",
              "      <td>United-States</td>\n",
              "      <td>&lt;=50K</td>\n",
              "    </tr>\n",
              "    <tr>\n",
              "      <th>1</th>\n",
              "      <td>50</td>\n",
              "      <td>Self-emp-not-inc</td>\n",
              "      <td>83311</td>\n",
              "      <td>Bachelors</td>\n",
              "      <td>13</td>\n",
              "      <td>Married-civ-spouse</td>\n",
              "      <td>Exec-managerial</td>\n",
              "      <td>Husband</td>\n",
              "      <td>White</td>\n",
              "      <td>Male</td>\n",
              "      <td>0</td>\n",
              "      <td>0</td>\n",
              "      <td>13</td>\n",
              "      <td>United-States</td>\n",
              "      <td>&lt;=50K</td>\n",
              "    </tr>\n",
              "    <tr>\n",
              "      <th>2</th>\n",
              "      <td>38</td>\n",
              "      <td>Private</td>\n",
              "      <td>215646</td>\n",
              "      <td>HS-grad</td>\n",
              "      <td>9</td>\n",
              "      <td>Divorced</td>\n",
              "      <td>Handlers-cleaners</td>\n",
              "      <td>Not-in-family</td>\n",
              "      <td>White</td>\n",
              "      <td>Male</td>\n",
              "      <td>0</td>\n",
              "      <td>0</td>\n",
              "      <td>40</td>\n",
              "      <td>United-States</td>\n",
              "      <td>&lt;=50K</td>\n",
              "    </tr>\n",
              "    <tr>\n",
              "      <th>3</th>\n",
              "      <td>53</td>\n",
              "      <td>Private</td>\n",
              "      <td>234721</td>\n",
              "      <td>11th</td>\n",
              "      <td>7</td>\n",
              "      <td>Married-civ-spouse</td>\n",
              "      <td>Handlers-cleaners</td>\n",
              "      <td>Husband</td>\n",
              "      <td>Black</td>\n",
              "      <td>Male</td>\n",
              "      <td>0</td>\n",
              "      <td>0</td>\n",
              "      <td>40</td>\n",
              "      <td>United-States</td>\n",
              "      <td>&lt;=50K</td>\n",
              "    </tr>\n",
              "    <tr>\n",
              "      <th>4</th>\n",
              "      <td>28</td>\n",
              "      <td>Private</td>\n",
              "      <td>338409</td>\n",
              "      <td>Bachelors</td>\n",
              "      <td>13</td>\n",
              "      <td>Married-civ-spouse</td>\n",
              "      <td>Prof-specialty</td>\n",
              "      <td>Wife</td>\n",
              "      <td>Black</td>\n",
              "      <td>Female</td>\n",
              "      <td>0</td>\n",
              "      <td>0</td>\n",
              "      <td>40</td>\n",
              "      <td>Cuba</td>\n",
              "      <td>&lt;=50K</td>\n",
              "    </tr>\n",
              "    <tr>\n",
              "      <th>...</th>\n",
              "      <td>...</td>\n",
              "      <td>...</td>\n",
              "      <td>...</td>\n",
              "      <td>...</td>\n",
              "      <td>...</td>\n",
              "      <td>...</td>\n",
              "      <td>...</td>\n",
              "      <td>...</td>\n",
              "      <td>...</td>\n",
              "      <td>...</td>\n",
              "      <td>...</td>\n",
              "      <td>...</td>\n",
              "      <td>...</td>\n",
              "      <td>...</td>\n",
              "      <td>...</td>\n",
              "    </tr>\n",
              "    <tr>\n",
              "      <th>32556</th>\n",
              "      <td>27</td>\n",
              "      <td>Private</td>\n",
              "      <td>257302</td>\n",
              "      <td>Assoc-acdm</td>\n",
              "      <td>12</td>\n",
              "      <td>Married-civ-spouse</td>\n",
              "      <td>Tech-support</td>\n",
              "      <td>Wife</td>\n",
              "      <td>White</td>\n",
              "      <td>Female</td>\n",
              "      <td>0</td>\n",
              "      <td>0</td>\n",
              "      <td>38</td>\n",
              "      <td>United-States</td>\n",
              "      <td>&lt;=50K</td>\n",
              "    </tr>\n",
              "    <tr>\n",
              "      <th>32557</th>\n",
              "      <td>40</td>\n",
              "      <td>Private</td>\n",
              "      <td>154374</td>\n",
              "      <td>HS-grad</td>\n",
              "      <td>9</td>\n",
              "      <td>Married-civ-spouse</td>\n",
              "      <td>Machine-op-inspct</td>\n",
              "      <td>Husband</td>\n",
              "      <td>White</td>\n",
              "      <td>Male</td>\n",
              "      <td>0</td>\n",
              "      <td>0</td>\n",
              "      <td>40</td>\n",
              "      <td>United-States</td>\n",
              "      <td>&gt;50K</td>\n",
              "    </tr>\n",
              "    <tr>\n",
              "      <th>32558</th>\n",
              "      <td>58</td>\n",
              "      <td>Private</td>\n",
              "      <td>151910</td>\n",
              "      <td>HS-grad</td>\n",
              "      <td>9</td>\n",
              "      <td>Widowed</td>\n",
              "      <td>Adm-clerical</td>\n",
              "      <td>Unmarried</td>\n",
              "      <td>White</td>\n",
              "      <td>Female</td>\n",
              "      <td>0</td>\n",
              "      <td>0</td>\n",
              "      <td>40</td>\n",
              "      <td>United-States</td>\n",
              "      <td>&lt;=50K</td>\n",
              "    </tr>\n",
              "    <tr>\n",
              "      <th>32559</th>\n",
              "      <td>22</td>\n",
              "      <td>Private</td>\n",
              "      <td>201490</td>\n",
              "      <td>HS-grad</td>\n",
              "      <td>9</td>\n",
              "      <td>Never-married</td>\n",
              "      <td>Adm-clerical</td>\n",
              "      <td>Own-child</td>\n",
              "      <td>White</td>\n",
              "      <td>Male</td>\n",
              "      <td>0</td>\n",
              "      <td>0</td>\n",
              "      <td>20</td>\n",
              "      <td>United-States</td>\n",
              "      <td>&lt;=50K</td>\n",
              "    </tr>\n",
              "    <tr>\n",
              "      <th>32560</th>\n",
              "      <td>52</td>\n",
              "      <td>Self-emp-inc</td>\n",
              "      <td>287927</td>\n",
              "      <td>HS-grad</td>\n",
              "      <td>9</td>\n",
              "      <td>Married-civ-spouse</td>\n",
              "      <td>Exec-managerial</td>\n",
              "      <td>Wife</td>\n",
              "      <td>White</td>\n",
              "      <td>Female</td>\n",
              "      <td>15024</td>\n",
              "      <td>0</td>\n",
              "      <td>40</td>\n",
              "      <td>United-States</td>\n",
              "      <td>&gt;50K</td>\n",
              "    </tr>\n",
              "  </tbody>\n",
              "</table>\n",
              "<p>32561 rows × 15 columns</p>\n",
              "</div>"
            ],
            "text/plain": [
              "       0                  1       2   ...  12              13      14\n",
              "0      39          State-gov   77516  ...  40   United-States   <=50K\n",
              "1      50   Self-emp-not-inc   83311  ...  13   United-States   <=50K\n",
              "2      38            Private  215646  ...  40   United-States   <=50K\n",
              "3      53            Private  234721  ...  40   United-States   <=50K\n",
              "4      28            Private  338409  ...  40            Cuba   <=50K\n",
              "...    ..                ...     ...  ...  ..             ...     ...\n",
              "32556  27            Private  257302  ...  38   United-States   <=50K\n",
              "32557  40            Private  154374  ...  40   United-States    >50K\n",
              "32558  58            Private  151910  ...  40   United-States   <=50K\n",
              "32559  22            Private  201490  ...  20   United-States   <=50K\n",
              "32560  52       Self-emp-inc  287927  ...  40   United-States    >50K\n",
              "\n",
              "[32561 rows x 15 columns]"
            ]
          },
          "metadata": {
            "tags": []
          },
          "execution_count": 7
        }
      ]
    },
    {
      "cell_type": "markdown",
      "metadata": {
        "id": "05NuuPP3_qnG"
      },
      "source": [
        "Now we can also rename the columns with the attributes names given from the data set description:"
      ]
    },
    {
      "cell_type": "code",
      "metadata": {
        "id": "G8PH6Ntw_qnG"
      },
      "source": [
        "df.columns = [\n",
        "    \"age\",\n",
        "    \"workclass\",\n",
        "    \"fnlwgt\",\n",
        "    \"education\",\n",
        "    \"education-num\",\n",
        "    \"marital-status\",\n",
        "    \"occupation\",\n",
        "    \"relationship\",\n",
        "    \"race\",\n",
        "    \"sex\",\n",
        "    \"capital-gain\",\n",
        "    \"capital-loss\",\n",
        "    \"hours-per-week\",\n",
        "    \"native-country\",\n",
        "    \"earnings-category\",\n",
        "]"
      ],
      "execution_count": null,
      "outputs": []
    },
    {
      "cell_type": "markdown",
      "metadata": {
        "id": "Q83QPxVq_qnG"
      },
      "source": [
        "This leaves us with the correct structure of the data:"
      ]
    },
    {
      "cell_type": "code",
      "metadata": {
        "colab": {
          "base_uri": "https://localhost:8080/",
          "height": 606
        },
        "id": "_ov1LqSO_qnG",
        "outputId": "b7ec155e-246f-4fc3-9216-b5fefa7e76ad"
      },
      "source": [
        "df"
      ],
      "execution_count": null,
      "outputs": [
        {
          "output_type": "execute_result",
          "data": {
            "text/html": [
              "<div>\n",
              "<style scoped>\n",
              "    .dataframe tbody tr th:only-of-type {\n",
              "        vertical-align: middle;\n",
              "    }\n",
              "\n",
              "    .dataframe tbody tr th {\n",
              "        vertical-align: top;\n",
              "    }\n",
              "\n",
              "    .dataframe thead th {\n",
              "        text-align: right;\n",
              "    }\n",
              "</style>\n",
              "<table border=\"1\" class=\"dataframe\">\n",
              "  <thead>\n",
              "    <tr style=\"text-align: right;\">\n",
              "      <th></th>\n",
              "      <th>age</th>\n",
              "      <th>workclass</th>\n",
              "      <th>fnlwgt</th>\n",
              "      <th>education</th>\n",
              "      <th>education-num</th>\n",
              "      <th>marital-status</th>\n",
              "      <th>occupation</th>\n",
              "      <th>relationship</th>\n",
              "      <th>race</th>\n",
              "      <th>sex</th>\n",
              "      <th>capital-gain</th>\n",
              "      <th>capital-loss</th>\n",
              "      <th>hours-per-week</th>\n",
              "      <th>native-country</th>\n",
              "      <th>earnings-category</th>\n",
              "    </tr>\n",
              "  </thead>\n",
              "  <tbody>\n",
              "    <tr>\n",
              "      <th>0</th>\n",
              "      <td>39</td>\n",
              "      <td>State-gov</td>\n",
              "      <td>77516</td>\n",
              "      <td>Bachelors</td>\n",
              "      <td>13</td>\n",
              "      <td>Never-married</td>\n",
              "      <td>Adm-clerical</td>\n",
              "      <td>Not-in-family</td>\n",
              "      <td>White</td>\n",
              "      <td>Male</td>\n",
              "      <td>2174</td>\n",
              "      <td>0</td>\n",
              "      <td>40</td>\n",
              "      <td>United-States</td>\n",
              "      <td>&lt;=50K</td>\n",
              "    </tr>\n",
              "    <tr>\n",
              "      <th>1</th>\n",
              "      <td>50</td>\n",
              "      <td>Self-emp-not-inc</td>\n",
              "      <td>83311</td>\n",
              "      <td>Bachelors</td>\n",
              "      <td>13</td>\n",
              "      <td>Married-civ-spouse</td>\n",
              "      <td>Exec-managerial</td>\n",
              "      <td>Husband</td>\n",
              "      <td>White</td>\n",
              "      <td>Male</td>\n",
              "      <td>0</td>\n",
              "      <td>0</td>\n",
              "      <td>13</td>\n",
              "      <td>United-States</td>\n",
              "      <td>&lt;=50K</td>\n",
              "    </tr>\n",
              "    <tr>\n",
              "      <th>2</th>\n",
              "      <td>38</td>\n",
              "      <td>Private</td>\n",
              "      <td>215646</td>\n",
              "      <td>HS-grad</td>\n",
              "      <td>9</td>\n",
              "      <td>Divorced</td>\n",
              "      <td>Handlers-cleaners</td>\n",
              "      <td>Not-in-family</td>\n",
              "      <td>White</td>\n",
              "      <td>Male</td>\n",
              "      <td>0</td>\n",
              "      <td>0</td>\n",
              "      <td>40</td>\n",
              "      <td>United-States</td>\n",
              "      <td>&lt;=50K</td>\n",
              "    </tr>\n",
              "    <tr>\n",
              "      <th>3</th>\n",
              "      <td>53</td>\n",
              "      <td>Private</td>\n",
              "      <td>234721</td>\n",
              "      <td>11th</td>\n",
              "      <td>7</td>\n",
              "      <td>Married-civ-spouse</td>\n",
              "      <td>Handlers-cleaners</td>\n",
              "      <td>Husband</td>\n",
              "      <td>Black</td>\n",
              "      <td>Male</td>\n",
              "      <td>0</td>\n",
              "      <td>0</td>\n",
              "      <td>40</td>\n",
              "      <td>United-States</td>\n",
              "      <td>&lt;=50K</td>\n",
              "    </tr>\n",
              "    <tr>\n",
              "      <th>4</th>\n",
              "      <td>28</td>\n",
              "      <td>Private</td>\n",
              "      <td>338409</td>\n",
              "      <td>Bachelors</td>\n",
              "      <td>13</td>\n",
              "      <td>Married-civ-spouse</td>\n",
              "      <td>Prof-specialty</td>\n",
              "      <td>Wife</td>\n",
              "      <td>Black</td>\n",
              "      <td>Female</td>\n",
              "      <td>0</td>\n",
              "      <td>0</td>\n",
              "      <td>40</td>\n",
              "      <td>Cuba</td>\n",
              "      <td>&lt;=50K</td>\n",
              "    </tr>\n",
              "    <tr>\n",
              "      <th>...</th>\n",
              "      <td>...</td>\n",
              "      <td>...</td>\n",
              "      <td>...</td>\n",
              "      <td>...</td>\n",
              "      <td>...</td>\n",
              "      <td>...</td>\n",
              "      <td>...</td>\n",
              "      <td>...</td>\n",
              "      <td>...</td>\n",
              "      <td>...</td>\n",
              "      <td>...</td>\n",
              "      <td>...</td>\n",
              "      <td>...</td>\n",
              "      <td>...</td>\n",
              "      <td>...</td>\n",
              "    </tr>\n",
              "    <tr>\n",
              "      <th>32556</th>\n",
              "      <td>27</td>\n",
              "      <td>Private</td>\n",
              "      <td>257302</td>\n",
              "      <td>Assoc-acdm</td>\n",
              "      <td>12</td>\n",
              "      <td>Married-civ-spouse</td>\n",
              "      <td>Tech-support</td>\n",
              "      <td>Wife</td>\n",
              "      <td>White</td>\n",
              "      <td>Female</td>\n",
              "      <td>0</td>\n",
              "      <td>0</td>\n",
              "      <td>38</td>\n",
              "      <td>United-States</td>\n",
              "      <td>&lt;=50K</td>\n",
              "    </tr>\n",
              "    <tr>\n",
              "      <th>32557</th>\n",
              "      <td>40</td>\n",
              "      <td>Private</td>\n",
              "      <td>154374</td>\n",
              "      <td>HS-grad</td>\n",
              "      <td>9</td>\n",
              "      <td>Married-civ-spouse</td>\n",
              "      <td>Machine-op-inspct</td>\n",
              "      <td>Husband</td>\n",
              "      <td>White</td>\n",
              "      <td>Male</td>\n",
              "      <td>0</td>\n",
              "      <td>0</td>\n",
              "      <td>40</td>\n",
              "      <td>United-States</td>\n",
              "      <td>&gt;50K</td>\n",
              "    </tr>\n",
              "    <tr>\n",
              "      <th>32558</th>\n",
              "      <td>58</td>\n",
              "      <td>Private</td>\n",
              "      <td>151910</td>\n",
              "      <td>HS-grad</td>\n",
              "      <td>9</td>\n",
              "      <td>Widowed</td>\n",
              "      <td>Adm-clerical</td>\n",
              "      <td>Unmarried</td>\n",
              "      <td>White</td>\n",
              "      <td>Female</td>\n",
              "      <td>0</td>\n",
              "      <td>0</td>\n",
              "      <td>40</td>\n",
              "      <td>United-States</td>\n",
              "      <td>&lt;=50K</td>\n",
              "    </tr>\n",
              "    <tr>\n",
              "      <th>32559</th>\n",
              "      <td>22</td>\n",
              "      <td>Private</td>\n",
              "      <td>201490</td>\n",
              "      <td>HS-grad</td>\n",
              "      <td>9</td>\n",
              "      <td>Never-married</td>\n",
              "      <td>Adm-clerical</td>\n",
              "      <td>Own-child</td>\n",
              "      <td>White</td>\n",
              "      <td>Male</td>\n",
              "      <td>0</td>\n",
              "      <td>0</td>\n",
              "      <td>20</td>\n",
              "      <td>United-States</td>\n",
              "      <td>&lt;=50K</td>\n",
              "    </tr>\n",
              "    <tr>\n",
              "      <th>32560</th>\n",
              "      <td>52</td>\n",
              "      <td>Self-emp-inc</td>\n",
              "      <td>287927</td>\n",
              "      <td>HS-grad</td>\n",
              "      <td>9</td>\n",
              "      <td>Married-civ-spouse</td>\n",
              "      <td>Exec-managerial</td>\n",
              "      <td>Wife</td>\n",
              "      <td>White</td>\n",
              "      <td>Female</td>\n",
              "      <td>15024</td>\n",
              "      <td>0</td>\n",
              "      <td>40</td>\n",
              "      <td>United-States</td>\n",
              "      <td>&gt;50K</td>\n",
              "    </tr>\n",
              "  </tbody>\n",
              "</table>\n",
              "<p>32561 rows × 15 columns</p>\n",
              "</div>"
            ],
            "text/plain": [
              "       age          workclass  ...  native-country earnings-category\n",
              "0       39          State-gov  ...   United-States             <=50K\n",
              "1       50   Self-emp-not-inc  ...   United-States             <=50K\n",
              "2       38            Private  ...   United-States             <=50K\n",
              "3       53            Private  ...   United-States             <=50K\n",
              "4       28            Private  ...            Cuba             <=50K\n",
              "...    ...                ...  ...             ...               ...\n",
              "32556   27            Private  ...   United-States             <=50K\n",
              "32557   40            Private  ...   United-States              >50K\n",
              "32558   58            Private  ...   United-States             <=50K\n",
              "32559   22            Private  ...   United-States             <=50K\n",
              "32560   52       Self-emp-inc  ...   United-States              >50K\n",
              "\n",
              "[32561 rows x 15 columns]"
            ]
          },
          "metadata": {
            "tags": []
          },
          "execution_count": 9
        }
      ]
    },
    {
      "cell_type": "markdown",
      "metadata": {
        "id": "Mj5IFjhj_qnG"
      },
      "source": [
        "Let's now print basic information:"
      ]
    },
    {
      "cell_type": "code",
      "metadata": {
        "colab": {
          "base_uri": "https://localhost:8080/"
        },
        "id": "rFEQnIpJ_qnH",
        "outputId": "137e13fe-9ed6-4a24-82bc-ebeb10069193"
      },
      "source": [
        "df.info()  # prints basic information on columns"
      ],
      "execution_count": null,
      "outputs": [
        {
          "output_type": "stream",
          "text": [
            "<class 'pandas.core.frame.DataFrame'>\n",
            "RangeIndex: 32561 entries, 0 to 32560\n",
            "Data columns (total 15 columns):\n",
            " #   Column             Non-Null Count  Dtype \n",
            "---  ------             --------------  ----- \n",
            " 0   age                32561 non-null  int64 \n",
            " 1   workclass          32561 non-null  object\n",
            " 2   fnlwgt             32561 non-null  int64 \n",
            " 3   education          32561 non-null  object\n",
            " 4   education-num      32561 non-null  int64 \n",
            " 5   marital-status     32561 non-null  object\n",
            " 6   occupation         32561 non-null  object\n",
            " 7   relationship       32561 non-null  object\n",
            " 8   race               32561 non-null  object\n",
            " 9   sex                32561 non-null  object\n",
            " 10  capital-gain       32561 non-null  int64 \n",
            " 11  capital-loss       32561 non-null  int64 \n",
            " 12  hours-per-week     32561 non-null  int64 \n",
            " 13  native-country     32561 non-null  object\n",
            " 14  earnings-category  32561 non-null  object\n",
            "dtypes: int64(6), object(9)\n",
            "memory usage: 3.7+ MB\n"
          ],
          "name": "stdout"
        }
      ]
    },
    {
      "cell_type": "code",
      "metadata": {
        "colab": {
          "base_uri": "https://localhost:8080/"
        },
        "id": "eRg1V6hc_qnH",
        "outputId": "9e6a22ca-0f9b-4e58-ff8c-9d62421014d1"
      },
      "source": [
        "df.columns  # prints the column names"
      ],
      "execution_count": null,
      "outputs": [
        {
          "output_type": "execute_result",
          "data": {
            "text/plain": [
              "Index(['age', 'workclass', 'fnlwgt', 'education', 'education-num',\n",
              "       'marital-status', 'occupation', 'relationship', 'race', 'sex',\n",
              "       'capital-gain', 'capital-loss', 'hours-per-week', 'native-country',\n",
              "       'earnings-category'],\n",
              "      dtype='object')"
            ]
          },
          "metadata": {
            "tags": []
          },
          "execution_count": 11
        }
      ]
    },
    {
      "cell_type": "code",
      "metadata": {
        "colab": {
          "base_uri": "https://localhost:8080/",
          "height": 162
        },
        "id": "MNCksDzh_qnH",
        "outputId": "677ab4d4-4e14-46bd-b3d8-97d2722e3c0d"
      },
      "source": [
        "df.head(2)  # print the first 2 rows of the dataframe"
      ],
      "execution_count": null,
      "outputs": [
        {
          "output_type": "execute_result",
          "data": {
            "text/html": [
              "<div>\n",
              "<style scoped>\n",
              "    .dataframe tbody tr th:only-of-type {\n",
              "        vertical-align: middle;\n",
              "    }\n",
              "\n",
              "    .dataframe tbody tr th {\n",
              "        vertical-align: top;\n",
              "    }\n",
              "\n",
              "    .dataframe thead th {\n",
              "        text-align: right;\n",
              "    }\n",
              "</style>\n",
              "<table border=\"1\" class=\"dataframe\">\n",
              "  <thead>\n",
              "    <tr style=\"text-align: right;\">\n",
              "      <th></th>\n",
              "      <th>age</th>\n",
              "      <th>workclass</th>\n",
              "      <th>fnlwgt</th>\n",
              "      <th>education</th>\n",
              "      <th>education-num</th>\n",
              "      <th>marital-status</th>\n",
              "      <th>occupation</th>\n",
              "      <th>relationship</th>\n",
              "      <th>race</th>\n",
              "      <th>sex</th>\n",
              "      <th>capital-gain</th>\n",
              "      <th>capital-loss</th>\n",
              "      <th>hours-per-week</th>\n",
              "      <th>native-country</th>\n",
              "      <th>earnings-category</th>\n",
              "    </tr>\n",
              "  </thead>\n",
              "  <tbody>\n",
              "    <tr>\n",
              "      <th>0</th>\n",
              "      <td>39</td>\n",
              "      <td>State-gov</td>\n",
              "      <td>77516</td>\n",
              "      <td>Bachelors</td>\n",
              "      <td>13</td>\n",
              "      <td>Never-married</td>\n",
              "      <td>Adm-clerical</td>\n",
              "      <td>Not-in-family</td>\n",
              "      <td>White</td>\n",
              "      <td>Male</td>\n",
              "      <td>2174</td>\n",
              "      <td>0</td>\n",
              "      <td>40</td>\n",
              "      <td>United-States</td>\n",
              "      <td>&lt;=50K</td>\n",
              "    </tr>\n",
              "    <tr>\n",
              "      <th>1</th>\n",
              "      <td>50</td>\n",
              "      <td>Self-emp-not-inc</td>\n",
              "      <td>83311</td>\n",
              "      <td>Bachelors</td>\n",
              "      <td>13</td>\n",
              "      <td>Married-civ-spouse</td>\n",
              "      <td>Exec-managerial</td>\n",
              "      <td>Husband</td>\n",
              "      <td>White</td>\n",
              "      <td>Male</td>\n",
              "      <td>0</td>\n",
              "      <td>0</td>\n",
              "      <td>13</td>\n",
              "      <td>United-States</td>\n",
              "      <td>&lt;=50K</td>\n",
              "    </tr>\n",
              "  </tbody>\n",
              "</table>\n",
              "</div>"
            ],
            "text/plain": [
              "   age          workclass  ...  native-country earnings-category\n",
              "0   39          State-gov  ...   United-States             <=50K\n",
              "1   50   Self-emp-not-inc  ...   United-States             <=50K\n",
              "\n",
              "[2 rows x 15 columns]"
            ]
          },
          "metadata": {
            "tags": []
          },
          "execution_count": 12
        }
      ]
    },
    {
      "cell_type": "code",
      "metadata": {
        "colab": {
          "base_uri": "https://localhost:8080/",
          "height": 162
        },
        "id": "IApruUKO_qnH",
        "outputId": "9bea41eb-11d7-4533-905b-4c7aab82d7c7"
      },
      "source": [
        "df.tail(2)  # prints the last 2 rows of the dataframe"
      ],
      "execution_count": null,
      "outputs": [
        {
          "output_type": "execute_result",
          "data": {
            "text/html": [
              "<div>\n",
              "<style scoped>\n",
              "    .dataframe tbody tr th:only-of-type {\n",
              "        vertical-align: middle;\n",
              "    }\n",
              "\n",
              "    .dataframe tbody tr th {\n",
              "        vertical-align: top;\n",
              "    }\n",
              "\n",
              "    .dataframe thead th {\n",
              "        text-align: right;\n",
              "    }\n",
              "</style>\n",
              "<table border=\"1\" class=\"dataframe\">\n",
              "  <thead>\n",
              "    <tr style=\"text-align: right;\">\n",
              "      <th></th>\n",
              "      <th>age</th>\n",
              "      <th>workclass</th>\n",
              "      <th>fnlwgt</th>\n",
              "      <th>education</th>\n",
              "      <th>education-num</th>\n",
              "      <th>marital-status</th>\n",
              "      <th>occupation</th>\n",
              "      <th>relationship</th>\n",
              "      <th>race</th>\n",
              "      <th>sex</th>\n",
              "      <th>capital-gain</th>\n",
              "      <th>capital-loss</th>\n",
              "      <th>hours-per-week</th>\n",
              "      <th>native-country</th>\n",
              "      <th>earnings-category</th>\n",
              "    </tr>\n",
              "  </thead>\n",
              "  <tbody>\n",
              "    <tr>\n",
              "      <th>32559</th>\n",
              "      <td>22</td>\n",
              "      <td>Private</td>\n",
              "      <td>201490</td>\n",
              "      <td>HS-grad</td>\n",
              "      <td>9</td>\n",
              "      <td>Never-married</td>\n",
              "      <td>Adm-clerical</td>\n",
              "      <td>Own-child</td>\n",
              "      <td>White</td>\n",
              "      <td>Male</td>\n",
              "      <td>0</td>\n",
              "      <td>0</td>\n",
              "      <td>20</td>\n",
              "      <td>United-States</td>\n",
              "      <td>&lt;=50K</td>\n",
              "    </tr>\n",
              "    <tr>\n",
              "      <th>32560</th>\n",
              "      <td>52</td>\n",
              "      <td>Self-emp-inc</td>\n",
              "      <td>287927</td>\n",
              "      <td>HS-grad</td>\n",
              "      <td>9</td>\n",
              "      <td>Married-civ-spouse</td>\n",
              "      <td>Exec-managerial</td>\n",
              "      <td>Wife</td>\n",
              "      <td>White</td>\n",
              "      <td>Female</td>\n",
              "      <td>15024</td>\n",
              "      <td>0</td>\n",
              "      <td>40</td>\n",
              "      <td>United-States</td>\n",
              "      <td>&gt;50K</td>\n",
              "    </tr>\n",
              "  </tbody>\n",
              "</table>\n",
              "</div>"
            ],
            "text/plain": [
              "       age      workclass  ...  native-country earnings-category\n",
              "32559   22        Private  ...   United-States             <=50K\n",
              "32560   52   Self-emp-inc  ...   United-States              >50K\n",
              "\n",
              "[2 rows x 15 columns]"
            ]
          },
          "metadata": {
            "tags": []
          },
          "execution_count": 13
        }
      ]
    },
    {
      "cell_type": "code",
      "metadata": {
        "colab": {
          "base_uri": "https://localhost:8080/"
        },
        "id": "d4_X94wP_qnH",
        "outputId": "05663689-369f-4a1c-8b2a-7e38a2c6b617"
      },
      "source": [
        "df.shape  # provides a tuple indicating (number of rows, number of columns)"
      ],
      "execution_count": null,
      "outputs": [
        {
          "output_type": "execute_result",
          "data": {
            "text/plain": [
              "(32561, 15)"
            ]
          },
          "metadata": {
            "tags": []
          },
          "execution_count": 14
        }
      ]
    },
    {
      "cell_type": "code",
      "metadata": {
        "colab": {
          "base_uri": "https://localhost:8080/",
          "height": 297
        },
        "id": "-nr94Zph_qnI",
        "outputId": "b590e3d3-85d3-4c3f-8f03-3af7f43e079d"
      },
      "source": [
        "df.describe()  # provides statistical estimators on numeric data"
      ],
      "execution_count": null,
      "outputs": [
        {
          "output_type": "execute_result",
          "data": {
            "text/html": [
              "<div>\n",
              "<style scoped>\n",
              "    .dataframe tbody tr th:only-of-type {\n",
              "        vertical-align: middle;\n",
              "    }\n",
              "\n",
              "    .dataframe tbody tr th {\n",
              "        vertical-align: top;\n",
              "    }\n",
              "\n",
              "    .dataframe thead th {\n",
              "        text-align: right;\n",
              "    }\n",
              "</style>\n",
              "<table border=\"1\" class=\"dataframe\">\n",
              "  <thead>\n",
              "    <tr style=\"text-align: right;\">\n",
              "      <th></th>\n",
              "      <th>age</th>\n",
              "      <th>fnlwgt</th>\n",
              "      <th>education-num</th>\n",
              "      <th>capital-gain</th>\n",
              "      <th>capital-loss</th>\n",
              "      <th>hours-per-week</th>\n",
              "    </tr>\n",
              "  </thead>\n",
              "  <tbody>\n",
              "    <tr>\n",
              "      <th>count</th>\n",
              "      <td>32561.000000</td>\n",
              "      <td>3.256100e+04</td>\n",
              "      <td>32561.000000</td>\n",
              "      <td>32561.000000</td>\n",
              "      <td>32561.000000</td>\n",
              "      <td>32561.000000</td>\n",
              "    </tr>\n",
              "    <tr>\n",
              "      <th>mean</th>\n",
              "      <td>38.581647</td>\n",
              "      <td>1.897784e+05</td>\n",
              "      <td>10.080679</td>\n",
              "      <td>1077.648844</td>\n",
              "      <td>87.303830</td>\n",
              "      <td>40.437456</td>\n",
              "    </tr>\n",
              "    <tr>\n",
              "      <th>std</th>\n",
              "      <td>13.640433</td>\n",
              "      <td>1.055500e+05</td>\n",
              "      <td>2.572720</td>\n",
              "      <td>7385.292085</td>\n",
              "      <td>402.960219</td>\n",
              "      <td>12.347429</td>\n",
              "    </tr>\n",
              "    <tr>\n",
              "      <th>min</th>\n",
              "      <td>17.000000</td>\n",
              "      <td>1.228500e+04</td>\n",
              "      <td>1.000000</td>\n",
              "      <td>0.000000</td>\n",
              "      <td>0.000000</td>\n",
              "      <td>1.000000</td>\n",
              "    </tr>\n",
              "    <tr>\n",
              "      <th>25%</th>\n",
              "      <td>28.000000</td>\n",
              "      <td>1.178270e+05</td>\n",
              "      <td>9.000000</td>\n",
              "      <td>0.000000</td>\n",
              "      <td>0.000000</td>\n",
              "      <td>40.000000</td>\n",
              "    </tr>\n",
              "    <tr>\n",
              "      <th>50%</th>\n",
              "      <td>37.000000</td>\n",
              "      <td>1.783560e+05</td>\n",
              "      <td>10.000000</td>\n",
              "      <td>0.000000</td>\n",
              "      <td>0.000000</td>\n",
              "      <td>40.000000</td>\n",
              "    </tr>\n",
              "    <tr>\n",
              "      <th>75%</th>\n",
              "      <td>48.000000</td>\n",
              "      <td>2.370510e+05</td>\n",
              "      <td>12.000000</td>\n",
              "      <td>0.000000</td>\n",
              "      <td>0.000000</td>\n",
              "      <td>45.000000</td>\n",
              "    </tr>\n",
              "    <tr>\n",
              "      <th>max</th>\n",
              "      <td>90.000000</td>\n",
              "      <td>1.484705e+06</td>\n",
              "      <td>16.000000</td>\n",
              "      <td>99999.000000</td>\n",
              "      <td>4356.000000</td>\n",
              "      <td>99.000000</td>\n",
              "    </tr>\n",
              "  </tbody>\n",
              "</table>\n",
              "</div>"
            ],
            "text/plain": [
              "                age        fnlwgt  ...  capital-loss  hours-per-week\n",
              "count  32561.000000  3.256100e+04  ...  32561.000000    32561.000000\n",
              "mean      38.581647  1.897784e+05  ...     87.303830       40.437456\n",
              "std       13.640433  1.055500e+05  ...    402.960219       12.347429\n",
              "min       17.000000  1.228500e+04  ...      0.000000        1.000000\n",
              "25%       28.000000  1.178270e+05  ...      0.000000       40.000000\n",
              "50%       37.000000  1.783560e+05  ...      0.000000       40.000000\n",
              "75%       48.000000  2.370510e+05  ...      0.000000       45.000000\n",
              "max       90.000000  1.484705e+06  ...   4356.000000       99.000000\n",
              "\n",
              "[8 rows x 6 columns]"
            ]
          },
          "metadata": {
            "tags": []
          },
          "execution_count": 15
        }
      ]
    },
    {
      "cell_type": "markdown",
      "metadata": {
        "id": "w29Qzkui_qnI"
      },
      "source": [
        "<a id='P3' name='P3'></a>\n",
        "## [Data Types](#P0)"
      ]
    },
    {
      "cell_type": "markdown",
      "metadata": {
        "id": "umA2BhfV_qnK"
      },
      "source": [
        "When the dataframe is created, pandas automatically attributes a type to each column. You can access the type of each column by typing:"
      ]
    },
    {
      "cell_type": "code",
      "metadata": {
        "colab": {
          "base_uri": "https://localhost:8080/"
        },
        "id": "elyR3FNU_qnK",
        "outputId": "d4a457ca-74a5-426e-c236-1ff61a119295"
      },
      "source": [
        "df.dtypes  # prints the column types"
      ],
      "execution_count": null,
      "outputs": [
        {
          "output_type": "execute_result",
          "data": {
            "text/plain": [
              "age                   int64\n",
              "workclass            object\n",
              "fnlwgt                int64\n",
              "education            object\n",
              "education-num         int64\n",
              "marital-status       object\n",
              "occupation           object\n",
              "relationship         object\n",
              "race                 object\n",
              "sex                  object\n",
              "capital-gain          int64\n",
              "capital-loss          int64\n",
              "hours-per-week        int64\n",
              "native-country       object\n",
              "earnings-category    object\n",
              "dtype: object"
            ]
          },
          "metadata": {
            "tags": []
          },
          "execution_count": 16
        }
      ]
    },
    {
      "cell_type": "markdown",
      "metadata": {
        "id": "2rzAJh5k_qnK"
      },
      "source": [
        "That is actually one of the first things you should do after reading data: making sure that all the column have a correct type."
      ]
    },
    {
      "cell_type": "markdown",
      "metadata": {
        "id": "3F1SjK6q_qnK"
      },
      "source": [
        "Here we have 2 different types: int64 and object. \n",
        "The blog [Practical Business Python](https://pbpython.com/pandas_dtypes_cat.html) provides a very handy table that summarizes pandas types, uses and equivalent in standard Python and NumPy:"
      ]
    },
    {
      "cell_type": "markdown",
      "metadata": {
        "id": "jY68sgDd_qnL"
      },
      "source": [
        "![Selection_026.png](data:image/png;base64,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)"
      ]
    },
    {
      "cell_type": "markdown",
      "metadata": {
        "id": "iuCI3MEj_qnT"
      },
      "source": [
        "In our example, most of the columns of type `object` are actually categorical variables. We can change their type in the dataframe using the method `astype()`:"
      ]
    },
    {
      "cell_type": "code",
      "metadata": {
        "id": "07J9VzQx_qnX"
      },
      "source": [
        "df[\"workclass\"] = df.workclass.astype(\"category\")"
      ],
      "execution_count": null,
      "outputs": []
    },
    {
      "cell_type": "markdown",
      "metadata": {
        "id": "29QPOGpo_qnX"
      },
      "source": [
        "And we can check that the type of the `workclass` column has changed to `category`:"
      ]
    },
    {
      "cell_type": "code",
      "metadata": {
        "colab": {
          "base_uri": "https://localhost:8080/"
        },
        "id": "hLJ68VUe_qnX",
        "outputId": "59f0745d-e4a1-463d-d3d0-7e482e307089"
      },
      "source": [
        "df.dtypes"
      ],
      "execution_count": null,
      "outputs": [
        {
          "output_type": "execute_result",
          "data": {
            "text/plain": [
              "age                     int64\n",
              "workclass            category\n",
              "fnlwgt                  int64\n",
              "education              object\n",
              "education-num           int64\n",
              "marital-status         object\n",
              "occupation             object\n",
              "relationship           object\n",
              "race                   object\n",
              "sex                    object\n",
              "capital-gain            int64\n",
              "capital-loss            int64\n",
              "hours-per-week          int64\n",
              "native-country         object\n",
              "earnings-category      object\n",
              "dtype: object"
            ]
          },
          "metadata": {
            "tags": []
          },
          "execution_count": 18
        }
      ]
    },
    {
      "cell_type": "markdown",
      "metadata": {
        "id": "l-o6vSQK_qnX"
      },
      "source": [
        "Once the type of a column is set to \"category\", we have access to a whole range of methods (checkout this [article](https://pandas.pydata.org/pandas-docs/stable/user_guide/categorical.html) for a comprehensive view on how to work with categorical data in pandas). For example here is how to print the different category values for \"workclass\":"
      ]
    },
    {
      "cell_type": "code",
      "metadata": {
        "colab": {
          "base_uri": "https://localhost:8080/"
        },
        "id": "c-P01Jgy_qnX",
        "outputId": "59832596-dbc1-4b5d-dee0-b49ad4a40b5e"
      },
      "source": [
        "df[\"workclass\"].cat.categories"
      ],
      "execution_count": null,
      "outputs": [
        {
          "output_type": "execute_result",
          "data": {
            "text/plain": [
              "Index([' ?', ' Federal-gov', ' Local-gov', ' Never-worked', ' Private',\n",
              "       ' Self-emp-inc', ' Self-emp-not-inc', ' State-gov', ' Without-pay'],\n",
              "      dtype='object')"
            ]
          },
          "metadata": {
            "tags": []
          },
          "execution_count": 19
        }
      ]
    },
    {
      "cell_type": "markdown",
      "metadata": {
        "id": "cEpKy3q-_qnY"
      },
      "source": [
        "Likewise, converting columns to `int64`, `float64`, `bool`, `datetime64` and `timedelta[ns]` (if the column is compatible), will give you access to specific methods."
      ]
    },
    {
      "cell_type": "markdown",
      "metadata": {
        "id": "b8YHfC6I_qnY"
      },
      "source": [
        "**Note**:\n",
        "most of the time, you should only convert column types if you actually need to access specific methods."
      ]
    },
    {
      "cell_type": "markdown",
      "metadata": {
        "id": "zSLaeorK_qnY"
      },
      "source": [
        "<a id='P4' name='P4'></a>\n",
        "## [Data Selection (Indexing)](#P0)"
      ]
    },
    {
      "cell_type": "markdown",
      "metadata": {
        "id": "veKqHahd_qnY"
      },
      "source": [
        "\n",
        "Here are the basic ways you can select specific columns and rows:"
      ]
    },
    {
      "cell_type": "markdown",
      "metadata": {
        "id": "Eqry-8lP_qnY"
      },
      "source": [
        "### select columns\n",
        "\n",
        "To select a given column by name (and output a pandas Series):"
      ]
    },
    {
      "cell_type": "code",
      "metadata": {
        "colab": {
          "base_uri": "https://localhost:8080/"
        },
        "id": "sA6Hjibm_qnY",
        "outputId": "fb6d266d-ecf3-4d2c-eddb-747f210cc20b"
      },
      "source": [
        "df[\"age\"]"
      ],
      "execution_count": null,
      "outputs": [
        {
          "output_type": "execute_result",
          "data": {
            "text/plain": [
              "0        39\n",
              "1        50\n",
              "2        38\n",
              "3        53\n",
              "4        28\n",
              "         ..\n",
              "32556    27\n",
              "32557    40\n",
              "32558    58\n",
              "32559    22\n",
              "32560    52\n",
              "Name: age, Length: 32561, dtype: int64"
            ]
          },
          "metadata": {
            "tags": []
          },
          "execution_count": 20
        }
      ]
    },
    {
      "cell_type": "markdown",
      "metadata": {
        "id": "sGm_yfQ-_qnZ"
      },
      "source": [
        "or select a column by name and output a pandas DataFrame:"
      ]
    },
    {
      "cell_type": "code",
      "metadata": {
        "colab": {
          "base_uri": "https://localhost:8080/"
        },
        "id": "h8-NaVgN_qnZ",
        "outputId": "b1066fad-9685-40cf-ce16-6f8202f5ffd6"
      },
      "source": [
        "df[[\"age\"]]"
      ],
      "execution_count": null,
      "outputs": [
        {
          "output_type": "execute_result",
          "data": {
            "text/html": [
              "<div>\n",
              "<style scoped>\n",
              "    .dataframe tbody tr th:only-of-type {\n",
              "        vertical-align: middle;\n",
              "    }\n",
              "\n",
              "    .dataframe tbody tr th {\n",
              "        vertical-align: top;\n",
              "    }\n",
              "\n",
              "    .dataframe thead th {\n",
              "        text-align: right;\n",
              "    }\n",
              "</style>\n",
              "<table border=\"1\" class=\"dataframe\">\n",
              "  <thead>\n",
              "    <tr style=\"text-align: right;\">\n",
              "      <th></th>\n",
              "      <th>age</th>\n",
              "    </tr>\n",
              "  </thead>\n",
              "  <tbody>\n",
              "    <tr>\n",
              "      <th>0</th>\n",
              "      <td>39</td>\n",
              "    </tr>\n",
              "    <tr>\n",
              "      <th>1</th>\n",
              "      <td>50</td>\n",
              "    </tr>\n",
              "    <tr>\n",
              "      <th>2</th>\n",
              "      <td>38</td>\n",
              "    </tr>\n",
              "    <tr>\n",
              "      <th>3</th>\n",
              "      <td>53</td>\n",
              "    </tr>\n",
              "    <tr>\n",
              "      <th>4</th>\n",
              "      <td>28</td>\n",
              "    </tr>\n",
              "    <tr>\n",
              "      <th>...</th>\n",
              "      <td>...</td>\n",
              "    </tr>\n",
              "    <tr>\n",
              "      <th>32556</th>\n",
              "      <td>27</td>\n",
              "    </tr>\n",
              "    <tr>\n",
              "      <th>32557</th>\n",
              "      <td>40</td>\n",
              "    </tr>\n",
              "    <tr>\n",
              "      <th>32558</th>\n",
              "      <td>58</td>\n",
              "    </tr>\n",
              "    <tr>\n",
              "      <th>32559</th>\n",
              "      <td>22</td>\n",
              "    </tr>\n",
              "    <tr>\n",
              "      <th>32560</th>\n",
              "      <td>52</td>\n",
              "    </tr>\n",
              "  </tbody>\n",
              "</table>\n",
              "<p>32561 rows × 1 columns</p>\n",
              "</div>"
            ],
            "text/plain": [
              "       age\n",
              "0       39\n",
              "1       50\n",
              "2       38\n",
              "3       53\n",
              "4       28\n",
              "...    ...\n",
              "32556   27\n",
              "32557   40\n",
              "32558   58\n",
              "32559   22\n",
              "32560   52\n",
              "\n",
              "[32561 rows x 1 columns]"
            ]
          },
          "metadata": {
            "tags": []
          },
          "execution_count": 21
        }
      ]
    },
    {
      "cell_type": "markdown",
      "metadata": {
        "id": "03gddOJv_qnZ"
      },
      "source": [
        "For selecting several columns by names (notice the list like nesting used in selecting data):"
      ]
    },
    {
      "cell_type": "code",
      "metadata": {
        "colab": {
          "base_uri": "https://localhost:8080/"
        },
        "id": "zGtaThY0_qnZ",
        "outputId": "acb8c9bc-2b2d-416b-f3f8-621f52695e25"
      },
      "source": [
        "df[[\"age\", \"workclass\"]]"
      ],
      "execution_count": null,
      "outputs": [
        {
          "output_type": "execute_result",
          "data": {
            "text/html": [
              "<div>\n",
              "<style scoped>\n",
              "    .dataframe tbody tr th:only-of-type {\n",
              "        vertical-align: middle;\n",
              "    }\n",
              "\n",
              "    .dataframe tbody tr th {\n",
              "        vertical-align: top;\n",
              "    }\n",
              "\n",
              "    .dataframe thead th {\n",
              "        text-align: right;\n",
              "    }\n",
              "</style>\n",
              "<table border=\"1\" class=\"dataframe\">\n",
              "  <thead>\n",
              "    <tr style=\"text-align: right;\">\n",
              "      <th></th>\n",
              "      <th>age</th>\n",
              "      <th>workclass</th>\n",
              "    </tr>\n",
              "  </thead>\n",
              "  <tbody>\n",
              "    <tr>\n",
              "      <th>0</th>\n",
              "      <td>39</td>\n",
              "      <td>State-gov</td>\n",
              "    </tr>\n",
              "    <tr>\n",
              "      <th>1</th>\n",
              "      <td>50</td>\n",
              "      <td>Self-emp-not-inc</td>\n",
              "    </tr>\n",
              "    <tr>\n",
              "      <th>2</th>\n",
              "      <td>38</td>\n",
              "      <td>Private</td>\n",
              "    </tr>\n",
              "    <tr>\n",
              "      <th>3</th>\n",
              "      <td>53</td>\n",
              "      <td>Private</td>\n",
              "    </tr>\n",
              "    <tr>\n",
              "      <th>4</th>\n",
              "      <td>28</td>\n",
              "      <td>Private</td>\n",
              "    </tr>\n",
              "    <tr>\n",
              "      <th>...</th>\n",
              "      <td>...</td>\n",
              "      <td>...</td>\n",
              "    </tr>\n",
              "    <tr>\n",
              "      <th>32556</th>\n",
              "      <td>27</td>\n",
              "      <td>Private</td>\n",
              "    </tr>\n",
              "    <tr>\n",
              "      <th>32557</th>\n",
              "      <td>40</td>\n",
              "      <td>Private</td>\n",
              "    </tr>\n",
              "    <tr>\n",
              "      <th>32558</th>\n",
              "      <td>58</td>\n",
              "      <td>Private</td>\n",
              "    </tr>\n",
              "    <tr>\n",
              "      <th>32559</th>\n",
              "      <td>22</td>\n",
              "      <td>Private</td>\n",
              "    </tr>\n",
              "    <tr>\n",
              "      <th>32560</th>\n",
              "      <td>52</td>\n",
              "      <td>Self-emp-inc</td>\n",
              "    </tr>\n",
              "  </tbody>\n",
              "</table>\n",
              "<p>32561 rows × 2 columns</p>\n",
              "</div>"
            ],
            "text/plain": [
              "       age          workclass\n",
              "0       39          State-gov\n",
              "1       50   Self-emp-not-inc\n",
              "2       38            Private\n",
              "3       53            Private\n",
              "4       28            Private\n",
              "...    ...                ...\n",
              "32556   27            Private\n",
              "32557   40            Private\n",
              "32558   58            Private\n",
              "32559   22            Private\n",
              "32560   52       Self-emp-inc\n",
              "\n",
              "[32561 rows x 2 columns]"
            ]
          },
          "metadata": {
            "tags": []
          },
          "execution_count": 22
        }
      ]
    },
    {
      "cell_type": "markdown",
      "metadata": {
        "id": "mxr8SHp4_qnZ"
      },
      "source": [
        "select first 3 rows:"
      ]
    },
    {
      "cell_type": "code",
      "metadata": {
        "colab": {
          "base_uri": "https://localhost:8080/"
        },
        "id": "cpWBs16y_qnZ",
        "outputId": "83b4034b-d392-4aac-afbf-d509fcb5bfc5"
      },
      "source": [
        "df[:3]"
      ],
      "execution_count": null,
      "outputs": [
        {
          "output_type": "execute_result",
          "data": {
            "text/html": [
              "<div>\n",
              "<style scoped>\n",
              "    .dataframe tbody tr th:only-of-type {\n",
              "        vertical-align: middle;\n",
              "    }\n",
              "\n",
              "    .dataframe tbody tr th {\n",
              "        vertical-align: top;\n",
              "    }\n",
              "\n",
              "    .dataframe thead th {\n",
              "        text-align: right;\n",
              "    }\n",
              "</style>\n",
              "<table border=\"1\" class=\"dataframe\">\n",
              "  <thead>\n",
              "    <tr style=\"text-align: right;\">\n",
              "      <th></th>\n",
              "      <th>age</th>\n",
              "      <th>workclass</th>\n",
              "      <th>fnlwgt</th>\n",
              "      <th>education</th>\n",
              "      <th>education-num</th>\n",
              "      <th>marital-status</th>\n",
              "      <th>occupation</th>\n",
              "      <th>relationship</th>\n",
              "      <th>race</th>\n",
              "      <th>sex</th>\n",
              "      <th>capital-gain</th>\n",
              "      <th>capital-loss</th>\n",
              "      <th>hours-per-week</th>\n",
              "      <th>native-country</th>\n",
              "      <th>earnings-category</th>\n",
              "    </tr>\n",
              "  </thead>\n",
              "  <tbody>\n",
              "    <tr>\n",
              "      <th>0</th>\n",
              "      <td>39</td>\n",
              "      <td>State-gov</td>\n",
              "      <td>77516</td>\n",
              "      <td>Bachelors</td>\n",
              "      <td>13</td>\n",
              "      <td>Never-married</td>\n",
              "      <td>Adm-clerical</td>\n",
              "      <td>Not-in-family</td>\n",
              "      <td>White</td>\n",
              "      <td>Male</td>\n",
              "      <td>2174</td>\n",
              "      <td>0</td>\n",
              "      <td>40</td>\n",
              "      <td>United-States</td>\n",
              "      <td>&lt;=50K</td>\n",
              "    </tr>\n",
              "    <tr>\n",
              "      <th>1</th>\n",
              "      <td>50</td>\n",
              "      <td>Self-emp-not-inc</td>\n",
              "      <td>83311</td>\n",
              "      <td>Bachelors</td>\n",
              "      <td>13</td>\n",
              "      <td>Married-civ-spouse</td>\n",
              "      <td>Exec-managerial</td>\n",
              "      <td>Husband</td>\n",
              "      <td>White</td>\n",
              "      <td>Male</td>\n",
              "      <td>0</td>\n",
              "      <td>0</td>\n",
              "      <td>13</td>\n",
              "      <td>United-States</td>\n",
              "      <td>&lt;=50K</td>\n",
              "    </tr>\n",
              "    <tr>\n",
              "      <th>2</th>\n",
              "      <td>38</td>\n",
              "      <td>Private</td>\n",
              "      <td>215646</td>\n",
              "      <td>HS-grad</td>\n",
              "      <td>9</td>\n",
              "      <td>Divorced</td>\n",
              "      <td>Handlers-cleaners</td>\n",
              "      <td>Not-in-family</td>\n",
              "      <td>White</td>\n",
              "      <td>Male</td>\n",
              "      <td>0</td>\n",
              "      <td>0</td>\n",
              "      <td>40</td>\n",
              "      <td>United-States</td>\n",
              "      <td>&lt;=50K</td>\n",
              "    </tr>\n",
              "  </tbody>\n",
              "</table>\n",
              "</div>"
            ],
            "text/plain": [
              "   age          workclass  ...  native-country earnings-category\n",
              "0   39          State-gov  ...   United-States             <=50K\n",
              "1   50   Self-emp-not-inc  ...   United-States             <=50K\n",
              "2   38            Private  ...   United-States             <=50K\n",
              "\n",
              "[3 rows x 15 columns]"
            ]
          },
          "metadata": {
            "tags": []
          },
          "execution_count": 23
        }
      ]
    },
    {
      "cell_type": "markdown",
      "metadata": {
        "id": "0oBPClp8_qna"
      },
      "source": [
        "### select specific rows and columns"
      ]
    },
    {
      "cell_type": "markdown",
      "metadata": {
        "id": "NcXSiN6J_qna"
      },
      "source": [
        "to select a subset of rows and/or column, you mainly have two methods available:\n",
        "\n",
        "- `df.loc[]` for label indexing \n",
        "- `df.iloc[]` for numerical indexing\n",
        "\n",
        "see the difference:"
      ]
    },
    {
      "cell_type": "code",
      "metadata": {
        "colab": {
          "base_uri": "https://localhost:8080/"
        },
        "id": "eWcIoIUe_qna",
        "outputId": "32f75328-c648-4fd7-d2cf-19387d3219f8"
      },
      "source": [
        "df.iloc[2:5, 10:]"
      ],
      "execution_count": null,
      "outputs": [
        {
          "output_type": "execute_result",
          "data": {
            "text/html": [
              "<div>\n",
              "<style scoped>\n",
              "    .dataframe tbody tr th:only-of-type {\n",
              "        vertical-align: middle;\n",
              "    }\n",
              "\n",
              "    .dataframe tbody tr th {\n",
              "        vertical-align: top;\n",
              "    }\n",
              "\n",
              "    .dataframe thead th {\n",
              "        text-align: right;\n",
              "    }\n",
              "</style>\n",
              "<table border=\"1\" class=\"dataframe\">\n",
              "  <thead>\n",
              "    <tr style=\"text-align: right;\">\n",
              "      <th></th>\n",
              "      <th>capital-gain</th>\n",
              "      <th>capital-loss</th>\n",
              "      <th>hours-per-week</th>\n",
              "      <th>native-country</th>\n",
              "      <th>earnings-category</th>\n",
              "    </tr>\n",
              "  </thead>\n",
              "  <tbody>\n",
              "    <tr>\n",
              "      <th>2</th>\n",
              "      <td>0</td>\n",
              "      <td>0</td>\n",
              "      <td>40</td>\n",
              "      <td>United-States</td>\n",
              "      <td>&lt;=50K</td>\n",
              "    </tr>\n",
              "    <tr>\n",
              "      <th>3</th>\n",
              "      <td>0</td>\n",
              "      <td>0</td>\n",
              "      <td>40</td>\n",
              "      <td>United-States</td>\n",
              "      <td>&lt;=50K</td>\n",
              "    </tr>\n",
              "    <tr>\n",
              "      <th>4</th>\n",
              "      <td>0</td>\n",
              "      <td>0</td>\n",
              "      <td>40</td>\n",
              "      <td>Cuba</td>\n",
              "      <td>&lt;=50K</td>\n",
              "    </tr>\n",
              "  </tbody>\n",
              "</table>\n",
              "</div>"
            ],
            "text/plain": [
              "   capital-gain  capital-loss  hours-per-week  native-country earnings-category\n",
              "2             0             0              40   United-States             <=50K\n",
              "3             0             0              40   United-States             <=50K\n",
              "4             0             0              40            Cuba             <=50K"
            ]
          },
          "metadata": {
            "tags": []
          },
          "execution_count": 24
        }
      ]
    },
    {
      "cell_type": "code",
      "metadata": {
        "colab": {
          "base_uri": "https://localhost:8080/"
        },
        "id": "5A01Ugaq_qna",
        "outputId": "3e7fde34-5844-42f8-cf71-81efcb989086"
      },
      "source": [
        "df.loc[2:5, \"capital-gain\":]"
      ],
      "execution_count": null,
      "outputs": [
        {
          "output_type": "execute_result",
          "data": {
            "text/html": [
              "<div>\n",
              "<style scoped>\n",
              "    .dataframe tbody tr th:only-of-type {\n",
              "        vertical-align: middle;\n",
              "    }\n",
              "\n",
              "    .dataframe tbody tr th {\n",
              "        vertical-align: top;\n",
              "    }\n",
              "\n",
              "    .dataframe thead th {\n",
              "        text-align: right;\n",
              "    }\n",
              "</style>\n",
              "<table border=\"1\" class=\"dataframe\">\n",
              "  <thead>\n",
              "    <tr style=\"text-align: right;\">\n",
              "      <th></th>\n",
              "      <th>capital-gain</th>\n",
              "      <th>capital-loss</th>\n",
              "      <th>hours-per-week</th>\n",
              "      <th>native-country</th>\n",
              "      <th>earnings-category</th>\n",
              "    </tr>\n",
              "  </thead>\n",
              "  <tbody>\n",
              "    <tr>\n",
              "      <th>2</th>\n",
              "      <td>0</td>\n",
              "      <td>0</td>\n",
              "      <td>40</td>\n",
              "      <td>United-States</td>\n",
              "      <td>&lt;=50K</td>\n",
              "    </tr>\n",
              "    <tr>\n",
              "      <th>3</th>\n",
              "      <td>0</td>\n",
              "      <td>0</td>\n",
              "      <td>40</td>\n",
              "      <td>United-States</td>\n",
              "      <td>&lt;=50K</td>\n",
              "    </tr>\n",
              "    <tr>\n",
              "      <th>4</th>\n",
              "      <td>0</td>\n",
              "      <td>0</td>\n",
              "      <td>40</td>\n",
              "      <td>Cuba</td>\n",
              "      <td>&lt;=50K</td>\n",
              "    </tr>\n",
              "    <tr>\n",
              "      <th>5</th>\n",
              "      <td>0</td>\n",
              "      <td>0</td>\n",
              "      <td>40</td>\n",
              "      <td>United-States</td>\n",
              "      <td>&lt;=50K</td>\n",
              "    </tr>\n",
              "  </tbody>\n",
              "</table>\n",
              "</div>"
            ],
            "text/plain": [
              "   capital-gain  capital-loss  hours-per-week  native-country earnings-category\n",
              "2             0             0              40   United-States             <=50K\n",
              "3             0             0              40   United-States             <=50K\n",
              "4             0             0              40            Cuba             <=50K\n",
              "5             0             0              40   United-States             <=50K"
            ]
          },
          "metadata": {
            "tags": []
          },
          "execution_count": 25
        }
      ]
    },
    {
      "cell_type": "markdown",
      "metadata": {
        "id": "9P05i52z_qna"
      },
      "source": [
        "The first element within the `[]` refers to row indces. Since the row indices of our dataframe have been automatically generated, their indexing in `loc` and `iloc` are the same.\n",
        "\n",
        "The second element within the `[]` differs: while when using `iloc`, we refer to the column numbers, when using `loc`, we refer to the column names.\n",
        "\n",
        "Otherwise, indexing works similarly to built-in list indexing:"
      ]
    },
    {
      "cell_type": "code",
      "metadata": {
        "colab": {
          "base_uri": "https://localhost:8080/"
        },
        "id": "k18KDY_5_qna",
        "outputId": "5cf7e2e4-05ef-4424-8ef6-73515ed9b912"
      },
      "source": [
        "df.iloc[:, 0]  # all the rows for the first column"
      ],
      "execution_count": null,
      "outputs": [
        {
          "output_type": "execute_result",
          "data": {
            "text/plain": [
              "0        39\n",
              "1        50\n",
              "2        38\n",
              "3        53\n",
              "4        28\n",
              "         ..\n",
              "32556    27\n",
              "32557    40\n",
              "32558    58\n",
              "32559    22\n",
              "32560    52\n",
              "Name: age, Length: 32561, dtype: int64"
            ]
          },
          "metadata": {
            "tags": []
          },
          "execution_count": 26
        }
      ]
    },
    {
      "cell_type": "code",
      "metadata": {
        "colab": {
          "base_uri": "https://localhost:8080/"
        },
        "id": "6caWMam-_qna",
        "outputId": "ffc279e6-edd4-4c26-8920-893a2deae4f3"
      },
      "source": [
        "df.loc[:4]  # select all the columns for the first 4 rows"
      ],
      "execution_count": null,
      "outputs": [
        {
          "output_type": "execute_result",
          "data": {
            "text/html": [
              "<div>\n",
              "<style scoped>\n",
              "    .dataframe tbody tr th:only-of-type {\n",
              "        vertical-align: middle;\n",
              "    }\n",
              "\n",
              "    .dataframe tbody tr th {\n",
              "        vertical-align: top;\n",
              "    }\n",
              "\n",
              "    .dataframe thead th {\n",
              "        text-align: right;\n",
              "    }\n",
              "</style>\n",
              "<table border=\"1\" class=\"dataframe\">\n",
              "  <thead>\n",
              "    <tr style=\"text-align: right;\">\n",
              "      <th></th>\n",
              "      <th>age</th>\n",
              "      <th>workclass</th>\n",
              "      <th>fnlwgt</th>\n",
              "      <th>education</th>\n",
              "      <th>education-num</th>\n",
              "      <th>marital-status</th>\n",
              "      <th>occupation</th>\n",
              "      <th>relationship</th>\n",
              "      <th>race</th>\n",
              "      <th>sex</th>\n",
              "      <th>capital-gain</th>\n",
              "      <th>capital-loss</th>\n",
              "      <th>hours-per-week</th>\n",
              "      <th>native-country</th>\n",
              "      <th>earnings-category</th>\n",
              "    </tr>\n",
              "  </thead>\n",
              "  <tbody>\n",
              "    <tr>\n",
              "      <th>0</th>\n",
              "      <td>39</td>\n",
              "      <td>State-gov</td>\n",
              "      <td>77516</td>\n",
              "      <td>Bachelors</td>\n",
              "      <td>13</td>\n",
              "      <td>Never-married</td>\n",
              "      <td>Adm-clerical</td>\n",
              "      <td>Not-in-family</td>\n",
              "      <td>White</td>\n",
              "      <td>Male</td>\n",
              "      <td>2174</td>\n",
              "      <td>0</td>\n",
              "      <td>40</td>\n",
              "      <td>United-States</td>\n",
              "      <td>&lt;=50K</td>\n",
              "    </tr>\n",
              "    <tr>\n",
              "      <th>1</th>\n",
              "      <td>50</td>\n",
              "      <td>Self-emp-not-inc</td>\n",
              "      <td>83311</td>\n",
              "      <td>Bachelors</td>\n",
              "      <td>13</td>\n",
              "      <td>Married-civ-spouse</td>\n",
              "      <td>Exec-managerial</td>\n",
              "      <td>Husband</td>\n",
              "      <td>White</td>\n",
              "      <td>Male</td>\n",
              "      <td>0</td>\n",
              "      <td>0</td>\n",
              "      <td>13</td>\n",
              "      <td>United-States</td>\n",
              "      <td>&lt;=50K</td>\n",
              "    </tr>\n",
              "    <tr>\n",
              "      <th>2</th>\n",
              "      <td>38</td>\n",
              "      <td>Private</td>\n",
              "      <td>215646</td>\n",
              "      <td>HS-grad</td>\n",
              "      <td>9</td>\n",
              "      <td>Divorced</td>\n",
              "      <td>Handlers-cleaners</td>\n",
              "      <td>Not-in-family</td>\n",
              "      <td>White</td>\n",
              "      <td>Male</td>\n",
              "      <td>0</td>\n",
              "      <td>0</td>\n",
              "      <td>40</td>\n",
              "      <td>United-States</td>\n",
              "      <td>&lt;=50K</td>\n",
              "    </tr>\n",
              "    <tr>\n",
              "      <th>3</th>\n",
              "      <td>53</td>\n",
              "      <td>Private</td>\n",
              "      <td>234721</td>\n",
              "      <td>11th</td>\n",
              "      <td>7</td>\n",
              "      <td>Married-civ-spouse</td>\n",
              "      <td>Handlers-cleaners</td>\n",
              "      <td>Husband</td>\n",
              "      <td>Black</td>\n",
              "      <td>Male</td>\n",
              "      <td>0</td>\n",
              "      <td>0</td>\n",
              "      <td>40</td>\n",
              "      <td>United-States</td>\n",
              "      <td>&lt;=50K</td>\n",
              "    </tr>\n",
              "    <tr>\n",
              "      <th>4</th>\n",
              "      <td>28</td>\n",
              "      <td>Private</td>\n",
              "      <td>338409</td>\n",
              "      <td>Bachelors</td>\n",
              "      <td>13</td>\n",
              "      <td>Married-civ-spouse</td>\n",
              "      <td>Prof-specialty</td>\n",
              "      <td>Wife</td>\n",
              "      <td>Black</td>\n",
              "      <td>Female</td>\n",
              "      <td>0</td>\n",
              "      <td>0</td>\n",
              "      <td>40</td>\n",
              "      <td>Cuba</td>\n",
              "      <td>&lt;=50K</td>\n",
              "    </tr>\n",
              "  </tbody>\n",
              "</table>\n",
              "</div>"
            ],
            "text/plain": [
              "   age          workclass  ...  native-country earnings-category\n",
              "0   39          State-gov  ...   United-States             <=50K\n",
              "1   50   Self-emp-not-inc  ...   United-States             <=50K\n",
              "2   38            Private  ...   United-States             <=50K\n",
              "3   53            Private  ...   United-States             <=50K\n",
              "4   28            Private  ...            Cuba             <=50K\n",
              "\n",
              "[5 rows x 15 columns]"
            ]
          },
          "metadata": {
            "tags": []
          },
          "execution_count": 27
        }
      ]
    },
    {
      "cell_type": "code",
      "metadata": {
        "colab": {
          "base_uri": "https://localhost:8080/"
        },
        "id": "nH4wzTRz_qnb",
        "outputId": "a59b9c81-9c64-40e1-9f2c-4ac9b3f41eea"
      },
      "source": [
        "df.iloc[2:4, 5:8]  # select the rows 2 and 3 and columns 5, 6, 7"
      ],
      "execution_count": null,
      "outputs": [
        {
          "output_type": "execute_result",
          "data": {
            "text/html": [
              "<div>\n",
              "<style scoped>\n",
              "    .dataframe tbody tr th:only-of-type {\n",
              "        vertical-align: middle;\n",
              "    }\n",
              "\n",
              "    .dataframe tbody tr th {\n",
              "        vertical-align: top;\n",
              "    }\n",
              "\n",
              "    .dataframe thead th {\n",
              "        text-align: right;\n",
              "    }\n",
              "</style>\n",
              "<table border=\"1\" class=\"dataframe\">\n",
              "  <thead>\n",
              "    <tr style=\"text-align: right;\">\n",
              "      <th></th>\n",
              "      <th>marital-status</th>\n",
              "      <th>occupation</th>\n",
              "      <th>relationship</th>\n",
              "    </tr>\n",
              "  </thead>\n",
              "  <tbody>\n",
              "    <tr>\n",
              "      <th>2</th>\n",
              "      <td>Divorced</td>\n",
              "      <td>Handlers-cleaners</td>\n",
              "      <td>Not-in-family</td>\n",
              "    </tr>\n",
              "    <tr>\n",
              "      <th>3</th>\n",
              "      <td>Married-civ-spouse</td>\n",
              "      <td>Handlers-cleaners</td>\n",
              "      <td>Husband</td>\n",
              "    </tr>\n",
              "  </tbody>\n",
              "</table>\n",
              "</div>"
            ],
            "text/plain": [
              "        marital-status          occupation    relationship\n",
              "2             Divorced   Handlers-cleaners   Not-in-family\n",
              "3   Married-civ-spouse   Handlers-cleaners         Husband"
            ]
          },
          "metadata": {
            "tags": []
          },
          "execution_count": 28
        }
      ]
    },
    {
      "cell_type": "markdown",
      "metadata": {
        "id": "yfm0CmYx_qnb"
      },
      "source": [
        "### Boolean Indexing"
      ]
    },
    {
      "cell_type": "markdown",
      "metadata": {
        "id": "vHtKCi0r_qnb"
      },
      "source": [
        "Another extremely handy option is to select all the rows of a dataframe that satisfy a given condition. To do so, you need to provide a pandas series of boolean that is the same size as the number of rows of the data frame you want to filter. \n",
        "\n",
        "For example, we can create a boolean series that has `True` values when the marital status is `\" Divorced\"` and `False` otherwise:"
      ]
    },
    {
      "cell_type": "code",
      "metadata": {
        "colab": {
          "base_uri": "https://localhost:8080/"
        },
        "id": "R56QtRyK_qnb",
        "outputId": "c257e957-879b-476a-9cdb-12f3bbcd7fdc"
      },
      "source": [
        "df[\"marital-status\"] == \" Divorced\""
      ],
      "execution_count": null,
      "outputs": [
        {
          "output_type": "execute_result",
          "data": {
            "text/plain": [
              "0        False\n",
              "1        False\n",
              "2         True\n",
              "3        False\n",
              "4        False\n",
              "         ...  \n",
              "32556    False\n",
              "32557    False\n",
              "32558    False\n",
              "32559    False\n",
              "32560    False\n",
              "Name: marital-status, Length: 32561, dtype: bool"
            ]
          },
          "metadata": {
            "tags": []
          },
          "execution_count": 29
        }
      ]
    },
    {
      "cell_type": "markdown",
      "metadata": {
        "id": "FVZWMIrV_qnb"
      },
      "source": [
        "using this series, we can extract all the rows in the original dataframe `df` for which the `married-status` column is `\" Divorced\"`:"
      ]
    },
    {
      "cell_type": "code",
      "metadata": {
        "colab": {
          "base_uri": "https://localhost:8080/"
        },
        "id": "bMpN-QFM_qnc",
        "outputId": "865b9d05-591a-48b2-df86-8ef30374b13f"
      },
      "source": [
        "df[df[\"marital-status\"] == \" Divorced\"]"
      ],
      "execution_count": null,
      "outputs": [
        {
          "output_type": "execute_result",
          "data": {
            "text/html": [
              "<div>\n",
              "<style scoped>\n",
              "    .dataframe tbody tr th:only-of-type {\n",
              "        vertical-align: middle;\n",
              "    }\n",
              "\n",
              "    .dataframe tbody tr th {\n",
              "        vertical-align: top;\n",
              "    }\n",
              "\n",
              "    .dataframe thead th {\n",
              "        text-align: right;\n",
              "    }\n",
              "</style>\n",
              "<table border=\"1\" class=\"dataframe\">\n",
              "  <thead>\n",
              "    <tr style=\"text-align: right;\">\n",
              "      <th></th>\n",
              "      <th>age</th>\n",
              "      <th>workclass</th>\n",
              "      <th>fnlwgt</th>\n",
              "      <th>education</th>\n",
              "      <th>education-num</th>\n",
              "      <th>marital-status</th>\n",
              "      <th>occupation</th>\n",
              "      <th>relationship</th>\n",
              "      <th>race</th>\n",
              "      <th>sex</th>\n",
              "      <th>capital-gain</th>\n",
              "      <th>capital-loss</th>\n",
              "      <th>hours-per-week</th>\n",
              "      <th>native-country</th>\n",
              "      <th>earnings-category</th>\n",
              "    </tr>\n",
              "  </thead>\n",
              "  <tbody>\n",
              "    <tr>\n",
              "      <th>2</th>\n",
              "      <td>38</td>\n",
              "      <td>Private</td>\n",
              "      <td>215646</td>\n",
              "      <td>HS-grad</td>\n",
              "      <td>9</td>\n",
              "      <td>Divorced</td>\n",
              "      <td>Handlers-cleaners</td>\n",
              "      <td>Not-in-family</td>\n",
              "      <td>White</td>\n",
              "      <td>Male</td>\n",
              "      <td>0</td>\n",
              "      <td>0</td>\n",
              "      <td>40</td>\n",
              "      <td>United-States</td>\n",
              "      <td>&lt;=50K</td>\n",
              "    </tr>\n",
              "    <tr>\n",
              "      <th>19</th>\n",
              "      <td>43</td>\n",
              "      <td>Self-emp-not-inc</td>\n",
              "      <td>292175</td>\n",
              "      <td>Masters</td>\n",
              "      <td>14</td>\n",
              "      <td>Divorced</td>\n",
              "      <td>Exec-managerial</td>\n",
              "      <td>Unmarried</td>\n",
              "      <td>White</td>\n",
              "      <td>Female</td>\n",
              "      <td>0</td>\n",
              "      <td>0</td>\n",
              "      <td>45</td>\n",
              "      <td>United-States</td>\n",
              "      <td>&gt;50K</td>\n",
              "    </tr>\n",
              "    <tr>\n",
              "      <th>24</th>\n",
              "      <td>59</td>\n",
              "      <td>Private</td>\n",
              "      <td>109015</td>\n",
              "      <td>HS-grad</td>\n",
              "      <td>9</td>\n",
              "      <td>Divorced</td>\n",
              "      <td>Tech-support</td>\n",
              "      <td>Unmarried</td>\n",
              "      <td>White</td>\n",
              "      <td>Female</td>\n",
              "      <td>0</td>\n",
              "      <td>0</td>\n",
              "      <td>40</td>\n",
              "      <td>United-States</td>\n",
              "      <td>&lt;=50K</td>\n",
              "    </tr>\n",
              "    <tr>\n",
              "      <th>28</th>\n",
              "      <td>39</td>\n",
              "      <td>Private</td>\n",
              "      <td>367260</td>\n",
              "      <td>HS-grad</td>\n",
              "      <td>9</td>\n",
              "      <td>Divorced</td>\n",
              "      <td>Exec-managerial</td>\n",
              "      <td>Not-in-family</td>\n",
              "      <td>White</td>\n",
              "      <td>Male</td>\n",
              "      <td>0</td>\n",
              "      <td>0</td>\n",
              "      <td>80</td>\n",
              "      <td>United-States</td>\n",
              "      <td>&lt;=50K</td>\n",
              "    </tr>\n",
              "    <tr>\n",
              "      <th>32</th>\n",
              "      <td>45</td>\n",
              "      <td>Private</td>\n",
              "      <td>386940</td>\n",
              "      <td>Bachelors</td>\n",
              "      <td>13</td>\n",
              "      <td>Divorced</td>\n",
              "      <td>Exec-managerial</td>\n",
              "      <td>Own-child</td>\n",
              "      <td>White</td>\n",
              "      <td>Male</td>\n",
              "      <td>0</td>\n",
              "      <td>1408</td>\n",
              "      <td>40</td>\n",
              "      <td>United-States</td>\n",
              "      <td>&lt;=50K</td>\n",
              "    </tr>\n",
              "    <tr>\n",
              "      <th>...</th>\n",
              "      <td>...</td>\n",
              "      <td>...</td>\n",
              "      <td>...</td>\n",
              "      <td>...</td>\n",
              "      <td>...</td>\n",
              "      <td>...</td>\n",
              "      <td>...</td>\n",
              "      <td>...</td>\n",
              "      <td>...</td>\n",
              "      <td>...</td>\n",
              "      <td>...</td>\n",
              "      <td>...</td>\n",
              "      <td>...</td>\n",
              "      <td>...</td>\n",
              "      <td>...</td>\n",
              "    </tr>\n",
              "    <tr>\n",
              "      <th>32538</th>\n",
              "      <td>38</td>\n",
              "      <td>Private</td>\n",
              "      <td>139180</td>\n",
              "      <td>Bachelors</td>\n",
              "      <td>13</td>\n",
              "      <td>Divorced</td>\n",
              "      <td>Prof-specialty</td>\n",
              "      <td>Unmarried</td>\n",
              "      <td>Black</td>\n",
              "      <td>Female</td>\n",
              "      <td>15020</td>\n",
              "      <td>0</td>\n",
              "      <td>45</td>\n",
              "      <td>United-States</td>\n",
              "      <td>&gt;50K</td>\n",
              "    </tr>\n",
              "    <tr>\n",
              "      <th>32543</th>\n",
              "      <td>45</td>\n",
              "      <td>Local-gov</td>\n",
              "      <td>119199</td>\n",
              "      <td>Assoc-acdm</td>\n",
              "      <td>12</td>\n",
              "      <td>Divorced</td>\n",
              "      <td>Prof-specialty</td>\n",
              "      <td>Unmarried</td>\n",
              "      <td>White</td>\n",
              "      <td>Female</td>\n",
              "      <td>0</td>\n",
              "      <td>0</td>\n",
              "      <td>48</td>\n",
              "      <td>United-States</td>\n",
              "      <td>&lt;=50K</td>\n",
              "    </tr>\n",
              "    <tr>\n",
              "      <th>32544</th>\n",
              "      <td>31</td>\n",
              "      <td>Private</td>\n",
              "      <td>199655</td>\n",
              "      <td>Masters</td>\n",
              "      <td>14</td>\n",
              "      <td>Divorced</td>\n",
              "      <td>Other-service</td>\n",
              "      <td>Not-in-family</td>\n",
              "      <td>Other</td>\n",
              "      <td>Female</td>\n",
              "      <td>0</td>\n",
              "      <td>0</td>\n",
              "      <td>30</td>\n",
              "      <td>United-States</td>\n",
              "      <td>&lt;=50K</td>\n",
              "    </tr>\n",
              "    <tr>\n",
              "      <th>32546</th>\n",
              "      <td>37</td>\n",
              "      <td>Private</td>\n",
              "      <td>198216</td>\n",
              "      <td>Assoc-acdm</td>\n",
              "      <td>12</td>\n",
              "      <td>Divorced</td>\n",
              "      <td>Tech-support</td>\n",
              "      <td>Not-in-family</td>\n",
              "      <td>White</td>\n",
              "      <td>Female</td>\n",
              "      <td>0</td>\n",
              "      <td>0</td>\n",
              "      <td>40</td>\n",
              "      <td>United-States</td>\n",
              "      <td>&lt;=50K</td>\n",
              "    </tr>\n",
              "    <tr>\n",
              "      <th>32549</th>\n",
              "      <td>43</td>\n",
              "      <td>State-gov</td>\n",
              "      <td>255835</td>\n",
              "      <td>Some-college</td>\n",
              "      <td>10</td>\n",
              "      <td>Divorced</td>\n",
              "      <td>Adm-clerical</td>\n",
              "      <td>Other-relative</td>\n",
              "      <td>White</td>\n",
              "      <td>Female</td>\n",
              "      <td>0</td>\n",
              "      <td>0</td>\n",
              "      <td>40</td>\n",
              "      <td>United-States</td>\n",
              "      <td>&lt;=50K</td>\n",
              "    </tr>\n",
              "  </tbody>\n",
              "</table>\n",
              "<p>4443 rows × 15 columns</p>\n",
              "</div>"
            ],
            "text/plain": [
              "       age          workclass  ...  native-country earnings-category\n",
              "2       38            Private  ...   United-States             <=50K\n",
              "19      43   Self-emp-not-inc  ...   United-States              >50K\n",
              "24      59            Private  ...   United-States             <=50K\n",
              "28      39            Private  ...   United-States             <=50K\n",
              "32      45            Private  ...   United-States             <=50K\n",
              "...    ...                ...  ...             ...               ...\n",
              "32538   38            Private  ...   United-States              >50K\n",
              "32543   45          Local-gov  ...   United-States             <=50K\n",
              "32544   31            Private  ...   United-States             <=50K\n",
              "32546   37            Private  ...   United-States             <=50K\n",
              "32549   43          State-gov  ...   United-States             <=50K\n",
              "\n",
              "[4443 rows x 15 columns]"
            ]
          },
          "metadata": {
            "tags": []
          },
          "execution_count": 30
        }
      ]
    },
    {
      "cell_type": "markdown",
      "metadata": {
        "id": "ZlQT952Q_qnc"
      },
      "source": [
        "You can also combine conditions:"
      ]
    },
    {
      "cell_type": "code",
      "metadata": {
        "colab": {
          "base_uri": "https://localhost:8080/"
        },
        "id": "dixgxCVJ_qnc",
        "outputId": "18891ff1-33f6-4c53-c4ec-6f1e43aa4260"
      },
      "source": [
        "df[(df[\"marital-status\"] == \" Divorced\") & (df[\"education\"] == \" HS-grad\")]"
      ],
      "execution_count": null,
      "outputs": [
        {
          "output_type": "execute_result",
          "data": {
            "text/html": [
              "<div>\n",
              "<style scoped>\n",
              "    .dataframe tbody tr th:only-of-type {\n",
              "        vertical-align: middle;\n",
              "    }\n",
              "\n",
              "    .dataframe tbody tr th {\n",
              "        vertical-align: top;\n",
              "    }\n",
              "\n",
              "    .dataframe thead th {\n",
              "        text-align: right;\n",
              "    }\n",
              "</style>\n",
              "<table border=\"1\" class=\"dataframe\">\n",
              "  <thead>\n",
              "    <tr style=\"text-align: right;\">\n",
              "      <th></th>\n",
              "      <th>age</th>\n",
              "      <th>workclass</th>\n",
              "      <th>fnlwgt</th>\n",
              "      <th>education</th>\n",
              "      <th>education-num</th>\n",
              "      <th>marital-status</th>\n",
              "      <th>occupation</th>\n",
              "      <th>relationship</th>\n",
              "      <th>race</th>\n",
              "      <th>sex</th>\n",
              "      <th>capital-gain</th>\n",
              "      <th>capital-loss</th>\n",
              "      <th>hours-per-week</th>\n",
              "      <th>native-country</th>\n",
              "      <th>earnings-category</th>\n",
              "    </tr>\n",
              "  </thead>\n",
              "  <tbody>\n",
              "    <tr>\n",
              "      <th>2</th>\n",
              "      <td>38</td>\n",
              "      <td>Private</td>\n",
              "      <td>215646</td>\n",
              "      <td>HS-grad</td>\n",
              "      <td>9</td>\n",
              "      <td>Divorced</td>\n",
              "      <td>Handlers-cleaners</td>\n",
              "      <td>Not-in-family</td>\n",
              "      <td>White</td>\n",
              "      <td>Male</td>\n",
              "      <td>0</td>\n",
              "      <td>0</td>\n",
              "      <td>40</td>\n",
              "      <td>United-States</td>\n",
              "      <td>&lt;=50K</td>\n",
              "    </tr>\n",
              "    <tr>\n",
              "      <th>24</th>\n",
              "      <td>59</td>\n",
              "      <td>Private</td>\n",
              "      <td>109015</td>\n",
              "      <td>HS-grad</td>\n",
              "      <td>9</td>\n",
              "      <td>Divorced</td>\n",
              "      <td>Tech-support</td>\n",
              "      <td>Unmarried</td>\n",
              "      <td>White</td>\n",
              "      <td>Female</td>\n",
              "      <td>0</td>\n",
              "      <td>0</td>\n",
              "      <td>40</td>\n",
              "      <td>United-States</td>\n",
              "      <td>&lt;=50K</td>\n",
              "    </tr>\n",
              "    <tr>\n",
              "      <th>28</th>\n",
              "      <td>39</td>\n",
              "      <td>Private</td>\n",
              "      <td>367260</td>\n",
              "      <td>HS-grad</td>\n",
              "      <td>9</td>\n",
              "      <td>Divorced</td>\n",
              "      <td>Exec-managerial</td>\n",
              "      <td>Not-in-family</td>\n",
              "      <td>White</td>\n",
              "      <td>Male</td>\n",
              "      <td>0</td>\n",
              "      <td>0</td>\n",
              "      <td>80</td>\n",
              "      <td>United-States</td>\n",
              "      <td>&lt;=50K</td>\n",
              "    </tr>\n",
              "    <tr>\n",
              "      <th>54</th>\n",
              "      <td>47</td>\n",
              "      <td>Self-emp-inc</td>\n",
              "      <td>109832</td>\n",
              "      <td>HS-grad</td>\n",
              "      <td>9</td>\n",
              "      <td>Divorced</td>\n",
              "      <td>Exec-managerial</td>\n",
              "      <td>Not-in-family</td>\n",
              "      <td>White</td>\n",
              "      <td>Male</td>\n",
              "      <td>0</td>\n",
              "      <td>0</td>\n",
              "      <td>60</td>\n",
              "      <td>United-States</td>\n",
              "      <td>&lt;=50K</td>\n",
              "    </tr>\n",
              "    <tr>\n",
              "      <th>84</th>\n",
              "      <td>44</td>\n",
              "      <td>Private</td>\n",
              "      <td>343591</td>\n",
              "      <td>HS-grad</td>\n",
              "      <td>9</td>\n",
              "      <td>Divorced</td>\n",
              "      <td>Craft-repair</td>\n",
              "      <td>Not-in-family</td>\n",
              "      <td>White</td>\n",
              "      <td>Female</td>\n",
              "      <td>14344</td>\n",
              "      <td>0</td>\n",
              "      <td>40</td>\n",
              "      <td>United-States</td>\n",
              "      <td>&gt;50K</td>\n",
              "    </tr>\n",
              "    <tr>\n",
              "      <th>...</th>\n",
              "      <td>...</td>\n",
              "      <td>...</td>\n",
              "      <td>...</td>\n",
              "      <td>...</td>\n",
              "      <td>...</td>\n",
              "      <td>...</td>\n",
              "      <td>...</td>\n",
              "      <td>...</td>\n",
              "      <td>...</td>\n",
              "      <td>...</td>\n",
              "      <td>...</td>\n",
              "      <td>...</td>\n",
              "      <td>...</td>\n",
              "      <td>...</td>\n",
              "      <td>...</td>\n",
              "    </tr>\n",
              "    <tr>\n",
              "      <th>32422</th>\n",
              "      <td>47</td>\n",
              "      <td>Private</td>\n",
              "      <td>161950</td>\n",
              "      <td>HS-grad</td>\n",
              "      <td>9</td>\n",
              "      <td>Divorced</td>\n",
              "      <td>Other-service</td>\n",
              "      <td>Unmarried</td>\n",
              "      <td>White</td>\n",
              "      <td>Female</td>\n",
              "      <td>0</td>\n",
              "      <td>0</td>\n",
              "      <td>32</td>\n",
              "      <td>United-States</td>\n",
              "      <td>&lt;=50K</td>\n",
              "    </tr>\n",
              "    <tr>\n",
              "      <th>32427</th>\n",
              "      <td>41</td>\n",
              "      <td>Private</td>\n",
              "      <td>206878</td>\n",
              "      <td>HS-grad</td>\n",
              "      <td>9</td>\n",
              "      <td>Divorced</td>\n",
              "      <td>Other-service</td>\n",
              "      <td>Unmarried</td>\n",
              "      <td>White</td>\n",
              "      <td>Female</td>\n",
              "      <td>0</td>\n",
              "      <td>0</td>\n",
              "      <td>32</td>\n",
              "      <td>United-States</td>\n",
              "      <td>&lt;=50K</td>\n",
              "    </tr>\n",
              "    <tr>\n",
              "      <th>32491</th>\n",
              "      <td>33</td>\n",
              "      <td>Private</td>\n",
              "      <td>63079</td>\n",
              "      <td>HS-grad</td>\n",
              "      <td>9</td>\n",
              "      <td>Divorced</td>\n",
              "      <td>Adm-clerical</td>\n",
              "      <td>Unmarried</td>\n",
              "      <td>Black</td>\n",
              "      <td>Female</td>\n",
              "      <td>0</td>\n",
              "      <td>0</td>\n",
              "      <td>40</td>\n",
              "      <td>United-States</td>\n",
              "      <td>&lt;=50K</td>\n",
              "    </tr>\n",
              "    <tr>\n",
              "      <th>32492</th>\n",
              "      <td>42</td>\n",
              "      <td>Self-emp-not-inc</td>\n",
              "      <td>217597</td>\n",
              "      <td>HS-grad</td>\n",
              "      <td>9</td>\n",
              "      <td>Divorced</td>\n",
              "      <td>Sales</td>\n",
              "      <td>Own-child</td>\n",
              "      <td>White</td>\n",
              "      <td>Male</td>\n",
              "      <td>0</td>\n",
              "      <td>0</td>\n",
              "      <td>50</td>\n",
              "      <td>?</td>\n",
              "      <td>&lt;=50K</td>\n",
              "    </tr>\n",
              "    <tr>\n",
              "      <th>32523</th>\n",
              "      <td>30</td>\n",
              "      <td>Private</td>\n",
              "      <td>77266</td>\n",
              "      <td>HS-grad</td>\n",
              "      <td>9</td>\n",
              "      <td>Divorced</td>\n",
              "      <td>Transport-moving</td>\n",
              "      <td>Not-in-family</td>\n",
              "      <td>White</td>\n",
              "      <td>Male</td>\n",
              "      <td>0</td>\n",
              "      <td>0</td>\n",
              "      <td>55</td>\n",
              "      <td>United-States</td>\n",
              "      <td>&lt;=50K</td>\n",
              "    </tr>\n",
              "  </tbody>\n",
              "</table>\n",
              "<p>1613 rows × 15 columns</p>\n",
              "</div>"
            ],
            "text/plain": [
              "       age          workclass  ...  native-country earnings-category\n",
              "2       38            Private  ...   United-States             <=50K\n",
              "24      59            Private  ...   United-States             <=50K\n",
              "28      39            Private  ...   United-States             <=50K\n",
              "54      47       Self-emp-inc  ...   United-States             <=50K\n",
              "84      44            Private  ...   United-States              >50K\n",
              "...    ...                ...  ...             ...               ...\n",
              "32422   47            Private  ...   United-States             <=50K\n",
              "32427   41            Private  ...   United-States             <=50K\n",
              "32491   33            Private  ...   United-States             <=50K\n",
              "32492   42   Self-emp-not-inc  ...               ?             <=50K\n",
              "32523   30            Private  ...   United-States             <=50K\n",
              "\n",
              "[1613 rows x 15 columns]"
            ]
          },
          "metadata": {
            "tags": []
          },
          "execution_count": 31
        }
      ]
    },
    {
      "cell_type": "markdown",
      "metadata": {
        "id": "bRNb_tyn_qnc"
      },
      "source": [
        "For more details on indexing, checkout [this link](https://pandas.pydata.org/pandas-docs/stable/user_guide/indexing.html)."
      ]
    },
    {
      "cell_type": "markdown",
      "metadata": {
        "id": "DVg33dxY_qnc"
      },
      "source": [
        "<a id='P5' name='P5'></a>\n",
        "## [Group by](#P0)"
      ]
    },
    {
      "cell_type": "code",
      "metadata": {
        "colab": {
          "base_uri": "https://localhost:8080/"
        },
        "id": "VSVRojc4_qnc",
        "outputId": "9417d941-3456-4041-f39c-ad25a0078950"
      },
      "source": [
        "# Splitting using group by on education\n",
        "\n",
        "grps = df.groupby(\"education\")\n",
        "# => just divides data into different groups, one group per category in education column\n",
        "grps"
      ],
      "execution_count": null,
      "outputs": [
        {
          "output_type": "execute_result",
          "data": {
            "text/plain": [
              "<pandas.core.groupby.generic.DataFrameGroupBy object at 0x7f43fd808fd0>"
            ]
          },
          "metadata": {
            "tags": []
          },
          "execution_count": 32
        }
      ]
    },
    {
      "cell_type": "code",
      "metadata": {
        "colab": {
          "base_uri": "https://localhost:8080/"
        },
        "id": "y5SODmNMmyWR",
        "outputId": "1750659c-35e8-4af5-fe68-21bdee2aa97f"
      },
      "source": [
        "df['education'].unique()"
      ],
      "execution_count": null,
      "outputs": [
        {
          "output_type": "execute_result",
          "data": {
            "text/plain": [
              "array([' Bachelors', ' HS-grad', ' 11th', ' Masters', ' 9th',\n",
              "       ' Some-college', ' Assoc-acdm', ' Assoc-voc', ' 7th-8th',\n",
              "       ' Doctorate', ' Prof-school', ' 5th-6th', ' 10th', ' 1st-4th',\n",
              "       ' Preschool', ' 12th'], dtype=object)"
            ]
          },
          "metadata": {
            "tags": []
          },
          "execution_count": 33
        }
      ]
    },
    {
      "cell_type": "code",
      "metadata": {
        "colab": {
          "base_uri": "https://localhost:8080/"
        },
        "id": "ezTUw53h_qnd",
        "outputId": "09fa1964-ed08-46bc-a014-9005a4b347cf"
      },
      "source": [
        "# access each group individually and print group names and sizes\n",
        "for grp in grps:  ##=> notice that individual groups are accessed by looping over them\n",
        "    print(grp[0])\n",
        "    print(grp[1].shape)"
      ],
      "execution_count": null,
      "outputs": [
        {
          "output_type": "stream",
          "text": [
            " 10th\n",
            "(933, 15)\n",
            " 11th\n",
            "(1175, 15)\n",
            " 12th\n",
            "(433, 15)\n",
            " 1st-4th\n",
            "(168, 15)\n",
            " 5th-6th\n",
            "(333, 15)\n",
            " 7th-8th\n",
            "(646, 15)\n",
            " 9th\n",
            "(514, 15)\n",
            " Assoc-acdm\n",
            "(1067, 15)\n",
            " Assoc-voc\n",
            "(1382, 15)\n",
            " Bachelors\n",
            "(5355, 15)\n",
            " Doctorate\n",
            "(413, 15)\n",
            " HS-grad\n",
            "(10501, 15)\n",
            " Masters\n",
            "(1723, 15)\n",
            " Preschool\n",
            "(51, 15)\n",
            " Prof-school\n",
            "(576, 15)\n",
            " Some-college\n",
            "(7291, 15)\n"
          ],
          "name": "stdout"
        }
      ]
    },
    {
      "cell_type": "code",
      "metadata": {
        "colab": {
          "base_uri": "https://localhost:8080/"
        },
        "id": "Qtu50GXX_qnd",
        "outputId": "a5f390fd-4085-4e99-c2e1-aa4b501d5c50"
      },
      "source": [
        "# Group by to perform aggregation across groups - the most used function\n",
        "pd.DataFrame(df.groupby([\"education\", \"workclass\"]).agg(\"size\"))"
      ],
      "execution_count": null,
      "outputs": [
        {
          "output_type": "execute_result",
          "data": {
            "text/html": [
              "<div>\n",
              "<style scoped>\n",
              "    .dataframe tbody tr th:only-of-type {\n",
              "        vertical-align: middle;\n",
              "    }\n",
              "\n",
              "    .dataframe tbody tr th {\n",
              "        vertical-align: top;\n",
              "    }\n",
              "\n",
              "    .dataframe thead th {\n",
              "        text-align: right;\n",
              "    }\n",
              "</style>\n",
              "<table border=\"1\" class=\"dataframe\">\n",
              "  <thead>\n",
              "    <tr style=\"text-align: right;\">\n",
              "      <th></th>\n",
              "      <th></th>\n",
              "      <th>0</th>\n",
              "    </tr>\n",
              "    <tr>\n",
              "      <th>education</th>\n",
              "      <th>workclass</th>\n",
              "      <th></th>\n",
              "    </tr>\n",
              "  </thead>\n",
              "  <tbody>\n",
              "    <tr>\n",
              "      <th rowspan=\"5\" valign=\"top\">10th</th>\n",
              "      <th>?</th>\n",
              "      <td>100</td>\n",
              "    </tr>\n",
              "    <tr>\n",
              "      <th>Federal-gov</th>\n",
              "      <td>6</td>\n",
              "    </tr>\n",
              "    <tr>\n",
              "      <th>Local-gov</th>\n",
              "      <td>31</td>\n",
              "    </tr>\n",
              "    <tr>\n",
              "      <th>Never-worked</th>\n",
              "      <td>2</td>\n",
              "    </tr>\n",
              "    <tr>\n",
              "      <th>Private</th>\n",
              "      <td>695</td>\n",
              "    </tr>\n",
              "    <tr>\n",
              "      <th>...</th>\n",
              "      <th>...</th>\n",
              "      <td>...</td>\n",
              "    </tr>\n",
              "    <tr>\n",
              "      <th rowspan=\"5\" valign=\"top\">Some-college</th>\n",
              "      <th>Private</th>\n",
              "      <td>5094</td>\n",
              "    </tr>\n",
              "    <tr>\n",
              "      <th>Self-emp-inc</th>\n",
              "      <td>226</td>\n",
              "    </tr>\n",
              "    <tr>\n",
              "      <th>Self-emp-not-inc</th>\n",
              "      <td>486</td>\n",
              "    </tr>\n",
              "    <tr>\n",
              "      <th>State-gov</th>\n",
              "      <td>325</td>\n",
              "    </tr>\n",
              "    <tr>\n",
              "      <th>Without-pay</th>\n",
              "      <td>3</td>\n",
              "    </tr>\n",
              "  </tbody>\n",
              "</table>\n",
              "<p>144 rows × 1 columns</p>\n",
              "</div>"
            ],
            "text/plain": [
              "                                    0\n",
              "education     workclass              \n",
              " 10th          ?                  100\n",
              "               Federal-gov          6\n",
              "               Local-gov           31\n",
              "               Never-worked         2\n",
              "               Private            695\n",
              "...                               ...\n",
              " Some-college  Private           5094\n",
              "               Self-emp-inc       226\n",
              "               Self-emp-not-inc   486\n",
              "               State-gov          325\n",
              "               Without-pay          3\n",
              "\n",
              "[144 rows x 1 columns]"
            ]
          },
          "metadata": {
            "tags": []
          },
          "execution_count": 35
        }
      ]
    },
    {
      "cell_type": "code",
      "metadata": {
        "colab": {
          "base_uri": "https://localhost:8080/"
        },
        "id": "pfzeTix__qnd",
        "outputId": "cefb5ccf-c9e8-48fe-c809-54695a3b004d"
      },
      "source": [
        "df.groupby([\"education\", \"workclass\"]).agg(\"mean\")\n",
        "# => same as above but esimate mean of each different groups"
      ],
      "execution_count": null,
      "outputs": [
        {
          "output_type": "execute_result",
          "data": {
            "text/html": [
              "<div>\n",
              "<style scoped>\n",
              "    .dataframe tbody tr th:only-of-type {\n",
              "        vertical-align: middle;\n",
              "    }\n",
              "\n",
              "    .dataframe tbody tr th {\n",
              "        vertical-align: top;\n",
              "    }\n",
              "\n",
              "    .dataframe thead th {\n",
              "        text-align: right;\n",
              "    }\n",
              "</style>\n",
              "<table border=\"1\" class=\"dataframe\">\n",
              "  <thead>\n",
              "    <tr style=\"text-align: right;\">\n",
              "      <th></th>\n",
              "      <th></th>\n",
              "      <th>age</th>\n",
              "      <th>fnlwgt</th>\n",
              "      <th>education-num</th>\n",
              "      <th>capital-gain</th>\n",
              "      <th>capital-loss</th>\n",
              "      <th>hours-per-week</th>\n",
              "    </tr>\n",
              "    <tr>\n",
              "      <th>education</th>\n",
              "      <th>workclass</th>\n",
              "      <th></th>\n",
              "      <th></th>\n",
              "      <th></th>\n",
              "      <th></th>\n",
              "      <th></th>\n",
              "      <th></th>\n",
              "    </tr>\n",
              "  </thead>\n",
              "  <tbody>\n",
              "    <tr>\n",
              "      <th rowspan=\"5\" valign=\"top\">10th</th>\n",
              "      <th>?</th>\n",
              "      <td>33.980000</td>\n",
              "      <td>201144.460000</td>\n",
              "      <td>6.0</td>\n",
              "      <td>528.180000</td>\n",
              "      <td>0.000000</td>\n",
              "      <td>33.150000</td>\n",
              "    </tr>\n",
              "    <tr>\n",
              "      <th>Federal-gov</th>\n",
              "      <td>54.333333</td>\n",
              "      <td>128719.500000</td>\n",
              "      <td>6.0</td>\n",
              "      <td>578.500000</td>\n",
              "      <td>0.000000</td>\n",
              "      <td>42.166667</td>\n",
              "    </tr>\n",
              "    <tr>\n",
              "      <th>Local-gov</th>\n",
              "      <td>43.387097</td>\n",
              "      <td>174107.354839</td>\n",
              "      <td>6.0</td>\n",
              "      <td>3387.483871</td>\n",
              "      <td>107.838710</td>\n",
              "      <td>38.225806</td>\n",
              "    </tr>\n",
              "    <tr>\n",
              "      <th>Never-worked</th>\n",
              "      <td>17.500000</td>\n",
              "      <td>221815.500000</td>\n",
              "      <td>6.0</td>\n",
              "      <td>0.000000</td>\n",
              "      <td>0.000000</td>\n",
              "      <td>35.000000</td>\n",
              "    </tr>\n",
              "    <tr>\n",
              "      <th>Private</th>\n",
              "      <td>36.326619</td>\n",
              "      <td>199312.152518</td>\n",
              "      <td>6.0</td>\n",
              "      <td>249.073381</td>\n",
              "      <td>56.102158</td>\n",
              "      <td>36.827338</td>\n",
              "    </tr>\n",
              "    <tr>\n",
              "      <th>...</th>\n",
              "      <th>...</th>\n",
              "      <td>...</td>\n",
              "      <td>...</td>\n",
              "      <td>...</td>\n",
              "      <td>...</td>\n",
              "      <td>...</td>\n",
              "      <td>...</td>\n",
              "    </tr>\n",
              "    <tr>\n",
              "      <th rowspan=\"5\" valign=\"top\">Some-college</th>\n",
              "      <th>Private</th>\n",
              "      <td>34.456223</td>\n",
              "      <td>190984.133490</td>\n",
              "      <td>10.0</td>\n",
              "      <td>514.155084</td>\n",
              "      <td>68.820573</td>\n",
              "      <td>38.731645</td>\n",
              "    </tr>\n",
              "    <tr>\n",
              "      <th>Self-emp-inc</th>\n",
              "      <td>46.150442</td>\n",
              "      <td>180750.181416</td>\n",
              "      <td>10.0</td>\n",
              "      <td>1769.862832</td>\n",
              "      <td>100.163717</td>\n",
              "      <td>49.362832</td>\n",
              "    </tr>\n",
              "    <tr>\n",
              "      <th>Self-emp-not-inc</th>\n",
              "      <td>43.956790</td>\n",
              "      <td>170524.102881</td>\n",
              "      <td>10.0</td>\n",
              "      <td>1106.847737</td>\n",
              "      <td>101.300412</td>\n",
              "      <td>44.117284</td>\n",
              "    </tr>\n",
              "    <tr>\n",
              "      <th>State-gov</th>\n",
              "      <td>34.289231</td>\n",
              "      <td>186724.113846</td>\n",
              "      <td>10.0</td>\n",
              "      <td>178.898462</td>\n",
              "      <td>58.821538</td>\n",
              "      <td>34.698462</td>\n",
              "    </tr>\n",
              "    <tr>\n",
              "      <th>Without-pay</th>\n",
              "      <td>53.000000</td>\n",
              "      <td>182397.000000</td>\n",
              "      <td>10.0</td>\n",
              "      <td>0.000000</td>\n",
              "      <td>0.000000</td>\n",
              "      <td>35.333333</td>\n",
              "    </tr>\n",
              "  </tbody>\n",
              "</table>\n",
              "<p>144 rows × 6 columns</p>\n",
              "</div>"
            ],
            "text/plain": [
              "                                       age  ...  hours-per-week\n",
              "education     workclass                     ...                \n",
              " 10th          ?                 33.980000  ...       33.150000\n",
              "               Federal-gov       54.333333  ...       42.166667\n",
              "               Local-gov         43.387097  ...       38.225806\n",
              "               Never-worked      17.500000  ...       35.000000\n",
              "               Private           36.326619  ...       36.827338\n",
              "...                                    ...  ...             ...\n",
              " Some-college  Private           34.456223  ...       38.731645\n",
              "               Self-emp-inc      46.150442  ...       49.362832\n",
              "               Self-emp-not-inc  43.956790  ...       44.117284\n",
              "               State-gov         34.289231  ...       34.698462\n",
              "               Without-pay       53.000000  ...       35.333333\n",
              "\n",
              "[144 rows x 6 columns]"
            ]
          },
          "metadata": {
            "tags": []
          },
          "execution_count": 36
        }
      ]
    },
    {
      "cell_type": "code",
      "metadata": {
        "colab": {
          "base_uri": "https://localhost:8080/"
        },
        "id": "VT2zYZkj_qnd",
        "outputId": "1a8a06c5-5031-43aa-aa3d-8d694e32809b"
      },
      "source": [
        "# get mean and median for the capital-gain after grouping for education and workclass\n",
        "df.groupby([\"education\", \"workclass\"]).agg(\n",
        "    age_mean=(\"age\", \"mean\"), age_median=(\"age\", \"median\")\n",
        ")"
      ],
      "execution_count": null,
      "outputs": [
        {
          "output_type": "execute_result",
          "data": {
            "text/html": [
              "<div>\n",
              "<style scoped>\n",
              "    .dataframe tbody tr th:only-of-type {\n",
              "        vertical-align: middle;\n",
              "    }\n",
              "\n",
              "    .dataframe tbody tr th {\n",
              "        vertical-align: top;\n",
              "    }\n",
              "\n",
              "    .dataframe thead th {\n",
              "        text-align: right;\n",
              "    }\n",
              "</style>\n",
              "<table border=\"1\" class=\"dataframe\">\n",
              "  <thead>\n",
              "    <tr style=\"text-align: right;\">\n",
              "      <th></th>\n",
              "      <th></th>\n",
              "      <th>age_mean</th>\n",
              "      <th>age_median</th>\n",
              "    </tr>\n",
              "    <tr>\n",
              "      <th>education</th>\n",
              "      <th>workclass</th>\n",
              "      <th></th>\n",
              "      <th></th>\n",
              "    </tr>\n",
              "  </thead>\n",
              "  <tbody>\n",
              "    <tr>\n",
              "      <th rowspan=\"5\" valign=\"top\">10th</th>\n",
              "      <th>?</th>\n",
              "      <td>33.980000</td>\n",
              "      <td>24.0</td>\n",
              "    </tr>\n",
              "    <tr>\n",
              "      <th>Federal-gov</th>\n",
              "      <td>54.333333</td>\n",
              "      <td>58.5</td>\n",
              "    </tr>\n",
              "    <tr>\n",
              "      <th>Local-gov</th>\n",
              "      <td>43.387097</td>\n",
              "      <td>49.0</td>\n",
              "    </tr>\n",
              "    <tr>\n",
              "      <th>Never-worked</th>\n",
              "      <td>17.500000</td>\n",
              "      <td>17.5</td>\n",
              "    </tr>\n",
              "    <tr>\n",
              "      <th>Private</th>\n",
              "      <td>36.326619</td>\n",
              "      <td>33.0</td>\n",
              "    </tr>\n",
              "    <tr>\n",
              "      <th>...</th>\n",
              "      <th>...</th>\n",
              "      <td>...</td>\n",
              "      <td>...</td>\n",
              "    </tr>\n",
              "    <tr>\n",
              "      <th rowspan=\"5\" valign=\"top\">Some-college</th>\n",
              "      <th>Private</th>\n",
              "      <td>34.456223</td>\n",
              "      <td>32.0</td>\n",
              "    </tr>\n",
              "    <tr>\n",
              "      <th>Self-emp-inc</th>\n",
              "      <td>46.150442</td>\n",
              "      <td>45.0</td>\n",
              "    </tr>\n",
              "    <tr>\n",
              "      <th>Self-emp-not-inc</th>\n",
              "      <td>43.956790</td>\n",
              "      <td>44.0</td>\n",
              "    </tr>\n",
              "    <tr>\n",
              "      <th>State-gov</th>\n",
              "      <td>34.289231</td>\n",
              "      <td>32.0</td>\n",
              "    </tr>\n",
              "    <tr>\n",
              "      <th>Without-pay</th>\n",
              "      <td>53.000000</td>\n",
              "      <td>62.0</td>\n",
              "    </tr>\n",
              "  </tbody>\n",
              "</table>\n",
              "<p>144 rows × 2 columns</p>\n",
              "</div>"
            ],
            "text/plain": [
              "                                  age_mean  age_median\n",
              "education     workclass                               \n",
              " 10th          ?                 33.980000        24.0\n",
              "               Federal-gov       54.333333        58.5\n",
              "               Local-gov         43.387097        49.0\n",
              "               Never-worked      17.500000        17.5\n",
              "               Private           36.326619        33.0\n",
              "...                                    ...         ...\n",
              " Some-college  Private           34.456223        32.0\n",
              "               Self-emp-inc      46.150442        45.0\n",
              "               Self-emp-not-inc  43.956790        44.0\n",
              "               State-gov         34.289231        32.0\n",
              "               Without-pay       53.000000        62.0\n",
              "\n",
              "[144 rows x 2 columns]"
            ]
          },
          "metadata": {
            "tags": []
          },
          "execution_count": 37
        }
      ]
    },
    {
      "cell_type": "markdown",
      "metadata": {
        "id": "yVd2aris_qnd"
      },
      "source": [
        "<a id='P6' name='P6'></a>\n",
        "## [Melt and pivot_table](#P0)"
      ]
    },
    {
      "cell_type": "code",
      "metadata": {
        "colab": {
          "base_uri": "https://localhost:8080/"
        },
        "id": "8IvtG0XH_qne",
        "outputId": "e163afce-9680-40db-b8ee-4036d332810c"
      },
      "source": [
        "df_ind = df.reset_index().rename(columns={\"index\": \"id\"})\n",
        "df_ind"
      ],
      "execution_count": null,
      "outputs": [
        {
          "output_type": "execute_result",
          "data": {
            "text/html": [
              "<div>\n",
              "<style scoped>\n",
              "    .dataframe tbody tr th:only-of-type {\n",
              "        vertical-align: middle;\n",
              "    }\n",
              "\n",
              "    .dataframe tbody tr th {\n",
              "        vertical-align: top;\n",
              "    }\n",
              "\n",
              "    .dataframe thead th {\n",
              "        text-align: right;\n",
              "    }\n",
              "</style>\n",
              "<table border=\"1\" class=\"dataframe\">\n",
              "  <thead>\n",
              "    <tr style=\"text-align: right;\">\n",
              "      <th></th>\n",
              "      <th>id</th>\n",
              "      <th>age</th>\n",
              "      <th>workclass</th>\n",
              "      <th>fnlwgt</th>\n",
              "      <th>education</th>\n",
              "      <th>education-num</th>\n",
              "      <th>marital-status</th>\n",
              "      <th>occupation</th>\n",
              "      <th>relationship</th>\n",
              "      <th>race</th>\n",
              "      <th>sex</th>\n",
              "      <th>capital-gain</th>\n",
              "      <th>capital-loss</th>\n",
              "      <th>hours-per-week</th>\n",
              "      <th>native-country</th>\n",
              "      <th>earnings-category</th>\n",
              "    </tr>\n",
              "  </thead>\n",
              "  <tbody>\n",
              "    <tr>\n",
              "      <th>0</th>\n",
              "      <td>0</td>\n",
              "      <td>39</td>\n",
              "      <td>State-gov</td>\n",
              "      <td>77516</td>\n",
              "      <td>Bachelors</td>\n",
              "      <td>13</td>\n",
              "      <td>Never-married</td>\n",
              "      <td>Adm-clerical</td>\n",
              "      <td>Not-in-family</td>\n",
              "      <td>White</td>\n",
              "      <td>Male</td>\n",
              "      <td>2174</td>\n",
              "      <td>0</td>\n",
              "      <td>40</td>\n",
              "      <td>United-States</td>\n",
              "      <td>&lt;=50K</td>\n",
              "    </tr>\n",
              "    <tr>\n",
              "      <th>1</th>\n",
              "      <td>1</td>\n",
              "      <td>50</td>\n",
              "      <td>Self-emp-not-inc</td>\n",
              "      <td>83311</td>\n",
              "      <td>Bachelors</td>\n",
              "      <td>13</td>\n",
              "      <td>Married-civ-spouse</td>\n",
              "      <td>Exec-managerial</td>\n",
              "      <td>Husband</td>\n",
              "      <td>White</td>\n",
              "      <td>Male</td>\n",
              "      <td>0</td>\n",
              "      <td>0</td>\n",
              "      <td>13</td>\n",
              "      <td>United-States</td>\n",
              "      <td>&lt;=50K</td>\n",
              "    </tr>\n",
              "    <tr>\n",
              "      <th>2</th>\n",
              "      <td>2</td>\n",
              "      <td>38</td>\n",
              "      <td>Private</td>\n",
              "      <td>215646</td>\n",
              "      <td>HS-grad</td>\n",
              "      <td>9</td>\n",
              "      <td>Divorced</td>\n",
              "      <td>Handlers-cleaners</td>\n",
              "      <td>Not-in-family</td>\n",
              "      <td>White</td>\n",
              "      <td>Male</td>\n",
              "      <td>0</td>\n",
              "      <td>0</td>\n",
              "      <td>40</td>\n",
              "      <td>United-States</td>\n",
              "      <td>&lt;=50K</td>\n",
              "    </tr>\n",
              "    <tr>\n",
              "      <th>3</th>\n",
              "      <td>3</td>\n",
              "      <td>53</td>\n",
              "      <td>Private</td>\n",
              "      <td>234721</td>\n",
              "      <td>11th</td>\n",
              "      <td>7</td>\n",
              "      <td>Married-civ-spouse</td>\n",
              "      <td>Handlers-cleaners</td>\n",
              "      <td>Husband</td>\n",
              "      <td>Black</td>\n",
              "      <td>Male</td>\n",
              "      <td>0</td>\n",
              "      <td>0</td>\n",
              "      <td>40</td>\n",
              "      <td>United-States</td>\n",
              "      <td>&lt;=50K</td>\n",
              "    </tr>\n",
              "    <tr>\n",
              "      <th>4</th>\n",
              "      <td>4</td>\n",
              "      <td>28</td>\n",
              "      <td>Private</td>\n",
              "      <td>338409</td>\n",
              "      <td>Bachelors</td>\n",
              "      <td>13</td>\n",
              "      <td>Married-civ-spouse</td>\n",
              "      <td>Prof-specialty</td>\n",
              "      <td>Wife</td>\n",
              "      <td>Black</td>\n",
              "      <td>Female</td>\n",
              "      <td>0</td>\n",
              "      <td>0</td>\n",
              "      <td>40</td>\n",
              "      <td>Cuba</td>\n",
              "      <td>&lt;=50K</td>\n",
              "    </tr>\n",
              "    <tr>\n",
              "      <th>...</th>\n",
              "      <td>...</td>\n",
              "      <td>...</td>\n",
              "      <td>...</td>\n",
              "      <td>...</td>\n",
              "      <td>...</td>\n",
              "      <td>...</td>\n",
              "      <td>...</td>\n",
              "      <td>...</td>\n",
              "      <td>...</td>\n",
              "      <td>...</td>\n",
              "      <td>...</td>\n",
              "      <td>...</td>\n",
              "      <td>...</td>\n",
              "      <td>...</td>\n",
              "      <td>...</td>\n",
              "      <td>...</td>\n",
              "    </tr>\n",
              "    <tr>\n",
              "      <th>32556</th>\n",
              "      <td>32556</td>\n",
              "      <td>27</td>\n",
              "      <td>Private</td>\n",
              "      <td>257302</td>\n",
              "      <td>Assoc-acdm</td>\n",
              "      <td>12</td>\n",
              "      <td>Married-civ-spouse</td>\n",
              "      <td>Tech-support</td>\n",
              "      <td>Wife</td>\n",
              "      <td>White</td>\n",
              "      <td>Female</td>\n",
              "      <td>0</td>\n",
              "      <td>0</td>\n",
              "      <td>38</td>\n",
              "      <td>United-States</td>\n",
              "      <td>&lt;=50K</td>\n",
              "    </tr>\n",
              "    <tr>\n",
              "      <th>32557</th>\n",
              "      <td>32557</td>\n",
              "      <td>40</td>\n",
              "      <td>Private</td>\n",
              "      <td>154374</td>\n",
              "      <td>HS-grad</td>\n",
              "      <td>9</td>\n",
              "      <td>Married-civ-spouse</td>\n",
              "      <td>Machine-op-inspct</td>\n",
              "      <td>Husband</td>\n",
              "      <td>White</td>\n",
              "      <td>Male</td>\n",
              "      <td>0</td>\n",
              "      <td>0</td>\n",
              "      <td>40</td>\n",
              "      <td>United-States</td>\n",
              "      <td>&gt;50K</td>\n",
              "    </tr>\n",
              "    <tr>\n",
              "      <th>32558</th>\n",
              "      <td>32558</td>\n",
              "      <td>58</td>\n",
              "      <td>Private</td>\n",
              "      <td>151910</td>\n",
              "      <td>HS-grad</td>\n",
              "      <td>9</td>\n",
              "      <td>Widowed</td>\n",
              "      <td>Adm-clerical</td>\n",
              "      <td>Unmarried</td>\n",
              "      <td>White</td>\n",
              "      <td>Female</td>\n",
              "      <td>0</td>\n",
              "      <td>0</td>\n",
              "      <td>40</td>\n",
              "      <td>United-States</td>\n",
              "      <td>&lt;=50K</td>\n",
              "    </tr>\n",
              "    <tr>\n",
              "      <th>32559</th>\n",
              "      <td>32559</td>\n",
              "      <td>22</td>\n",
              "      <td>Private</td>\n",
              "      <td>201490</td>\n",
              "      <td>HS-grad</td>\n",
              "      <td>9</td>\n",
              "      <td>Never-married</td>\n",
              "      <td>Adm-clerical</td>\n",
              "      <td>Own-child</td>\n",
              "      <td>White</td>\n",
              "      <td>Male</td>\n",
              "      <td>0</td>\n",
              "      <td>0</td>\n",
              "      <td>20</td>\n",
              "      <td>United-States</td>\n",
              "      <td>&lt;=50K</td>\n",
              "    </tr>\n",
              "    <tr>\n",
              "      <th>32560</th>\n",
              "      <td>32560</td>\n",
              "      <td>52</td>\n",
              "      <td>Self-emp-inc</td>\n",
              "      <td>287927</td>\n",
              "      <td>HS-grad</td>\n",
              "      <td>9</td>\n",
              "      <td>Married-civ-spouse</td>\n",
              "      <td>Exec-managerial</td>\n",
              "      <td>Wife</td>\n",
              "      <td>White</td>\n",
              "      <td>Female</td>\n",
              "      <td>15024</td>\n",
              "      <td>0</td>\n",
              "      <td>40</td>\n",
              "      <td>United-States</td>\n",
              "      <td>&gt;50K</td>\n",
              "    </tr>\n",
              "  </tbody>\n",
              "</table>\n",
              "<p>32561 rows × 16 columns</p>\n",
              "</div>"
            ],
            "text/plain": [
              "          id  age  ...  native-country  earnings-category\n",
              "0          0   39  ...   United-States              <=50K\n",
              "1          1   50  ...   United-States              <=50K\n",
              "2          2   38  ...   United-States              <=50K\n",
              "3          3   53  ...   United-States              <=50K\n",
              "4          4   28  ...            Cuba              <=50K\n",
              "...      ...  ...  ...             ...                ...\n",
              "32556  32556   27  ...   United-States              <=50K\n",
              "32557  32557   40  ...   United-States               >50K\n",
              "32558  32558   58  ...   United-States              <=50K\n",
              "32559  32559   22  ...   United-States              <=50K\n",
              "32560  32560   52  ...   United-States               >50K\n",
              "\n",
              "[32561 rows x 16 columns]"
            ]
          },
          "metadata": {
            "tags": []
          },
          "execution_count": 38
        }
      ]
    },
    {
      "cell_type": "code",
      "metadata": {
        "colab": {
          "base_uri": "https://localhost:8080/"
        },
        "id": "M_ALPfTn_qne",
        "outputId": "1290d2d2-7872-4af7-da9e-9c2383e33993"
      },
      "source": [
        "df_long = df_ind.melt(\n",
        "    id_vars=[\"id\"],\n",
        "    value_vars=[\"age\", \"education-num\"],\n",
        "    var_name=\"type\",\n",
        "    value_name=\"wisdom\",\n",
        ")\n",
        "df_long"
      ],
      "execution_count": null,
      "outputs": [
        {
          "output_type": "execute_result",
          "data": {
            "text/html": [
              "<div>\n",
              "<style scoped>\n",
              "    .dataframe tbody tr th:only-of-type {\n",
              "        vertical-align: middle;\n",
              "    }\n",
              "\n",
              "    .dataframe tbody tr th {\n",
              "        vertical-align: top;\n",
              "    }\n",
              "\n",
              "    .dataframe thead th {\n",
              "        text-align: right;\n",
              "    }\n",
              "</style>\n",
              "<table border=\"1\" class=\"dataframe\">\n",
              "  <thead>\n",
              "    <tr style=\"text-align: right;\">\n",
              "      <th></th>\n",
              "      <th>id</th>\n",
              "      <th>type</th>\n",
              "      <th>wisdom</th>\n",
              "    </tr>\n",
              "  </thead>\n",
              "  <tbody>\n",
              "    <tr>\n",
              "      <th>0</th>\n",
              "      <td>0</td>\n",
              "      <td>age</td>\n",
              "      <td>39</td>\n",
              "    </tr>\n",
              "    <tr>\n",
              "      <th>1</th>\n",
              "      <td>1</td>\n",
              "      <td>age</td>\n",
              "      <td>50</td>\n",
              "    </tr>\n",
              "    <tr>\n",
              "      <th>2</th>\n",
              "      <td>2</td>\n",
              "      <td>age</td>\n",
              "      <td>38</td>\n",
              "    </tr>\n",
              "    <tr>\n",
              "      <th>3</th>\n",
              "      <td>3</td>\n",
              "      <td>age</td>\n",
              "      <td>53</td>\n",
              "    </tr>\n",
              "    <tr>\n",
              "      <th>4</th>\n",
              "      <td>4</td>\n",
              "      <td>age</td>\n",
              "      <td>28</td>\n",
              "    </tr>\n",
              "    <tr>\n",
              "      <th>...</th>\n",
              "      <td>...</td>\n",
              "      <td>...</td>\n",
              "      <td>...</td>\n",
              "    </tr>\n",
              "    <tr>\n",
              "      <th>65117</th>\n",
              "      <td>32556</td>\n",
              "      <td>education-num</td>\n",
              "      <td>12</td>\n",
              "    </tr>\n",
              "    <tr>\n",
              "      <th>65118</th>\n",
              "      <td>32557</td>\n",
              "      <td>education-num</td>\n",
              "      <td>9</td>\n",
              "    </tr>\n",
              "    <tr>\n",
              "      <th>65119</th>\n",
              "      <td>32558</td>\n",
              "      <td>education-num</td>\n",
              "      <td>9</td>\n",
              "    </tr>\n",
              "    <tr>\n",
              "      <th>65120</th>\n",
              "      <td>32559</td>\n",
              "      <td>education-num</td>\n",
              "      <td>9</td>\n",
              "    </tr>\n",
              "    <tr>\n",
              "      <th>65121</th>\n",
              "      <td>32560</td>\n",
              "      <td>education-num</td>\n",
              "      <td>9</td>\n",
              "    </tr>\n",
              "  </tbody>\n",
              "</table>\n",
              "<p>65122 rows × 3 columns</p>\n",
              "</div>"
            ],
            "text/plain": [
              "          id           type  wisdom\n",
              "0          0            age      39\n",
              "1          1            age      50\n",
              "2          2            age      38\n",
              "3          3            age      53\n",
              "4          4            age      28\n",
              "...      ...            ...     ...\n",
              "65117  32556  education-num      12\n",
              "65118  32557  education-num       9\n",
              "65119  32558  education-num       9\n",
              "65120  32559  education-num       9\n",
              "65121  32560  education-num       9\n",
              "\n",
              "[65122 rows x 3 columns]"
            ]
          },
          "metadata": {
            "tags": []
          },
          "execution_count": 39
        }
      ]
    },
    {
      "cell_type": "code",
      "metadata": {
        "colab": {
          "base_uri": "https://localhost:8080/"
        },
        "id": "o53Mxlxb_qne",
        "outputId": "97f16a63-bfce-45e3-9d75-8d5b70e9aefb"
      },
      "source": [
        "df_long.pivot_table(index=\"id\", columns=\"type\", values=\"wisdom\")"
      ],
      "execution_count": null,
      "outputs": [
        {
          "output_type": "execute_result",
          "data": {
            "text/html": [
              "<div>\n",
              "<style scoped>\n",
              "    .dataframe tbody tr th:only-of-type {\n",
              "        vertical-align: middle;\n",
              "    }\n",
              "\n",
              "    .dataframe tbody tr th {\n",
              "        vertical-align: top;\n",
              "    }\n",
              "\n",
              "    .dataframe thead th {\n",
              "        text-align: right;\n",
              "    }\n",
              "</style>\n",
              "<table border=\"1\" class=\"dataframe\">\n",
              "  <thead>\n",
              "    <tr style=\"text-align: right;\">\n",
              "      <th>type</th>\n",
              "      <th>age</th>\n",
              "      <th>education-num</th>\n",
              "    </tr>\n",
              "    <tr>\n",
              "      <th>id</th>\n",
              "      <th></th>\n",
              "      <th></th>\n",
              "    </tr>\n",
              "  </thead>\n",
              "  <tbody>\n",
              "    <tr>\n",
              "      <th>0</th>\n",
              "      <td>39</td>\n",
              "      <td>13</td>\n",
              "    </tr>\n",
              "    <tr>\n",
              "      <th>1</th>\n",
              "      <td>50</td>\n",
              "      <td>13</td>\n",
              "    </tr>\n",
              "    <tr>\n",
              "      <th>2</th>\n",
              "      <td>38</td>\n",
              "      <td>9</td>\n",
              "    </tr>\n",
              "    <tr>\n",
              "      <th>3</th>\n",
              "      <td>53</td>\n",
              "      <td>7</td>\n",
              "    </tr>\n",
              "    <tr>\n",
              "      <th>4</th>\n",
              "      <td>28</td>\n",
              "      <td>13</td>\n",
              "    </tr>\n",
              "    <tr>\n",
              "      <th>...</th>\n",
              "      <td>...</td>\n",
              "      <td>...</td>\n",
              "    </tr>\n",
              "    <tr>\n",
              "      <th>32556</th>\n",
              "      <td>27</td>\n",
              "      <td>12</td>\n",
              "    </tr>\n",
              "    <tr>\n",
              "      <th>32557</th>\n",
              "      <td>40</td>\n",
              "      <td>9</td>\n",
              "    </tr>\n",
              "    <tr>\n",
              "      <th>32558</th>\n",
              "      <td>58</td>\n",
              "      <td>9</td>\n",
              "    </tr>\n",
              "    <tr>\n",
              "      <th>32559</th>\n",
              "      <td>22</td>\n",
              "      <td>9</td>\n",
              "    </tr>\n",
              "    <tr>\n",
              "      <th>32560</th>\n",
              "      <td>52</td>\n",
              "      <td>9</td>\n",
              "    </tr>\n",
              "  </tbody>\n",
              "</table>\n",
              "<p>32561 rows × 2 columns</p>\n",
              "</div>"
            ],
            "text/plain": [
              "type   age  education-num\n",
              "id                       \n",
              "0       39             13\n",
              "1       50             13\n",
              "2       38              9\n",
              "3       53              7\n",
              "4       28             13\n",
              "...    ...            ...\n",
              "32556   27             12\n",
              "32557   40              9\n",
              "32558   58              9\n",
              "32559   22              9\n",
              "32560   52              9\n",
              "\n",
              "[32561 rows x 2 columns]"
            ]
          },
          "metadata": {
            "tags": []
          },
          "execution_count": 40
        }
      ]
    },
    {
      "cell_type": "markdown",
      "metadata": {
        "id": "jkqBQlMD_qne"
      },
      "source": [
        "<a id='P7' name='P7'></a>\n",
        "## [Apply](#P0)"
      ]
    },
    {
      "cell_type": "markdown",
      "metadata": {
        "id": "garfpccY_qne"
      },
      "source": [
        "The apply method allows us to apply a function (either built-in or user-defined) to each row of a column:"
      ]
    },
    {
      "cell_type": "code",
      "metadata": {
        "id": "at1o_M6spCy1"
      },
      "source": [
        "def age2birthyear(age):\n",
        "    return 2021 - age"
      ],
      "execution_count": null,
      "outputs": []
    },
    {
      "cell_type": "code",
      "metadata": {
        "colab": {
          "base_uri": "https://localhost:8080/"
        },
        "id": "yFF91bfnptZ-",
        "outputId": "93e0c9fa-1bb0-45d9-bf29-49c5780c7572"
      },
      "source": [
        "df[\"birth-year\"] = 2021 - df[\"age\"]\n",
        "df[[\"age\", \"birth-year\"]]"
      ],
      "execution_count": null,
      "outputs": [
        {
          "output_type": "execute_result",
          "data": {
            "text/html": [
              "<div>\n",
              "<style scoped>\n",
              "    .dataframe tbody tr th:only-of-type {\n",
              "        vertical-align: middle;\n",
              "    }\n",
              "\n",
              "    .dataframe tbody tr th {\n",
              "        vertical-align: top;\n",
              "    }\n",
              "\n",
              "    .dataframe thead th {\n",
              "        text-align: right;\n",
              "    }\n",
              "</style>\n",
              "<table border=\"1\" class=\"dataframe\">\n",
              "  <thead>\n",
              "    <tr style=\"text-align: right;\">\n",
              "      <th></th>\n",
              "      <th>age</th>\n",
              "      <th>birth-year</th>\n",
              "    </tr>\n",
              "  </thead>\n",
              "  <tbody>\n",
              "    <tr>\n",
              "      <th>0</th>\n",
              "      <td>39</td>\n",
              "      <td>1982</td>\n",
              "    </tr>\n",
              "    <tr>\n",
              "      <th>1</th>\n",
              "      <td>50</td>\n",
              "      <td>1971</td>\n",
              "    </tr>\n",
              "    <tr>\n",
              "      <th>2</th>\n",
              "      <td>38</td>\n",
              "      <td>1983</td>\n",
              "    </tr>\n",
              "    <tr>\n",
              "      <th>3</th>\n",
              "      <td>53</td>\n",
              "      <td>1968</td>\n",
              "    </tr>\n",
              "    <tr>\n",
              "      <th>4</th>\n",
              "      <td>28</td>\n",
              "      <td>1993</td>\n",
              "    </tr>\n",
              "    <tr>\n",
              "      <th>...</th>\n",
              "      <td>...</td>\n",
              "      <td>...</td>\n",
              "    </tr>\n",
              "    <tr>\n",
              "      <th>32556</th>\n",
              "      <td>27</td>\n",
              "      <td>1994</td>\n",
              "    </tr>\n",
              "    <tr>\n",
              "      <th>32557</th>\n",
              "      <td>40</td>\n",
              "      <td>1981</td>\n",
              "    </tr>\n",
              "    <tr>\n",
              "      <th>32558</th>\n",
              "      <td>58</td>\n",
              "      <td>1963</td>\n",
              "    </tr>\n",
              "    <tr>\n",
              "      <th>32559</th>\n",
              "      <td>22</td>\n",
              "      <td>1999</td>\n",
              "    </tr>\n",
              "    <tr>\n",
              "      <th>32560</th>\n",
              "      <td>52</td>\n",
              "      <td>1969</td>\n",
              "    </tr>\n",
              "  </tbody>\n",
              "</table>\n",
              "<p>32561 rows × 2 columns</p>\n",
              "</div>"
            ],
            "text/plain": [
              "       age  birth-year\n",
              "0       39        1982\n",
              "1       50        1971\n",
              "2       38        1983\n",
              "3       53        1968\n",
              "4       28        1993\n",
              "...    ...         ...\n",
              "32556   27        1994\n",
              "32557   40        1981\n",
              "32558   58        1963\n",
              "32559   22        1999\n",
              "32560   52        1969\n",
              "\n",
              "[32561 rows x 2 columns]"
            ]
          },
          "metadata": {
            "tags": []
          },
          "execution_count": 42
        }
      ]
    },
    {
      "cell_type": "code",
      "metadata": {
        "colab": {
          "base_uri": "https://localhost:8080/"
        },
        "id": "qOB-n1wI_qne",
        "outputId": "06274491-25c5-4182-8558-23165d506b81"
      },
      "source": [
        "# compute the date of birth from the age\n",
        "df[\"birth-year\"] = df[\"age\"].apply(age2birthyear)\n",
        "df[[\"age\", \"birth-year\"]]"
      ],
      "execution_count": null,
      "outputs": [
        {
          "output_type": "execute_result",
          "data": {
            "text/html": [
              "<div>\n",
              "<style scoped>\n",
              "    .dataframe tbody tr th:only-of-type {\n",
              "        vertical-align: middle;\n",
              "    }\n",
              "\n",
              "    .dataframe tbody tr th {\n",
              "        vertical-align: top;\n",
              "    }\n",
              "\n",
              "    .dataframe thead th {\n",
              "        text-align: right;\n",
              "    }\n",
              "</style>\n",
              "<table border=\"1\" class=\"dataframe\">\n",
              "  <thead>\n",
              "    <tr style=\"text-align: right;\">\n",
              "      <th></th>\n",
              "      <th>age</th>\n",
              "      <th>birth-year</th>\n",
              "    </tr>\n",
              "  </thead>\n",
              "  <tbody>\n",
              "    <tr>\n",
              "      <th>0</th>\n",
              "      <td>39</td>\n",
              "      <td>1982</td>\n",
              "    </tr>\n",
              "    <tr>\n",
              "      <th>1</th>\n",
              "      <td>50</td>\n",
              "      <td>1971</td>\n",
              "    </tr>\n",
              "    <tr>\n",
              "      <th>2</th>\n",
              "      <td>38</td>\n",
              "      <td>1983</td>\n",
              "    </tr>\n",
              "    <tr>\n",
              "      <th>3</th>\n",
              "      <td>53</td>\n",
              "      <td>1968</td>\n",
              "    </tr>\n",
              "    <tr>\n",
              "      <th>4</th>\n",
              "      <td>28</td>\n",
              "      <td>1993</td>\n",
              "    </tr>\n",
              "    <tr>\n",
              "      <th>...</th>\n",
              "      <td>...</td>\n",
              "      <td>...</td>\n",
              "    </tr>\n",
              "    <tr>\n",
              "      <th>32556</th>\n",
              "      <td>27</td>\n",
              "      <td>1994</td>\n",
              "    </tr>\n",
              "    <tr>\n",
              "      <th>32557</th>\n",
              "      <td>40</td>\n",
              "      <td>1981</td>\n",
              "    </tr>\n",
              "    <tr>\n",
              "      <th>32558</th>\n",
              "      <td>58</td>\n",
              "      <td>1963</td>\n",
              "    </tr>\n",
              "    <tr>\n",
              "      <th>32559</th>\n",
              "      <td>22</td>\n",
              "      <td>1999</td>\n",
              "    </tr>\n",
              "    <tr>\n",
              "      <th>32560</th>\n",
              "      <td>52</td>\n",
              "      <td>1969</td>\n",
              "    </tr>\n",
              "  </tbody>\n",
              "</table>\n",
              "<p>32561 rows × 2 columns</p>\n",
              "</div>"
            ],
            "text/plain": [
              "       age  birth-year\n",
              "0       39        1982\n",
              "1       50        1971\n",
              "2       38        1983\n",
              "3       53        1968\n",
              "4       28        1993\n",
              "...    ...         ...\n",
              "32556   27        1994\n",
              "32557   40        1981\n",
              "32558   58        1963\n",
              "32559   22        1999\n",
              "32560   52        1969\n",
              "\n",
              "[32561 rows x 2 columns]"
            ]
          },
          "metadata": {
            "tags": []
          },
          "execution_count": 43
        }
      ]
    },
    {
      "cell_type": "code",
      "metadata": {
        "colab": {
          "base_uri": "https://localhost:8080/"
        },
        "id": "dWRExG-h_qnf",
        "outputId": "923bd90f-4f3e-4de1-9999-1323c7920257"
      },
      "source": [
        "# alternative solution without apply\n",
        "df[\"birth-year\"] = 2021 - df[\"age\"]\n",
        "df[[\"age\", \"birth-year\"]]"
      ],
      "execution_count": null,
      "outputs": [
        {
          "output_type": "execute_result",
          "data": {
            "text/html": [
              "<div>\n",
              "<style scoped>\n",
              "    .dataframe tbody tr th:only-of-type {\n",
              "        vertical-align: middle;\n",
              "    }\n",
              "\n",
              "    .dataframe tbody tr th {\n",
              "        vertical-align: top;\n",
              "    }\n",
              "\n",
              "    .dataframe thead th {\n",
              "        text-align: right;\n",
              "    }\n",
              "</style>\n",
              "<table border=\"1\" class=\"dataframe\">\n",
              "  <thead>\n",
              "    <tr style=\"text-align: right;\">\n",
              "      <th></th>\n",
              "      <th>age</th>\n",
              "      <th>birth-year</th>\n",
              "    </tr>\n",
              "  </thead>\n",
              "  <tbody>\n",
              "    <tr>\n",
              "      <th>0</th>\n",
              "      <td>39</td>\n",
              "      <td>1982</td>\n",
              "    </tr>\n",
              "    <tr>\n",
              "      <th>1</th>\n",
              "      <td>50</td>\n",
              "      <td>1971</td>\n",
              "    </tr>\n",
              "    <tr>\n",
              "      <th>2</th>\n",
              "      <td>38</td>\n",
              "      <td>1983</td>\n",
              "    </tr>\n",
              "    <tr>\n",
              "      <th>3</th>\n",
              "      <td>53</td>\n",
              "      <td>1968</td>\n",
              "    </tr>\n",
              "    <tr>\n",
              "      <th>4</th>\n",
              "      <td>28</td>\n",
              "      <td>1993</td>\n",
              "    </tr>\n",
              "    <tr>\n",
              "      <th>...</th>\n",
              "      <td>...</td>\n",
              "      <td>...</td>\n",
              "    </tr>\n",
              "    <tr>\n",
              "      <th>32556</th>\n",
              "      <td>27</td>\n",
              "      <td>1994</td>\n",
              "    </tr>\n",
              "    <tr>\n",
              "      <th>32557</th>\n",
              "      <td>40</td>\n",
              "      <td>1981</td>\n",
              "    </tr>\n",
              "    <tr>\n",
              "      <th>32558</th>\n",
              "      <td>58</td>\n",
              "      <td>1963</td>\n",
              "    </tr>\n",
              "    <tr>\n",
              "      <th>32559</th>\n",
              "      <td>22</td>\n",
              "      <td>1999</td>\n",
              "    </tr>\n",
              "    <tr>\n",
              "      <th>32560</th>\n",
              "      <td>52</td>\n",
              "      <td>1969</td>\n",
              "    </tr>\n",
              "  </tbody>\n",
              "</table>\n",
              "<p>32561 rows × 2 columns</p>\n",
              "</div>"
            ],
            "text/plain": [
              "       age  birth-year\n",
              "0       39        1982\n",
              "1       50        1971\n",
              "2       38        1983\n",
              "3       53        1968\n",
              "4       28        1993\n",
              "...    ...         ...\n",
              "32556   27        1994\n",
              "32557   40        1981\n",
              "32558   58        1963\n",
              "32559   22        1999\n",
              "32560   52        1969\n",
              "\n",
              "[32561 rows x 2 columns]"
            ]
          },
          "metadata": {
            "tags": []
          },
          "execution_count": 44
        }
      ]
    },
    {
      "cell_type": "code",
      "metadata": {
        "colab": {
          "base_uri": "https://localhost:8080/"
        },
        "id": "2dYX8aXT_qnf",
        "outputId": "5014c39b-be24-43c9-e4b3-93dd0277118c"
      },
      "source": [
        "# another example: get rid of spaces at the start and end of words\n",
        "# in the marital-status column:\n",
        "df[\"marital-status\"].apply(lambda x: x.strip())"
      ],
      "execution_count": null,
      "outputs": [
        {
          "output_type": "execute_result",
          "data": {
            "text/plain": [
              "0             Never-married\n",
              "1        Married-civ-spouse\n",
              "2                  Divorced\n",
              "3        Married-civ-spouse\n",
              "4        Married-civ-spouse\n",
              "                ...        \n",
              "32556    Married-civ-spouse\n",
              "32557    Married-civ-spouse\n",
              "32558               Widowed\n",
              "32559         Never-married\n",
              "32560    Married-civ-spouse\n",
              "Name: marital-status, Length: 32561, dtype: object"
            ]
          },
          "metadata": {
            "tags": []
          },
          "execution_count": 45
        }
      ]
    },
    {
      "cell_type": "markdown",
      "metadata": {
        "id": "FGoALyZh_qnf"
      },
      "source": [
        "<a id='P8' name='P8'></a>\n",
        "## [Basic Plotting](#P0)"
      ]
    },
    {
      "cell_type": "markdown",
      "metadata": {
        "id": "UHB6o9AC_qnf"
      },
      "source": [
        "Pandas also provides the luxury of making simple visualizations (using **Matplotlib** Python library) like line plots, bar plots, boxplots etc. This comes in handy as quite often only basic plots are needed to perform data exploration.\n",
        "\n",
        "Here are 2 examples:"
      ]
    },
    {
      "cell_type": "code",
      "metadata": {
        "colab": {
          "base_uri": "https://localhost:8080/"
        },
        "id": "VmJwyaXr_qnf",
        "outputId": "235fba76-d6e2-4f99-eb9d-99831dd2950f"
      },
      "source": [
        "# A simple plot - first image\n",
        "\n",
        "_ = df[\"age\"].plot(kind=\"hist\")"
      ],
      "execution_count": null,
      "outputs": [
        {
          "output_type": "display_data",
          "data": {
            "image/png": "[encoded data removed]",
            "text/plain": [
              "<Figure size 576x396 with 1 Axes>"
            ]
          },
          "metadata": {
            "tags": []
          }
        }
      ]
    },
    {
      "cell_type": "code",
      "metadata": {
        "colab": {
          "base_uri": "https://localhost:8080/"
        },
        "id": "b-cRn1Mm_qnf",
        "outputId": "3137481d-a309-4243-bccf-5eb21847652a"
      },
      "source": [
        "# group by and boxplot together - second image\n",
        "\n",
        "_ = df.boxplot(column=\"age\", by=\"sex\")  # => group by on sex and plot age column"
      ],
      "execution_count": null,
      "outputs": [
        {
          "output_type": "stream",
          "text": [
            "/usr/local/lib/python3.7/dist-packages/numpy/core/_asarray.py:83: VisibleDeprecationWarning: Creating an ndarray from ragged nested sequences (which is a list-or-tuple of lists-or-tuples-or ndarrays with different lengths or shapes) is deprecated. If you meant to do this, you must specify 'dtype=object' when creating the ndarray\n",
            "  return array(a, dtype, copy=False, order=order)\n"
          ],
          "name": "stderr"
        },
        {
          "output_type": "display_data",
          "data": {
            "image/png": "[encoded data removed]",
            "text/plain": [
              "<Figure size 576x396 with 1 Axes>"
            ]
          },
          "metadata": {
            "tags": []
          }
        }
      ]
    },
    {
      "cell_type": "code",
      "metadata": {
        "colab": {
          "base_uri": "https://localhost:8080/"
        },
        "id": "iPe5dvw0_qng",
        "outputId": "52638f00-3569-494d-f850-e5a8ca2e08fc"
      },
      "source": [
        "_ = df[\"workclass\"].value_counts().plot(kind=\"bar\")"
      ],
      "execution_count": null,
      "outputs": [
        {
          "output_type": "display_data",
          "data": {
            "image/png": "[encoded data removed]",
            "text/plain": [
              "<Figure size 576x396 with 1 Axes>"
            ]
          },
          "metadata": {
            "tags": []
          }
        }
      ]
    },
    {
      "cell_type": "markdown",
      "metadata": {
        "id": "Uw2-xrPp_qng"
      },
      "source": [
        "<a id='P9' name='P9'></a>\n",
        "## [Merging and Concat](#P0)"
      ]
    },
    {
      "cell_type": "markdown",
      "metadata": {
        "id": "RRGfY0zD_qng"
      },
      "source": [
        "### Merge"
      ]
    },
    {
      "cell_type": "code",
      "metadata": {
        "id": "xo4Eyb3a_qng"
      },
      "source": [
        "left = pd.DataFrame(\n",
        "    {\n",
        "        \"key\": [\"K0\", \"K1\", \"K2\", \"K3\"],\n",
        "        \"A\": [\"A0\", \"A1\", \"A2\", \"A3\"],\n",
        "        \"B\": [\"B0\", \"B1\", \"B2\", \"B3\"],\n",
        "    }\n",
        ")\n",
        "\n",
        "right = pd.DataFrame(\n",
        "    {\n",
        "        \"key\": [\"K0\", \"K1\", \"K2\", \"K3\"],\n",
        "        \"C\": [\"C0\", \"C1\", \"C2\", \"C3\"],\n",
        "        \"D\": [\"D0\", \"D1\", \"D2\", \"D3\"],\n",
        "    }\n",
        ")"
      ],
      "execution_count": null,
      "outputs": []
    },
    {
      "cell_type": "code",
      "metadata": {
        "colab": {
          "base_uri": "https://localhost:8080/"
        },
        "id": "SrGsDdJw_qng",
        "outputId": "b0f96ee7-5e9b-4ec8-dd17-0d769a7e1cf7"
      },
      "source": [
        "# do an inner join on 'key'\n",
        "result = pd.merge(left, right, on=[\"key\"])\n",
        "result"
      ],
      "execution_count": null,
      "outputs": [
        {
          "output_type": "execute_result",
          "data": {
            "text/html": [
              "<div>\n",
              "<style scoped>\n",
              "    .dataframe tbody tr th:only-of-type {\n",
              "        vertical-align: middle;\n",
              "    }\n",
              "\n",
              "    .dataframe tbody tr th {\n",
              "        vertical-align: top;\n",
              "    }\n",
              "\n",
              "    .dataframe thead th {\n",
              "        text-align: right;\n",
              "    }\n",
              "</style>\n",
              "<table border=\"1\" class=\"dataframe\">\n",
              "  <thead>\n",
              "    <tr style=\"text-align: right;\">\n",
              "      <th></th>\n",
              "      <th>key</th>\n",
              "      <th>A</th>\n",
              "      <th>B</th>\n",
              "      <th>C</th>\n",
              "      <th>D</th>\n",
              "    </tr>\n",
              "  </thead>\n",
              "  <tbody>\n",
              "    <tr>\n",
              "      <th>0</th>\n",
              "      <td>K0</td>\n",
              "      <td>A0</td>\n",
              "      <td>B0</td>\n",
              "      <td>C0</td>\n",
              "      <td>D0</td>\n",
              "    </tr>\n",
              "    <tr>\n",
              "      <th>1</th>\n",
              "      <td>K1</td>\n",
              "      <td>A1</td>\n",
              "      <td>B1</td>\n",
              "      <td>C1</td>\n",
              "      <td>D1</td>\n",
              "    </tr>\n",
              "    <tr>\n",
              "      <th>2</th>\n",
              "      <td>K2</td>\n",
              "      <td>A2</td>\n",
              "      <td>B2</td>\n",
              "      <td>C2</td>\n",
              "      <td>D2</td>\n",
              "    </tr>\n",
              "    <tr>\n",
              "      <th>3</th>\n",
              "      <td>K3</td>\n",
              "      <td>A3</td>\n",
              "      <td>B3</td>\n",
              "      <td>C3</td>\n",
              "      <td>D3</td>\n",
              "    </tr>\n",
              "  </tbody>\n",
              "</table>\n",
              "</div>"
            ],
            "text/plain": [
              "  key   A   B   C   D\n",
              "0  K0  A0  B0  C0  D0\n",
              "1  K1  A1  B1  C1  D1\n",
              "2  K2  A2  B2  C2  D2\n",
              "3  K3  A3  B3  C3  D3"
            ]
          },
          "metadata": {
            "tags": []
          },
          "execution_count": 50
        }
      ]
    },
    {
      "cell_type": "markdown",
      "metadata": {
        "id": "2FAjKA8a_qng"
      },
      "source": [
        "### Concatenate pandas objects along a particular axis"
      ]
    },
    {
      "cell_type": "code",
      "metadata": {
        "colab": {
          "base_uri": "https://localhost:8080/"
        },
        "id": "dAhloVL-_qnh",
        "outputId": "a62c5d8a-807d-42eb-90f9-f041560ee6e3"
      },
      "source": [
        "s1 = pd.Series([\"a\", \"b\"])\n",
        "s2 = pd.Series([\"c\", \"d\"])\n",
        "# concatenate along axis=0\n",
        "df_cat = pd.concat([s1, s2], axis=0)\n",
        "df_cat"
      ],
      "execution_count": null,
      "outputs": [
        {
          "output_type": "execute_result",
          "data": {
            "text/plain": [
              "0    a\n",
              "1    b\n",
              "0    c\n",
              "1    d\n",
              "dtype: object"
            ]
          },
          "metadata": {
            "tags": []
          },
          "execution_count": 51
        }
      ]
    },
    {
      "cell_type": "code",
      "metadata": {
        "colab": {
          "base_uri": "https://localhost:8080/"
        },
        "id": "UrXnO2Hk_qnh",
        "outputId": "da6f06c8-e100-4bf3-bbcd-31f2861696f8"
      },
      "source": [
        "# fix the index (it should be [0 1 2 3])\n",
        "df_cat.reset_index(drop=True)"
      ],
      "execution_count": null,
      "outputs": [
        {
          "output_type": "execute_result",
          "data": {
            "text/plain": [
              "0    a\n",
              "1    b\n",
              "2    c\n",
              "3    d\n",
              "dtype: object"
            ]
          },
          "metadata": {
            "tags": []
          },
          "execution_count": 52
        }
      ]
    },
    {
      "cell_type": "code",
      "metadata": {
        "colab": {
          "base_uri": "https://localhost:8080/"
        },
        "id": "ATT3Au99_qnh",
        "outputId": "3206991e-ef85-422a-9acf-9af5fcec8f21"
      },
      "source": [
        "# do the same already while concatenating\n",
        "pd.concat([s1, s2], ignore_index=True)"
      ],
      "execution_count": null,
      "outputs": [
        {
          "output_type": "execute_result",
          "data": {
            "text/plain": [
              "0    a\n",
              "1    b\n",
              "2    c\n",
              "3    d\n",
              "dtype: object"
            ]
          },
          "metadata": {
            "tags": []
          },
          "execution_count": 53
        }
      ]
    },
    {
      "cell_type": "code",
      "metadata": {
        "colab": {
          "base_uri": "https://localhost:8080/"
        },
        "id": "3AQO2Hvc_qnh",
        "outputId": "cfe1dff0-48e2-4c5a-f53e-6662e2bc8d81"
      },
      "source": [
        "# concatenate along the second axis\n",
        "pd.concat([s1, s2], axis=1)"
      ],
      "execution_count": null,
      "outputs": [
        {
          "output_type": "execute_result",
          "data": {
            "text/html": [
              "<div>\n",
              "<style scoped>\n",
              "    .dataframe tbody tr th:only-of-type {\n",
              "        vertical-align: middle;\n",
              "    }\n",
              "\n",
              "    .dataframe tbody tr th {\n",
              "        vertical-align: top;\n",
              "    }\n",
              "\n",
              "    .dataframe thead th {\n",
              "        text-align: right;\n",
              "    }\n",
              "</style>\n",
              "<table border=\"1\" class=\"dataframe\">\n",
              "  <thead>\n",
              "    <tr style=\"text-align: right;\">\n",
              "      <th></th>\n",
              "      <th>0</th>\n",
              "      <th>1</th>\n",
              "    </tr>\n",
              "  </thead>\n",
              "  <tbody>\n",
              "    <tr>\n",
              "      <th>0</th>\n",
              "      <td>a</td>\n",
              "      <td>c</td>\n",
              "    </tr>\n",
              "    <tr>\n",
              "      <th>1</th>\n",
              "      <td>b</td>\n",
              "      <td>d</td>\n",
              "    </tr>\n",
              "  </tbody>\n",
              "</table>\n",
              "</div>"
            ],
            "text/plain": [
              "   0  1\n",
              "0  a  c\n",
              "1  b  d"
            ]
          },
          "metadata": {
            "tags": []
          },
          "execution_count": 54
        }
      ]
    },
    {
      "cell_type": "markdown",
      "metadata": {
        "id": "rJj_mc4B_qnh"
      },
      "source": [
        "<a id='CL' name='CL'></a>\n",
        "- [Pandas Cheatsheet](https://github.com/pandas-dev/pandas/blob/master/doc/cheatsheet/Pandas_Cheat_Sheet.pdf)\n",
        "- [Pandas in 10 min](https://pandas.pydata.org/pandas-docs/stable/getting_started/10min.html)\n",
        "- [Group by in Pandas](https://pandas.pydata.org/pandas-docs/stable/groupby.html#plotting)\n",
        "- [Minimally sufficient Pandas](https://medium.com/dunder-data/minimally-sufficient-pandas-a8e67f2a2428)\n",
        "- [Pandas API reference](https://pandas.pydata.org/pandas-docs/stable/reference/index.html)"
      ]
    },
    {
      "cell_type": "markdown",
      "metadata": {
        "id": "jlFHQOIF_qnh"
      },
      "source": [
        "<div style=\"border-top:0.1cm solid #EF475B\"></div>\n",
        "    <strong><a href='#Q0'><div style=\"text-align: right\"> <h3>End of this Notebook.</h3></div></a></strong>"
      ]
    }
  ]
}