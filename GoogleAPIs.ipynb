{
  "nbformat": 4,
  "nbformat_minor": 0,
  "metadata": {
    "celltoolbar": "Slideshow",
    "kernelspec": {
      "display_name": "Python 3",
      "language": "python",
      "name": "python3"
    },
    "language_info": {
      "codemirror_mode": {
        "name": "ipython",
        "version": 3
      },
      "file_extension": ".py",
      "mimetype": "text/x-python",
      "name": "python",
      "nbconvert_exporter": "python",
      "pygments_lexer": "ipython3",
      "version": "3.7.7"
    },
    "rise": {
      "chalkboard": {
        "color": [
          "rgb(0,128,255)",
          "rgb(0,128,255)"
        ],
        "theme": "chalkboard"
      },
      "enable_chalkboard": true,
      "footer": "<img src='https://drive.google.com/uc?id=1imM8PAMMQPJKq3eVG9p9Ol6iB--J8JfD' width='30'/> Propulsion Academy, 2020",
      "scroll": true,
      "theme": "black",
      "transition": "convex"
    },
    "colab": {
      "name": "Copy of SIT_W1D2_LC4_GoogleAPIs.ipynb",
      "provenance": [],
      "collapsed_sections": [],
      "toc_visible": true,
      "include_colab_link": true
    }
  },
  "cells": [
    {
      "cell_type": "markdown",
      "metadata": {
        "id": "view-in-github",
        "colab_type": "text"
      },
      "source": [
        "<a href=\"https://colab.research.google.com/github/EmAchieng/DataSciencePracticeSeries/blob/master/GoogleAPIs.ipynb\" target=\"_parent\"><img src=\"https://colab.research.google.com/assets/colab-badge.svg\" alt=\"Open In Colab\"/></a>"
      ]
    },
    {
      "cell_type": "markdown",
      "metadata": {
        "tags": [
          "headers"
        ],
        "id": "q1c89EW0Jc7-"
      },
      "source": [
        "<a id='Q0'></a>\n",
        "<center><a target=\"_blank\" href=\"http://www.propulsion.academy\"><img src=\"https://drive.google.com/uc?id=1McNxpNrSwfqu1w-QtlOmPSmfULvkkMQV\" width=\"200\" style=\"background:none; border:none; box-shadow:none;\" /></a> </center>\n",
        "<center> <h1> Live coding 3: Google APIs </h1> </center>\n",
        "<p style=\"margin-bottom:1cm;\"></p>\n",
        "<center><h4>Propulsion Academy, 2021</h4></center>\n",
        "<p style=\"margin-bottom:1cm;\"></p>\n",
        "\n",
        "<div style=\"background:#EEEDF5;border-top:0.1cm solid #EF475B;border-bottom:0.1cm solid #EF475B;\">\n",
        "    <div style=\"margin-left: 0.5cm;margin-top: 0.5cm;margin-bottom: 0.5cm;color:#303030\">\n",
        "        <p><strong>Goal:</strong> learn about google APIs, how to get access to them and how to interact with them.</p>\n",
        "        <strong> Outline:</strong>\n",
        "        <a id='P0' name=\"P0\"></a>\n",
        "        <ol>\n",
        "            <li> <a style=\"color:#303030\" href='#SU'>Set up</a></li>\n",
        "            <li> <a style=\"color:#303030\" href='#P1'>Load key from external file</a></li>\n",
        "            <li> <a style=\"color:#303030\" href='#P2'>Send a Query to the google Maps API</a></li>\n",
        "        </ol>\n",
        "        <strong>Topics Trained:</strong> Requests, REST APIs, JSON, YAML, GMAPS API\n",
        "    </div>\n",
        "</div>\n",
        "\n",
        "<nav style=\"text-align:right\"><strong>\n",
        "        <a style=\"color:#00BAE5\" href=\"https://monolith.propulsion-home.ch/backend/api/momentum/materials/ds-materials/02_DSToolkit/index.html\" title=\"momentum\"> Module 2, The Data Science Toolkit </a>|\n",
        "        <a style=\"color:#00BAE5\" href=\"https://monolith.propulsion-home.ch/backend/api/momentum/materials/ds-materials/02_DSToolkit/day2/index.html\" title=\"momentum\">Day 3, JSON, REST APIS, the Request Module </a>|\n",
        "        <a style=\"color:#00BAE5\" href=\"https://monolith.propulsion-home.ch/backend/api/momentum/materials/intro-2-ds-materials/weeks/week1/day2/pages/materials.html\" title=\"momentum\"> Live Coding 3, Google Maps API</a>\n",
        "</strong></nav>"
      ]
    },
    {
      "cell_type": "markdown",
      "metadata": {
        "id": "4G3blOV9Jc8G"
      },
      "source": [
        "<a id='SU' name=\"SU\"></a>\n",
        "## [Set up](#P0)"
      ]
    },
    {
      "cell_type": "markdown",
      "metadata": {
        "id": "cGBln_07Jc8H"
      },
      "source": [
        "### Packages"
      ]
    },
    {
      "cell_type": "code",
      "metadata": {
        "id": "kKzOJntwJc8I"
      },
      "source": [
        "import json\n",
        "import requests"
      ],
      "execution_count": null,
      "outputs": []
    },
    {
      "cell_type": "markdown",
      "metadata": {
        "id": "9o96QrUhJc8I"
      },
      "source": [
        "<a id='P1' name=\"P1\"></a>\n",
        "## [Load key from external file](#P0)"
      ]
    },
    {
      "cell_type": "markdown",
      "metadata": {
        "id": "L7DPDTMVJc8I"
      },
      "source": [
        "If authentication is needed, we provide a personal **key**.   \n",
        "Our key should be a **secret** from external viewers. \n",
        "\n",
        "So, if you provide a code to somebody, they will not be able to see your key, but they will be able to use their own. "
      ]
    },
    {
      "cell_type": "markdown",
      "metadata": {
        "id": "O9Ur1Zd2Jc8J"
      },
      "source": [
        "1. Resources for the companies are not free so for you it also might be “not free” if you use it too much.   \n",
        "2. Data providers might limit the number of requests/day, demand an API “key”, or take money.   \n",
        "3. Situation might change as things progress.  \n",
        "4. Or allow using API only for certain needs (Like LinkedIn).  "
      ]
    },
    {
      "cell_type": "markdown",
      "metadata": {
        "id": "8v9u7SARJc8J"
      },
      "source": [
        "### Get the key from a .json file"
      ]
    },
    {
      "cell_type": "markdown",
      "metadata": {
        "id": "0-my97qWJc8J"
      },
      "source": [
        "In separate script, write:"
      ]
    },
    {
      "cell_type": "code",
      "metadata": {
        "id": "Fs1rn4I-Jc8K"
      },
      "source": [
        "key_dict = {\n",
        "    'key':'your_key'\n",
        "}"
      ],
      "execution_count": null,
      "outputs": []
    },
    {
      "cell_type": "code",
      "metadata": {
        "id": "kUVoAoYwJc8K"
      },
      "source": [
        "with open('credentials.json','w') as output:\n",
        "    json.dump(key_dict, output)"
      ],
      "execution_count": null,
      "outputs": []
    },
    {
      "cell_type": "markdown",
      "metadata": {
        "id": "A4MOvLMIJc8K"
      },
      "source": [
        "In actual script (ie, this notebook, get the key): "
      ]
    },
    {
      "cell_type": "code",
      "metadata": {
        "id": "lLXIPhr5Jc8K"
      },
      "source": [
        "gmaps_key = json.load(open(\"credentials.json\"))\n",
        "#key_json[\"key\"]"
      ],
      "execution_count": null,
      "outputs": []
    },
    {
      "cell_type": "markdown",
      "metadata": {
        "id": "jXYR8oBfJc8M"
      },
      "source": [
        "<a id='P1' name=\"P1\"></a>\n",
        "## [Send a Query to the google Maps API](#P0)"
      ]
    },
    {
      "cell_type": "code",
      "metadata": {
        "id": "nxpXWs7XJc8M"
      },
      "source": [
        "url = \"https://maps.googleapis.com/maps/api/place/textsearch/json?\"\n",
        "\n",
        "# text string on which to search\n",
        "query = input(\"Search query: \")\n",
        "\n",
        "# actual api key\n",
        "api_key = gmaps_key[\"key\"]\n",
        "\n",
        "# get method of requests module, return response object\n",
        "req = requests.get(url + \"query=\" + query + \"&key=\" + api_key)\n",
        "\n",
        "# json method of response object: json format data -> python format data\n",
        "places_json = req.json()\n",
        "\n",
        "# now result contains list of nested dictionaries\n",
        "my_result = places_json[\"results\"]\n",
        "\n",
        "# take a look at the first element\n",
        "my_result[0]"
      ],
      "execution_count": null,
      "outputs": []
    },
    {
      "cell_type": "code",
      "metadata": {
        "id": "aMgw2lB_Jc8N"
      },
      "source": [
        "len(my_result)"
      ],
      "execution_count": null,
      "outputs": []
    },
    {
      "cell_type": "code",
      "metadata": {
        "id": "TrpKAFlzJc8O"
      },
      "source": [
        "# keep looping through the result items to extract information of interest\n",
        "for item in my_result:\n",
        "\n",
        "    # Print value corresponding to the 'name' key\n",
        "    print(item[\"name\"])"
      ],
      "execution_count": null,
      "outputs": []
    },
    {
      "cell_type": "code",
      "metadata": {
        "id": "UAzWEeEqJc8O"
      },
      "source": [
        "my_result[0][\"geometry\"]  # 'location' is a point feature of GeoJSON"
      ],
      "execution_count": null,
      "outputs": []
    },
    {
      "cell_type": "markdown",
      "metadata": {
        "id": "RjB7jt-UJc8O"
      },
      "source": [
        "The features include:    \n",
        "points  - therefore addresses and locations;   \n",
        "line strings - therefore streets, highways and boundaries;  \n",
        "polygons - countries, provinces, tracts of land;   \n",
        "and multi-part collections of these types."
      ]
    },
    {
      "cell_type": "markdown",
      "metadata": {
        "id": "aMsxKXN4Jc8P"
      },
      "source": [
        "<div style=\"border-top:0.1cm solid #EF475B\"></div>\n",
        "    <strong><a href='#Q0'><div style=\"text-align: right\"> <h3>End of this Notebook.</h3></div></a></strong>"
      ]
    }
  ]
}