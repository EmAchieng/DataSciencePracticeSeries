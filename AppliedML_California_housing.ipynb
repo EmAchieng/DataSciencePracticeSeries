{
  "nbformat": 4,
  "nbformat_minor": 0,
  "metadata": {
    "colab": {
      "name": "Copy of SIT_W2D1_HT3_California_housing.ipynb",
      "provenance": [],
      "collapsed_sections": [],
      "toc_visible": true,
      "include_colab_link": true
    },
    "kernelspec": {
      "name": "python3",
      "display_name": "Python 3"
    }
  },
  "cells": [
    {
      "cell_type": "markdown",
      "metadata": {
        "id": "view-in-github",
        "colab_type": "text"
      },
      "source": [
        "<a href=\"https://colab.research.google.com/github/EmAchieng/DataSciencePracticeSeries/blob/master/AppliedML_California_housing.ipynb\" target=\"_parent\"><img src=\"https://colab.research.google.com/assets/colab-badge.svg\" alt=\"Open In Colab\"/></a>"
      ]
    },
    {
      "cell_type": "markdown",
      "metadata": {
        "id": "of3HGFCW2ii7"
      },
      "source": [
        "<a id='Q0'></a>\n",
        "<center><a target=\"_blank\" href=\"http://www.propulsion.academy\"><img src=\"https://drive.google.com/uc?id=1McNxpNrSwfqu1w-QtlOmPSmfULvkkMQV\" width=\"200\" style=\"background:none; border:none; box-shadow:none;\" /></a> </center>\n",
        "<center> <h4 style=\"color:#303030\"> Applied Machine Learning: </h4> </center>\n",
        "<center> <h1 style=\"color:#303030\">Predict House Value using neighboorhood characteristics</h1> </center>\n",
        "<p style=\"margin-bottom:1cm;\"></p>\n",
        "<center style=\"color:#303030\"><h4>Propulsion Academy, 2021</h4></center>\n",
        "<p style=\"margin-bottom:1cm;\"></p>\n",
        "\n",
        "<div style=\"background:#EEEDF5;border-top:0.1cm solid #EF475B;border-bottom:0.1cm solid #EF475B;\">\n",
        "    <div style=\"margin-left: 0.5cm;margin-top: 0.5cm;margin-bottom: 0.5cm\">\n",
        "        <p><strong>Goal:</strong>Practice working on a Regression problem using real estate data</p>\n",
        "        <strong> Sections:</strong>\n",
        "        <a id=\"P0\" name=\"P0\"></a>\n",
        "        <ol>\n",
        "            <li> <a style=\"color:#303030\" href=\"#SU\">Set Up </a> </li>\n",
        "            <li> <a style=\"color:#303030\" href=\"#P1\">Exploratory Data Analysis</a></li>\n",
        "            <li> <a style=\"color:#303030\" href=\"#P2\">Modeling</a></li>\n",
        "            <li> <a style=\"color:#303030\" href=\"#P3\">Model Evaluation and Explanation</a></li>\n",
        "        </ol>\n",
        "        <strong>Topics Trained:</strong> Clustering.\n",
        "    </div>\n",
        "</div>\n",
        "\n",
        "<nav style=\"text-align:right\"><strong>\n",
        "        <a style=\"color:#00BAE5\" href=\"https://monolith.propulsion-home.ch/backend/api/momentum/materials/hsg-materials/index.html\" title=\"momentum\"> HSG Python for Data Science</a>|\n",
        "        <a style=\"color:#00BAE5\" href=\"https://monolith.propulsion-home.ch/backend/api/momentum/materials/hsg-materials/chapters/homework/index.html\" title=\"momentum\">Applied Machine Learning</a>|\n",
        "        <a style=\"color:#00BAE5\" href=\"https://colab.research.google.com/drive/1zjDdhyfS11YaGWV2rQvioyuqZcmkUC9V?usp=sharing\" title=\"momentum\">  California House Dataset</a>\n",
        "</strong></nav>"
      ]
    },
    {
      "cell_type": "markdown",
      "metadata": {
        "id": "E4evWISCtJkE"
      },
      "source": [
        "This Tutorial walks you through a complete Regression Project, including: Exploratory data analysis, Feature Engineering, Defining a baseline model, finding a more performant model using automated machine learning, evaluating the final model using your test set, and finally explaining your model's prediction using shapley values."
      ]
    },
    {
      "cell_type": "markdown",
      "metadata": {
        "id": "ckLGGhLpmYD8"
      },
      "source": [
        "<a id='SU' name=\"SU\"></a>\n",
        "## [Set up](#P0)"
      ]
    },
    {
      "cell_type": "markdown",
      "metadata": {
        "id": "k51LlYS27Bql"
      },
      "source": [
        "### package install"
      ]
    },
    {
      "cell_type": "markdown",
      "metadata": {
        "id": "VLmr1n_tX283"
      },
      "source": [
        "Let's start with auto-sklearn, our library for automated machine learning.\n",
        "\n",
        "Please note you **need to restart the run after the installation** for it to take effect!"
      ]
    },
    {
      "cell_type": "code",
      "metadata": {
        "id": "vTC_OuUpBXlC",
        "outputId": "3f771461-c42b-4856-c9d6-7afc06727f0c",
        "colab": {
          "base_uri": "https://localhost:8080/"
        }
      },
      "source": [
        "!sudo apt-get install build-essential swig\n",
        "!curl https://raw.githubusercontent.com/automl/auto-sklearn/master/requirements.txt | xargs -n 1 -L 1 pip install\n",
        "!pip install auto-sklearn"
      ],
      "execution_count": null,
      "outputs": [
        {
          "output_type": "stream",
          "text": [
            "Reading package lists... Done\n",
            "Building dependency tree       \n",
            "Reading state information... Done\n",
            "build-essential is already the newest version (12.4ubuntu1).\n",
            "Suggested packages:\n",
            "  swig-doc swig-examples swig3.0-examples swig3.0-doc\n",
            "The following NEW packages will be installed:\n",
            "  swig swig3.0\n",
            "0 upgraded, 2 newly installed, 0 to remove and 31 not upgraded.\n",
            "Need to get 1,100 kB of archives.\n",
            "After this operation, 5,822 kB of additional disk space will be used.\n",
            "Get:1 http://archive.ubuntu.com/ubuntu bionic/universe amd64 swig3.0 amd64 3.0.12-1 [1,094 kB]\n",
            "Get:2 http://archive.ubuntu.com/ubuntu bionic/universe amd64 swig amd64 3.0.12-1 [6,460 B]\n",
            "Fetched 1,100 kB in 1s (791 kB/s)\n",
            "debconf: unable to initialize frontend: Dialog\n",
            "debconf: (No usable dialog-like program is installed, so the dialog based frontend cannot be used. at /usr/share/perl5/Debconf/FrontEnd/Dialog.pm line 76, <> line 2.)\n",
            "debconf: falling back to frontend: Readline\n",
            "debconf: unable to initialize frontend: Readline\n",
            "debconf: (This frontend requires a controlling tty.)\n",
            "debconf: falling back to frontend: Teletype\n",
            "dpkg-preconfigure: unable to re-open stdin: \n",
            "Selecting previously unselected package swig3.0.\n",
            "(Reading database ... 160983 files and directories currently installed.)\n",
            "Preparing to unpack .../swig3.0_3.0.12-1_amd64.deb ...\n",
            "Unpacking swig3.0 (3.0.12-1) ...\n",
            "Selecting previously unselected package swig.\n",
            "Preparing to unpack .../swig_3.0.12-1_amd64.deb ...\n",
            "Unpacking swig (3.0.12-1) ...\n",
            "Setting up swig3.0 (3.0.12-1) ...\n",
            "Setting up swig (3.0.12-1) ...\n",
            "Processing triggers for man-db (2.8.3-2ubuntu0.1) ...\n",
            "  % Total    % Received % Xferd  Average Speed   Time    Time     Time  Current\n",
            "                                 Dload  Upload   Total   Spent    Left  Speed\n",
            "100   209  100   209    0     0   1004      0 --:--:-- --:--:-- --:--:--  1004\n",
            "Requirement already satisfied: setuptools in /usr/local/lib/python3.7/dist-packages (54.2.0)\n",
            "Requirement already satisfied: numpy>=1.9.0 in /usr/local/lib/python3.7/dist-packages (1.19.5)\n",
            "Requirement already satisfied: scipy>=0.14.1 in /usr/local/lib/python3.7/dist-packages (1.4.1)\n",
            "Requirement already satisfied: numpy>=1.13.3 in /usr/local/lib/python3.7/dist-packages (from scipy>=0.14.1) (1.19.5)\n",
            "Requirement already satisfied: joblib in /usr/local/lib/python3.7/dist-packages (1.0.1)\n",
            "Collecting scikit-learn<0.25.0,>=0.24.0\n",
            "\u001b[?25l  Downloading https://files.pythonhosted.org/packages/f3/74/eb899f41d55f957e2591cde5528e75871f817d9fb46d4732423ecaca736d/scikit_learn-0.24.1-cp37-cp37m-manylinux2010_x86_64.whl (22.3MB)\n",
            "\u001b[K     |████████████████████████████████| 22.3MB 1.5MB/s \n",
            "\u001b[?25hRequirement already satisfied: joblib>=0.11 in /usr/local/lib/python3.7/dist-packages (from scikit-learn<0.25.0,>=0.24.0) (1.0.1)\n",
            "Requirement already satisfied: numpy>=1.13.3 in /usr/local/lib/python3.7/dist-packages (from scikit-learn<0.25.0,>=0.24.0) (1.19.5)\n",
            "Requirement already satisfied: scipy>=0.19.1 in /usr/local/lib/python3.7/dist-packages (from scikit-learn<0.25.0,>=0.24.0) (1.4.1)\n",
            "Collecting threadpoolctl>=2.0.0\n",
            "  Downloading https://files.pythonhosted.org/packages/f7/12/ec3f2e203afa394a149911729357aa48affc59c20e2c1c8297a60f33f133/threadpoolctl-2.1.0-py3-none-any.whl\n",
            "Installing collected packages: threadpoolctl, scikit-learn\n",
            "  Found existing installation: scikit-learn 0.22.2.post1\n",
            "    Uninstalling scikit-learn-0.22.2.post1:\n",
            "      Successfully uninstalled scikit-learn-0.22.2.post1\n"
          ],
          "name": "stdout"
        }
      ]
    },
    {
      "cell_type": "code",
      "metadata": {
        "id": "fyPKkEtkXt_z"
      },
      "source": [
        "!pip install pipelineprofiler # visualize the pipelines created by auto-sklearn"
      ],
      "execution_count": null,
      "outputs": []
    },
    {
      "cell_type": "code",
      "metadata": {
        "id": "0m3n33Tj1xoS"
      },
      "source": [
        "!pip install shap"
      ],
      "execution_count": null,
      "outputs": []
    },
    {
      "cell_type": "code",
      "metadata": {
        "id": "gQF1r4IzM0hE"
      },
      "source": [
        "!pip install --upgrade plotly"
      ],
      "execution_count": null,
      "outputs": []
    },
    {
      "cell_type": "code",
      "metadata": {
        "id": "mWkVZjBMgayP"
      },
      "source": [
        "!pip3 install -U scikit-learn"
      ],
      "execution_count": null,
      "outputs": []
    },
    {
      "cell_type": "markdown",
      "metadata": {
        "id": "j9clsCHvKExn"
      },
      "source": [
        "### Packages imports"
      ]
    },
    {
      "cell_type": "code",
      "metadata": {
        "id": "YN_lTQboKExo"
      },
      "source": [
        "import numpy as np\n",
        "import pandas as pd\n",
        "\n",
        "from sklearn.model_selection import train_test_split, cross_val_score\n",
        "from sklearn.preprocessing import StandardScaler\n",
        "from sklearn.linear_model import LinearRegression\n",
        "from sklearn import metrics\n",
        "from sklearn import set_config\n",
        "from sklearn.pipeline import Pipeline\n",
        "from pandas_profiling import ProfileReport\n",
        "from sklearn.impute import SimpleImputer\n",
        "\n",
        "from sklearn.metrics import mean_squared_error\n",
        "from sklearn.base import BaseEstimator, TransformerMixin\n",
        "\n",
        "import plotly.express as px\n",
        "import plotly.graph_objects as go"
      ],
      "execution_count": null,
      "outputs": []
    },
    {
      "cell_type": "code",
      "metadata": {
        "id": "FKh_6ASricEH"
      },
      "source": [
        "import autosklearn.regression\n",
        "import PipelineProfiler"
      ],
      "execution_count": null,
      "outputs": []
    },
    {
      "cell_type": "code",
      "metadata": {
        "id": "gSprJWld11JI"
      },
      "source": [
        "import shap"
      ],
      "execution_count": null,
      "outputs": []
    },
    {
      "cell_type": "markdown",
      "metadata": {
        "id": "9B-eWIFB579h"
      },
      "source": [
        "### Google Drive connection"
      ]
    },
    {
      "cell_type": "code",
      "metadata": {
        "id": "UAo_4yUyT_H_"
      },
      "source": [
        "from google.colab import drive\n",
        "drive.mount('/content/drive', force_remount=True)"
      ],
      "execution_count": null,
      "outputs": []
    },
    {
      "cell_type": "markdown",
      "metadata": {
        "id": "nh7ljdZY7X8Y"
      },
      "source": [
        "### options and settings"
      ]
    },
    {
      "cell_type": "code",
      "metadata": {
        "id": "S4iSfOb_alvK"
      },
      "source": [
        "data_path = \"/content/drive/MyDrive/Introduction2DataScience/data/\""
      ],
      "execution_count": null,
      "outputs": []
    },
    {
      "cell_type": "code",
      "metadata": {
        "id": "QQnLFe7tKExp"
      },
      "source": [
        "set_config(display='diagram')"
      ],
      "execution_count": null,
      "outputs": []
    },
    {
      "cell_type": "markdown",
      "metadata": {
        "id": "tiBsfiFvstdj"
      },
      "source": [
        "Please Download the data from [this source](https://drive.google.com/file/d/1MUZrfW214Pv9p5cNjNNEEosiruIlLUXz/view?usp=sharing), and upload it on your Introduction2DataScience/data google drive folder."
      ]
    },
    {
      "cell_type": "markdown",
      "metadata": {
        "id": "oNXnzMwM7w5v"
      },
      "source": [
        "<a id='P1' name=\"P1\"></a>\n",
        "## [Exploratory Data Analysis](#P0)\n"
      ]
    },
    {
      "cell_type": "markdown",
      "metadata": {
        "id": "4uLNlAUdLS7G"
      },
      "source": [
        "### Understand the Context"
      ]
    },
    {
      "cell_type": "markdown",
      "metadata": {
        "id": "cdxhryezp_B_"
      },
      "source": [
        "**What type of problem are we trying to solve?**\n",
        "\n",
        "With this data set, we want to build a model that would predict the price of a house from its characteristics. \n",
        "\n",
        "**_This is a regression problem_**"
      ]
    },
    {
      "cell_type": "markdown",
      "metadata": {
        "id": "883Hj-wU8fEB"
      },
      "source": [
        "**How was the data collected?/ Is there documentation on the Data?**\n",
        "\n",
        "California Housing dataset [description](https://www.kaggle.com/camnugent/california-housing-prices): \n",
        "\n",
        "**Context**:\n",
        "\n",
        "The data contains information from the 1990 California census. \n",
        "So although it may not help you with predicting current housing prices, it does provide an accessible introductory dataset for teaching people about the basics of machine learning.\n",
        "\n",
        "**Content**:  \n",
        "\n",
        "The data pertains to the houses found in a given California district and some summary stats about them based on the 1990 census data. Be warned the data aren't cleaned so there are some preprocessing steps required! The columns are as follows, their names are pretty self explanatory:\n",
        "\n",
        "  - longitude: A measure of how far west a house is; a higher value is farther west\n",
        "\n",
        "  - latitude: A measure of how far north a house is; a higher value is farther north\n",
        "\n",
        "  - housing_median_age: Median age of a house within a block; a lower number is a newer building\n",
        "\n",
        "  - total_rooms: Total number of rooms within a block\n",
        "\n",
        "  - total_bedrooms:  Total number of bedrooms within a block\n",
        "\n",
        "  - population: Total number of people residing within a block\n",
        "\n",
        "  - households:  Total number of households, a group of people residing within a home unit, for a block\n",
        "\n",
        "  - median_income: Median income for households within a block of houses (measured in tens of thousands of US Dollars)\n",
        "\n",
        "  - median_house_value: (response)   Median house value for households within a block (measured in US Dollars)"
      ]
    },
    {
      "cell_type": "markdown",
      "metadata": {
        "id": "V5ntlub0gnOS"
      },
      "source": [
        "**Do we have assumption about the data?**"
      ]
    },
    {
      "cell_type": "markdown",
      "metadata": {
        "id": "favjkY8O8hie"
      },
      "source": [
        "- longitude and lattitude should be numbers corresponding to the longitude and latitude of California [36.7783° N, 119.4179° W](https://www.google.com/search?q=longitude%2Flatitude+of+california&oq=longitude%2Flatitude+of+california&aqs=chrome..69i57j0i22i30l6j69i58.9953j0j7&sourceid=chrome&ie=UTF-8)!\n",
        "- housing_median_age should be of [the order of 40-70](https://www.bestplaces.net/housing/city/california/los_angeles)\n",
        "- we should see higher prices around big cities like Loas Angeles/San Francisco"
      ]
    },
    {
      "cell_type": "markdown",
      "metadata": {
        "id": "SX4mRdMggw66"
      },
      "source": [
        "**Can we foresee any challenge related to this data set?**"
      ]
    },
    {
      "cell_type": "markdown",
      "metadata": {
        "id": "GhOrQPCHquRe"
      },
      "source": [
        "We have geographical data, which calls for specific visualization techniques at least.\n",
        "\n",
        "the features total_rooms and total bedrooms might need to be modified to more meaning ful values like number of bedrooms per household/per person"
      ]
    },
    {
      "cell_type": "markdown",
      "metadata": {
        "id": "Xb_R377zqqLG"
      },
      "source": [
        "### Data Structure and types"
      ]
    },
    {
      "cell_type": "markdown",
      "metadata": {
        "id": "G92XL9EOqqLG"
      },
      "source": [
        "**Load the csv file as a DataFrame using Pandas**"
      ]
    },
    {
      "cell_type": "code",
      "metadata": {
        "id": "KjXNgfq7_AOA"
      },
      "source": [
        "df = pd.read_csv(f'{data_path}california_housing.csv')"
      ],
      "execution_count": null,
      "outputs": []
    },
    {
      "cell_type": "markdown",
      "metadata": {
        "id": "w86nmb2HqqLH"
      },
      "source": [
        "**How many columns and rows do we have?**"
      ]
    },
    {
      "cell_type": "code",
      "metadata": {
        "id": "qlg7Htf_qqLH"
      },
      "source": [
        "df.shape"
      ],
      "execution_count": null,
      "outputs": []
    },
    {
      "cell_type": "markdown",
      "metadata": {
        "id": "S07Su2otqqLI"
      },
      "source": [
        "**What are the names and meaning of each columns?**"
      ]
    },
    {
      "cell_type": "code",
      "metadata": {
        "id": "fxUxXZEhqqLJ"
      },
      "source": [
        "df.columns"
      ],
      "execution_count": null,
      "outputs": []
    },
    {
      "cell_type": "markdown",
      "metadata": {
        "id": "sQlnVmWbqqLJ"
      },
      "source": [
        "print the first 10 rows of the dataframe"
      ]
    },
    {
      "cell_type": "code",
      "metadata": {
        "id": "22gOkytFqqLK"
      },
      "source": [
        "df.head()"
      ],
      "execution_count": null,
      "outputs": []
    },
    {
      "cell_type": "markdown",
      "metadata": {
        "id": "31Ue-L1TqqLK"
      },
      "source": [
        "**What are the types of each column?**"
      ]
    },
    {
      "cell_type": "code",
      "metadata": {
        "id": "2m1l4YaNsCRg"
      },
      "source": [
        "df.dtypes"
      ],
      "execution_count": null,
      "outputs": []
    },
    {
      "cell_type": "markdown",
      "metadata": {
        "id": "QRgn5lTfsCRh"
      },
      "source": [
        "It's all floating point numbers, that all makes sense!!"
      ]
    },
    {
      "cell_type": "markdown",
      "metadata": {
        "id": "XQIxq2IzqqLL"
      },
      "source": [
        "**Do the types correspond to what you expected?\n",
        "if not, which columns would you change and why?**"
      ]
    },
    {
      "cell_type": "markdown",
      "metadata": {
        "id": "70hn2_3Lq-Si"
      },
      "source": [
        "some columns are actually integers, but we can keep it this way"
      ]
    },
    {
      "cell_type": "markdown",
      "metadata": {
        "id": "zKTw1beiqqLL"
      },
      "source": [
        "**Perform the necessary type transformations**"
      ]
    },
    {
      "cell_type": "markdown",
      "metadata": {
        "id": "THebXgnksBZE"
      },
      "source": [
        "nothing to do here"
      ]
    },
    {
      "cell_type": "markdown",
      "metadata": {
        "id": "YBNxn1O0qqLM"
      },
      "source": [
        "**What are the possible categories for categorical columns?/What is the min, max and mean of each numerical columns?**"
      ]
    },
    {
      "cell_type": "code",
      "metadata": {
        "id": "4PydMho8sAzB"
      },
      "source": [
        "df.describe(include='all',datetime_is_numeric=True)"
      ],
      "execution_count": null,
      "outputs": []
    },
    {
      "cell_type": "markdown",
      "metadata": {
        "id": "I7Is_de4qqLO"
      },
      "source": [
        "**Perform test/train split here**\n",
        "\n",
        "!!! Please think about it!!! How should the data be splitted?"
      ]
    },
    {
      "cell_type": "code",
      "metadata": {
        "id": "u0Qa2jk6Ap5M"
      },
      "source": [
        "train, test = train_test_split(df, test_size=0.2, random_state=0)"
      ],
      "execution_count": null,
      "outputs": []
    },
    {
      "cell_type": "code",
      "metadata": {
        "id": "19fyLTMjA3AK"
      },
      "source": [
        "train.to_csv(f'{data_path}CaliforniaTrain.csv', index=False)"
      ],
      "execution_count": null,
      "outputs": []
    },
    {
      "cell_type": "code",
      "metadata": {
        "id": "3eQ3o0Ba8AgX"
      },
      "source": [
        "train= train.copy()"
      ],
      "execution_count": null,
      "outputs": []
    },
    {
      "cell_type": "code",
      "metadata": {
        "id": "HASCUWGHA6-y"
      },
      "source": [
        "test.to_csv(f'{data_path}CaliforniaTest.csv', index=False)"
      ],
      "execution_count": null,
      "outputs": []
    },
    {
      "cell_type": "code",
      "metadata": {
        "id": "fe_rggZ58Dt2"
      },
      "source": [
        "test = test.copy()"
      ],
      "execution_count": null,
      "outputs": []
    },
    {
      "cell_type": "markdown",
      "metadata": {
        "id": "wtTYxsysqqLZ"
      },
      "source": [
        "### Missing Values and Duplicates"
      ]
    },
    {
      "cell_type": "markdown",
      "metadata": {
        "id": "yi1NleMmqqLZ"
      },
      "source": [
        "**Are there some duplicate columns? rows?**"
      ]
    },
    {
      "cell_type": "markdown",
      "metadata": {
        "id": "JlDwSA7tokNR"
      },
      "source": [
        "Let's print again the columns:"
      ]
    },
    {
      "cell_type": "code",
      "metadata": {
        "id": "8qOi6pt6okNR"
      },
      "source": [
        "train.columns"
      ],
      "execution_count": null,
      "outputs": []
    },
    {
      "cell_type": "markdown",
      "metadata": {
        "id": "QJ-nCwGiokNS"
      },
      "source": [
        "and the first rows:"
      ]
    },
    {
      "cell_type": "code",
      "metadata": {
        "id": "cShWGpPQokNS"
      },
      "source": [
        "train.head()"
      ],
      "execution_count": null,
      "outputs": []
    },
    {
      "cell_type": "markdown",
      "metadata": {
        "id": "ogs3J0hmokNS"
      },
      "source": [
        "Every column has a specific meaning, there are no duplicate columns.\n",
        "\n",
        "Let's check for duplicate rows:"
      ]
    },
    {
      "cell_type": "code",
      "metadata": {
        "id": "uodliheYokNT"
      },
      "source": [
        "train.duplicated(keep=False).value_counts()"
      ],
      "execution_count": null,
      "outputs": []
    },
    {
      "cell_type": "markdown",
      "metadata": {
        "id": "-nhQzzY_okNT"
      },
      "source": [
        "There are no duplicate rows."
      ]
    },
    {
      "cell_type": "markdown",
      "metadata": {
        "id": "Ff0SmCc9qqLd"
      },
      "source": [
        "**Should we drop duplicate rows?**"
      ]
    },
    {
      "cell_type": "markdown",
      "metadata": {
        "id": "Pjq1Ab8tCJU6"
      },
      "source": [
        "does not apply"
      ]
    },
    {
      "cell_type": "markdown",
      "metadata": {
        "id": "zBYFTfTXqqLe"
      },
      "source": [
        "**How many missing values are there in each columns?**"
      ]
    },
    {
      "cell_type": "markdown",
      "metadata": {
        "id": "Rn4jI-mEokNV"
      },
      "source": [
        "to answer this question, we can use the count method, which counts the number of rows that have a value (the non-missing data!): "
      ]
    },
    {
      "cell_type": "code",
      "metadata": {
        "id": "hVG62O4LokNV"
      },
      "source": [
        "print((train.shape[0] - train.count()).to_string())"
      ],
      "execution_count": null,
      "outputs": []
    },
    {
      "cell_type": "markdown",
      "metadata": {
        "id": "Rqew3U08UmvN"
      },
      "source": [
        "There are missing values in the total_bedroom column. Let's check if there is something specific about these rows:"
      ]
    },
    {
      "cell_type": "code",
      "metadata": {
        "id": "7D4f1ZXiUuz_"
      },
      "source": [
        "train[train['total_bedrooms'].isna()]"
      ],
      "execution_count": null,
      "outputs": []
    },
    {
      "cell_type": "markdown",
      "metadata": {
        "id": "aZ3SkO13U8_4"
      },
      "source": [
        "We can't see much of a pattern. Let's look at the distribution of the data before we decide on an imputer!"
      ]
    },
    {
      "cell_type": "markdown",
      "metadata": {
        "id": "2wf5B3wrqqLf"
      },
      "source": [
        "### Data Distribution and Outliers"
      ]
    },
    {
      "cell_type": "markdown",
      "metadata": {
        "id": "SkT1BuwYqqLf"
      },
      "source": [
        "**What is the distribution of numerical/categorical data?**"
      ]
    },
    {
      "cell_type": "markdown",
      "metadata": {
        "id": "g49f-buKYX2m"
      },
      "source": [
        "Let's plot histograms of all the columns:"
      ]
    },
    {
      "cell_type": "code",
      "metadata": {
        "id": "qHgtbrqbyZWY"
      },
      "source": [
        "for column in train:\n",
        "    fig = px.histogram(train, x=column)\n",
        "    fig.update_layout(width=700, height=300)\n",
        "    fig.show()"
      ],
      "execution_count": null,
      "outputs": []
    },
    {
      "cell_type": "markdown",
      "metadata": {
        "id": "JdGYDHh1r71x"
      },
      "source": [
        "The following columns have a high frequency in their max values:\n",
        "\n",
        "- ``housing_median_age``\n",
        "- ``median_income``\n",
        "- ``median_house_value``\n",
        "\n",
        "It looks like the actual values haven't been collected beyond a certain threshold."
      ]
    },
    {
      "cell_type": "markdown",
      "metadata": {
        "id": "5oO6OUqCYJ1D"
      },
      "source": [
        "It's difficult to really visualize the data without a map. plotly express proposes several options for [maps](https://plotly.com/python/maps/). Let's have a closer look at the geographical distribution of our dataset:"
      ]
    },
    {
      "cell_type": "code",
      "metadata": {
        "id": "-mJh1au8Wl4Q"
      },
      "source": [
        "fig = px.scatter_mapbox(train, lat=\"latitude\", lon='longitude', color=\"median_house_value\", size=\"population\",\n",
        "                  color_continuous_scale=px.colors.cyclical.IceFire, size_max=15, zoom=5,\n",
        "                    mapbox_style=\"carto-positron\", hover_data = ['households', 'median_income'])\n",
        "fig.update_layout(width=1000, height=1000)\n",
        "fig.show()"
      ],
      "execution_count": null,
      "outputs": []
    },
    {
      "cell_type": "markdown",
      "metadata": {
        "id": "sxjKTgEw9fmp"
      },
      "source": [
        "The data set is indeed mapping into California, and both the broad patterns of population size and house  median Price make sense: like we expected, the population is high in big cities, and the houses are more expensive on the coast around big cities."
      ]
    },
    {
      "cell_type": "markdown",
      "metadata": {
        "id": "FVlEfD5QqqL4"
      },
      "source": [
        "**Are there clear outliers?**"
      ]
    },
    {
      "cell_type": "markdown",
      "metadata": {
        "id": "fIop9E8Pr7NS"
      },
      "source": [
        "We saw that some variables had very high frequencies in their max values, suggesting the data has been somehow cutoff. let's investigate these rows, to check if there are some obvious patterns:"
      ]
    },
    {
      "cell_type": "code",
      "metadata": {
        "id": "cY1K2rj7ZABi"
      },
      "source": [
        "train[train['median_house_value'] == 500001]"
      ],
      "execution_count": null,
      "outputs": []
    },
    {
      "cell_type": "markdown",
      "metadata": {
        "id": "hbOcfmExr8xq"
      },
      "source": [
        "there are no obvious trends.. let's have a look at the statistics of this matrix:"
      ]
    },
    {
      "cell_type": "code",
      "metadata": {
        "id": "d90gxMDcsFBA"
      },
      "source": [
        "train[train['median_house_value'] == 500001].describe(include='all',datetime_is_numeric=True)"
      ],
      "execution_count": null,
      "outputs": []
    },
    {
      "cell_type": "code",
      "metadata": {
        "id": "hIOm8njXZVaA"
      },
      "source": [
        "train[(train['housing_median_age'] == 52)]"
      ],
      "execution_count": null,
      "outputs": []
    },
    {
      "cell_type": "code",
      "metadata": {
        "id": "xw-d6NTJswVm"
      },
      "source": [
        "train[(train['housing_median_age'] == 52)].describe(include='all',datetime_is_numeric=True)"
      ],
      "execution_count": null,
      "outputs": []
    },
    {
      "cell_type": "code",
      "metadata": {
        "id": "uLFXRDjxZyyu"
      },
      "source": [
        "train[(train['median_income'] == 15.0001)]"
      ],
      "execution_count": null,
      "outputs": []
    },
    {
      "cell_type": "code",
      "metadata": {
        "id": "3M2ItiVKs6JS"
      },
      "source": [
        "train[(train['median_income'] == 15.0001)].describe(include='all',datetime_is_numeric=True)"
      ],
      "execution_count": null,
      "outputs": []
    },
    {
      "cell_type": "markdown",
      "metadata": {
        "id": "heJfp5d-qqL7"
      },
      "source": [
        "**Can we rule out some outliers as mistakes in the data collecting process?**"
      ]
    },
    {
      "cell_type": "markdown",
      "metadata": {
        "id": "HUJBo5dwrR9j"
      },
      "source": [
        "no."
      ]
    },
    {
      "cell_type": "markdown",
      "metadata": {
        "id": "TINtYuBVqqL7"
      },
      "source": [
        "**How should we deal with outliers?**"
      ]
    },
    {
      "cell_type": "markdown",
      "metadata": {
        "id": "wGZ5KtuqrTMh"
      },
      "source": [
        "If we use a linear model, we should get rid of these max values, as they will bias the model."
      ]
    },
    {
      "cell_type": "markdown",
      "metadata": {
        "id": "3r3GjnmeqqL7"
      },
      "source": [
        "### Relationship between features (correlations)\n",
        "\n",
        "**What are the relationships between features (make a pairplot)? Are they linear?**"
      ]
    },
    {
      "cell_type": "code",
      "metadata": {
        "id": "RyZ9MXRZr6Ew"
      },
      "source": [
        "train.corr().style.background_gradient(cmap='coolwarm')"
      ],
      "execution_count": null,
      "outputs": []
    },
    {
      "cell_type": "markdown",
      "metadata": {
        "id": "BMM0fii8r6Ex"
      },
      "source": [
        "Here is what we see:\n",
        "\n",
        "- The features 'total_rooms', 'total_bedrooms', 'population', 'households' are highly correlated with each other.\n",
        "- 'latitude' and 'longitude' also have a high correlation coefficient.\n",
        "- finally, the 'median_income' is highly correlated with the 'median_house_value'\n"
      ]
    },
    {
      "cell_type": "code",
      "metadata": {
        "id": "DHgoZaEZ7BjP"
      },
      "source": [
        "fig = px.scatter_matrix(train[['latitude','housing_median_age', 'total_rooms', 'median_income', 'median_house_value']])\n",
        "fig.show()"
      ],
      "execution_count": null,
      "outputs": []
    },
    {
      "cell_type": "markdown",
      "metadata": {
        "id": "s656Gjxk7uBK"
      },
      "source": [
        "The relationships of features to the median house value seem far from linear!"
      ]
    },
    {
      "cell_type": "markdown",
      "metadata": {
        "id": "OdxLyk3LqqMe"
      },
      "source": [
        "**What correlation coefficients should be computed?**"
      ]
    },
    {
      "cell_type": "markdown",
      "metadata": {
        "id": "9uNBac0DAYkA"
      },
      "source": [
        "Standard Pearson Correlation Coefficients are fine!"
      ]
    },
    {
      "cell_type": "markdown",
      "metadata": {
        "id": "TiqtwZ_FqqMf"
      },
      "source": [
        "**Is there risk of data leakage?**"
      ]
    },
    {
      "cell_type": "markdown",
      "metadata": {
        "id": "gkCPVE60rYxh"
      },
      "source": [
        "it does not appear to be the case here"
      ]
    },
    {
      "cell_type": "markdown",
      "metadata": {
        "id": "177obAoAqqMf"
      },
      "source": [
        "### Feature Creation and Combination\n",
        "\n"
      ]
    },
    {
      "cell_type": "markdown",
      "metadata": {
        "id": "zDVHaEV2qqMf"
      },
      "source": [
        "- **What kind of Scaling should we use/try?**\n",
        "- **Should we transform some features?**\n",
        "- **Should we drop some features?**\n",
        "- **Should we combine features?**"
      ]
    },
    {
      "cell_type": "markdown",
      "metadata": {
        "id": "fRKst8ylwBcP"
      },
      "source": [
        "In the preceding section, we saw that the features 'total_rooms', 'total_bedrooms', 'population', 'households' are highly correlated with each other.\n",
        "\n",
        "\n",
        "Let's have a look at how we could create more independant and meaningful features. For example we could have a look at the ratio between the total number of bedrooms and the total number of rooms. Likewise, we could compute the number of rooms per household and the number of people per household:\n"
      ]
    },
    {
      "cell_type": "code",
      "metadata": {
        "id": "CweUbRq5kPey"
      },
      "source": [
        "new_train = train.copy()"
      ],
      "execution_count": null,
      "outputs": []
    },
    {
      "cell_type": "code",
      "metadata": {
        "id": "CTsAtTq90tUO"
      },
      "source": [
        "new_train['bedroom_per_room'] = new_train['total_bedrooms']/new_train['total_rooms']\n",
        "new_train['rooms_per_household'] = new_train['total_rooms']/new_train['households']\n",
        "new_train['population_per_household'] = new_train['population']/new_train['households']"
      ],
      "execution_count": null,
      "outputs": []
    },
    {
      "cell_type": "markdown",
      "metadata": {
        "id": "2G-SiwXmPBTc"
      },
      "source": [
        "finally, let's get rid of \"outliers\": the maximum values of columns median_income, housing_median_age, and median_house_value: "
      ]
    },
    {
      "cell_type": "code",
      "metadata": {
        "id": "Zla-_Uf5Z2Yv"
      },
      "source": [
        "new_train = new_train[~(new_train['median_income'] == 15.0001)]\n",
        "new_train = new_train[~(new_train['housing_median_age'] == 52)]\n",
        "new_train = new_train[~(new_train['median_house_value'] == 500001)]"
      ],
      "execution_count": null,
      "outputs": []
    },
    {
      "cell_type": "code",
      "metadata": {
        "id": "5Fuk1ttfL22H"
      },
      "source": [
        "new_train.columns"
      ],
      "execution_count": null,
      "outputs": []
    },
    {
      "cell_type": "code",
      "metadata": {
        "id": "lINZYWbgNRrM"
      },
      "source": [
        "new_train = new_train[['longitude', 'latitude', 'housing_median_age', 'total_rooms',\n",
        "       'total_bedrooms', 'population', 'households', 'median_income', 'bedroom_per_room', 'rooms_per_household',\n",
        "       'population_per_household', 'median_house_value']]"
      ],
      "execution_count": null,
      "outputs": []
    },
    {
      "cell_type": "markdown",
      "metadata": {
        "id": "PMtWXeXKXXed"
      },
      "source": [
        "With these transformations, let's plot the correlation matrix again:"
      ]
    },
    {
      "cell_type": "code",
      "metadata": {
        "id": "3gAE0BtQ1QLq"
      },
      "source": [
        "new_train.corr().style.background_gradient(cmap='coolwarm')"
      ],
      "execution_count": null,
      "outputs": []
    },
    {
      "cell_type": "markdown",
      "metadata": {
        "id": "jIChuGHQqqMn"
      },
      "source": [
        "**_What do you observe?_**"
      ]
    },
    {
      "cell_type": "markdown",
      "metadata": {
        "id": "CYOylUUqQg05"
      },
      "source": [
        "Let's compare this correlation matrix with the correlation matrix we had last section:"
      ]
    },
    {
      "cell_type": "markdown",
      "metadata": {
        "id": "qVabEq7DQd-I"
      },
      "source": [
        "![image.png](data:image/png;base64,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)"
      ]
    },
    {
      "cell_type": "markdown",
      "metadata": {
        "id": "rK7S2nurrhTR"
      },
      "source": [
        "we have lower correlations between features with our feature transformations, and higher correlation with the target.\n",
        "\n",
        "For all the features that were not changed, we can see the correlations dropped due to getting rid of extreme valuesfor columns median_income, housing_median_age, and median_house_value"
      ]
    },
    {
      "cell_type": "markdown",
      "metadata": {
        "id": "CjlcSZLqqqMo"
      },
      "source": [
        "### Conclusion: Experimental setup and  Possible Feature Transformations"
      ]
    },
    {
      "cell_type": "markdown",
      "metadata": {
        "id": "Mym186lJqqMo"
      },
      "source": [
        "Let's wrap up on the exploratory data analysis and conclude. We should now be able to answer the following questions:\n",
        "\n",
        "- **What would be our baseline for the analysis?**\n",
        "- **What kind of modelling setup should we use/try?**\n",
        "- **What kind of Scaling should we use/try?**\n",
        "- **If outliers, what kind of treatment should we apply?**\n",
        "- **Should we transform some features?**\n",
        "- **Should we drop some features?**\n",
        "- **Should we combine features?**"
      ]
    },
    {
      "cell_type": "markdown",
      "metadata": {
        "id": "t0ajKsO1qqMo"
      },
      "source": [
        "In our baseline analysis, we could do a linear regression using the features created in the Feature Creation and Combination section, without the outliers.\n",
        "\n",
        "We should scale our features using a standard scaler and \n",
        "\n",
        "Finally, we could use a median imputer to fill NaN values in the total_bedroom column.\n",
        "\n",
        "At this stage, we can keep all the features we have."
      ]
    },
    {
      "cell_type": "markdown",
      "metadata": {
        "id": "h4WEfNY7qqMo"
      },
      "source": [
        "<a id='P2' name=\"P2\"></a>\n",
        "## [Modelling](#P0)"
      ]
    },
    {
      "cell_type": "code",
      "metadata": {
        "id": "0YWzJPYbEl7-"
      },
      "source": [
        "X_train, y_train = train.iloc[:,:-1], train.iloc[:,-1] "
      ],
      "execution_count": null,
      "outputs": []
    },
    {
      "cell_type": "code",
      "metadata": {
        "id": "F8ZWfhBgNtru"
      },
      "source": [
        "train_no_out = train.copy()\n",
        "train_no_out = train_no_out[~(train_no_out['median_income'] == 15.0001)]\n",
        "train_no_out = train_no_out[~(train_no_out['housing_median_age'] == 52)]\n",
        "train_no_out = train_no_out[~(train_no_out['median_house_value'] == 500001)]\n",
        "X_train_no_out, y_train_no_out = train_no_out.iloc[:,:-1], train_no_out.iloc[:,-1] "
      ],
      "execution_count": null,
      "outputs": []
    },
    {
      "cell_type": "markdown",
      "metadata": {
        "id": "Hiq5AIOEb7oH"
      },
      "source": [
        "### Base Model"
      ]
    },
    {
      "cell_type": "markdown",
      "metadata": {
        "id": "dZotbXFAeM5Q"
      },
      "source": [
        "#### Pipeline definition"
      ]
    },
    {
      "cell_type": "code",
      "metadata": {
        "id": "rzZbdgOuk87g"
      },
      "source": [
        "X_train.columns"
      ],
      "execution_count": null,
      "outputs": []
    },
    {
      "cell_type": "code",
      "metadata": {
        "id": "7PclLNkFjHsY"
      },
      "source": [
        "class FeaturesAdder(BaseEstimator, TransformerMixin):\n",
        "    def __init__(self): # no *args or **kargs\n",
        "        pass\n",
        "    def fit(self, X, y=None):\n",
        "        return self\n",
        "    def transform(self, X):\n",
        "        bedrooms_per_rooms = X[:, 4] / X[:, 3]\n",
        "        rooms_per_household = X[:, 3] / X[:, 6]\n",
        "        population_per_household = X[:, 5] / X[:, 6]\n",
        "        return np.c_[X, bedrooms_per_rooms, rooms_per_household, population_per_household]\n",
        "\n",
        "feature_adder = FeaturesAdder()"
      ],
      "execution_count": null,
      "outputs": []
    },
    {
      "cell_type": "code",
      "metadata": {
        "id": "aKt-WnDMb7oH"
      },
      "source": [
        "scaler = StandardScaler()\n",
        "imputer = SimpleImputer(strategy='median')\n",
        "regr = LinearRegression()\n",
        "model = Pipeline(steps=[('imputer', imputer),\n",
        "                        ('features', feature_adder), \n",
        "                        ('scaler', scaler),\n",
        "                        ('regressor', regr)])"
      ],
      "execution_count": null,
      "outputs": []
    },
    {
      "cell_type": "code",
      "metadata": {
        "id": "ISL1nz7hLEgz"
      },
      "source": [
        "model2 = Pipeline(steps=[('imputer', imputer),\n",
        "                        ('features', feature_adder), \n",
        "                         ('scaler', scaler),\n",
        "                        ('regressor', regr)])"
      ],
      "execution_count": null,
      "outputs": []
    },
    {
      "cell_type": "markdown",
      "metadata": {
        "id": "TFXUIu0Ub7oI"
      },
      "source": [
        "#### Model cross validation"
      ]
    },
    {
      "cell_type": "code",
      "metadata": {
        "id": "37jW1DrukWpL"
      },
      "source": [
        "cross_val_score(model, X_train, y_train)"
      ],
      "execution_count": null,
      "outputs": []
    },
    {
      "cell_type": "code",
      "metadata": {
        "id": "2ukG9jhQLUqh"
      },
      "source": [
        "cross_val_score(model2, X_train_no_out, y_train_no_out )"
      ],
      "execution_count": null,
      "outputs": []
    },
    {
      "cell_type": "markdown",
      "metadata": {
        "id": "KKRfPhiXkdz8"
      },
      "source": [
        "### Automl"
      ]
    },
    {
      "cell_type": "code",
      "metadata": {
        "id": "sEYQB36DkhGN"
      },
      "source": [
        "automl = autosklearn.regression.AutoSklearnRegressor(\n",
        "    time_left_for_this_task=600,\n",
        "    per_run_time_limit=30,\n",
        ")\n",
        "automl.fit(X_train, y_train)"
      ],
      "execution_count": null,
      "outputs": []
    },
    {
      "cell_type": "code",
      "metadata": {
        "id": "d18JiayFbrf4"
      },
      "source": [
        "profiler_data= PipelineProfiler.import_autosklearn(automl)\n",
        "PipelineProfiler.plot_pipeline_matrix(profiler_data)"
      ],
      "execution_count": null,
      "outputs": []
    },
    {
      "cell_type": "markdown",
      "metadata": {
        "id": "cz9Nu9Lgb7oJ"
      },
      "source": [
        "<a id='P2' name=\"P2\"></a>\n",
        "## [Model Evluation and Explainability](#P0)"
      ]
    },
    {
      "cell_type": "markdown",
      "metadata": {
        "id": "QFqCOQRkT9IG"
      },
      "source": [
        "Let's separate our test dataframe into a feature variable (X_test), and a target variable (y_test):"
      ]
    },
    {
      "cell_type": "code",
      "metadata": {
        "id": "NI3Jblr6E0Ti"
      },
      "source": [
        "X_test, y_test = test.iloc[:,:-1], test.iloc[:,-1]"
      ],
      "execution_count": null,
      "outputs": []
    },
    {
      "cell_type": "markdown",
      "metadata": {
        "id": "jAd7sBy5FPZk"
      },
      "source": [
        "#### Model Evaluation"
      ]
    },
    {
      "cell_type": "markdown",
      "metadata": {
        "id": "z3FY_CN2UJ3Z"
      },
      "source": [
        "Now, we can attempt to predict the median house value from our test set. To do that, we just use the .predict method on the object \"automl\" that we created and trained in the last sections:"
      ]
    },
    {
      "cell_type": "code",
      "metadata": {
        "id": "KZSB-vsr_n4c"
      },
      "source": [
        "y_pred = automl.predict(X_test)"
      ],
      "execution_count": null,
      "outputs": []
    },
    {
      "cell_type": "code",
      "metadata": {
        "id": "wSo98YbQnpFZ"
      },
      "source": [
        "y_pred"
      ],
      "execution_count": null,
      "outputs": []
    },
    {
      "cell_type": "markdown",
      "metadata": {
        "id": "9ayqqJU9UaGn"
      },
      "source": [
        "Let's now evaluate it using the mean_squared_error function from scikit learn:"
      ]
    },
    {
      "cell_type": "code",
      "metadata": {
        "id": "t9SPyU27b7oJ"
      },
      "source": [
        "mean_squared_error(y_test, y_pred)"
      ],
      "execution_count": null,
      "outputs": []
    },
    {
      "cell_type": "markdown",
      "metadata": {
        "id": "Gd3lbdi9Uph0"
      },
      "source": [
        "and the $R^2$ score:"
      ]
    },
    {
      "cell_type": "code",
      "metadata": {
        "id": "cH1g2GjLIEZp"
      },
      "source": [
        "automl.score(X_test, y_test)"
      ],
      "execution_count": null,
      "outputs": []
    },
    {
      "cell_type": "markdown",
      "metadata": {
        "id": "IcrrUloxU7B4"
      },
      "source": [
        "we can also plot the y_test vs y_pred scatter:"
      ]
    },
    {
      "cell_type": "code",
      "metadata": {
        "id": "xFCwsABoofEw"
      },
      "source": [
        "df = pd.DataFrame(np.concatenate((X_test, y_test.to_numpy().reshape(-1,1), y_pred.reshape(-1,1)),  axis=1))"
      ],
      "execution_count": null,
      "outputs": []
    },
    {
      "cell_type": "code",
      "metadata": {
        "id": "VEjXiboaykFV"
      },
      "source": [
        "df"
      ],
      "execution_count": null,
      "outputs": []
    },
    {
      "cell_type": "code",
      "metadata": {
        "id": "y11JqR-XoxOf"
      },
      "source": [
        "df.columns = ['longitude', 'latitude', 'housing_median_age', 'households',\n",
        "               'median_income', 'bedroom_per_room',\n",
        "               'rooms_per_household', 'population_per_household', 'True Target', 'Predicted Target']"
      ],
      "execution_count": null,
      "outputs": []
    },
    {
      "cell_type": "code",
      "metadata": {
        "id": "Bo2sZ8zjAeSf"
      },
      "source": [
        "column = 'median_income'\n",
        "sorted_df = df.sort_values(by=column)\n",
        "fig = px.scatter(df, x=column, y='True Target')\n",
        "fig.add_trace(go.Scatter(x=df[column], y=df['Predicted Target'],\n",
        "                    mode='markers',\n",
        "                    name='model'))\n",
        "fig.show()"
      ],
      "execution_count": null,
      "outputs": []
    },
    {
      "cell_type": "code",
      "metadata": {
        "id": "9UzcbD0pYmwY"
      },
      "source": [
        "fig = px.scatter(df, x='Predicted Target', y='True Target')\n",
        "fig.show()"
      ],
      "execution_count": null,
      "outputs": []
    },
    {
      "cell_type": "markdown",
      "metadata": {
        "id": "yMYUVvYbFUFP"
      },
      "source": [
        "#### Model Explainability"
      ]
    },
    {
      "cell_type": "code",
      "metadata": {
        "id": "v60Ykm7U1A9u"
      },
      "source": [
        "explainer = shap.KernelExplainer(model = automl.predict, data = X_test.iloc[:50, :], link = \"identity\")\n"
      ],
      "execution_count": null,
      "outputs": []
    },
    {
      "cell_type": "code",
      "metadata": {
        "id": "U-SbpmsB2SE_"
      },
      "source": [
        "# Set the index of the specific example to explain\n",
        "X_idx = 0\n",
        "shap_value_single = explainer.shap_values(X = X_test.iloc[X_idx:X_idx+1,:], nsamples = 100)\n",
        "X_test.iloc[X_idx:X_idx+1,:]\n",
        "# print the JS visualization code to the notebook\n",
        "shap.initjs()\n",
        "shap.force_plot(base_value = explainer.expected_value,\n",
        "                shap_values = shap_value_single,\n",
        "                features = X_test.iloc[X_idx:X_idx+1,:]\n",
        "                )"
      ],
      "execution_count": null,
      "outputs": []
    },
    {
      "cell_type": "code",
      "metadata": {
        "id": "RV5Vt2k-2l1P"
      },
      "source": [
        "shap_values = explainer.shap_values(X = X_test.iloc[0:50,:], nsamples = 100)"
      ],
      "execution_count": null,
      "outputs": []
    },
    {
      "cell_type": "code",
      "metadata": {
        "id": "r60XylOsOZRN"
      },
      "source": [
        "# print the JS visualization code to the notebook\n",
        "shap.initjs()\n",
        "shap.summary_plot(shap_values = shap_values,\n",
        "                  features = X_test.iloc[0:50,:]\n",
        "                  )"
      ],
      "execution_count": null,
      "outputs": []
    }
  ]
}