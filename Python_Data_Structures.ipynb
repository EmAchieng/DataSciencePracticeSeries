{
  "nbformat": 4,
  "nbformat_minor": 0,
  "metadata": {
    "kernelspec": {
      "display_name": "Python (data-science)",
      "language": "python",
      "name": "data-science"
    },
    "language_info": {
      "codemirror_mode": {
        "name": "ipython",
        "version": 3
      },
      "file_extension": ".py",
      "mimetype": "text/x-python",
      "name": "python",
      "nbconvert_exporter": "python",
      "pygments_lexer": "ipython3",
      "version": "3.7.6"
    },
    "colab": {
      "name": "Copy of SIT_W0D0_LC2_Python_Data_Structures.ipynb",
      "provenance": [],
      "collapsed_sections": [],
      "include_colab_link": true
    }
  },
  "cells": [
    {
      "cell_type": "markdown",
      "metadata": {
        "id": "view-in-github",
        "colab_type": "text"
      },
      "source": [
        "<a href=\"https://colab.research.google.com/github/EmAchieng/WWCodeDataSciencePracticeSeries/blob/master/Copy_of_SIT_W0D0_LC2_Python_Data_Structures.ipynb\" target=\"_parent\"><img src=\"https://colab.research.google.com/assets/colab-badge.svg\" alt=\"Open In Colab\"/></a>"
      ]
    },
    {
      "cell_type": "markdown",
      "metadata": {
        "tags": [
          "headers"
        ],
        "id": "rxqZAL__DCvt"
      },
      "source": [
        "<a id='Q0'></a>\n",
        "<center><a target=\"_blank\" href=\"http://www.propulsion.academy\"><img src=\"https://drive.google.com/uc?id=1McNxpNrSwfqu1w-QtlOmPSmfULvkkMQV\" width=\"200\" style=\"background:none; border:none; box-shadow:none;\" /></a> </center>\n",
        "<center> <h1> Tutorial 2, Preparation: Python Data Structures </h1> </center>\n",
        "<p style=\"margin-bottom:1cm;\"></p>\n",
        "<center><h4>Propulsion Academy, 2021</h4></center>\n",
        "<p style=\"margin-bottom:1cm;\"></p>\n",
        "\n",
        "<div style=\"background:#EEEDF5;border-top:0.1cm solid #EF475B;border-bottom:0.1cm solid #EF475B;\">\n",
        "    <div style=\"margin-left: 0.5cm;margin-top: 0.5cm;margin-bottom: 0.5cm;color:#303030\">\n",
        "        <p><strong>Goal:</strong> learn the most important data structures in Python and how to use them</p>\n",
        "        <strong> Outline:</strong>\n",
        "        <a id='P0' name=\"P0\"></a>\n",
        "        <ol>\n",
        "            <li> <a style=\"color:#303030\" href='#I'>Introduction </a> </li>\n",
        "            <li> <a style=\"color:#303030\" href='#P1'>Lists</a></li>\n",
        "            <li> <a style=\"color:#303030\" href='#P2'>Tuple</a></li>\n",
        "            <li> <a style=\"color:#303030\" href='#P3'>Dictionary</a></li>\n",
        "            <li> <a style=\"color:#303030\" href='#P4'>Set</a></li>\n",
        "            <li> <a style=\"color:#303030\" href='#P5'>Looping Techniques</a></li>\n",
        "            <li> <a style=\"color:#303030\" href='#P6'>Comprehensions</a></li>\n",
        "            <li> <a style=\"color:#303030\" href='#CL'>Conclusion</a></li>\n",
        "        </ol>\n",
        "        <strong>Topics Trained:</strong> list, dict, set, tuples\n",
        "    </div>\n",
        "</div>\n",
        "\n",
        "<nav style=\"text-align:right\"><strong>\n",
        "        <a style=\"color:#00BAE5\" href=\"https://monolith.propulsion-home.ch/backend/api/momentum/materials/intro-2-ds-materials/index.html\" title=\"momentum\"> Introduction to Data Science</a>|\n",
        "        <a style=\"color:#00BAE5\" href=\"https://monolith.propulsion-home.ch/backend/api/momentum/materials/intro-2-ds-materials/weeks/preparation/index.html\" title=\"momentum\">Course Preparation</a>|\n",
        "        <a style=\"color:#00BAE5\" href=\"https://monolith.propulsion-home.ch/backend/api/momentum/materials/intro-2-ds-materials/weeks/preparation/pages/SIT_W0D0_LC2_Python_Data_Structures.html\" title=\"momentum\"> Tutorial 2, Preparation: Python Data Structures</a>\n",
        "</strong></nav>"
      ]
    },
    {
      "cell_type": "markdown",
      "metadata": {
        "id": "oypvOtvmDCv_"
      },
      "source": [
        "<a id='I' name=\"I\"></a>\n",
        "## [Introduction](#P0)"
      ]
    },
    {
      "cell_type": "markdown",
      "metadata": {
        "id": "mZinFnJFDCwA"
      },
      "source": [
        "Data structures hold data together in a predefined structure or pattern.\n",
        "\n",
        "In Python, there are four built-in data structures:\n",
        "\n",
        "- lists\n",
        "- tuples\n",
        "- dictionaries\n",
        "- sets"
      ]
    },
    {
      "cell_type": "markdown",
      "metadata": {
        "id": "yqOsdiq6DCwA"
      },
      "source": [
        "<a id='P1' name=\"P1\"></a>\n",
        "## [Lists](#P0)"
      ]
    },
    {
      "cell_type": "markdown",
      "metadata": {
        "id": "CHVj-1QNDCwB"
      },
      "source": [
        "A list is a collection of items in a particular order. You can put any kind of item into the list. You can add, remove, and search for items in lists. Lists are one of the most common data types and you will use them on a daily basis. Theoretical computer science says, lists are a finite, ordered, and mutable sequence of elements."
      ]
    },
    {
      "cell_type": "markdown",
      "metadata": {
        "id": "Tgn8X3FIDCwJ"
      },
      "source": [
        "To define a list, you can group multiple items together by using the square brackets [ ] and the list of items, separated by commas:"
      ]
    },
    {
      "cell_type": "code",
      "metadata": {
        "colab": {
          "base_uri": "https://localhost:8080/"
        },
        "id": "EyPUy4evDCwL",
        "outputId": "60bbe42e-c246-4892-eb92-553d0d7a230b"
      },
      "source": [
        "fruits = ['apples', 'bananas', 'oranges', 'pineapples']\n",
        "print(fruits)"
      ],
      "execution_count": null,
      "outputs": [
        {
          "output_type": "stream",
          "text": [
            "['apples', 'bananas', 'oranges', 'pineapples']\n"
          ],
          "name": "stdout"
        }
      ]
    },
    {
      "cell_type": "code",
      "metadata": {
        "id": "AoJ9djD-DCwN"
      },
      "source": [
        "fruits[0] =\"kiwi\""
      ],
      "execution_count": null,
      "outputs": []
    },
    {
      "cell_type": "code",
      "metadata": {
        "id": "YmGGbHkpDCwN",
        "outputId": "df21bb75-f405-4a40-ca9c-7128559dda7e"
      },
      "source": [
        "fruits"
      ],
      "execution_count": null,
      "outputs": [
        {
          "output_type": "execute_result",
          "data": {
            "text/plain": [
              "['kiwi', 'bananas', 'oranges', 'pineapples']"
            ]
          },
          "metadata": {
            "tags": []
          },
          "execution_count": 3
        }
      ]
    },
    {
      "cell_type": "markdown",
      "metadata": {
        "id": "Yy7e5r9mDCwP"
      },
      "source": [
        "As written above, you can put any kind of data into lists:"
      ]
    },
    {
      "cell_type": "code",
      "metadata": {
        "id": "HM_XzIiTDCwQ",
        "outputId": "8f076e49-f9c7-4681-c632-17c9a865516e"
      },
      "source": [
        "# Empty list\n",
        "empty = []\n",
        "empty"
      ],
      "execution_count": null,
      "outputs": [
        {
          "output_type": "execute_result",
          "data": {
            "text/plain": [
              "[]"
            ]
          },
          "metadata": {
            "tags": []
          },
          "execution_count": 4
        }
      ]
    },
    {
      "cell_type": "code",
      "metadata": {
        "id": "Xu5sD5QpDCwQ",
        "outputId": "b44e6771-012d-4e99-ccb5-3cd3f81d2445"
      },
      "source": [
        "# Each element has a different type\n",
        "everything_goes = [1, 'A', 1.123, None]\n",
        "everything_goes"
      ],
      "execution_count": null,
      "outputs": [
        {
          "output_type": "execute_result",
          "data": {
            "text/plain": [
              "[1, 'A', 1.123, None]"
            ]
          },
          "metadata": {
            "tags": []
          },
          "execution_count": 5
        }
      ]
    },
    {
      "cell_type": "code",
      "metadata": {
        "id": "Cpq1c7MXDCwS",
        "outputId": "1ad50aa9-1d59-400e-d658-5d52f2b5998c"
      },
      "source": [
        "# you can even create a list of lists!\n",
        "list_of_lists = [ [\"Coop\", \"Migros\"], [1,2,3,4]]\n",
        "list_of_lists"
      ],
      "execution_count": null,
      "outputs": [
        {
          "output_type": "execute_result",
          "data": {
            "text/plain": [
              "[['Coop', 'Migros'], [1, 2, 3, 4]]"
            ]
          },
          "metadata": {
            "tags": []
          },
          "execution_count": 6
        }
      ]
    },
    {
      "cell_type": "code",
      "metadata": {
        "id": "LOMjqrCnDCwS",
        "outputId": "e50f468b-41dc-4d9f-c1e8-9751d270e726"
      },
      "source": [
        "list_of_lists[0][0]"
      ],
      "execution_count": null,
      "outputs": [
        {
          "output_type": "execute_result",
          "data": {
            "text/plain": [
              "'Coop'"
            ]
          },
          "metadata": {
            "tags": []
          },
          "execution_count": 7
        }
      ]
    },
    {
      "cell_type": "code",
      "metadata": {
        "id": "OfUdTxtlDCwT",
        "outputId": "1a4687f6-da1d-47ec-a9be-b332f9ed06a7"
      },
      "source": [
        "# this is a similar way to create a list of lists\n",
        "shops = [\"Coop\", \"Migros\"]\n",
        "numbers = [1,2,3,4]\n",
        "list_of_lists = [shops, numbers]\n",
        "list_of_lists"
      ],
      "execution_count": null,
      "outputs": [
        {
          "output_type": "execute_result",
          "data": {
            "text/plain": [
              "[['Coop', 'Migros'], [1, 2, 3, 4]]"
            ]
          },
          "metadata": {
            "tags": []
          },
          "execution_count": 9
        }
      ]
    },
    {
      "cell_type": "markdown",
      "metadata": {
        "id": "OSB00zLgDCwW"
      },
      "source": [
        "### Accessing Element in a List"
      ]
    },
    {
      "cell_type": "markdown",
      "metadata": {
        "id": "kz0AinpHDCwX"
      },
      "source": [
        "Lists are ordered collections. You can access any element in a list by telling Python the position (index) of the desired item. Similar to strings, you can use negative numbers to start counting from the back of the list. You can also use the slicing operator [:] to get longer parts of the list."
      ]
    },
    {
      "cell_type": "markdown",
      "metadata": {
        "id": "B2V383LDDCwY"
      },
      "source": [
        "<div style=\"background:#EEEDF5;border:0.1cm solid #EF475B;color:#303030\">\n",
        "    <div style=\"margin: 0.2cm 0.2cm 0.2cm 0.2cm\">\n",
        "        <b style=\"color:#EF475B\">Warning:</b> \n",
        "       Index positions start at 0, not 1!\n",
        "    </div>\n",
        "</div>"
      ]
    },
    {
      "cell_type": "code",
      "metadata": {
        "id": "wnUwFTRdDCwZ"
      },
      "source": [
        "fruits = ['apples', 'bananas', 'oranges', 'pineapples']"
      ],
      "execution_count": null,
      "outputs": []
    },
    {
      "cell_type": "code",
      "metadata": {
        "id": "2c879X8KDCwa",
        "outputId": "99004e80-b696-4127-98f3-8740e2294070"
      },
      "source": [
        "# normal access\n",
        "fruits[1]  # 'bananas'"
      ],
      "execution_count": null,
      "outputs": [
        {
          "output_type": "execute_result",
          "data": {
            "text/plain": [
              "'bananas'"
            ]
          },
          "metadata": {
            "tags": []
          },
          "execution_count": 11
        }
      ]
    },
    {
      "cell_type": "code",
      "metadata": {
        "id": "VQ9re_WzDCwa",
        "outputId": "0b591229-360c-46bd-c894-3444b184accc"
      },
      "source": [
        "fruits[-2] # 'pineapples'"
      ],
      "execution_count": null,
      "outputs": [
        {
          "output_type": "execute_result",
          "data": {
            "text/plain": [
              "'oranges'"
            ]
          },
          "metadata": {
            "tags": []
          },
          "execution_count": 12
        }
      ]
    },
    {
      "cell_type": "code",
      "metadata": {
        "id": "1TRFR-n2DCwd",
        "outputId": "1c8b3c2f-7762-4496-b6ab-c0a590b59834"
      },
      "source": [
        "# slicing\n",
        "fruits[:2] # ['apples', 'bananas']"
      ],
      "execution_count": null,
      "outputs": [
        {
          "output_type": "execute_result",
          "data": {
            "text/plain": [
              "['apples', 'bananas']"
            ]
          },
          "metadata": {
            "tags": []
          },
          "execution_count": 13
        }
      ]
    },
    {
      "cell_type": "code",
      "metadata": {
        "id": "E4zPD3gcDCwf",
        "outputId": "abf8c6e7-5b4b-493e-af6c-1c13c0237a85"
      },
      "source": [
        "fruits"
      ],
      "execution_count": null,
      "outputs": [
        {
          "output_type": "execute_result",
          "data": {
            "text/plain": [
              "['apples', 'bananas', 'oranges', 'pineapples']"
            ]
          },
          "metadata": {
            "tags": []
          },
          "execution_count": 14
        }
      ]
    },
    {
      "cell_type": "code",
      "metadata": {
        "id": "CTWUBNshDCwg",
        "outputId": "a71b9960-42fb-41b5-9b82-dec4138bc3b8"
      },
      "source": [
        "fruits[1:-1] # ['bananas', 'oranges']"
      ],
      "execution_count": null,
      "outputs": [
        {
          "output_type": "execute_result",
          "data": {
            "text/plain": [
              "['bananas', 'oranges']"
            ]
          },
          "metadata": {
            "tags": []
          },
          "execution_count": 15
        }
      ]
    },
    {
      "cell_type": "code",
      "metadata": {
        "id": "yxtaXI6SDCwh",
        "outputId": "dfa20718-72bb-49ab-9098-1ba8cb8fa901"
      },
      "source": [
        "# accessing lists within lists\n",
        "list_of_lists = [ [\"Coop\", \"Migros\"], [1,2,3,4]]\n",
        "\n",
        "list_of_lists[0]    # [\"Coop\", \"Migros\"]"
      ],
      "execution_count": null,
      "outputs": [
        {
          "output_type": "execute_result",
          "data": {
            "text/plain": [
              "['Coop', 'Migros']"
            ]
          },
          "metadata": {
            "tags": []
          },
          "execution_count": 16
        }
      ]
    },
    {
      "cell_type": "code",
      "metadata": {
        "id": "UD56sdpMDCwi",
        "outputId": "a67e513e-e133-438c-b538-82676160c0b7"
      },
      "source": [
        "list_of_lists[0][1] # \"Migros\""
      ],
      "execution_count": null,
      "outputs": [
        {
          "output_type": "execute_result",
          "data": {
            "text/plain": [
              "'Migros'"
            ]
          },
          "metadata": {
            "tags": []
          },
          "execution_count": 17
        }
      ]
    },
    {
      "cell_type": "code",
      "metadata": {
        "id": "ciEQ6OFjDCwi",
        "outputId": "7dbe7003-ec01-457a-f387-4fd16ca4d0d6"
      },
      "source": [
        "list_of_lists[1][1:-1] # [2,3]"
      ],
      "execution_count": null,
      "outputs": [
        {
          "output_type": "execute_result",
          "data": {
            "text/plain": [
              "[2, 3]"
            ]
          },
          "metadata": {
            "tags": []
          },
          "execution_count": 18
        }
      ]
    },
    {
      "cell_type": "markdown",
      "metadata": {
        "id": "E8K__bOuDCwk"
      },
      "source": [
        "### Modifying Individual Entries in a List"
      ]
    },
    {
      "cell_type": "markdown",
      "metadata": {
        "id": "nm0me09YDCwm"
      },
      "source": [
        "To change/update an element of a list, you have to use the name of the list and the index of the element you want to change/update. The change happens by assigning the new value to the item."
      ]
    },
    {
      "cell_type": "code",
      "metadata": {
        "id": "JtgExENLDCwq",
        "outputId": "4b7fb6d7-6b15-4c94-ae3b-2ea9c46b7eff"
      },
      "source": [
        "fruits = ['apples', 'bananas', 'oranges', 'pineapples']\n",
        "fruits"
      ],
      "execution_count": null,
      "outputs": [
        {
          "output_type": "execute_result",
          "data": {
            "text/plain": [
              "['apples', 'bananas', 'oranges', 'pineapples']"
            ]
          },
          "metadata": {
            "tags": []
          },
          "execution_count": 19
        }
      ]
    },
    {
      "cell_type": "code",
      "metadata": {
        "id": "gzAetHubDCwr",
        "outputId": "68f47945-5ed4-4760-8627-94fa68ede08f"
      },
      "source": [
        "fruits[0] = 'berries'\n",
        "print(fruits)"
      ],
      "execution_count": null,
      "outputs": [
        {
          "output_type": "stream",
          "text": [
            "['berries', 'bananas', 'oranges', 'pineapples']\n"
          ],
          "name": "stdout"
        }
      ]
    },
    {
      "cell_type": "markdown",
      "metadata": {
        "id": "KomWZTPWDCws"
      },
      "source": [
        "### More Methods for Lists"
      ]
    },
    {
      "cell_type": "markdown",
      "metadata": {
        "id": "tSO7Rl0fDCws"
      },
      "source": [
        "There are many more operations that can be performed on the list data type.\n",
        "\n",
        "You can get the number of element within a list by using **len(variable)**:"
      ]
    },
    {
      "cell_type": "code",
      "metadata": {
        "id": "9h0lfEnXDCwt",
        "outputId": "f1b5869b-31eb-4d82-fff6-77166c56f999"
      },
      "source": [
        "len(['a','b','c'])"
      ],
      "execution_count": null,
      "outputs": [
        {
          "output_type": "execute_result",
          "data": {
            "text/plain": [
              "3"
            ]
          },
          "metadata": {
            "tags": []
          },
          "execution_count": 22
        }
      ]
    },
    {
      "cell_type": "markdown",
      "metadata": {
        "id": "8Zy3BxOgDCwu"
      },
      "source": [
        "If you want to add an element to the end of the list, you can use **.append(new_element)**:"
      ]
    },
    {
      "cell_type": "code",
      "metadata": {
        "id": "zXsqMxsDDCwu",
        "outputId": "6dbfae43-efd7-46b7-a00e-b89945d0c93b"
      },
      "source": [
        "numbers = [1,2,3]\n",
        "numbers.append(4)\n",
        "numbers.append(5)\n",
        "\n",
        "print(numbers)"
      ],
      "execution_count": null,
      "outputs": [
        {
          "output_type": "stream",
          "text": [
            "[1, 2, 3, 4, 5]\n"
          ],
          "name": "stdout"
        }
      ]
    },
    {
      "cell_type": "markdown",
      "metadata": {
        "id": "GmKtTUp3DCww"
      },
      "source": [
        "You can add a new element at any position in your list by using the **.insert(index, new_element)**"
      ]
    },
    {
      "cell_type": "code",
      "metadata": {
        "id": "4NnMpvweDCww",
        "outputId": "9a8727e8-67ba-4b32-f0f2-0a8a3e81b4c0"
      },
      "source": [
        "numbers = [1,2,3]\n",
        "numbers.insert(1, 'a')\n",
        "\n",
        "print(numbers)"
      ],
      "execution_count": null,
      "outputs": [
        {
          "output_type": "stream",
          "text": [
            "[1, 'a', 2, 3]\n"
          ],
          "name": "stdout"
        }
      ]
    },
    {
      "cell_type": "markdown",
      "metadata": {
        "id": "AvXLDduhDCwx"
      },
      "source": [
        "You can find and remove the first occurrence of a value using **.remove(value)**:"
      ]
    },
    {
      "cell_type": "code",
      "metadata": {
        "id": "tyAmb11SDCwx"
      },
      "source": [
        "numbers = ['a','b','c']\n",
        "\n",
        "numbers.remove('b')"
      ],
      "execution_count": null,
      "outputs": []
    },
    {
      "cell_type": "code",
      "metadata": {
        "id": "UZNHy6XMDCwx",
        "outputId": "67fafbbb-be84-412a-c09e-10d298bb6e7f"
      },
      "source": [
        "numbers"
      ],
      "execution_count": null,
      "outputs": [
        {
          "output_type": "execute_result",
          "data": {
            "text/plain": [
              "['a', 'c']"
            ]
          },
          "metadata": {
            "tags": []
          },
          "execution_count": 26
        }
      ]
    },
    {
      "cell_type": "code",
      "metadata": {
        "id": "39beaPqJDCwy",
        "outputId": "fa43fe15-010a-4f92-b1cd-1634930b9211"
      },
      "source": [
        "numbers.remove('x') # => ValueError"
      ],
      "execution_count": null,
      "outputs": [
        {
          "output_type": "error",
          "ename": "ValueError",
          "evalue": "list.remove(x): x not in list",
          "traceback": [
            "\u001b[0;31m---------------------------------------------------------------------------\u001b[0m",
            "\u001b[0;31mValueError\u001b[0m                                Traceback (most recent call last)",
            "\u001b[0;32m<ipython-input-27-00661c841c3c>\u001b[0m in \u001b[0;36m<module>\u001b[0;34m\u001b[0m\n\u001b[0;32m----> 1\u001b[0;31m \u001b[0mnumbers\u001b[0m\u001b[0;34m.\u001b[0m\u001b[0mremove\u001b[0m\u001b[0;34m(\u001b[0m\u001b[0;34m'x'\u001b[0m\u001b[0;34m)\u001b[0m \u001b[0;31m# => ValueError\u001b[0m\u001b[0;34m\u001b[0m\u001b[0;34m\u001b[0m\u001b[0m\n\u001b[0m",
            "\u001b[0;31mValueError\u001b[0m: list.remove(x): x not in list"
          ]
        }
      ]
    },
    {
      "cell_type": "markdown",
      "metadata": {
        "id": "9Qw-Kj7hDCwy"
      },
      "source": [
        "You can remove all items of a list using **.clear()**:"
      ]
    },
    {
      "cell_type": "code",
      "metadata": {
        "id": "sWY7GPyPDCwy",
        "outputId": "3ec7f87b-76c0-41bf-a994-c7f137084994"
      },
      "source": [
        "languages = ['C++', 'Python', 'JavaScript', 'Java']\n",
        "languages.clear()\n",
        "print(languages)"
      ],
      "execution_count": null,
      "outputs": [
        {
          "output_type": "stream",
          "text": [
            "[]\n"
          ],
          "name": "stdout"
        }
      ]
    },
    {
      "cell_type": "markdown",
      "metadata": {
        "id": "Kc_mOqfDDCwz"
      },
      "source": [
        "Other operations include:\n",
        "\n",
        "1. `.count`\n",
        "2. `.index`\n",
        "3. `.sort`\n",
        "4. `.reverse`\n",
        "\n",
        "Try them out!"
      ]
    },
    {
      "cell_type": "code",
      "metadata": {
        "id": "GiW31d7yDCwz"
      },
      "source": [
        "# Return number of occurrences of value\n",
        "my_list.count(value)\n",
        "\n",
        "# Return first index of value, or raise ValueError\n",
        "my_list.index(value, [start, [stop]])\n",
        "\n",
        "# Remove, return item at index (def. last) or IndexError\n",
        "my_list.pop([index])\n",
        "\n",
        "# Stable sort *in place*\n",
        "my_list.sort(key=None, reverse=False)\n",
        "\n",
        "# Reverse *in place*.\n",
        "my_list.reverse()"
      ],
      "execution_count": null,
      "outputs": []
    },
    {
      "cell_type": "markdown",
      "metadata": {
        "id": "cP6VrV3cDCw0"
      },
      "source": [
        "### Side note on Iterables"
      ]
    },
    {
      "cell_type": "markdown",
      "metadata": {
        "id": "nRD-08ZEDCw0"
      },
      "source": [
        "A list is an iterable data type. Iterable means that you can go through each item in sequential order, like this:"
      ]
    },
    {
      "cell_type": "code",
      "metadata": {
        "id": "KVaGTdDSDCw1",
        "outputId": "006d8c07-393d-4a79-e503-154c8c74b706"
      },
      "source": [
        "languages = ['C++', 'Python', 'JavaScript', 'Java']\n",
        "for lang in languages:\n",
        "    print(lang)"
      ],
      "execution_count": null,
      "outputs": [
        {
          "output_type": "stream",
          "text": [
            "C++\n",
            "Python\n",
            "JavaScript\n",
            "Java\n"
          ],
          "name": "stdout"
        }
      ]
    },
    {
      "cell_type": "markdown",
      "metadata": {
        "id": "QYIyNxqODCw2"
      },
      "source": [
        "There are other data types that are iterable. One of them is the data type string, which you saw earlier. Others iterables will be coming later on in this document.\n",
        "\n",
        "Iterables support some general queries:"
      ]
    },
    {
      "cell_type": "code",
      "metadata": {
        "id": "yanMR26rDCw3",
        "outputId": "f4216e09-55a7-4176-c92e-d20d5ef7092b"
      },
      "source": [
        "# Length (len)\n",
        "len([])"
      ],
      "execution_count": null,
      "outputs": [
        {
          "output_type": "execute_result",
          "data": {
            "text/plain": [
              "0"
            ]
          },
          "metadata": {
            "tags": []
          },
          "execution_count": 32
        }
      ]
    },
    {
      "cell_type": "code",
      "metadata": {
        "id": "w0GjmgbGDCw3",
        "outputId": "97210b05-6d20-41fc-a434-2b5ecd7b9a7a"
      },
      "source": [
        "len(\"python\")"
      ],
      "execution_count": null,
      "outputs": [
        {
          "output_type": "execute_result",
          "data": {
            "text/plain": [
              "6"
            ]
          },
          "metadata": {
            "tags": []
          },
          "execution_count": 36
        }
      ]
    },
    {
      "cell_type": "code",
      "metadata": {
        "id": "Zo6YL7UfDCw4",
        "outputId": "381119df-4f30-46ed-cf8f-88fc14b88fd3"
      },
      "source": [
        "len([4,5,\"seconds\"])"
      ],
      "execution_count": null,
      "outputs": [
        {
          "output_type": "execute_result",
          "data": {
            "text/plain": [
              "3"
            ]
          },
          "metadata": {
            "tags": []
          },
          "execution_count": 37
        }
      ]
    },
    {
      "cell_type": "code",
      "metadata": {
        "id": "s3fLPhNdDCw5",
        "outputId": "cabe166e-5d63-48ab-f60d-d8f03f619f34"
      },
      "source": [
        "# Membership (in)\n",
        "0 in []"
      ],
      "execution_count": null,
      "outputs": [
        {
          "output_type": "execute_result",
          "data": {
            "text/plain": [
              "False"
            ]
          },
          "metadata": {
            "tags": []
          },
          "execution_count": 38
        }
      ]
    },
    {
      "cell_type": "code",
      "metadata": {
        "id": "P9p-86NEDCw5",
        "outputId": "49874e96-4f78-4877-8e1c-1ae681f11f96"
      },
      "source": [
        "'y' in 'python'"
      ],
      "execution_count": null,
      "outputs": [
        {
          "output_type": "execute_result",
          "data": {
            "text/plain": [
              "True"
            ]
          },
          "metadata": {
            "tags": []
          },
          "execution_count": 39
        }
      ]
    },
    {
      "cell_type": "code",
      "metadata": {
        "id": "im4AwTQIDCw6",
        "outputId": "e04651ed-f098-43f1-e109-4d2bf894c22a"
      },
      "source": [
        "'seconds' in [4, 5, 'seconds']"
      ],
      "execution_count": null,
      "outputs": [
        {
          "output_type": "execute_result",
          "data": {
            "text/plain": [
              "True"
            ]
          },
          "metadata": {
            "tags": []
          },
          "execution_count": 40
        }
      ]
    },
    {
      "cell_type": "markdown",
      "metadata": {
        "id": "D4nEye8CDCw6"
      },
      "source": [
        "<a id='P2' name=\"P2\"></a>\n",
        "## [Tuple](#P0)"
      ]
    },
    {
      "cell_type": "markdown",
      "metadata": {
        "id": "-LDB9L8ADCw7"
      },
      "source": [
        "Tuples are used to hold together multiple objects. They are similar to lists, however they are immutable sequences.\n",
        "This means that once they are defined you cannot delete, add, or edit any values inside of it. Tuples are also iterables."
      ]
    },
    {
      "cell_type": "markdown",
      "metadata": {
        "id": "KqBY-DTcDCw7"
      },
      "source": [
        "### Defining a tuple"
      ]
    },
    {
      "cell_type": "markdown",
      "metadata": {
        "id": "CqtcrighDCw7"
      },
      "source": [
        "A tuple looks just like a list, except you use parentheses instead of square brackets. Once you define a tuple, you can access individual elements by using each item’s index, just as you would for a list."
      ]
    },
    {
      "cell_type": "code",
      "metadata": {
        "id": "GmmhVnboDCw8"
      },
      "source": [
        "rect = [200, 100]"
      ],
      "execution_count": null,
      "outputs": []
    },
    {
      "cell_type": "code",
      "metadata": {
        "id": "jyxX-AzNDCw8"
      },
      "source": [
        "rect[0] = 20"
      ],
      "execution_count": null,
      "outputs": []
    },
    {
      "cell_type": "code",
      "metadata": {
        "id": "oYKaHnYsDCw-"
      },
      "source": [
        "rect = (200, 100)"
      ],
      "execution_count": null,
      "outputs": []
    },
    {
      "cell_type": "code",
      "metadata": {
        "id": "boVVGP08DCw-",
        "outputId": "2a29df73-be73-4fef-bda3-310a331909e3"
      },
      "source": [
        "print(rect[0])\n",
        "print(rect[1])"
      ],
      "execution_count": null,
      "outputs": [
        {
          "output_type": "stream",
          "text": [
            "200\n",
            "100\n"
          ],
          "name": "stdout"
        }
      ]
    },
    {
      "cell_type": "code",
      "metadata": {
        "id": "K_I0Lcz3DCw_",
        "outputId": "8dd5bab9-f020-4c89-8b59-27f1acd348a3"
      },
      "source": [
        "rect[0] = 0  # TypeError"
      ],
      "execution_count": null,
      "outputs": [
        {
          "output_type": "error",
          "ename": "TypeError",
          "evalue": "'tuple' object does not support item assignment",
          "traceback": [
            "\u001b[0;31m---------------------------------------------------------------------------\u001b[0m",
            "\u001b[0;31mTypeError\u001b[0m                                 Traceback (most recent call last)",
            "\u001b[0;32m<ipython-input-54-901ab25651ac>\u001b[0m in \u001b[0;36m<module>\u001b[0;34m\u001b[0m\n\u001b[0;32m----> 1\u001b[0;31m \u001b[0mrect\u001b[0m\u001b[0;34m[\u001b[0m\u001b[0;36m0\u001b[0m\u001b[0;34m]\u001b[0m \u001b[0;34m=\u001b[0m \u001b[0;36m0\u001b[0m  \u001b[0;31m# TypeError\u001b[0m\u001b[0;34m\u001b[0m\u001b[0;34m\u001b[0m\u001b[0m\n\u001b[0m",
            "\u001b[0;31mTypeError\u001b[0m: 'tuple' object does not support item assignment"
          ]
        }
      ]
    },
    {
      "cell_type": "code",
      "metadata": {
        "id": "1TpYopMVDCxA",
        "outputId": "0977f0a3-2871-4b4c-d1c2-9dccb3807195"
      },
      "source": [
        "len(rect)"
      ],
      "execution_count": null,
      "outputs": [
        {
          "output_type": "execute_result",
          "data": {
            "text/plain": [
              "2"
            ]
          },
          "metadata": {
            "tags": []
          },
          "execution_count": 55
        }
      ]
    },
    {
      "cell_type": "code",
      "metadata": {
        "id": "CHJ4_HRwDCxB",
        "outputId": "51250648-7684-45a0-fe0d-a6a080d1fea0"
      },
      "source": [
        "200 in rect"
      ],
      "execution_count": null,
      "outputs": [
        {
          "output_type": "execute_result",
          "data": {
            "text/plain": [
              "True"
            ]
          },
          "metadata": {
            "tags": []
          },
          "execution_count": 56
        }
      ]
    },
    {
      "cell_type": "markdown",
      "metadata": {
        "id": "wPfAviO4DCxB"
      },
      "source": [
        "### Looping the tuple"
      ]
    },
    {
      "cell_type": "code",
      "metadata": {
        "id": "pdEgF6gLDCxC",
        "outputId": "20fbf9f0-ccdb-4583-a744-9fa15ddbaff1"
      },
      "source": [
        "for values in rect:\n",
        "    print(values)"
      ],
      "execution_count": null,
      "outputs": [
        {
          "output_type": "stream",
          "text": [
            "200\n",
            "100\n"
          ],
          "name": "stdout"
        }
      ]
    },
    {
      "cell_type": "markdown",
      "metadata": {
        "id": "OdhY6VvoDCxC"
      },
      "source": [
        "### Tuple packing and unpacking\n",
        "\n",
        "Packing and unpacking are very powerful concepts for writing short code."
      ]
    },
    {
      "cell_type": "code",
      "metadata": {
        "id": "ypZZ2SHiDCxD",
        "outputId": "bcb1f689-a923-4441-d4ad-e45a0ba83053"
      },
      "source": [
        "t = 'a', 'b', 'c' # => converted to tuple\n",
        "print(t) # => ('a', 'b', 'c')\n",
        "type(t)  # => tuple"
      ],
      "execution_count": null,
      "outputs": [
        {
          "output_type": "stream",
          "text": [
            "('a', 'b', 'c')\n"
          ],
          "name": "stdout"
        },
        {
          "output_type": "execute_result",
          "data": {
            "text/plain": [
              "tuple"
            ]
          },
          "metadata": {
            "tags": []
          },
          "execution_count": 58
        }
      ]
    },
    {
      "cell_type": "code",
      "metadata": {
        "id": "bJDC-WCmDCxD",
        "outputId": "1aceb3cf-a67a-46a7-efba-b36bec2b1786"
      },
      "source": [
        "x,y,z = t\n",
        "print(x) # => 'a'\n",
        "print(y) # => 'b'\n",
        "print(z) # => 'c'"
      ],
      "execution_count": null,
      "outputs": [
        {
          "output_type": "stream",
          "text": [
            "a\n",
            "b\n",
            "c\n"
          ],
          "name": "stdout"
        }
      ]
    },
    {
      "cell_type": "markdown",
      "metadata": {
        "id": "iomnY-gyDCxD"
      },
      "source": [
        "Tuple packing is often used to return multiple values from a function:"
      ]
    },
    {
      "cell_type": "code",
      "metadata": {
        "id": "pmrPCTRqDCxE"
      },
      "source": [
        "def greet(name):\n",
        "    hello = f\"Hello {name}\"\n",
        "    length = len(name)\n",
        "    return (hello, length)\n",
        "\n",
        "message, name_length = greet('Laurent')"
      ],
      "execution_count": null,
      "outputs": []
    },
    {
      "cell_type": "code",
      "metadata": {
        "id": "YqpNAH8UDCxE",
        "outputId": "5e3d6dc7-2e95-43bb-c01b-d8e4559de401"
      },
      "source": [
        "message"
      ],
      "execution_count": null,
      "outputs": [
        {
          "output_type": "execute_result",
          "data": {
            "text/plain": [
              "'Hello Laurent'"
            ]
          },
          "metadata": {
            "tags": []
          },
          "execution_count": 61
        }
      ]
    },
    {
      "cell_type": "code",
      "metadata": {
        "id": "I9CQelPVDCxF",
        "outputId": "61090b2b-a58e-41d9-cc4d-4a62c1ca1988"
      },
      "source": [
        "name_length"
      ],
      "execution_count": null,
      "outputs": [
        {
          "output_type": "execute_result",
          "data": {
            "text/plain": [
              "7"
            ]
          },
          "metadata": {
            "tags": []
          },
          "execution_count": 62
        }
      ]
    },
    {
      "cell_type": "markdown",
      "metadata": {
        "id": "fa4Uo2h1DCxG"
      },
      "source": [
        "If you want to swap two values, you can do it with packing."
      ]
    },
    {
      "cell_type": "code",
      "metadata": {
        "id": "8ld1ic1RDCxH",
        "outputId": "708a419d-871f-4a9c-c3a9-c58103248af9"
      },
      "source": [
        "x"
      ],
      "execution_count": null,
      "outputs": [
        {
          "output_type": "execute_result",
          "data": {
            "text/plain": [
              "'a'"
            ]
          },
          "metadata": {
            "tags": []
          },
          "execution_count": 63
        }
      ]
    },
    {
      "cell_type": "code",
      "metadata": {
        "id": "3BR-PRifDCxI",
        "outputId": "9a2eaadf-84a1-405d-9120-932cf2bbb3dd"
      },
      "source": [
        "y"
      ],
      "execution_count": null,
      "outputs": [
        {
          "output_type": "execute_result",
          "data": {
            "text/plain": [
              "'b'"
            ]
          },
          "metadata": {
            "tags": []
          },
          "execution_count": 64
        }
      ]
    },
    {
      "cell_type": "code",
      "metadata": {
        "id": "Ez4bgzEPDCxJ"
      },
      "source": [
        "# swap two variables x and y, without using packing\n",
        "temp = x\n",
        "x = y\n",
        "y = temp\n",
        "\n",
        "# same procedure, this time using packing\n",
        "y, x = x, y"
      ],
      "execution_count": null,
      "outputs": []
    },
    {
      "cell_type": "markdown",
      "metadata": {
        "id": "l71uSVGUDCxJ"
      },
      "source": [
        "<a id='P3' name=\"P3\"></a>\n",
        "## [Dictionaries](#P0)"
      ]
    },
    {
      "cell_type": "markdown",
      "metadata": {
        "id": "VdGoAROrDCxJ"
      },
      "source": [
        "### Basics"
      ]
    },
    {
      "cell_type": "markdown",
      "metadata": {
        "id": "uVQaPbF3DCxK"
      },
      "source": [
        "Dictionaries allow you to connect pieces of related information. It is a key-value system, in which you can save data with a specific name.\n",
        "Imagine you have to build a phone book: a dictionary would be the perfect data structure for the job.\n",
        "The name of the person would be the key, the phone number would be the value."
      ]
    },
    {
      "cell_type": "markdown",
      "metadata": {
        "id": "2mRsC0liDCxK"
      },
      "source": [
        "In computer science terms: dictionaries are mutable maps, they map hashable values to arbitrary objects."
      ]
    },
    {
      "cell_type": "code",
      "metadata": {
        "id": "hPEySmVxDCxL"
      },
      "source": [
        "mydict = {\"myvar1\": [1,3,4], \"myvar2\": \"No\" }"
      ],
      "execution_count": null,
      "outputs": []
    },
    {
      "cell_type": "code",
      "metadata": {
        "id": "c6x2jGcnDCxL"
      },
      "source": [
        "mydict = {0: [1,3,4], \"myvar2\": \"No\" }"
      ],
      "execution_count": null,
      "outputs": []
    },
    {
      "cell_type": "code",
      "metadata": {
        "id": "KoImtv42DCxL"
      },
      "source": [
        "phonebook = {\n",
        "  \"Laurent Meyer\": \"+41 79 22 33 789\",\n",
        "  \"Laurent Hoxhaj\": \"+41 78 98 65 554\"\n",
        "}"
      ],
      "execution_count": null,
      "outputs": []
    },
    {
      "cell_type": "code",
      "metadata": {
        "id": "lQ9nATqaDCxM",
        "outputId": "0433c68c-fb7b-4b19-fc10-43bc62b094a7"
      },
      "source": [
        "print(phonebook[\"Laurent Meyer\"]) # print +41 79 22 33 789"
      ],
      "execution_count": null,
      "outputs": [
        {
          "output_type": "stream",
          "text": [
            "+41 79 22 33 789\n"
          ],
          "name": "stdout"
        }
      ]
    },
    {
      "cell_type": "code",
      "metadata": {
        "id": "UGHHpU5lDCxM",
        "outputId": "cbcfe9c8-8840-453c-c22d-db5b00518fd5"
      },
      "source": [
        "print(phonebook[\"Santa Claus\"])   # key does not exit -> KeyError"
      ],
      "execution_count": null,
      "outputs": [
        {
          "output_type": "error",
          "ename": "KeyError",
          "evalue": "'Santa Claus'",
          "traceback": [
            "\u001b[0;31m---------------------------------------------------------------------------\u001b[0m",
            "\u001b[0;31mKeyError\u001b[0m                                  Traceback (most recent call last)",
            "\u001b[0;32m<ipython-input-70-b8119afe0663>\u001b[0m in \u001b[0;36m<module>\u001b[0;34m\u001b[0m\n\u001b[0;32m----> 1\u001b[0;31m \u001b[0mprint\u001b[0m\u001b[0;34m(\u001b[0m\u001b[0mphonebook\u001b[0m\u001b[0;34m[\u001b[0m\u001b[0;34m\"Santa Claus\"\u001b[0m\u001b[0;34m]\u001b[0m\u001b[0;34m)\u001b[0m   \u001b[0;31m# key does not exit -> KeyError\u001b[0m\u001b[0;34m\u001b[0m\u001b[0;34m\u001b[0m\u001b[0m\n\u001b[0m",
            "\u001b[0;31mKeyError\u001b[0m: 'Santa Claus'"
          ]
        }
      ]
    },
    {
      "cell_type": "markdown",
      "metadata": {
        "id": "fCM3B8L1DCxN"
      },
      "source": [
        "Dictionaries can also help to structure data, for example to record a person:"
      ]
    },
    {
      "cell_type": "code",
      "metadata": {
        "id": "IpocmJ7CDCxN",
        "outputId": "e2b098ed-4254-4386-a7c4-77aa3c9504ed"
      },
      "source": [
        "person = {\n",
        "  'firstname': 'Laurent',\n",
        "  'lastname': 'Meyer',\n",
        "  'company' : 'Propulsion Academy'\n",
        "}\n",
        "print(person['firstname'])  # Laurent\n",
        "print(person['lastname'])  # Meyer"
      ],
      "execution_count": null,
      "outputs": [
        {
          "output_type": "stream",
          "text": [
            "Laurent\n",
            "Meyer\n"
          ],
          "name": "stdout"
        }
      ]
    },
    {
      "cell_type": "markdown",
      "metadata": {
        "id": "dr-pWrMqDCxO"
      },
      "source": [
        "Dictionaries are dynamic data structures where you can add or modify key-value pairs at any given time."
      ]
    },
    {
      "cell_type": "code",
      "metadata": {
        "id": "NULk55JHDCxP",
        "outputId": "bfba5d4d-e7af-4f0a-c885-8dbced5d26ae"
      },
      "source": [
        "# create initial dictionary\n",
        "person = {'firstname': 'Laurent', 'lastname': 'Meyer'}\n",
        "\n",
        "# add new entries\n",
        "person['phone'] = '12345'\n",
        "person['sex'] = 'M'\n",
        "\n",
        "# modify an existing entry\n",
        "person['lastname'] = 'Hoxhaj'\n",
        "\n",
        "print(person)"
      ],
      "execution_count": null,
      "outputs": [
        {
          "output_type": "stream",
          "text": [
            "{'firstname': 'Laurent', 'lastname': 'Hoxhaj', 'phone': '12345', 'sex': 'M'}\n"
          ],
          "name": "stdout"
        }
      ]
    },
    {
      "cell_type": "markdown",
      "metadata": {
        "id": "i9tl-jZGDCxQ"
      },
      "source": [
        "You can also start with an empty dictionary:"
      ]
    },
    {
      "cell_type": "code",
      "metadata": {
        "id": "06aqj0D_DCxQ",
        "outputId": "5507ce11-cba4-4977-89aa-0170cc651001"
      },
      "source": [
        "person = dict()\n",
        "\n",
        "person['firstname'] = 'Laurent'\n",
        "person['lastname'] = 'Meyer'\n",
        "\n",
        "print(person)"
      ],
      "execution_count": null,
      "outputs": [
        {
          "output_type": "stream",
          "text": [
            "{'firstname': 'Laurent', 'lastname': 'Meyer'}\n"
          ],
          "name": "stdout"
        }
      ]
    },
    {
      "cell_type": "markdown",
      "metadata": {
        "id": "U5oMINn2DCxR"
      },
      "source": [
        "To delete key-value pairs, use the del statement"
      ]
    },
    {
      "cell_type": "code",
      "metadata": {
        "id": "t_ZZKhBHDCxR",
        "outputId": "5556a974-4a05-4587-c6c6-85f009d03d21"
      },
      "source": [
        "person = {}\n",
        "\n",
        "person['firstname'] = 'Laurent'\n",
        "person['lastname'] = 'Meyer'\n",
        "\n",
        "del person['firstname']\n",
        "print(person)"
      ],
      "execution_count": null,
      "outputs": [
        {
          "output_type": "stream",
          "text": [
            "{'lastname': 'Meyer'}\n"
          ],
          "name": "stdout"
        }
      ]
    },
    {
      "cell_type": "markdown",
      "metadata": {
        "id": "ebeBpf-8DCxS"
      },
      "source": [
        "### Nesting"
      ]
    },
    {
      "cell_type": "markdown",
      "metadata": {
        "id": "TysLgwq7DCxS"
      },
      "source": [
        "And of course - anything can be stored in as a value. Even arrays and other dictionaries:"
      ]
    },
    {
      "cell_type": "code",
      "metadata": {
        "id": "XEXgqSjrDCxS"
      },
      "source": [
        "all = {\n",
        "  \"one\": 1,\n",
        "  \"list\": ['a','b','c','d'],\n",
        "  \"person\": {'name': 'Laurent', 'lastname': 'Meyer'}\n",
        "}"
      ],
      "execution_count": null,
      "outputs": []
    },
    {
      "cell_type": "markdown",
      "metadata": {
        "id": "X4sUiSbIDCxT"
      },
      "source": [
        "### Get with Default"
      ]
    },
    {
      "cell_type": "markdown",
      "metadata": {
        "id": "_6lQPQQvDCxT"
      },
      "source": [
        "As you saw above, trying to access a key with [] can lead to errors if the key does not exist. To avoid that, you can use the **.get(key, default = None)** method:"
      ]
    },
    {
      "cell_type": "code",
      "metadata": {
        "id": "cqzt9ekODCxT"
      },
      "source": [
        "d = {\"fullstack\": [\"mar\", \"jul\", \"sep\"], \"datascience\": [\"jan\", \"may\", \"oct\"]}"
      ],
      "execution_count": null,
      "outputs": []
    },
    {
      "cell_type": "code",
      "metadata": {
        "id": "Q11ep2gdDCxU",
        "outputId": "b17ec7e1-31b9-4646-f7ed-869849dde9fa"
      },
      "source": [
        "d[\"backend\"] # -> KeyError"
      ],
      "execution_count": null,
      "outputs": [
        {
          "output_type": "error",
          "ename": "KeyError",
          "evalue": "'backend'",
          "traceback": [
            "\u001b[0;31m---------------------------------------------------------------------------\u001b[0m",
            "\u001b[0;31mKeyError\u001b[0m                                  Traceback (most recent call last)",
            "\u001b[0;32m<ipython-input-79-a354274dfa6a>\u001b[0m in \u001b[0;36m<module>\u001b[0;34m\u001b[0m\n\u001b[0;32m----> 1\u001b[0;31m \u001b[0md\u001b[0m\u001b[0;34m[\u001b[0m\u001b[0;34m\"backend\"\u001b[0m\u001b[0;34m]\u001b[0m \u001b[0;31m# -> KeyError\u001b[0m\u001b[0;34m\u001b[0m\u001b[0;34m\u001b[0m\u001b[0m\n\u001b[0m",
            "\u001b[0;31mKeyError\u001b[0m: 'backend'"
          ]
        }
      ]
    },
    {
      "cell_type": "code",
      "metadata": {
        "id": "CJdaEX62DCxU"
      },
      "source": [
        "d.get(\"backend\") # -> returns None"
      ],
      "execution_count": null,
      "outputs": []
    },
    {
      "cell_type": "code",
      "metadata": {
        "id": "wbKDwamHDCxV",
        "outputId": "13dfbefa-342c-4bc5-ebaf-89b12f818928"
      },
      "source": [
        "d.get(\"backend\", []) # returns []"
      ],
      "execution_count": null,
      "outputs": [
        {
          "output_type": "execute_result",
          "data": {
            "text/plain": [
              "[]"
            ]
          },
          "metadata": {
            "tags": []
          },
          "execution_count": 81
        }
      ]
    },
    {
      "cell_type": "code",
      "metadata": {
        "id": "DrlPPGzVDCxV",
        "outputId": "49410baf-cc2d-4b68-9804-f65fc8c98458"
      },
      "source": [
        "d.get(\"fullstack\", []) # returns [\"mar\", \"jul\", \"sep\"]"
      ],
      "execution_count": null,
      "outputs": [
        {
          "output_type": "execute_result",
          "data": {
            "text/plain": [
              "['mar', 'jul', 'sep']"
            ]
          },
          "metadata": {
            "tags": []
          },
          "execution_count": 82
        }
      ]
    },
    {
      "cell_type": "markdown",
      "metadata": {
        "id": "hWQ8ro-cDCxV"
      },
      "source": [
        "### Looping in the Dictionary"
      ]
    },
    {
      "cell_type": "markdown",
      "metadata": {
        "id": "H7-wWWyqDCxW"
      },
      "source": [
        "There are three ways to loop through all items in dictionary - using **.keys()**, **.values()**, and **.items()**"
      ]
    },
    {
      "cell_type": "code",
      "metadata": {
        "id": "vuVF2fAODCxX",
        "outputId": "5d621351-1ca5-4c12-82ab-c0e54cfd6017"
      },
      "source": [
        "person = {'firstname': 'Laurent', 'lastname': 'Hoxhaj', 'age': 26}\n",
        "\n",
        "for key, value in person.items():\n",
        "    print(f\"Key: {key}, Value: {value}\")"
      ],
      "execution_count": null,
      "outputs": [
        {
          "output_type": "stream",
          "text": [
            "Key: firstname, Value: Laurent\n",
            "Key: lastname, Value: Hoxhaj\n",
            "Key: age, Value: 26\n"
          ],
          "name": "stdout"
        }
      ]
    },
    {
      "cell_type": "code",
      "metadata": {
        "id": "4sC2MGGSDCxY",
        "outputId": "92af6bfc-db52-4f52-d69d-c0320da31bb6"
      },
      "source": [
        "for key in person.keys():\n",
        "    print(\"Key: \", key)"
      ],
      "execution_count": null,
      "outputs": [
        {
          "output_type": "stream",
          "text": [
            "Key:  firstname\n",
            "Key:  lastname\n",
            "Key:  age\n"
          ],
          "name": "stdout"
        }
      ]
    },
    {
      "cell_type": "code",
      "metadata": {
        "id": "abUe0vDqDCxY",
        "outputId": "ce0467f1-0fb4-4a46-bc52-2059f0541e00"
      },
      "source": [
        "for value in person.values():\n",
        "    print(\"Value: \", value)"
      ],
      "execution_count": null,
      "outputs": [
        {
          "output_type": "stream",
          "text": [
            "Value:  Laurent\n",
            "Value:  Hoxhaj\n",
            "Value:  26\n"
          ],
          "name": "stdout"
        }
      ]
    },
    {
      "cell_type": "markdown",
      "metadata": {
        "id": "kvPSNyuHDCxZ"
      },
      "source": [
        "You can use these three methods also for other purposes:"
      ]
    },
    {
      "cell_type": "code",
      "metadata": {
        "id": "bvdkWnacDCxa",
        "outputId": "0c3b7d86-f467-44d7-8844-3934fe8e4a0a"
      },
      "source": [
        "# check if a key exist\n",
        "'firstname' in person.keys()"
      ],
      "execution_count": null,
      "outputs": [
        {
          "output_type": "execute_result",
          "data": {
            "text/plain": [
              "True"
            ]
          },
          "metadata": {
            "tags": []
          },
          "execution_count": 86
        }
      ]
    },
    {
      "cell_type": "code",
      "metadata": {
        "id": "q3IuUucdDCxb",
        "outputId": "d20507d8-441a-4620-e0b9-748049e3812e"
      },
      "source": [
        "person.keys()"
      ],
      "execution_count": null,
      "outputs": [
        {
          "output_type": "execute_result",
          "data": {
            "text/plain": [
              "dict_keys(['firstname', 'lastname', 'age'])"
            ]
          },
          "metadata": {
            "tags": []
          },
          "execution_count": 87
        }
      ]
    },
    {
      "cell_type": "code",
      "metadata": {
        "id": "HJql_ojqDCxb",
        "outputId": "01573a8a-ccea-46c3-efb8-7fd4fca04eaf"
      },
      "source": [
        "'address' in person.keys()"
      ],
      "execution_count": null,
      "outputs": [
        {
          "output_type": "execute_result",
          "data": {
            "text/plain": [
              "False"
            ]
          },
          "metadata": {
            "tags": []
          },
          "execution_count": 88
        }
      ]
    },
    {
      "cell_type": "code",
      "metadata": {
        "id": "ZIsgNuTsDCxc",
        "outputId": "5ed40d83-76ad-4108-ceb6-a988c50e71d2"
      },
      "source": [
        "# check if a value exists\n",
        "'Laurent' in person.values()"
      ],
      "execution_count": null,
      "outputs": [
        {
          "output_type": "execute_result",
          "data": {
            "text/plain": [
              "True"
            ]
          },
          "metadata": {
            "tags": []
          },
          "execution_count": 89
        }
      ]
    },
    {
      "cell_type": "code",
      "metadata": {
        "id": "eoMB2LfGDCxc",
        "outputId": "09cc2673-7192-4bb2-a6f5-9ba0c8de2a75"
      },
      "source": [
        "'Meyer' in person.values()"
      ],
      "execution_count": null,
      "outputs": [
        {
          "output_type": "execute_result",
          "data": {
            "text/plain": [
              "False"
            ]
          },
          "metadata": {
            "tags": []
          },
          "execution_count": 91
        }
      ]
    },
    {
      "cell_type": "code",
      "metadata": {
        "id": "tYtIEaeQDCxc",
        "outputId": "d1e645ff-5951-4c2b-de4f-063895319eb3"
      },
      "source": [
        "# get a list of all keys\n",
        "keys_list = list(person.keys())\n",
        "keys_list"
      ],
      "execution_count": null,
      "outputs": [
        {
          "output_type": "execute_result",
          "data": {
            "text/plain": [
              "['firstname', 'lastname', 'age']"
            ]
          },
          "metadata": {
            "tags": []
          },
          "execution_count": 92
        }
      ]
    },
    {
      "cell_type": "markdown",
      "metadata": {
        "id": "Hy8PdtkSDCxd"
      },
      "source": [
        "### Other Operations on Dicts"
      ]
    },
    {
      "cell_type": "code",
      "metadata": {
        "id": "2OVbaYxnDCxe",
        "outputId": "4dd47716-e2f9-428e-dac6-ac08478d2f28"
      },
      "source": [
        "a = {\"one\" : 1, \"two\" : 2}\n",
        "\n",
        "# figure out the number of key value pairs\n",
        "len(a) # => 2"
      ],
      "execution_count": null,
      "outputs": [
        {
          "output_type": "execute_result",
          "data": {
            "text/plain": [
              "2"
            ]
          },
          "metadata": {
            "tags": []
          },
          "execution_count": 93
        }
      ]
    },
    {
      "cell_type": "code",
      "metadata": {
        "id": "JFcyE8SQDCxf",
        "outputId": "a6e53d6a-d220-4dbd-beac-0a918d096000"
      },
      "source": [
        "\"one\" in a # equivalent to `key in a.keys()` => True"
      ],
      "execution_count": null,
      "outputs": [
        {
          "output_type": "execute_result",
          "data": {
            "text/plain": [
              "True"
            ]
          },
          "metadata": {
            "tags": []
          },
          "execution_count": 94
        }
      ]
    },
    {
      "cell_type": "code",
      "metadata": {
        "id": "uwciqiHVDCxg",
        "outputId": "aad30ae1-6070-4078-8e10-07f268485ea8"
      },
      "source": [
        "# copy dictionary\n",
        "a.copy()"
      ],
      "execution_count": null,
      "outputs": [
        {
          "output_type": "execute_result",
          "data": {
            "text/plain": [
              "{'one': 1, 'two': 2}"
            ]
          },
          "metadata": {
            "tags": []
          },
          "execution_count": 95
        }
      ]
    },
    {
      "cell_type": "code",
      "metadata": {
        "id": "YxSeojsPDCxg"
      },
      "source": [
        "# remove all entries in dictionary\n",
        "a.clear()"
      ],
      "execution_count": null,
      "outputs": []
    },
    {
      "cell_type": "markdown",
      "metadata": {
        "id": "EFz8zO9MDCxh"
      },
      "source": [
        "<a id='P4' name=\"P4\"></a>\n",
        "## [Sets](#P0)"
      ]
    },
    {
      "cell_type": "markdown",
      "metadata": {
        "id": "VCAov-KEDCxh"
      },
      "source": [
        "A set is a collection of distinct (unique) objects. In computer science terms, a set is an unordered collection of distinct hashable elements. Sets are useful for creating lists that only hold unique values in the data set. Unique means that each value can only occur once in a set.\n",
        "\n",
        "With sets you can perform sets operations like finding the intersection between two sets, testing for membership (union), testing for symmetric difference etc.\n",
        "\n",
        "We are not going into detail here - for more information on sets, examples and the methods performed on sets you can follow [this link]( https://docs.python.org/3/library/stdtypes.html?highlight=set#set-types-set-frozenset).\n",
        "\n",
        "Here are a few examples on how to use sets:"
      ]
    },
    {
      "cell_type": "code",
      "metadata": {
        "id": "NTQkHy_gDCxi"
      },
      "source": [
        "myset = {'banana', 'apple', 'apple'}"
      ],
      "execution_count": null,
      "outputs": []
    },
    {
      "cell_type": "code",
      "metadata": {
        "id": "k0ouRELEDCxi",
        "outputId": "712d7c53-d705-4cac-c4a3-2c09a7aeb067"
      },
      "source": [
        "myset"
      ],
      "execution_count": null,
      "outputs": [
        {
          "output_type": "execute_result",
          "data": {
            "text/plain": [
              "{'apple', 'banana'}"
            ]
          },
          "metadata": {
            "tags": []
          },
          "execution_count": 106
        }
      ]
    },
    {
      "cell_type": "code",
      "metadata": {
        "id": "fqSYhndEDCxj",
        "outputId": "caefc1cb-c0af-4a31-ff3f-f01a01cd5e6a"
      },
      "source": [
        "empty_set = set()\n",
        "set_from_list = set([1, 2, 1, 4, 3]) # => {1, 3, 4, 2}\n",
        "\n",
        "basket = {\"apple\", \"orange\", \"apple\", \"pear\", \"banana\"}\n",
        "len(basket) # => 4"
      ],
      "execution_count": null,
      "outputs": [
        {
          "output_type": "execute_result",
          "data": {
            "text/plain": [
              "4"
            ]
          },
          "metadata": {
            "tags": []
          },
          "execution_count": 108
        }
      ]
    },
    {
      "cell_type": "code",
      "metadata": {
        "id": "exluQMW_DCxj",
        "outputId": "e6c7e636-315f-4624-e2d5-1d3e36bbdd64"
      },
      "source": [
        "\"orange\" in basket # => True"
      ],
      "execution_count": null,
      "outputs": [
        {
          "output_type": "execute_result",
          "data": {
            "text/plain": [
              "True"
            ]
          },
          "metadata": {
            "tags": []
          },
          "execution_count": 109
        }
      ]
    },
    {
      "cell_type": "code",
      "metadata": {
        "id": "0ky1Tw8UDCxk",
        "outputId": "c3e6b8ae-8e7a-4cc0-f5da-4fd7427da261"
      },
      "source": [
        "\"crabgrass\" in basket # => False"
      ],
      "execution_count": null,
      "outputs": [
        {
          "output_type": "execute_result",
          "data": {
            "text/plain": [
              "False"
            ]
          },
          "metadata": {
            "tags": []
          },
          "execution_count": 110
        }
      ]
    },
    {
      "cell_type": "code",
      "metadata": {
        "id": "qSy0-rl2DCxk",
        "outputId": "e5a8f885-bbf7-48c1-da82-4412c3f942b3"
      },
      "source": [
        "for fruit in basket:\n",
        "    print(fruit, end='/')"
      ],
      "execution_count": null,
      "outputs": [
        {
          "output_type": "stream",
          "text": [
            "banana/apple/pear/orange/"
          ],
          "name": "stdout"
        }
      ]
    },
    {
      "cell_type": "code",
      "metadata": {
        "id": "ssPeXEzcDCxl",
        "outputId": "8eda7c48-8866-4a5d-a50f-6d961c8b660f"
      },
      "source": [
        "# Common set operations\n",
        "a = set(\"mississippi\")\n",
        "a"
      ],
      "execution_count": null,
      "outputs": [
        {
          "output_type": "execute_result",
          "data": {
            "text/plain": [
              "{'i', 'm', 'p', 's'}"
            ]
          },
          "metadata": {
            "tags": []
          },
          "execution_count": 119
        }
      ]
    },
    {
      "cell_type": "code",
      "metadata": {
        "id": "oYJ4p6GADCxl",
        "outputId": "7a2387cf-7af2-4da0-f54d-1f46852af9bc"
      },
      "source": [
        "for item in a:\n",
        "    print(item)"
      ],
      "execution_count": null,
      "outputs": [
        {
          "output_type": "stream",
          "text": [
            "m\n",
            "i\n",
            "s\n",
            "p\n"
          ],
          "name": "stdout"
        }
      ]
    },
    {
      "cell_type": "code",
      "metadata": {
        "id": "1sZcuqkoDCxl"
      },
      "source": [
        "a.add('r') # {'p', 's', 'm', 'r', 'i'}"
      ],
      "execution_count": null,
      "outputs": []
    },
    {
      "cell_type": "code",
      "metadata": {
        "id": "p2T9HDMxDCxm",
        "outputId": "8247a130-a4c1-4cc9-8629-77730eeae154"
      },
      "source": [
        "a.remove('m') # raises KeyError if 'm' is not present\n",
        "a.discard('x') # same as remove, except no error\n",
        "\n",
        "a.pop() # => 's' (or 'i' or 'p')\n",
        "a.clear()\n",
        "\n",
        "len(a) # => 0"
      ],
      "execution_count": null,
      "outputs": [
        {
          "output_type": "execute_result",
          "data": {
            "text/plain": [
              "0"
            ]
          },
          "metadata": {
            "tags": []
          },
          "execution_count": 122
        }
      ]
    },
    {
      "cell_type": "code",
      "metadata": {
        "id": "NDmoPhAtDCxn"
      },
      "source": [
        "a = set(\"abracadabra\") # {'a', 'r', 'b', 'c', 'd'}\n",
        "b = set(\"alacazam\") # {'a', 'm', 'c', 'l', 'z'}"
      ],
      "execution_count": null,
      "outputs": []
    },
    {
      "cell_type": "code",
      "metadata": {
        "id": "n6nR0dBhDCxo",
        "outputId": "8ca225ee-0714-4678-b57e-9c7d797b930e"
      },
      "source": [
        "# Set difference\n",
        "a - b"
      ],
      "execution_count": null,
      "outputs": [
        {
          "output_type": "execute_result",
          "data": {
            "text/plain": [
              "{'b', 'd', 'r'}"
            ]
          },
          "metadata": {
            "tags": []
          },
          "execution_count": 125
        }
      ]
    },
    {
      "cell_type": "code",
      "metadata": {
        "id": "hKg4SjJ7DCxo",
        "outputId": "f25e094c-7ece-4f2b-c5e9-687d3f2889bf"
      },
      "source": [
        "# Union\n",
        "a | b"
      ],
      "execution_count": null,
      "outputs": [
        {
          "output_type": "execute_result",
          "data": {
            "text/plain": [
              "{'a', 'b', 'c', 'd', 'l', 'm', 'r', 'z'}"
            ]
          },
          "metadata": {
            "tags": []
          },
          "execution_count": 127
        }
      ]
    },
    {
      "cell_type": "code",
      "metadata": {
        "id": "6VTXyKFbDCxq",
        "outputId": "a65323d9-cedf-409d-e2d1-221a85788274"
      },
      "source": [
        "# Intersection\n",
        "a & b "
      ],
      "execution_count": null,
      "outputs": [
        {
          "output_type": "execute_result",
          "data": {
            "text/plain": [
              "{'a', 'c'}"
            ]
          },
          "metadata": {
            "tags": []
          },
          "execution_count": 128
        }
      ]
    },
    {
      "cell_type": "code",
      "metadata": {
        "id": "NbG96lDqDCxq",
        "outputId": "b4f712f8-37c7-4a92-e33b-781293667e35"
      },
      "source": [
        "a"
      ],
      "execution_count": null,
      "outputs": [
        {
          "output_type": "execute_result",
          "data": {
            "text/plain": [
              "{'a', 'b', 'c', 'd', 'r'}"
            ]
          },
          "metadata": {
            "tags": []
          },
          "execution_count": 129
        }
      ]
    },
    {
      "cell_type": "code",
      "metadata": {
        "id": "vWeolYHzDCxs",
        "outputId": "ea26df6f-bef9-4fac-cfff-ffba45b31c84"
      },
      "source": [
        "b"
      ],
      "execution_count": null,
      "outputs": [
        {
          "output_type": "execute_result",
          "data": {
            "text/plain": [
              "{'a', 'c', 'l', 'm', 'z'}"
            ]
          },
          "metadata": {
            "tags": []
          },
          "execution_count": 130
        }
      ]
    },
    {
      "cell_type": "code",
      "metadata": {
        "id": "XdKK47zdDCxt",
        "outputId": "465e3790-4337-4f88-b023-2d7ec5a8b730"
      },
      "source": [
        "a - b"
      ],
      "execution_count": null,
      "outputs": [
        {
          "output_type": "execute_result",
          "data": {
            "text/plain": [
              "{'b', 'd', 'r'}"
            ]
          },
          "metadata": {
            "tags": []
          },
          "execution_count": 131
        }
      ]
    },
    {
      "cell_type": "code",
      "metadata": {
        "id": "OpvYHZSgDCxt",
        "outputId": "872bcc7c-5e52-4eed-ffb1-e3796aa9e5e8"
      },
      "source": [
        "b - a"
      ],
      "execution_count": null,
      "outputs": [
        {
          "output_type": "execute_result",
          "data": {
            "text/plain": [
              "{'l', 'm', 'z'}"
            ]
          },
          "metadata": {
            "tags": []
          },
          "execution_count": 133
        }
      ]
    },
    {
      "cell_type": "code",
      "metadata": {
        "id": "fGLFpIt1DCxu",
        "outputId": "78790c38-0961-4968-d91d-a32fd840cdaa"
      },
      "source": [
        "# Symmetric Difference\n",
        "a ^ b"
      ],
      "execution_count": null,
      "outputs": [
        {
          "output_type": "execute_result",
          "data": {
            "text/plain": [
              "{'b', 'd', 'l', 'm', 'r', 'z'}"
            ]
          },
          "metadata": {
            "tags": []
          },
          "execution_count": 134
        }
      ]
    },
    {
      "cell_type": "markdown",
      "metadata": {
        "id": "0M5U289NDCxu"
      },
      "source": [
        "<a id='P5' name=\"P5\"></a>\n",
        "## [More on Looping Techniques](#P0)"
      ]
    },
    {
      "cell_type": "markdown",
      "metadata": {
        "id": "cUx_F63gDCxv"
      },
      "source": [
        "To sum it all up, we would like to give you an overview of different ways how to iterate through lists, sets, and alike."
      ]
    },
    {
      "cell_type": "markdown",
      "metadata": {
        "id": "LAOnFcvzDCxw"
      },
      "source": [
        "### Items in a Dictionary"
      ]
    },
    {
      "cell_type": "code",
      "metadata": {
        "id": "lTByG5RODCxw",
        "outputId": "ef14a55f-71c3-4d2e-bcd8-9b72f9583183"
      },
      "source": [
        "knights = {'gallahad': 'the pure', 'robin': 'the brave'}\n",
        "\n",
        "for k, v in knights.items():\n",
        "    print(k, v)"
      ],
      "execution_count": null,
      "outputs": [
        {
          "output_type": "stream",
          "text": [
            "gallahad the pure\n",
            "robin the brave\n"
          ],
          "name": "stdout"
        }
      ]
    },
    {
      "cell_type": "markdown",
      "metadata": {
        "id": "tLqdpHavDCxx"
      },
      "source": [
        "### Zip"
      ]
    },
    {
      "cell_type": "code",
      "metadata": {
        "id": "XkbbhtaHDCxx",
        "outputId": "f9453782-7e26-4f08-bd28-58a58354ac07"
      },
      "source": [
        "questions = ['name', 'quest', 'favorite color']\n",
        "answers = ['Lancelot', 'To seek the holy grail', 'Blue']\n",
        "\n",
        "# use zip() to generate pairs of entries\n",
        "for q, a in zip(questions, answers):\n",
        "    print('What is your {0}? {1}.'.format(q, a))"
      ],
      "execution_count": null,
      "outputs": [
        {
          "output_type": "stream",
          "text": [
            "What is your name? Lancelot.\n",
            "What is your quest? To seek the holy grail.\n",
            "What is your favorite color? Blue.\n"
          ],
          "name": "stdout"
        }
      ]
    },
    {
      "cell_type": "markdown",
      "metadata": {
        "id": "HmtF4wJCDCxy"
      },
      "source": [
        "### Reverse iteration"
      ]
    },
    {
      "cell_type": "code",
      "metadata": {
        "id": "5LZMf_DVDCxy",
        "outputId": "c3c9beb7-50a4-461b-86d7-288e49fc04c3"
      },
      "source": [
        "# use reversed() to loop over sequence in reverse\n",
        "for i in reversed(range(1, 10, 2)):\n",
        "    print(i, end=', ')"
      ],
      "execution_count": null,
      "outputs": [
        {
          "output_type": "stream",
          "text": [
            "9, 7, 5, 3, 1, "
          ],
          "name": "stdout"
        }
      ]
    },
    {
      "cell_type": "markdown",
      "metadata": {
        "id": "3L3W4pJ7DCxy"
      },
      "source": [
        "### Sorted iteration"
      ]
    },
    {
      "cell_type": "code",
      "metadata": {
        "id": "Y6CTxewODCxy",
        "outputId": "cce28f05-826d-45da-fdb3-eecb62cfbedc"
      },
      "source": [
        "basket = ['pear', 'banana', 'orange', 'pear', 'apple']\n",
        "\n",
        "# use sorted to return a new sorted list before iterating\n",
        "for fruit in sorted(basket):\n",
        "    print(fruit)"
      ],
      "execution_count": null,
      "outputs": [
        {
          "output_type": "stream",
          "text": [
            "apple\n",
            "banana\n",
            "orange\n",
            "pear\n",
            "pear\n"
          ],
          "name": "stdout"
        }
      ]
    },
    {
      "cell_type": "markdown",
      "metadata": {
        "id": "zlMC83hIDCxz"
      },
      "source": [
        "<a id='P6' name=\"P6\"></a>\n",
        "## [List Comprehension](#P0)"
      ]
    },
    {
      "cell_type": "markdown",
      "metadata": {
        "id": "KvLXcHJuDCxz"
      },
      "source": [
        "A very powerful technique in Python is the so-called list comprehension. Comprehension is a very concise syntax used to create data structures.\n",
        "\n",
        "Let's compare how to create a list of squared values with and without list comprehension"
      ]
    },
    {
      "cell_type": "code",
      "metadata": {
        "id": "TK6haXxxDCx0"
      },
      "source": [
        "# create list of squares without comprehension\n",
        "squares = []\n",
        "for x in range(100):\n",
        "    squares.append(x**2)"
      ],
      "execution_count": null,
      "outputs": []
    },
    {
      "cell_type": "code",
      "metadata": {
        "id": "SIBWgp8wDCx0"
      },
      "source": [
        "# create the exact same list with list comprehension\n",
        "squares = [x**2 for x in range(100)]"
      ],
      "execution_count": null,
      "outputs": []
    },
    {
      "cell_type": "markdown",
      "metadata": {
        "id": "4ZeA9b6iDCx0"
      },
      "source": [
        "See what we did there? We achieved the same result using only one line! The general syntax of list comprehension is `[f(el) for el in iter]`\n",
        "\n",
        "- The `for` statement tells Python to loop over a specified iterable\n",
        "- `f(el)` just means to apply any operation for each element of the loop variables, to generate new elements\n",
        "- The square brackets `[]` tell Python that we are building a list\n",
        "\n",
        "You can even modify the loop with a condition: `[f(el) for el in iter if condition(el)]`\n",
        "\n",
        "It works the same as the example above, but it only keeps elements that satisfy the condition, e.g. `el%2==0`\n",
        "\n",
        "Let's have a look at some more examples. See if you can figure out what the output will be before trying the examples in the console:"
      ]
    },
    {
      "cell_type": "code",
      "metadata": {
        "id": "pHXspf-lDCx1"
      },
      "source": [
        "sentence = \"Hello, I am a robot, Nice to meet you!\".split(\" \")"
      ],
      "execution_count": null,
      "outputs": []
    },
    {
      "cell_type": "code",
      "metadata": {
        "id": "ikGUOSG0DCx1",
        "outputId": "64e9e2ee-9573-4dc3-ab7c-cd456dfd4894"
      },
      "source": [
        "sentence"
      ],
      "execution_count": null,
      "outputs": [
        {
          "output_type": "execute_result",
          "data": {
            "text/plain": [
              "['Hello,', 'I', 'am', 'a', 'robot,', 'Nice', 'to', 'meet', 'you!']"
            ]
          },
          "metadata": {
            "tags": []
          },
          "execution_count": 143
        }
      ]
    },
    {
      "cell_type": "code",
      "metadata": {
        "id": "5M0DrEw9DCx1",
        "outputId": "dafad9a6-d7dd-43e1-c0f1-54a85a03cc93"
      },
      "source": [
        "[word.lower() for word in sentence]"
      ],
      "execution_count": null,
      "outputs": [
        {
          "output_type": "execute_result",
          "data": {
            "text/plain": [
              "['hello,', 'i', 'am', 'a', 'robot,', 'nice', 'to', 'meet', 'you!']"
            ]
          },
          "metadata": {
            "tags": []
          },
          "execution_count": 144
        }
      ]
    },
    {
      "cell_type": "code",
      "metadata": {
        "id": "mK557J1xDCx2",
        "outputId": "f0135aec-310b-4a0c-d71c-57fead72786f"
      },
      "source": [
        "[word for word in sentence if len(word) > 5]"
      ],
      "execution_count": null,
      "outputs": [
        {
          "output_type": "execute_result",
          "data": {
            "text/plain": [
              "['Hello,', 'robot,']"
            ]
          },
          "metadata": {
            "tags": []
          },
          "execution_count": 145
        }
      ]
    },
    {
      "cell_type": "code",
      "metadata": {
        "id": "DV-nr4YoDCx2",
        "outputId": "13dcf21c-728f-4e80-e00a-f31ca36e701c"
      },
      "source": [
        "[(x, x ** 2, x ** 3) for x in range(10)]"
      ],
      "execution_count": null,
      "outputs": [
        {
          "output_type": "execute_result",
          "data": {
            "text/plain": [
              "[(0, 0, 0),\n",
              " (1, 1, 1),\n",
              " (2, 4, 8),\n",
              " (3, 9, 27),\n",
              " (4, 16, 64),\n",
              " (5, 25, 125),\n",
              " (6, 36, 216),\n",
              " (7, 49, 343),\n",
              " (8, 64, 512),\n",
              " (9, 81, 729)]"
            ]
          },
          "metadata": {
            "tags": []
          },
          "execution_count": 146
        }
      ]
    },
    {
      "cell_type": "code",
      "metadata": {
        "id": "lJ9btCoPDCx3",
        "outputId": "4c5cd36c-2e49-40ff-c71f-4d206ed2494d"
      },
      "source": [
        "[(i,j) for i in range(5) for j in range(i)]"
      ],
      "execution_count": null,
      "outputs": [
        {
          "output_type": "execute_result",
          "data": {
            "text/plain": [
              "[(1, 0),\n",
              " (2, 0),\n",
              " (2, 1),\n",
              " (3, 0),\n",
              " (3, 1),\n",
              " (3, 2),\n",
              " (4, 0),\n",
              " (4, 1),\n",
              " (4, 2),\n",
              " (4, 3)]"
            ]
          },
          "metadata": {
            "tags": []
          },
          "execution_count": 147
        }
      ]
    },
    {
      "cell_type": "markdown",
      "metadata": {
        "id": "XrYZ0lYnDCx3"
      },
      "source": [
        "Be careful though! You can go crazy with list comprehensions, but remember:\n",
        "\n",
        "**simple is better than complex!**"
      ]
    },
    {
      "cell_type": "markdown",
      "metadata": {
        "tags": [
          "livecode"
        ],
        "id": "5KQjYCM_DCx4"
      },
      "source": [
        "<a id='CL' name=\"CL\"></a>\n",
        "## [Conclusion](#P0)\n",
        "\n",
        "Now that you know about data structures, let's have a look at flow control!"
      ]
    }
  ]
}
