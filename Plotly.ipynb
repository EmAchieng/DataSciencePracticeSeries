{
  "nbformat": 4,
  "nbformat_minor": 0,
  "metadata": {
    "colab": {
      "name": "Copy of SIT_W1D2_LC5_Introduction_Plotly.ipynb",
      "provenance": [],
      "collapsed_sections": [],
      "toc_visible": true,
      "include_colab_link": true
    },
    "kernelspec": {
      "name": "python3",
      "display_name": "Python 3"
    }
  },
  "cells": [
    {
      "cell_type": "markdown",
      "metadata": {
        "id": "view-in-github",
        "colab_type": "text"
      },
      "source": [
        "<a href=\"https://colab.research.google.com/github/EmAchieng/DataSciencePracticeSeries/blob/master/Plotly.ipynb\" target=\"_parent\"><img src=\"https://colab.research.google.com/assets/colab-badge.svg\" alt=\"Open In Colab\"/></a>"
      ]
    },
    {
      "cell_type": "markdown",
      "metadata": {
        "id": "3mK5AxtJeIIL"
      },
      "source": [
        "<a id='Q0'></a>\n",
        "<center><a target=\"_blank\" href=\"http://www.propulsion.academy\"><img src=\"https://drive.google.com/uc?id=1McNxpNrSwfqu1w-QtlOmPSmfULvkkMQV\" width=\"200\" style=\"background:none; border:none; box-shadow:none;\" /></a> </center>\n",
        "<center> <h1> Day 2, Tutorial 5: Introduction to Plotly </h1> </center>\n",
        "<p style=\"margin-bottom:1cm;\"></p>\n",
        "<center><h4>Propulsion Academy, 2021</h4></center>\n",
        "<p style=\"margin-bottom:1cm;\"></p>\n",
        "\n",
        "<div style=\"background:#EEEDF5;border-top:0.1cm solid #EF475B;border-bottom:0.1cm solid #EF475B;color:#303030\">\n",
        "    <div style=\"margin-left: 0.5cm;margin-top: 0.5cm;margin-bottom: 0.5cm\">\n",
        "        <p><strong>Goal:</strong> Learn how to produce interactive graphs with Python, using Plotly </p>\n",
        "        <strong> Outline:</strong>\n",
        "        <a id=\"P0\" name=\"P0\"></a>\n",
        "        <ol>\n",
        "            <li> <a href='#I'>Introduction </a> </li>\n",
        "            <li> <a href='#SU'>Set up</a></li>\n",
        "            <li> <a href='#P1'>Create and Save Plotly Figures</a></li>\n",
        "            <li> <a href='#P2'>Common Plots Statistical Plots</a></li>\n",
        "            <li> <a href='#CL'>Conclusion</a></li>\n",
        "        </ol>\n",
        "        <strong>Topics Trained:</strong> data input/output, data cleaning, operations on data\n",
        "    </div>\n",
        "</div>\n",
        "\n",
        "<nav style=\"text-align:right\"><strong>\n",
        "        <a style=\"color:#00BAE5\" href=\"https://monolith.propulsion-home.ch/backend/api/momentum/materials/intro-2-ds-materials/index.html\" title=\"momentum\"> Introduction to Data Science </a>|\n",
        "        <a style=\"color:#00BAE5\" href=\"https://monolith.propulsion-home.ch/backend/api/momentum/materials/intro-2-ds-materials/weeks/week1/day2/index.html\" title=\"momentum\">Day 2, Data Wrangling </a>|\n",
        "        <a style=\"color:#00BAE5\" href=\"https://monolith.propulsion-home.ch/backend/api/momentum/materials/intro-2-ds-materials/weeks/week1/day2/pages/materials.html\" title=\"momentum\"> Live Coding 5, introduction to Plotly</a>\n",
        "</strong></nav>"
      ]
    },
    {
      "cell_type": "markdown",
      "metadata": {
        "id": "m0aLNRCLwX2p"
      },
      "source": [
        "<a id='I' name=\"I\"></a>\n",
        "## [Introduction](#P0)"
      ]
    },
    {
      "cell_type": "markdown",
      "metadata": {
        "id": "VXqJ8pmF4m2G"
      },
      "source": [
        "We saw how easy it is to import data in Python using pandas. We also learned how to explore data, perform simple statistical operations and produce some basic plots. In this session, we will focus on one specific package that allows us to produce visualizations for reports, webpages and presentations: Plotly"
      ]
    },
    {
      "cell_type": "markdown",
      "metadata": {
        "id": "jPnKleKZNhDn"
      },
      "source": [
        "<a id='SU' name=\"SU\"></a>\n",
        "## [Set up](#P0)"
      ]
    },
    {
      "cell_type": "markdown",
      "metadata": {
        "id": "dPk09tXcK_vr"
      },
      "source": [
        "### packages updates and installations\n",
        "\n",
        "We upgrade plotly to the latest version:"
      ]
    },
    {
      "cell_type": "code",
      "metadata": {
        "colab": {
          "base_uri": "https://localhost:8080/"
        },
        "id": "pJ8xAaN1KX_n",
        "outputId": "f5745ded-02d8-42f7-e85e-4f5240d22ca0"
      },
      "source": [
        "!pip install --upgrade plotly"
      ],
      "execution_count": null,
      "outputs": [
        {
          "output_type": "stream",
          "text": [
            "Collecting plotly\n",
            "\u001b[?25l  Downloading https://files.pythonhosted.org/packages/1f/f6/bd3c17c8003b6641df1228e80e1acac97ed8402635e46c2571f8e1ef63af/plotly-4.14.3-py2.py3-none-any.whl (13.2MB)\n",
            "\u001b[K     |████████████████████████████████| 13.2MB 326kB/s \n",
            "\u001b[?25hRequirement already satisfied, skipping upgrade: retrying>=1.3.3 in /usr/local/lib/python3.7/dist-packages (from plotly) (1.3.3)\n",
            "Requirement already satisfied, skipping upgrade: six in /usr/local/lib/python3.7/dist-packages (from plotly) (1.15.0)\n",
            "Installing collected packages: plotly\n",
            "  Found existing installation: plotly 4.4.1\n",
            "    Uninstalling plotly-4.4.1:\n",
            "      Successfully uninstalled plotly-4.4.1\n",
            "Successfully installed plotly-4.14.3\n"
          ],
          "name": "stdout"
        }
      ]
    },
    {
      "cell_type": "markdown",
      "metadata": {
        "id": "mTB1Jxc5LKWw"
      },
      "source": [
        "We install kaleido to be able to export plotly figures in a static format:"
      ]
    },
    {
      "cell_type": "code",
      "metadata": {
        "colab": {
          "base_uri": "https://localhost:8080/"
        },
        "id": "Grp2ZsMfJdW1",
        "outputId": "d0437c66-c1c8-4545-d05d-bb488ec80110"
      },
      "source": [
        "!pip install -U kaleido"
      ],
      "execution_count": null,
      "outputs": [
        {
          "output_type": "stream",
          "text": [
            "Collecting kaleido\n",
            "\u001b[?25l  Downloading https://files.pythonhosted.org/packages/ae/b3/a0f0f4faac229b0011d8c4a7ee6da7c2dca0b6fd08039c95920846f23ca4/kaleido-0.2.1-py2.py3-none-manylinux1_x86_64.whl (79.9MB)\n",
            "\u001b[K     |████████████████████████████████| 79.9MB 48kB/s \n",
            "\u001b[?25hInstalling collected packages: kaleido\n",
            "Successfully installed kaleido-0.2.1\n"
          ],
          "name": "stdout"
        }
      ]
    },
    {
      "cell_type": "markdown",
      "metadata": {
        "id": "B7tVuIRALWfk"
      },
      "source": [
        "Let's now check plotly's version:"
      ]
    },
    {
      "cell_type": "code",
      "metadata": {
        "colab": {
          "base_uri": "https://localhost:8080/",
          "height": 35
        },
        "id": "8XnZ2z9tKFlv",
        "outputId": "6417f6c5-6369-407f-a35c-8e8c24460114"
      },
      "source": [
        "import plotly\n",
        "plotly.__version__"
      ],
      "execution_count": null,
      "outputs": [
        {
          "output_type": "execute_result",
          "data": {
            "application/vnd.google.colaboratory.intrinsic+json": {
              "type": "string"
            },
            "text/plain": [
              "'4.14.3'"
            ]
          },
          "metadata": {
            "tags": []
          },
          "execution_count": 3
        }
      ]
    },
    {
      "cell_type": "code",
      "metadata": {
        "id": "Rq5M2kFIT3gQ"
      },
      "source": [
        "import pandas as pd"
      ],
      "execution_count": null,
      "outputs": []
    },
    {
      "cell_type": "markdown",
      "metadata": {
        "id": "u22w3BFiOveA"
      },
      "source": [
        "### Google Drive Connection"
      ]
    },
    {
      "cell_type": "code",
      "metadata": {
        "id": "RWSJpsyKqHjH",
        "colab": {
          "base_uri": "https://localhost:8080/"
        },
        "outputId": "565e8c69-6913-4dc7-cf66-364d1a8affc9"
      },
      "source": [
        "from google.colab import drive\n",
        "drive.mount('/content/drive')"
      ],
      "execution_count": null,
      "outputs": [
        {
          "output_type": "stream",
          "text": [
            "Mounted at /content/drive\n"
          ],
          "name": "stdout"
        }
      ]
    },
    {
      "cell_type": "markdown",
      "metadata": {
        "id": "H0qXenCALiw8"
      },
      "source": [
        "### Other Packages imports"
      ]
    },
    {
      "cell_type": "code",
      "metadata": {
        "id": "kxlhxWN9LmvC"
      },
      "source": [
        "import plotly.graph_objects as go\n",
        "import plotly.io as pio\n",
        "import plotly.express as px\n",
        "from plotly.subplots import make_subplots\n",
        "\n",
        "import numpy as np\n",
        "import os"
      ],
      "execution_count": null,
      "outputs": []
    },
    {
      "cell_type": "markdown",
      "metadata": {
        "id": "VG_8YIQYLuW7"
      },
      "source": [
        "### User Defined variables"
      ]
    },
    {
      "cell_type": "code",
      "metadata": {
        "id": "rsgAu7p2L2l2"
      },
      "source": [
        "tutorial_path = \"/content/drive/MyDrive/Introduction2DataScience/tutorials/\""
      ],
      "execution_count": null,
      "outputs": []
    },
    {
      "cell_type": "code",
      "metadata": {
        "id": "dQ_2ZpclMAkD",
        "colab": {
          "base_uri": "https://localhost:8080/",
          "height": 198
        },
        "outputId": "b5762cab-8dd6-49e8-bc84-16c2501bb96b"
      },
      "source": [
        "if not os.path.exists(f\"{tutorial_path}images\"):\n",
        "    os.mkdir(f\"{tutorial_path}images\")"
      ],
      "execution_count": null,
      "outputs": [
        {
          "output_type": "error",
          "ename": "FileNotFoundError",
          "evalue": "ignored",
          "traceback": [
            "\u001b[0;31m---------------------------------------------------------------------------\u001b[0m",
            "\u001b[0;31mFileNotFoundError\u001b[0m                         Traceback (most recent call last)",
            "\u001b[0;32m<ipython-input-8-c5b91aad6bc6>\u001b[0m in \u001b[0;36m<module>\u001b[0;34m()\u001b[0m\n\u001b[1;32m      1\u001b[0m \u001b[0;32mif\u001b[0m \u001b[0;32mnot\u001b[0m \u001b[0mos\u001b[0m\u001b[0;34m.\u001b[0m\u001b[0mpath\u001b[0m\u001b[0;34m.\u001b[0m\u001b[0mexists\u001b[0m\u001b[0;34m(\u001b[0m\u001b[0;34mf\"{tutorial_path}images\"\u001b[0m\u001b[0;34m)\u001b[0m\u001b[0;34m:\u001b[0m\u001b[0;34m\u001b[0m\u001b[0;34m\u001b[0m\u001b[0m\n\u001b[0;32m----> 2\u001b[0;31m     \u001b[0mos\u001b[0m\u001b[0;34m.\u001b[0m\u001b[0mmkdir\u001b[0m\u001b[0;34m(\u001b[0m\u001b[0;34mf\"{tutorial_path}images\"\u001b[0m\u001b[0;34m)\u001b[0m\u001b[0;34m\u001b[0m\u001b[0;34m\u001b[0m\u001b[0m\n\u001b[0m",
            "\u001b[0;31mFileNotFoundError\u001b[0m: [Errno 2] No such file or directory: '/content/drive/MyDrive/Introduction2DataScience/tutorials/images'"
          ]
        }
      ]
    },
    {
      "cell_type": "markdown",
      "metadata": {
        "id": "yX8gVa7pMEKv"
      },
      "source": [
        "<a id='P1' name=\"P1\"></a>\n",
        "## [Create and Save Plotly Figures](#P0)"
      ]
    },
    {
      "cell_type": "markdown",
      "metadata": {
        "id": "o1ujg-w_-Qfu"
      },
      "source": [
        "In this section, we will see how to create, modify and save a plotly figure. As an example, we aim at making a scatter plot using these 2 vectors"
      ]
    },
    {
      "cell_type": "code",
      "metadata": {
        "id": "D4-nNQZyV04l"
      },
      "source": [
        "x = [0, 1, 2, 3, 4]\n",
        "y = [10., 12.5, 4.5, 5.6, 20.]"
      ],
      "execution_count": null,
      "outputs": []
    },
    {
      "cell_type": "markdown",
      "metadata": {
        "id": "5ovU0S5CVT10"
      },
      "source": [
        "### Plotly figures: graph_objects.Figure\n",
        "\n",
        "The simplest way to create a figure with plotly is to use the function `Figure()` from submodule `graph_objects` (we already imported this module as `go`):\n",
        "\n"
      ]
    },
    {
      "cell_type": "code",
      "metadata": {
        "id": "lHutYsCU-XQl"
      },
      "source": [
        "fig = go.Figure()"
      ],
      "execution_count": null,
      "outputs": []
    },
    {
      "cell_type": "markdown",
      "metadata": {
        "id": "fbhiN6dFdcAJ"
      },
      "source": [
        "Once you created the figure `fig`, you can add data to plot using the `add_trace` method:"
      ]
    },
    {
      "cell_type": "code",
      "metadata": {
        "id": "pUGqeE7-dbdo"
      },
      "source": [
        "_ = fig.add_trace(go.Scatter(\n",
        "    x=x,\n",
        "    y=y,\n",
        "    ))"
      ],
      "execution_count": null,
      "outputs": []
    },
    {
      "cell_type": "markdown",
      "metadata": {
        "id": "VijAlUuBd3HK"
      },
      "source": [
        "Finally, you can use the method `show()` to display the figure:"
      ]
    },
    {
      "cell_type": "code",
      "metadata": {
        "id": "bXKnFvb7d3wG"
      },
      "source": [
        "fig.show()"
      ],
      "execution_count": null,
      "outputs": []
    },
    {
      "cell_type": "markdown",
      "metadata": {
        "id": "4qUP6x0seJGo"
      },
      "source": [
        "Alternativley, the plotly team has implemented a series of functions to allow you to create common plots much faster. Those are defined in the submodule `plotly.express` (we already imported it as `px`):"
      ]
    },
    {
      "cell_type": "code",
      "metadata": {
        "id": "QV16KyC_apJn"
      },
      "source": [
        "fig = px.scatter(x=x,y=y)"
      ],
      "execution_count": null,
      "outputs": []
    },
    {
      "cell_type": "markdown",
      "metadata": {
        "id": "RnzhgCiqfDHG"
      },
      "source": [
        "Likewise, you can display the figure in your notebook by typing:"
      ]
    },
    {
      "cell_type": "code",
      "metadata": {
        "id": "ZurMrqSAfJSB"
      },
      "source": [
        "fig.show()"
      ],
      "execution_count": null,
      "outputs": []
    },
    {
      "cell_type": "markdown",
      "metadata": {
        "id": "5pGDA4qATco7"
      },
      "source": [
        "### Saving a Figure"
      ]
    },
    {
      "cell_type": "markdown",
      "metadata": {
        "id": "f1Tk-xFsfNv-"
      },
      "source": [
        "You can save the figure in the most common formats using the figure method `write_image`. To do so, simply specify the full path for your image, including image name and extension. Plotly will deduce the format in which the image needs to be solved automatically:"
      ]
    },
    {
      "cell_type": "code",
      "metadata": {
        "id": "3mubf3_3JXD9"
      },
      "source": [
        "fig.write_image(f\"{tutorial_path}images/fig1.png\")"
      ],
      "execution_count": null,
      "outputs": []
    },
    {
      "cell_type": "code",
      "metadata": {
        "id": "7InBgDP-OLk7"
      },
      "source": [
        "fig.write_image(f\"{tutorial_path}images/fig1.jpeg\")"
      ],
      "execution_count": null,
      "outputs": []
    },
    {
      "cell_type": "code",
      "metadata": {
        "id": "T3kp56TAOV_r"
      },
      "source": [
        "fig.write_image(f\"{tutorial_path}images/fig1.svg\")"
      ],
      "execution_count": null,
      "outputs": []
    },
    {
      "cell_type": "code",
      "metadata": {
        "id": "1xH4CjRzOj0x"
      },
      "source": [
        "fig.write_image(f\"{tutorial_path}images/fig1.pdf\")"
      ],
      "execution_count": null,
      "outputs": []
    },
    {
      "cell_type": "markdown",
      "metadata": {
        "id": "gjYOkkRAfzrF"
      },
      "source": [
        "Alternatively, you can save your image in html, wich preserves its interactive elements. To do this, use the method `write_html()` with the full path where you want your image to be saved:"
      ]
    },
    {
      "cell_type": "code",
      "metadata": {
        "id": "9FkfLGmJOoXq"
      },
      "source": [
        "fig.write_html(f\"{tutorial_path}images/fig1.html\")"
      ],
      "execution_count": null,
      "outputs": []
    },
    {
      "cell_type": "markdown",
      "metadata": {
        "id": "kfA9xaJVTKEU"
      },
      "source": [
        "### Common layout adjustments"
      ]
    },
    {
      "cell_type": "markdown",
      "metadata": {
        "id": "axJVCm3QXCxL"
      },
      "source": [
        "#### main title and axis titles"
      ]
    },
    {
      "cell_type": "code",
      "metadata": {
        "id": "Fdm4c4SnPati"
      },
      "source": [
        "fig.update_layout(title=\"Evolution of y as a function of x\", yaxis_title='value', xaxis_title=\"time\")"
      ],
      "execution_count": null,
      "outputs": []
    },
    {
      "cell_type": "markdown",
      "metadata": {
        "id": "tWGp-7_vYIO3"
      },
      "source": [
        "#### figure size \n",
        "\n",
        "values are in pixels.\n"
      ]
    },
    {
      "cell_type": "code",
      "metadata": {
        "id": "w238dLvQXGpD"
      },
      "source": [
        "fig.update_layout(width=700, height=300)"
      ],
      "execution_count": null,
      "outputs": []
    },
    {
      "cell_type": "markdown",
      "metadata": {
        "id": "6BMtKkZ8TO_C"
      },
      "source": [
        "#### templates"
      ]
    },
    {
      "cell_type": "markdown",
      "metadata": {
        "id": "_VWNSxMjTlFU"
      },
      "source": [
        "You can quickly adapt the style of the plots by using templates:"
      ]
    },
    {
      "cell_type": "code",
      "metadata": {
        "id": "GcADvFV9R4fT"
      },
      "source": [
        "pio.templates"
      ],
      "execution_count": null,
      "outputs": []
    },
    {
      "cell_type": "code",
      "metadata": {
        "id": "Ft3HxoIQSJXa"
      },
      "source": [
        "template = [\"plotly\", \"plotly_white\", \"plotly_dark\", \"ggplot2\", \"seaborn\", \"simple_white\", \"none\"]"
      ],
      "execution_count": null,
      "outputs": []
    },
    {
      "cell_type": "code",
      "metadata": {
        "id": "DoN0aFyFQ-nx"
      },
      "source": [
        "fig.update_layout(template=template[1])"
      ],
      "execution_count": null,
      "outputs": []
    },
    {
      "cell_type": "markdown",
      "metadata": {
        "id": "Qa9tpMhWSYRb"
      },
      "source": [
        "further info on templates [here](https://plotly.com/python/templates/)."
      ]
    },
    {
      "cell_type": "markdown",
      "metadata": {
        "id": "UFvJ46cpTooa"
      },
      "source": [
        "<a id='P2' name=\"P2\"></a>\n",
        "## [Common plots](#P0)"
      ]
    },
    {
      "cell_type": "markdown",
      "metadata": {
        "id": "0burOsrxTx8Z"
      },
      "source": [
        "As we progress in the course, we will encounter various plots. Let's checkout some standard plots. For this, we will use plotly example tips data set:"
      ]
    },
    {
      "cell_type": "code",
      "metadata": {
        "id": "PIPwvXhEVBZ9"
      },
      "source": [
        "df = px.data.tips()"
      ],
      "execution_count": null,
      "outputs": []
    },
    {
      "cell_type": "code",
      "metadata": {
        "id": "BpkV8lUwW7L0"
      },
      "source": [
        "df.head()"
      ],
      "execution_count": null,
      "outputs": []
    },
    {
      "cell_type": "markdown",
      "metadata": {
        "id": "uS_-FgXaT9Ls"
      },
      "source": [
        "### Single Variable Distribution"
      ]
    },
    {
      "cell_type": "markdown",
      "metadata": {
        "id": "YzfiBb7uOHK7"
      },
      "source": [
        "use histogram to plot eithe continuous variables:"
      ]
    },
    {
      "cell_type": "code",
      "metadata": {
        "id": "fCu8y-TRVMah"
      },
      "source": [
        "fig = px.histogram(df, x=\"tip\", nbins=20)\n",
        "fig.show()"
      ],
      "execution_count": null,
      "outputs": []
    },
    {
      "cell_type": "markdown",
      "metadata": {
        "id": "GntJ_OMFONcJ"
      },
      "source": [
        "or categories:"
      ]
    },
    {
      "cell_type": "code",
      "metadata": {
        "id": "kmJ-Lu0sOQCR"
      },
      "source": [
        "fig = px.histogram(df, x=\"time\")\n",
        "fig.show()"
      ],
      "execution_count": null,
      "outputs": []
    },
    {
      "cell_type": "markdown",
      "metadata": {
        "id": "ckoIsV59VFJX"
      },
      "source": [
        "### Relations Between Variables"
      ]
    },
    {
      "cell_type": "markdown",
      "metadata": {
        "id": "IuDTJiiwOVYi"
      },
      "source": [
        "The function px.scatter_matrix will plot a grid of scatter plots showing the distribution of points for each pair of variables:"
      ]
    },
    {
      "cell_type": "code",
      "metadata": {
        "id": "lBSyrqg4WiG1"
      },
      "source": [
        "fig = px.scatter_matrix(df)\n",
        "fig.show()"
      ],
      "execution_count": null,
      "outputs": []
    },
    {
      "cell_type": "markdown",
      "metadata": {
        "id": "XIv-DZCYOpBY"
      },
      "source": [
        "the function `px.density_heatmap()` will show 2 dimensional histograms of numerical values, along their marginal 1D histograms:"
      ]
    },
    {
      "cell_type": "code",
      "metadata": {
        "id": "gNuD4ZrsW4vN"
      },
      "source": [
        "fig = px.density_heatmap(df, x=\"total_bill\", y=\"tip\", marginal_x=\"histogram\", marginal_y=\"histogram\")\n",
        "fig.show()"
      ],
      "execution_count": null,
      "outputs": []
    },
    {
      "cell_type": "markdown",
      "metadata": {
        "id": "2zMbwZfpO-Hz"
      },
      "source": [
        "You can also plot the data in 3D and use the interaction functionality to visualize the clouds of points:"
      ]
    },
    {
      "cell_type": "code",
      "metadata": {
        "id": "izeqEYZSVHGp"
      },
      "source": [
        "fig = px.scatter_3d(df, x='total_bill', y='tip', z='size',\n",
        "              color='sex')\n",
        "fig.show()"
      ],
      "execution_count": null,
      "outputs": []
    },
    {
      "cell_type": "markdown",
      "metadata": {
        "id": "E5LS9hu3XcvD"
      },
      "source": [
        "### Numeric Variables as a function of Categorical "
      ]
    },
    {
      "cell_type": "markdown",
      "metadata": {
        "id": "2VaPHNX5PPp1"
      },
      "source": [
        "There are serveral plots you can make to look at how numerical data vary as a function of categorical variables. The simplest one is to make a scatter plot with categories in a different color:"
      ]
    },
    {
      "cell_type": "code",
      "metadata": {
        "id": "rWWgpOzRQLvA"
      },
      "source": [
        "fig = px.scatter(df, x=\"total_bill\", y=\"tip\", color=\"day\")\n",
        "fig.show()"
      ],
      "execution_count": null,
      "outputs": []
    },
    {
      "cell_type": "markdown",
      "metadata": {
        "id": "KiFF7aV2QuJA"
      },
      "source": [
        "you can also plot each category in a separate plot:"
      ]
    },
    {
      "cell_type": "code",
      "metadata": {
        "id": "WZQhMLRuPexw"
      },
      "source": [
        "fig = px.scatter(df, x=\"total_bill\", y=\"tip\", facet_col=\"day\")\n",
        "fig.show()"
      ],
      "execution_count": null,
      "outputs": []
    },
    {
      "cell_type": "markdown",
      "metadata": {
        "id": "WMoTl657Q0V2"
      },
      "source": [
        "You can plot summary statistics for each category using a boxplot (shows the median, first and third quartiles as well as min and max/lower/upper fence):"
      ]
    },
    {
      "cell_type": "code",
      "metadata": {
        "id": "ZMzs2SRGXb3Q"
      },
      "source": [
        "fig = px.box(df, y=\"total_bill\", x=\"day\", color='time')\n",
        "fig.show()"
      ],
      "execution_count": null,
      "outputs": []
    },
    {
      "cell_type": "markdown",
      "metadata": {
        "id": "hXF_orzIRPy3"
      },
      "source": [
        "or you can represent the estimated density using violinplots:"
      ]
    },
    {
      "cell_type": "code",
      "metadata": {
        "id": "IDVE71qCWZin"
      },
      "source": [
        "fig = px.violin(df, y=\"total_bill\", x=\"day\", color = 'sex')\n",
        "fig.show()"
      ],
      "execution_count": null,
      "outputs": []
    },
    {
      "cell_type": "code",
      "metadata": {
        "id": "Zz5lJoEVQP9R"
      },
      "source": [
        "fig = px.parallel_categories(df, color='total_bill')\n",
        "fig.show()"
      ],
      "execution_count": null,
      "outputs": []
    },
    {
      "cell_type": "markdown",
      "metadata": {
        "id": "QnDQU6PncA06"
      },
      "source": [
        "<a id='CL' name=\"CL\"></a>\n",
        "## [Conclusion](#P0)"
      ]
    },
    {
      "cell_type": "markdown",
      "metadata": {
        "id": "u9uoaWevcax_"
      },
      "source": [
        "Plotly implements many more visualizations in a minimalistic interface, for example, notice how many lines of code are needed to produce this GDP/Life Expectancy scatter plot animation:"
      ]
    },
    {
      "cell_type": "code",
      "metadata": {
        "id": "e13AcgzQcAP1"
      },
      "source": [
        "df = px.data.gapminder()\n",
        "fig = px.scatter(df, x=\"gdpPercap\", y=\"lifeExp\", animation_frame=\"year\", animation_group=\"country\",\n",
        "           size=\"pop\", color=\"continent\", hover_name=\"country\",\n",
        "           log_x=True, size_max=55, range_x=[100,100000], range_y=[25,90])\n",
        "fig.show()"
      ],
      "execution_count": null,
      "outputs": []
    },
    {
      "cell_type": "markdown",
      "metadata": {
        "id": "Xqqj1xdwc0bk"
      },
      "source": [
        "The best way to learn about Plotly is to check their [documentation page](https://plotly.com/python/), and especially their gallery of example!\n",
        "\n",
        "Now, let's practice by revisiting our exploratory data analysis notebook with Plotly visualizations!"
      ]
    }
  ]
}